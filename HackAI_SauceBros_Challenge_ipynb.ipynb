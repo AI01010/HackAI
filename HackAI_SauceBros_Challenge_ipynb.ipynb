{
  "nbformat": 4,
  "nbformat_minor": 0,
  "metadata": {
    "colab": {
      "provenance": [],
      "authorship_tag": "ABX9TyNkvNX2HtaXVuXRe8bSEvO/",
      "include_colab_link": true
    },
    "kernelspec": {
      "name": "python3",
      "display_name": "Python 3"
    },
    "language_info": {
      "name": "python"
    }
  },
  "cells": [
    {
      "cell_type": "markdown",
      "metadata": {
        "id": "view-in-github",
        "colab_type": "text"
      },
      "source": [
        "<a href=\"https://colab.research.google.com/github/AI01010/HackAI/blob/main/HackAI_SauceBros_Challenge_ipynb.ipynb\" target=\"_parent\"><img src=\"https://colab.research.google.com/assets/colab-badge.svg\" alt=\"Open In Colab\"/></a>"
      ]
    },
    {
      "cell_type": "markdown",
      "source": [
        "# Importing Necessary Libraries"
      ],
      "metadata": {
        "id": "UQd5QXXtvoZ8"
      }
    },
    {
      "cell_type": "code",
      "source": [
        "import pandas as pd\n",
        "import numpy as np\n",
        "import matplotlib.pyplot as plt\n",
        "import seaborn as sns"
      ],
      "metadata": {
        "id": "NMY-dKpZsAb3"
      },
      "execution_count": 1,
      "outputs": []
    },
    {
      "cell_type": "markdown",
      "source": [
        "# Loading Dataset"
      ],
      "metadata": {
        "id": "4vuTP5zovxe0"
      }
    },
    {
      "cell_type": "code",
      "source": [
        "#Mounting the drive\n",
        "from google.colab import drive\n",
        "drive.mount('/content/drive')"
      ],
      "metadata": {
        "colab": {
          "base_uri": "https://localhost:8080/"
        },
        "id": "XHINDSXjv1ic",
        "outputId": "4c5019aa-19ae-4782-9987-bf30446c7048"
      },
      "execution_count": 2,
      "outputs": [
        {
          "output_type": "stream",
          "name": "stdout",
          "text": [
            "Mounted at /content/drive\n"
          ]
        }
      ]
    },
    {
      "cell_type": "code",
      "source": [
        "file_path_menu_breakdown = '/content/drive/My Drive/menu-breakdown-jan1-dec31-2023.csv'\n",
        "df_menu_breakdown = pd.read_csv(file_path_menu_breakdown)\n",
        "\n",
        "file_path_sales_2025 =  '/content/drive/My Drive/sales-by-date-jan1-apr18-2025.csv'\n",
        "df_sales_2025 = pd.read_csv(file_path_sales_2025)\n",
        "\n",
        "file_path_sales_2023_part1 = '/content/drive/My Drive/sales-by-date-jan1-dec31-2023.csv'\n",
        "df_sales_2023_part1 = pd.read_csv(file_path_sales_2023_part1)\n",
        "\n",
        "file_path_sales_2023_part2 = '/content/drive/My Drive/sales-by-date-jan1-dec31-2023 (1).csv'\n",
        "df_sales_2023_part2 = pd.read_csv(file_path_sales_2023_part2)\n",
        "\n",
        "file_path_sales_2024 = '/content/drive/My Drive/sales-by-date-jan1-dec31-2024.csv'\n",
        "df_sales_2024 = pd.read_csv(file_path_sales_2024)\n",
        "\n",
        "file_path_sales_time_2023 = '/content/drive/My Drive/sales-by-time-jan1-dec31-2023.csv'\n",
        "df_sales_time_2023 = pd.read_csv(file_path_sales_time_2023)\n",
        "\n",
        "file_path_sales_time_2024 = '/content/drive/My Drive/sales-by-time-jan1-dec31-2024.csv'\n",
        "df_sales_time_2024 = pd.read_csv(file_path_sales_time_2024)\n",
        "\n",
        "file_path_sales_time_2025 = '/content/drive/My Drive/sales-by-time-jan1-apr18-2025.csv'\n",
        "df_sales_time_2025 = pd.read_csv(file_path_sales_time_2025)\n",
        "\n",
        "file_path_sales_item_2023 = '/content/drive/My Drive/Item Sales 2023-01-01 - 2023-12-31.csv'\n",
        "df_sales_item_2023_copy = pd.read_csv(file_path_sales_item_2023)\n",
        "\n",
        "file_path_sales_item_2024 ='/content/drive/My Drive/Item Sales 2024-01-01 - 2024-12-31.csv'\n",
        "df_sales_item_2024 = pd.read_csv(file_path_sales_item_2024)\n",
        "\n",
        "\n"
      ],
      "metadata": {
        "id": "MRTQAg4L0FdT"
      },
      "execution_count": 105,
      "outputs": []
    },
    {
      "cell_type": "markdown",
      "source": [
        "#Data Overview"
      ],
      "metadata": {
        "id": "aneAox656R_8"
      }
    },
    {
      "cell_type": "code",
      "source": [
        "print(df_menu_breakdown)"
      ],
      "metadata": {
        "id": "FVH5vp0_6UPl",
        "outputId": "f2866357-6435-4f89-af92-6ee3db3c9554",
        "colab": {
          "base_uri": "https://localhost:8080/"
        }
      },
      "execution_count": 7,
      "outputs": [
        {
          "output_type": "stream",
          "name": "stdout",
          "text": [
            "                          Sales Category       Item Name  Modifier  \\\n",
            "No Sales Category                    NaN             NaN       NaN   \n",
            "No Sales Category  Naga Habanero Chicken             NaN       NaN   \n",
            "No Sales Category  Naga Habanero Chicken  light cilantro       NaN   \n",
            "No Sales Category  Naga Habanero Chicken        Jalapeno       NaN   \n",
            "No Sales Category  Naga Habanero Chicken       Pepperoni       NaN   \n",
            "...                                  ...             ...       ...   \n",
            "Pizza                          Hot Honey             NaN       NaN   \n",
            "Pizza                 Red Peppers Bags 3             NaN       NaN   \n",
            "Pizza                         Side Basil             NaN       NaN   \n",
            "Pizza                      Side Cilantro             NaN       NaN   \n",
            "Pizza                            Soda 2L             NaN       NaN   \n",
            "\n",
            "                   Unnamed: 3  Avg Price  Quantity  Gross Sales  \\\n",
            "No Sales Category   16.230000     5119.0  83106.70          0.0   \n",
            "No Sales Category   22.333365      542.0  12025.89          0.0   \n",
            "No Sales Category         NaN        1.0      0.00          0.0   \n",
            "No Sales Category         NaN       15.0     14.85          0.0   \n",
            "No Sales Category         NaN       12.0     35.88          0.0   \n",
            "...                       ...        ...       ...          ...   \n",
            "Pizza                1.629344       81.0    129.19          0.4   \n",
            "Pizza                0.840000        7.0      6.13          0.0   \n",
            "Pizza                0.500000        1.0      0.50          0.0   \n",
            "Pizza                0.500000        1.0      0.50          0.0   \n",
            "Pizza                3.990000       10.0     39.90          0.0   \n",
            "\n",
            "                   Discount Amount  Net Sales  \n",
            "No Sales Category         83106.70        NaN  \n",
            "No Sales Category         12025.89        NaN  \n",
            "No Sales Category             0.00        NaN  \n",
            "No Sales Category            14.85        NaN  \n",
            "No Sales Category            35.88        NaN  \n",
            "...                            ...        ...  \n",
            "Pizza                       126.80        NaN  \n",
            "Pizza                         6.13        NaN  \n",
            "Pizza                         0.50        NaN  \n",
            "Pizza                         0.50        NaN  \n",
            "Pizza                        39.90        NaN  \n",
            "\n",
            "[1237 rows x 9 columns]\n"
          ]
        }
      ]
    },
    {
      "cell_type": "code",
      "source": [
        "df_menu_breakdown_cleaned = df_menu_breakdown.copy()\n",
        "for col in df_menu_breakdown.columns:\n",
        "    if df_menu_breakdown[col].isnull().all():\n",
        "        df_menu_breakdown_cleaned = df_menu_breakdown_cleaned.drop(col, axis=1)\n",
        "\n",
        "print(df_menu_breakdown_cleaned)"
      ],
      "metadata": {
        "id": "0iCqX-3l6aBZ",
        "outputId": "de7c9f1a-6d5f-470d-f10d-5b961a0181ba",
        "colab": {
          "base_uri": "https://localhost:8080/"
        }
      },
      "execution_count": 8,
      "outputs": [
        {
          "output_type": "stream",
          "name": "stdout",
          "text": [
            "                          Sales Category       Item Name  Modifier  \\\n",
            "No Sales Category                    NaN             NaN       NaN   \n",
            "No Sales Category  Naga Habanero Chicken             NaN       NaN   \n",
            "No Sales Category  Naga Habanero Chicken  light cilantro       NaN   \n",
            "No Sales Category  Naga Habanero Chicken        Jalapeno       NaN   \n",
            "No Sales Category  Naga Habanero Chicken       Pepperoni       NaN   \n",
            "...                                  ...             ...       ...   \n",
            "Pizza                          Hot Honey             NaN       NaN   \n",
            "Pizza                 Red Peppers Bags 3             NaN       NaN   \n",
            "Pizza                         Side Basil             NaN       NaN   \n",
            "Pizza                      Side Cilantro             NaN       NaN   \n",
            "Pizza                            Soda 2L             NaN       NaN   \n",
            "\n",
            "                   Unnamed: 3  Avg Price  Quantity  Gross Sales  \\\n",
            "No Sales Category   16.230000     5119.0  83106.70          0.0   \n",
            "No Sales Category   22.333365      542.0  12025.89          0.0   \n",
            "No Sales Category         NaN        1.0      0.00          0.0   \n",
            "No Sales Category         NaN       15.0     14.85          0.0   \n",
            "No Sales Category         NaN       12.0     35.88          0.0   \n",
            "...                       ...        ...       ...          ...   \n",
            "Pizza                1.629344       81.0    129.19          0.4   \n",
            "Pizza                0.840000        7.0      6.13          0.0   \n",
            "Pizza                0.500000        1.0      0.50          0.0   \n",
            "Pizza                0.500000        1.0      0.50          0.0   \n",
            "Pizza                3.990000       10.0     39.90          0.0   \n",
            "\n",
            "                   Discount Amount  \n",
            "No Sales Category         83106.70  \n",
            "No Sales Category         12025.89  \n",
            "No Sales Category             0.00  \n",
            "No Sales Category            14.85  \n",
            "No Sales Category            35.88  \n",
            "...                            ...  \n",
            "Pizza                       126.80  \n",
            "Pizza                         6.13  \n",
            "Pizza                         0.50  \n",
            "Pizza                         0.50  \n",
            "Pizza                        39.90  \n",
            "\n",
            "[1237 rows x 8 columns]\n"
          ]
        }
      ]
    },
    {
      "cell_type": "markdown",
      "source": [
        "#Sales by Date"
      ],
      "metadata": {
        "id": "pwcreZs0noQB"
      }
    },
    {
      "cell_type": "code",
      "source": [
        "print(df_sales_2025.info())\n",
        "print(df_sales_2025)"
      ],
      "metadata": {
        "colab": {
          "base_uri": "https://localhost:8080/"
        },
        "id": "JuSX2DWOQ-eR",
        "outputId": "3eafaa48-92fa-4465-f907-c735cb81b66c"
      },
      "execution_count": 20,
      "outputs": [
        {
          "output_type": "stream",
          "name": "stdout",
          "text": [
            "<class 'pandas.core.frame.DataFrame'>\n",
            "Index: 108 entries, 01/01/2025 to 04/18/2025\n",
            "Data columns (total 4 columns):\n",
            " #   Column     Non-Null Count  Dtype         \n",
            "---  ------     --------------  -----         \n",
            " 0   Date       108 non-null    datetime64[ns]\n",
            " 1   Net Sales  108 non-null    int64         \n",
            " 2   Orders     108 non-null    int64         \n",
            " 3   Guests     0 non-null      float64       \n",
            "dtypes: datetime64[ns](1), float64(1), int64(2)\n",
            "memory usage: 8.3+ KB\n",
            "None\n",
            "                                    Date  Net Sales  Orders  Guests\n",
            "01/01/2025 1970-01-01 00:00:00.000000000          0       0     NaN\n",
            "01/02/2025 1970-01-01 00:00:00.000000347         11      11     NaN\n",
            "01/03/2025 1970-01-01 00:00:00.000000871         18      18     NaN\n",
            "01/04/2025 1970-01-01 00:00:00.000000447         15      15     NaN\n",
            "01/05/2025 1970-01-01 00:00:00.000000823         25      25     NaN\n",
            "...                                  ...        ...     ...     ...\n",
            "04/14/2025 1970-01-01 00:00:00.000000000          0       0     NaN\n",
            "04/15/2025 1970-01-01 00:00:00.000000669         24      24     NaN\n",
            "04/16/2025 1970-01-01 00:00:00.000000458         15      15     NaN\n",
            "04/17/2025 1970-01-01 00:00:00.000000784         26      26     NaN\n",
            "04/18/2025 1970-01-01 00:00:00.000001158         36      36     NaN\n",
            "\n",
            "[108 rows x 4 columns]\n"
          ]
        }
      ]
    },
    {
      "cell_type": "code",
      "source": [
        "df_sales_2025['Date'] = pd.to_datetime(df_sales_2025['Date'])\n",
        "print(df_sales_2025.info())\n",
        "print(df_sales_2025)"
      ],
      "metadata": {
        "colab": {
          "base_uri": "https://localhost:8080/"
        },
        "id": "nWTLEYINWvwY",
        "outputId": "d5af2df4-c09c-47a5-9f94-17457e684846"
      },
      "execution_count": 21,
      "outputs": [
        {
          "output_type": "stream",
          "name": "stdout",
          "text": [
            "<class 'pandas.core.frame.DataFrame'>\n",
            "Index: 108 entries, 01/01/2025 to 04/18/2025\n",
            "Data columns (total 4 columns):\n",
            " #   Column     Non-Null Count  Dtype         \n",
            "---  ------     --------------  -----         \n",
            " 0   Date       108 non-null    datetime64[ns]\n",
            " 1   Net Sales  108 non-null    int64         \n",
            " 2   Orders     108 non-null    int64         \n",
            " 3   Guests     0 non-null      float64       \n",
            "dtypes: datetime64[ns](1), float64(1), int64(2)\n",
            "memory usage: 8.3+ KB\n",
            "None\n",
            "                                    Date  Net Sales  Orders  Guests\n",
            "01/01/2025 1970-01-01 00:00:00.000000000          0       0     NaN\n",
            "01/02/2025 1970-01-01 00:00:00.000000347         11      11     NaN\n",
            "01/03/2025 1970-01-01 00:00:00.000000871         18      18     NaN\n",
            "01/04/2025 1970-01-01 00:00:00.000000447         15      15     NaN\n",
            "01/05/2025 1970-01-01 00:00:00.000000823         25      25     NaN\n",
            "...                                  ...        ...     ...     ...\n",
            "04/14/2025 1970-01-01 00:00:00.000000000          0       0     NaN\n",
            "04/15/2025 1970-01-01 00:00:00.000000669         24      24     NaN\n",
            "04/16/2025 1970-01-01 00:00:00.000000458         15      15     NaN\n",
            "04/17/2025 1970-01-01 00:00:00.000000784         26      26     NaN\n",
            "04/18/2025 1970-01-01 00:00:00.000001158         36      36     NaN\n",
            "\n",
            "[108 rows x 4 columns]\n"
          ]
        }
      ]
    },
    {
      "cell_type": "code",
      "source": [
        "df_sales_2025.to_csv('sales_2025_cleaned.csv', index=False)"
      ],
      "metadata": {
        "id": "pPoKbC21POMs"
      },
      "execution_count": 109,
      "outputs": []
    },
    {
      "cell_type": "code",
      "source": [
        "print(df_sales_2023_part1.info())\n",
        "print(df_sales_2023_part1)"
      ],
      "metadata": {
        "colab": {
          "base_uri": "https://localhost:8080/"
        },
        "id": "wgetMbONYpKk",
        "outputId": "8584ebb6-137d-44a5-9991-267e9c6563b8"
      },
      "execution_count": 25,
      "outputs": [
        {
          "output_type": "stream",
          "name": "stdout",
          "text": [
            "<class 'pandas.core.frame.DataFrame'>\n",
            "Index: 365 entries, 01/01/2023 to 12/31/2023\n",
            "Data columns (total 4 columns):\n",
            " #   Column     Non-Null Count  Dtype         \n",
            "---  ------     --------------  -----         \n",
            " 0   Date       365 non-null    datetime64[ns]\n",
            " 1   Net Sales  365 non-null    int64         \n",
            " 2   Orders     365 non-null    int64         \n",
            " 3   Guests     0 non-null      float64       \n",
            "dtypes: datetime64[ns](1), float64(1), int64(2)\n",
            "memory usage: 14.3+ KB\n",
            "None\n",
            "                                    Date  Net Sales  Orders  Guests\n",
            "01/01/2023 1970-01-01 00:00:00.000000493         15      15     NaN\n",
            "01/02/2023 1970-01-01 00:00:00.000000000          0       0     NaN\n",
            "01/03/2023 1970-01-01 00:00:00.000000360         12      12     NaN\n",
            "01/04/2023 1970-01-01 00:00:00.000000254          9       9     NaN\n",
            "01/05/2023 1970-01-01 00:00:00.000000405         16      16     NaN\n",
            "...                                  ...        ...     ...     ...\n",
            "12/27/2023 1970-01-01 00:00:00.000000672         17      17     NaN\n",
            "12/28/2023 1970-01-01 00:00:00.000000878         24      24     NaN\n",
            "12/29/2023 1970-01-01 00:00:00.000001284         32      32     NaN\n",
            "12/30/2023 1970-01-01 00:00:00.000001417         43      43     NaN\n",
            "12/31/2023 1970-01-01 00:00:00.000001136         31      31     NaN\n",
            "\n",
            "[365 rows x 4 columns]\n"
          ]
        }
      ]
    },
    {
      "cell_type": "code",
      "source": [
        "df_sales_2023_part1['Date'] = pd.to_datetime(df_sales_2023_part1['Date'])\n",
        "print(df_sales_2023_part1.info())\n",
        "print(df_sales_2023_part1)"
      ],
      "metadata": {
        "colab": {
          "base_uri": "https://localhost:8080/"
        },
        "id": "T-3aBpwlYxsd",
        "outputId": "1b3f9e2c-c983-4681-bc82-1051e1d0d49c"
      },
      "execution_count": 24,
      "outputs": [
        {
          "output_type": "stream",
          "name": "stdout",
          "text": [
            "<class 'pandas.core.frame.DataFrame'>\n",
            "Index: 365 entries, 01/01/2023 to 12/31/2023\n",
            "Data columns (total 4 columns):\n",
            " #   Column     Non-Null Count  Dtype         \n",
            "---  ------     --------------  -----         \n",
            " 0   Date       365 non-null    datetime64[ns]\n",
            " 1   Net Sales  365 non-null    int64         \n",
            " 2   Orders     365 non-null    int64         \n",
            " 3   Guests     0 non-null      float64       \n",
            "dtypes: datetime64[ns](1), float64(1), int64(2)\n",
            "memory usage: 14.3+ KB\n",
            "None\n",
            "                                    Date  Net Sales  Orders  Guests\n",
            "01/01/2023 1970-01-01 00:00:00.000000493         15      15     NaN\n",
            "01/02/2023 1970-01-01 00:00:00.000000000          0       0     NaN\n",
            "01/03/2023 1970-01-01 00:00:00.000000360         12      12     NaN\n",
            "01/04/2023 1970-01-01 00:00:00.000000254          9       9     NaN\n",
            "01/05/2023 1970-01-01 00:00:00.000000405         16      16     NaN\n",
            "...                                  ...        ...     ...     ...\n",
            "12/27/2023 1970-01-01 00:00:00.000000672         17      17     NaN\n",
            "12/28/2023 1970-01-01 00:00:00.000000878         24      24     NaN\n",
            "12/29/2023 1970-01-01 00:00:00.000001284         32      32     NaN\n",
            "12/30/2023 1970-01-01 00:00:00.000001417         43      43     NaN\n",
            "12/31/2023 1970-01-01 00:00:00.000001136         31      31     NaN\n",
            "\n",
            "[365 rows x 4 columns]\n"
          ]
        }
      ]
    },
    {
      "cell_type": "code",
      "source": [
        "df_sales_2023_part1.to_csv('sales_2023_part1_cleaned.csv', index=False)"
      ],
      "metadata": {
        "id": "T0dR2k-LPJdx"
      },
      "execution_count": null,
      "outputs": []
    },
    {
      "cell_type": "code",
      "source": [
        "df_sales_2023_part2['Date'] = pd.to_datetime(df_sales_2023_part2['Date'])\n",
        "print(df_sales_2023_part2.info())"
      ],
      "metadata": {
        "colab": {
          "base_uri": "https://localhost:8080/"
        },
        "id": "95AkMP3yb_Wd",
        "outputId": "e8c706f1-9f61-437e-b4bb-57b91d23b3dc"
      },
      "execution_count": 35,
      "outputs": [
        {
          "output_type": "stream",
          "name": "stdout",
          "text": [
            "<class 'pandas.core.frame.DataFrame'>\n",
            "Index: 365 entries, 01/01/2023 to 12/31/2023\n",
            "Data columns (total 4 columns):\n",
            " #   Column     Non-Null Count  Dtype         \n",
            "---  ------     --------------  -----         \n",
            " 0   Date       365 non-null    datetime64[ns]\n",
            " 1   Net Sales  365 non-null    int64         \n",
            " 2   Orders     365 non-null    int64         \n",
            " 3   Guests     0 non-null      float64       \n",
            "dtypes: datetime64[ns](1), float64(1), int64(2)\n",
            "memory usage: 14.3+ KB\n",
            "None\n"
          ]
        }
      ]
    },
    {
      "cell_type": "code",
      "source": [
        "df_sales_2023_part2.to_csv('sales_2023_part2_cleaned.csv', index=False)"
      ],
      "metadata": {
        "id": "84cEZj0xOyPK"
      },
      "execution_count": null,
      "outputs": []
    },
    {
      "cell_type": "code",
      "source": [
        "print(df_sales_2024.info())\n",
        "print(df_sales_2024)"
      ],
      "metadata": {
        "colab": {
          "base_uri": "https://localhost:8080/"
        },
        "id": "AdVP55kbfE36",
        "outputId": "d1390ef7-d36f-49e9-fc3b-576613d3e625"
      },
      "execution_count": 36,
      "outputs": [
        {
          "output_type": "stream",
          "name": "stdout",
          "text": [
            "<class 'pandas.core.frame.DataFrame'>\n",
            "Index: 366 entries, 01/01/2024 to 12/31/2024\n",
            "Data columns (total 4 columns):\n",
            " #   Column     Non-Null Count  Dtype  \n",
            "---  ------     --------------  -----  \n",
            " 0   Date       366 non-null    float64\n",
            " 1   Net Sales  366 non-null    int64  \n",
            " 2   Orders     366 non-null    int64  \n",
            " 3   Guests     0 non-null      float64\n",
            "dtypes: float64(2), int64(2)\n",
            "memory usage: 14.3+ KB\n",
            "None\n",
            "              Date  Net Sales  Orders  Guests\n",
            "01/01/2024    0.00          0       0     NaN\n",
            "01/02/2024  656.12         19      19     NaN\n",
            "01/03/2024  666.52         17      17     NaN\n",
            "01/04/2024  373.35         12      12     NaN\n",
            "01/05/2024  817.98         24      24     NaN\n",
            "...            ...        ...     ...     ...\n",
            "12/27/2024  769.41         20      20     NaN\n",
            "12/28/2024  759.91         23      23     NaN\n",
            "12/29/2024  961.75         16      16     NaN\n",
            "12/30/2024    0.00          0       0     NaN\n",
            "12/31/2024  623.86         16      16     NaN\n",
            "\n",
            "[366 rows x 4 columns]\n"
          ]
        }
      ]
    },
    {
      "cell_type": "code",
      "source": [
        "df_sales_2024['Date'] = pd.to_datetime(df_sales_2024['Date'])\n",
        "print(df_sales_2024.info())"
      ],
      "metadata": {
        "colab": {
          "base_uri": "https://localhost:8080/"
        },
        "id": "Wq2h8N7zg7hR",
        "outputId": "9128584f-110a-41df-ff05-08f2ee9bb5f0"
      },
      "execution_count": 39,
      "outputs": [
        {
          "output_type": "stream",
          "name": "stdout",
          "text": [
            "<class 'pandas.core.frame.DataFrame'>\n",
            "Index: 366 entries, 01/01/2024 to 12/31/2024\n",
            "Data columns (total 4 columns):\n",
            " #   Column     Non-Null Count  Dtype         \n",
            "---  ------     --------------  -----         \n",
            " 0   Date       366 non-null    datetime64[ns]\n",
            " 1   Net Sales  366 non-null    int64         \n",
            " 2   Orders     366 non-null    int64         \n",
            " 3   Guests     0 non-null      float64       \n",
            "dtypes: datetime64[ns](1), float64(1), int64(2)\n",
            "memory usage: 14.3+ KB\n",
            "None\n"
          ]
        }
      ]
    },
    {
      "cell_type": "code",
      "source": [
        "df_sales_2024.to_csv('sales_2024_cleaned.csv', index=False)"
      ],
      "metadata": {
        "id": "QbWUnpXXOqJl"
      },
      "execution_count": null,
      "outputs": []
    },
    {
      "cell_type": "markdown",
      "source": [
        "#Sales by Time"
      ],
      "metadata": {
        "id": "F71UhjJOnsG5"
      }
    },
    {
      "cell_type": "code",
      "source": [
        "df_sales_time_2023.info()"
      ],
      "metadata": {
        "colab": {
          "base_uri": "https://localhost:8080/"
        },
        "id": "DVEs9JvQn45k",
        "outputId": "7714fa8e-9c6d-4e63-eb92-e456f2378707"
      },
      "execution_count": 46,
      "outputs": [
        {
          "output_type": "stream",
          "name": "stdout",
          "text": [
            "<class 'pandas.core.frame.DataFrame'>\n",
            "Index: 16 entries, 12:00 AM to 11:00 PM\n",
            "Data columns (total 4 columns):\n",
            " #   Column     Non-Null Count  Dtype  \n",
            "---  ------     --------------  -----  \n",
            " 0   Time       16 non-null     float64\n",
            " 1   Net Sales  16 non-null     int64  \n",
            " 2   Orders     16 non-null     int64  \n",
            " 3   Guests     0 non-null      float64\n",
            "dtypes: float64(2), int64(2)\n",
            "memory usage: 640.0+ bytes\n"
          ]
        }
      ]
    },
    {
      "cell_type": "code",
      "source": [
        "df_sales_time_2023['Time'] = pd.to_datetime(df_sales_time_2023['Time'])\n",
        "print(df_sales_time_2023.info())\n",
        "print(df_sales_time_2023)\n",
        "\n"
      ],
      "metadata": {
        "colab": {
          "base_uri": "https://localhost:8080/"
        },
        "id": "-FnWZdhovhWD",
        "outputId": "22dee4e0-eae9-415e-a811-ca1ab22b2791"
      },
      "execution_count": 62,
      "outputs": [
        {
          "output_type": "stream",
          "name": "stdout",
          "text": [
            "<class 'pandas.core.frame.DataFrame'>\n",
            "Index: 16 entries, 12:00 AM to 11:00 PM\n",
            "Data columns (total 4 columns):\n",
            " #   Column     Non-Null Count  Dtype         \n",
            "---  ------     --------------  -----         \n",
            " 0   Time       16 non-null     datetime64[ns]\n",
            " 1   Net Sales  16 non-null     int64         \n",
            " 2   Orders     16 non-null     int64         \n",
            " 3   Guests     0 non-null      float64       \n",
            "dtypes: datetime64[ns](1), float64(1), int64(2)\n",
            "memory usage: 640.0+ bytes\n",
            "None\n",
            "                                  Time  Net Sales  Orders  Guests\n",
            "12:00 AM 1970-01-01 00:00:00.000000380         18      18     NaN\n",
            "3:00 AM  1970-01-01 00:00:00.000000035          1       1     NaN\n",
            "5:00 AM  1970-01-01 00:00:00.000000025          1       1     NaN\n",
            "11:00 AM 1970-01-01 00:00:00.000000383         12      12     NaN\n",
            "12:00 PM 1970-01-01 00:00:00.000008077        242     242     NaN\n",
            "1:00 PM  1970-01-01 00:00:00.000006282        217     217     NaN\n",
            "2:00 PM  1970-01-01 00:00:00.000007907        244     244     NaN\n",
            "3:00 PM  1970-01-01 00:00:00.000011849        382     382     NaN\n",
            "4:00 PM  1970-01-01 00:00:00.000017227        520     520     NaN\n",
            "5:00 PM  1970-01-01 00:00:00.000031480        882     882     NaN\n",
            "6:00 PM  1970-01-01 00:00:00.000037710       1098    1098     NaN\n",
            "7:00 PM  1970-01-01 00:00:00.000033278        986     986     NaN\n",
            "8:00 PM  1970-01-01 00:00:00.000023993        757     757     NaN\n",
            "9:00 PM  1970-01-01 00:00:00.000018345        604     604     NaN\n",
            "10:00 PM 1970-01-01 00:00:00.000009742        316     316     NaN\n",
            "11:00 PM 1970-01-01 00:00:00.000002264         88      88     NaN\n"
          ]
        }
      ]
    },
    {
      "cell_type": "code",
      "source": [
        "df_sales_time_2023.to_csv('sales_time_2023_cleaned.csv', index=False)"
      ],
      "metadata": {
        "id": "vhPvkwWxOlZ_"
      },
      "execution_count": null,
      "outputs": []
    },
    {
      "cell_type": "code",
      "source": [
        "df_sales_time_2024['Time'] = pd.to_datetime(df_sales_time_2024['Time'])\n",
        "print(df_sales_time_2024.info())\n",
        "print(df_sales_time_2024)"
      ],
      "metadata": {
        "colab": {
          "base_uri": "https://localhost:8080/"
        },
        "id": "zHY9BWbf0Bqx",
        "outputId": "7460b58f-0f11-4734-9221-18aec4130327"
      },
      "execution_count": 66,
      "outputs": [
        {
          "output_type": "stream",
          "name": "stdout",
          "text": [
            "<class 'pandas.core.frame.DataFrame'>\n",
            "Index: 19 entries, 12:00 AM to 11:00 PM\n",
            "Data columns (total 4 columns):\n",
            " #   Column     Non-Null Count  Dtype         \n",
            "---  ------     --------------  -----         \n",
            " 0   Time       19 non-null     datetime64[ns]\n",
            " 1   Net Sales  19 non-null     int64         \n",
            " 2   Orders     19 non-null     int64         \n",
            " 3   Guests     0 non-null      float64       \n",
            "dtypes: datetime64[ns](1), float64(1), int64(2)\n",
            "memory usage: 760.0+ bytes\n",
            "None\n",
            "                                  Time  Net Sales  Orders  Guests\n",
            "12:00 AM 1970-01-01 00:00:00.000000098          3       3     NaN\n",
            "1:00 AM  1970-01-01 00:00:00.000000029          1       1     NaN\n",
            "3:00 AM  1970-01-01 00:00:00.000000071          1       1     NaN\n",
            "4:00 AM  1970-01-01 00:00:00.000000033          1       1     NaN\n",
            "7:00 AM  1970-01-01 00:00:00.000000242          1       1     NaN\n",
            "10:00 AM 1970-01-01 00:00:00.000000024          1       1     NaN\n",
            "11:00 AM 1970-01-01 00:00:00.000000773         20      20     NaN\n",
            "12:00 PM 1970-01-01 00:00:00.000009594        247     247     NaN\n",
            "1:00 PM  1970-01-01 00:00:00.000007811        202     202     NaN\n",
            "2:00 PM  1970-01-01 00:00:00.000011856        247     247     NaN\n",
            "3:00 PM  1970-01-01 00:00:00.000013926        398     398     NaN\n",
            "4:00 PM  1970-01-01 00:00:00.000016769        468     468     NaN\n",
            "5:00 PM  1970-01-01 00:00:00.000029609        777     777     NaN\n",
            "6:00 PM  1970-01-01 00:00:00.000038158       1045    1045     NaN\n",
            "7:00 PM  1970-01-01 00:00:00.000033700        950     950     NaN\n",
            "8:00 PM  1970-01-01 00:00:00.000024683        773     773     NaN\n",
            "9:00 PM  1970-01-01 00:00:00.000019813        674     674     NaN\n",
            "10:00 PM 1970-01-01 00:00:00.000010309        393     393     NaN\n",
            "11:00 PM 1970-01-01 00:00:00.000002011         83      83     NaN\n"
          ]
        }
      ]
    },
    {
      "cell_type": "code",
      "source": [
        "df_sales_time_2024.to_csv('sales_time_2024_cleaned.csv', index=False)"
      ],
      "metadata": {
        "id": "oIokSBpeNxO_"
      },
      "execution_count": null,
      "outputs": []
    },
    {
      "cell_type": "code",
      "source": [
        "df_sales_time_2025['Time'] = pd.to_datetime(df_sales_time_2025['Time'])\n",
        "print(df_sales_time_2025.info())\n",
        "print(df_sales_time_2025)"
      ],
      "metadata": {
        "colab": {
          "base_uri": "https://localhost:8080/"
        },
        "id": "KMoH_9gY0x4l",
        "outputId": "db39ccdb-7feb-4594-f651-173718a3c2cb"
      },
      "execution_count": 73,
      "outputs": [
        {
          "output_type": "stream",
          "name": "stdout",
          "text": [
            "<class 'pandas.core.frame.DataFrame'>\n",
            "Index: 16 entries, 12:00 AM to 11:00 PM\n",
            "Data columns (total 4 columns):\n",
            " #   Column     Non-Null Count  Dtype         \n",
            "---  ------     --------------  -----         \n",
            " 0   Time       16 non-null     datetime64[ns]\n",
            " 1   Net Sales  16 non-null     int64         \n",
            " 2   Orders     16 non-null     int64         \n",
            " 3   Guests     0 non-null      float64       \n",
            "dtypes: datetime64[ns](1), float64(1), int64(2)\n",
            "memory usage: 640.0+ bytes\n",
            "None\n",
            "                                  Time  Net Sales  Orders  Guests\n",
            "12:00 AM 1970-01-01 00:00:00.000000002          1       1     NaN\n",
            "3:00 AM  1970-01-01 00:00:00.000000099          1       1     NaN\n",
            "10:00 AM 1970-01-01 00:00:00.000000019          1       1     NaN\n",
            "11:00 AM 1970-01-01 00:00:00.000001068          9       9     NaN\n",
            "12:00 PM 1970-01-01 00:00:00.000004408        123     123     NaN\n",
            "1:00 PM  1970-01-01 00:00:00.000005593         89      89     NaN\n",
            "2:00 PM  1970-01-01 00:00:00.000004789        115     115     NaN\n",
            "3:00 PM  1970-01-01 00:00:00.000005038        151     151     NaN\n",
            "4:00 PM  1970-01-01 00:00:00.000008922        243     243     NaN\n",
            "5:00 PM  1970-01-01 00:00:00.000017214        417     417     NaN\n",
            "6:00 PM  1970-01-01 00:00:00.000021002        573     573     NaN\n",
            "7:00 PM  1970-01-01 00:00:00.000015062        436     436     NaN\n",
            "8:00 PM  1970-01-01 00:00:00.000007836        262     262     NaN\n",
            "9:00 PM  1970-01-01 00:00:00.000004497        155     155     NaN\n",
            "10:00 PM 1970-01-01 00:00:00.000003171        106     106     NaN\n",
            "11:00 PM 1970-01-01 00:00:00.000000305         13      13     NaN\n"
          ]
        }
      ]
    },
    {
      "cell_type": "code",
      "source": [
        "df_sales_time_2025.to_csv('sales_time_2025_cleaned.csv', index=False)"
      ],
      "metadata": {
        "id": "rzFZYgGVNK6W"
      },
      "execution_count": null,
      "outputs": []
    },
    {
      "cell_type": "markdown",
      "source": [
        "#Sales by Item"
      ],
      "metadata": {
        "id": "q7gpPHB723et"
      }
    },
    {
      "cell_type": "code",
      "source": [
        "print(df_sales_item_2023_copy.info())\n",
        "print(df_sales_item_2023_copy)\n",
        "\n",
        "\n",
        "\n"
      ],
      "metadata": {
        "colab": {
          "base_uri": "https://localhost:8080/"
        },
        "id": "3NaneC4W3Vtp",
        "outputId": "2af7592c-59a0-4e85-e15b-932c3012eed9"
      },
      "execution_count": 96,
      "outputs": [
        {
          "output_type": "stream",
          "name": "stdout",
          "text": [
            "<class 'pandas.core.frame.DataFrame'>\n",
            "RangeIndex: 53 entries, 0 to 52\n",
            "Data columns (total 3 columns):\n",
            " #   Column         Non-Null Count  Dtype \n",
            "---  ------         --------------  ----- \n",
            " 0   Item           53 non-null     object\n",
            " 1   Quantity Sold  53 non-null     int64 \n",
            " 2   Total Sales    53 non-null     object\n",
            "dtypes: int64(1), object(2)\n",
            "memory usage: 1.4+ KB\n",
            "None\n",
            "                                              Item  Quantity Sold Total Sales\n",
            "0                                     Chicken Wrap             83     $663.17\n",
            "1                                            Ranch            360     $578.40\n",
            "2                              Beef Chopped Cheese             59     $471.41\n",
            "3                                    Alfredo Pasta             41     $409.59\n",
            "4                                Naga Chicken Wrap             50     $389.50\n",
            "5                                         Naga Dip            185     $368.15\n",
            "6                                 Garlic Beef Wrap             46     $353.54\n",
            "7                                        Hot Honey            163     $324.37\n",
            "8                              Naga Habanero Pasta             27     $269.73\n",
            "9                               Tomato Basil Pasta             18     $179.82\n",
            "10                                      Soda (Can)             42     $117.25\n",
            "11                                Meatlovers Pizza            405      $99.95\n",
            "12                                     Paneer Wrap             10      $79.90\n",
            "13                                   Mushroom Wrap              7      $55.93\n",
            "14                               Soft Drinks (Can)             22      $43.28\n",
            "15                                   Aged Parmesan             17      $33.83\n",
            "16                                    Mushrom Wrap              4      $30.96\n",
            "17                                   Water (small)             13      $24.27\n",
            "18                              Red Peppers Bags 3             21      $18.79\n",
            "19                                 Parmesan Bags 3             15      $12.45\n",
            "20                                   Side Jalapeno             11      $10.89\n",
            "21                                    Chicken Wrap              1       $7.99\n",
            "22                             Beef Chopped Cheese              1       $7.99\n",
            "23                                      Side Basil             10       $5.54\n",
            "24                                     Side Olives              5       $4.95\n",
            "25                             Side Banana Peppers              3       $2.97\n",
            "26                                   Side Cilantro              5       $2.86\n",
            "27                           4Cheez with Hot Honey            162       $0.00\n",
            "28                          Naga Habanero Mushroom             44       $0.00\n",
            "29                                  Chicken Bianca             93       $0.00\n",
            "30                             Spicy Naga Balachao             12       $0.00\n",
            "31                                      Taco Pizza              6       $0.00\n",
            "32                             Spicy Naga Mushroom             10       $0.00\n",
            "33                                    Veggie Pizza             70       $0.00\n",
            "34                                   Spicy Italian              5       $0.00\n",
            "35                            Alfredo Cheese Pizza             68       $0.00\n",
            "36                                   Bongo Tex Mex             30       $0.00\n",
            "37                                      Korean BBQ             26       $0.00\n",
            "38                          Naga Habanero Balachao             20       $0.00\n",
            "39                              Spicy Naga Chicken            220       $0.00\n",
            "40                            Naga Habanero Paneer             64       $0.00\n",
            "41                                   Pepper Lovers             26       $0.00\n",
            "42                                 Harissa Chicken            183       $0.00\n",
            "43                                   Cheddar Birds             26       $0.00\n",
            "44                      Bros favorite Cheese Pizza            366       $0.00\n",
            "45                           Naga Habanero Chicken            277       $0.00\n",
            "46                                 Beef Taco Pizza            102       $0.00\n",
            "47                            Garlic Ghee Mushroom            169       $0.00\n",
            "48                                Customized Pizza             70       $0.00\n",
            "49                                Garlic Artichoke              4       $0.00\n",
            "50  Jhura Beef Pesto (contains Pine & Cashew Nuts)             91       $0.00\n",
            "51              Bengali Beef Pesto (Contains Nuts)            105       $0.00\n",
            "52                                  Beef Pepperoni            524       $0.00\n"
          ]
        }
      ]
    },
    {
      "cell_type": "code",
      "source": [
        "df_sales_item_2023_copy['Total Sales'] = df_sales_item_2023_copy['Total Sales'].astype(str).str.replace('$', '').str.replace(',', '').astype(float)\n",
        "print(df_sales_item_2023_copy.info())\n",
        "print(df_sales_item_2023_copy)\n"
      ],
      "metadata": {
        "colab": {
          "base_uri": "https://localhost:8080/"
        },
        "id": "0uawor3789Md",
        "outputId": "89c355d5-e3c2-40e6-e040-b3639bd7ec1f"
      },
      "execution_count": 103,
      "outputs": [
        {
          "output_type": "stream",
          "name": "stdout",
          "text": [
            "<class 'pandas.core.frame.DataFrame'>\n",
            "RangeIndex: 53 entries, 0 to 52\n",
            "Data columns (total 3 columns):\n",
            " #   Column         Non-Null Count  Dtype  \n",
            "---  ------         --------------  -----  \n",
            " 0   Item           53 non-null     object \n",
            " 1   Quantity Sold  53 non-null     int64  \n",
            " 2   Total Sales    53 non-null     float64\n",
            "dtypes: float64(1), int64(1), object(1)\n",
            "memory usage: 1.4+ KB\n",
            "None\n",
            "                                              Item  Quantity Sold  Total Sales\n",
            "0                                     Chicken Wrap             83       663.17\n",
            "1                                            Ranch            360       578.40\n",
            "2                              Beef Chopped Cheese             59       471.41\n",
            "3                                    Alfredo Pasta             41       409.59\n",
            "4                                Naga Chicken Wrap             50       389.50\n",
            "5                                         Naga Dip            185       368.15\n",
            "6                                 Garlic Beef Wrap             46       353.54\n",
            "7                                        Hot Honey            163       324.37\n",
            "8                              Naga Habanero Pasta             27       269.73\n",
            "9                               Tomato Basil Pasta             18       179.82\n",
            "10                                      Soda (Can)             42       117.25\n",
            "11                                Meatlovers Pizza            405        99.95\n",
            "12                                     Paneer Wrap             10        79.90\n",
            "13                                   Mushroom Wrap              7        55.93\n",
            "14                               Soft Drinks (Can)             22        43.28\n",
            "15                                   Aged Parmesan             17        33.83\n",
            "16                                    Mushrom Wrap              4        30.96\n",
            "17                                   Water (small)             13        24.27\n",
            "18                              Red Peppers Bags 3             21        18.79\n",
            "19                                 Parmesan Bags 3             15        12.45\n",
            "20                                   Side Jalapeno             11        10.89\n",
            "21                                    Chicken Wrap              1         7.99\n",
            "22                             Beef Chopped Cheese              1         7.99\n",
            "23                                      Side Basil             10         5.54\n",
            "24                                     Side Olives              5         4.95\n",
            "25                             Side Banana Peppers              3         2.97\n",
            "26                                   Side Cilantro              5         2.86\n",
            "27                           4Cheez with Hot Honey            162         0.00\n",
            "28                          Naga Habanero Mushroom             44         0.00\n",
            "29                                  Chicken Bianca             93         0.00\n",
            "30                             Spicy Naga Balachao             12         0.00\n",
            "31                                      Taco Pizza              6         0.00\n",
            "32                             Spicy Naga Mushroom             10         0.00\n",
            "33                                    Veggie Pizza             70         0.00\n",
            "34                                   Spicy Italian              5         0.00\n",
            "35                            Alfredo Cheese Pizza             68         0.00\n",
            "36                                   Bongo Tex Mex             30         0.00\n",
            "37                                      Korean BBQ             26         0.00\n",
            "38                          Naga Habanero Balachao             20         0.00\n",
            "39                              Spicy Naga Chicken            220         0.00\n",
            "40                            Naga Habanero Paneer             64         0.00\n",
            "41                                   Pepper Lovers             26         0.00\n",
            "42                                 Harissa Chicken            183         0.00\n",
            "43                                   Cheddar Birds             26         0.00\n",
            "44                      Bros favorite Cheese Pizza            366         0.00\n",
            "45                           Naga Habanero Chicken            277         0.00\n",
            "46                                 Beef Taco Pizza            102         0.00\n",
            "47                            Garlic Ghee Mushroom            169         0.00\n",
            "48                                Customized Pizza             70         0.00\n",
            "49                                Garlic Artichoke              4         0.00\n",
            "50  Jhura Beef Pesto (contains Pine & Cashew Nuts)             91         0.00\n",
            "51              Bengali Beef Pesto (Contains Nuts)            105         0.00\n",
            "52                                  Beef Pepperoni            524         0.00\n"
          ]
        }
      ]
    },
    {
      "cell_type": "code",
      "source": [
        "item_frequencies = df_sales_item_2023_copy['Item'].value_counts()\n",
        "print(item_frequencies)"
      ],
      "metadata": {
        "colab": {
          "base_uri": "https://localhost:8080/"
        },
        "id": "9KA4gb9zA9SG",
        "outputId": "196ea8d6-6fad-4f00-d7de-c2df0222aacf"
      },
      "execution_count": 104,
      "outputs": [
        {
          "output_type": "stream",
          "name": "stdout",
          "text": [
            "Item\n",
            "Chicken Wrap                                      2\n",
            "Beef Chopped Cheese                               2\n",
            "Ranch                                             1\n",
            "Alfredo Pasta                                     1\n",
            "Naga Chicken Wrap                                 1\n",
            "Naga Dip                                          1\n",
            "Garlic Beef Wrap                                  1\n",
            "Hot Honey                                         1\n",
            "Naga Habanero Pasta                               1\n",
            "Tomato Basil Pasta                                1\n",
            "Soda (Can)                                        1\n",
            "Meatlovers Pizza                                  1\n",
            "Paneer Wrap                                       1\n",
            "Mushroom Wrap                                     1\n",
            "Soft Drinks (Can)                                 1\n",
            "Aged Parmesan                                     1\n",
            "Mushrom Wrap                                      1\n",
            "Water (small)                                     1\n",
            "Red Peppers Bags 3                                1\n",
            "Parmesan Bags 3                                   1\n",
            "Side Jalapeno                                     1\n",
            "Side Basil                                        1\n",
            "Side Olives                                       1\n",
            "Side Banana Peppers                               1\n",
            "Side Cilantro                                     1\n",
            "4Cheez with Hot Honey                             1\n",
            "Naga Habanero Mushroom                            1\n",
            "Chicken Bianca                                    1\n",
            "Spicy Naga Balachao                               1\n",
            "Taco Pizza                                        1\n",
            "Spicy Naga Mushroom                               1\n",
            "Veggie Pizza                                      1\n",
            "Spicy Italian                                     1\n",
            "Alfredo Cheese Pizza                              1\n",
            "Bongo Tex Mex                                     1\n",
            "Korean BBQ                                        1\n",
            "Naga Habanero Balachao                            1\n",
            "Spicy Naga Chicken                                1\n",
            "Naga Habanero Paneer                              1\n",
            "Pepper Lovers                                     1\n",
            "Harissa Chicken                                   1\n",
            "Cheddar Birds                                     1\n",
            "Bros favorite Cheese Pizza                        1\n",
            "Naga Habanero Chicken                             1\n",
            "Beef Taco Pizza                                   1\n",
            "Garlic Ghee Mushroom                              1\n",
            "Customized Pizza                                  1\n",
            "Garlic Artichoke                                  1\n",
            "Jhura Beef Pesto (contains Pine & Cashew Nuts)    1\n",
            "Bengali Beef Pesto (Contains Nuts)                1\n",
            "Beef Pepperoni                                    1\n",
            "Name: count, dtype: int64\n"
          ]
        }
      ]
    },
    {
      "cell_type": "code",
      "source": [
        "df_sales_item_2023_copy.to_csv('sales_item_2023_cleaned.csv', index=False)"
      ],
      "metadata": {
        "id": "tIf0U2lUNDqV"
      },
      "execution_count": null,
      "outputs": []
    },
    {
      "cell_type": "code",
      "source": [
        "df_sales_item_2024['Total Sales'] = df_sales_item_2024['Total Sales'].astype(str).str.replace('$', '').str.replace(',', '').astype(float)\n",
        "print(df_sales_item_2024.info())\n",
        "print(df_sales_item_2024)"
      ],
      "metadata": {
        "colab": {
          "base_uri": "https://localhost:8080/"
        },
        "id": "gw6B99eIJG8G",
        "outputId": "fda92c49-8bb8-4493-b807-983587c44861"
      },
      "execution_count": 106,
      "outputs": [
        {
          "output_type": "stream",
          "name": "stdout",
          "text": [
            "<class 'pandas.core.frame.DataFrame'>\n",
            "RangeIndex: 36 entries, 0 to 35\n",
            "Data columns (total 3 columns):\n",
            " #   Column         Non-Null Count  Dtype  \n",
            "---  ------         --------------  -----  \n",
            " 0   Item           36 non-null     object \n",
            " 1   Quantity Sold  36 non-null     int64  \n",
            " 2   Total Sales    36 non-null     float64\n",
            "dtypes: float64(1), int64(1), object(1)\n",
            "memory usage: 996.0+ bytes\n",
            "None\n",
            "                                  Item  Quantity Sold  Total Sales\n",
            "0                        Alfredo Pasta             79       789.21\n",
            "1                         Chicken Wrap             94       751.06\n",
            "2                  Beef Chopped Cheese             80       639.20\n",
            "3                   Tomato Basil Pasta             49       489.51\n",
            "4                                Ranch            343       339.57\n",
            "5                             Naga Dip            148       294.52\n",
            "6                            Hot Honey            140       278.60\n",
            "7                  Naga Habanero Pasta             27       269.73\n",
            "8                           Soda (Can)             71       177.50\n",
            "9                          Paneer Wrap             18       143.82\n",
            "10                       Mushroom Wrap             12        95.88\n",
            "11                     Parmesan Bags 3             26        25.74\n",
            "12                  Red Peppers Bags 3             20        19.80\n",
            "13                       Water (small)              5         9.95\n",
            "14                       Side Jalapeno              6         5.94\n",
            "15                         Side Olives              5         4.95\n",
            "16                          Side Basil              3         1.50\n",
            "17                       Side Cilantro              1         0.50\n",
            "18               Naga Habanero Chicken            475         0.00\n",
            "19                    Garlic Artichoke             61         0.00\n",
            "20  Bengali Beef Pesto (Contains Nuts)            178         0.00\n",
            "21                        Veggie Pizza            132         0.00\n",
            "22               4Cheez with Hot Honey            165         0.00\n",
            "23                Alfredo Cheese Pizza             44         0.00\n",
            "24                      Beef Pepperoni            520         0.00\n",
            "25                     Alfredo Chicken            121         0.00\n",
            "26              Naga Habanero Mushroom             63         0.00\n",
            "27                    Meatlovers Pizza            425         0.00\n",
            "28                Garlic Ghee Mushroom            104         0.00\n",
            "29                    Customized Pizza             79         0.00\n",
            "30                     Beef Taco Pizza            170         0.00\n",
            "31                Classic Cheese Pizza            376         0.00\n",
            "32                     Harissa Chicken            233         0.00\n",
            "33              Naga Habanero Balachao             21         0.00\n",
            "34                          Korean BBQ            198         0.00\n",
            "35                Naga Habanero Paneer             94         0.00\n"
          ]
        }
      ]
    },
    {
      "cell_type": "code",
      "source": [
        "df_sales_item_2024.to_csv('sales_item_2024_cleaned.csv', index=False)"
      ],
      "metadata": {
        "id": "1ptS8AHHM18V"
      },
      "execution_count": null,
      "outputs": []
    }
  ]
}