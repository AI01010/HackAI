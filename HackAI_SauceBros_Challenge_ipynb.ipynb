{
  "cells": [
    {
      "cell_type": "markdown",
      "metadata": {
        "colab_type": "text",
        "id": "view-in-github"
      },
      "source": [
        "<a href=\"https://colab.research.google.com/github/AI01010/HackAI/blob/main/HackAI_SauceBros_Challenge_ipynb.ipynb\" target=\"_parent\"><img src=\"https://colab.research.google.com/assets/colab-badge.svg\" alt=\"Open In Colab\"/></a>"
      ]
    },
    {
      "cell_type": "markdown",
      "metadata": {
        "id": "UQd5QXXtvoZ8"
      },
      "source": [
        "# Importing Necessary Libraries"
      ]
    },
    {
      "cell_type": "code",
      "execution_count": 4,
      "metadata": {
        "id": "NMY-dKpZsAb3"
      },
      "outputs": [],
      "source": [
        "import pandas as pd\n",
        "import numpy as np\n",
        "import matplotlib.pyplot as plt\n",
        "import seaborn as sns"
      ]
    },
    {
      "cell_type": "markdown",
      "metadata": {
        "id": "4vuTP5zovxe0"
      },
      "source": [
        "# Loading Dataset"
      ]
    },
    {
      "cell_type": "code",
      "execution_count": 2,
      "metadata": {
        "colab": {
          "base_uri": "https://localhost:8080/"
        },
        "id": "XHINDSXjv1ic",
        "outputId": "4c5019aa-19ae-4782-9987-bf30446c7048"
      },
      "outputs": [
        {
          "ename": "ModuleNotFoundError",
          "evalue": "No module named 'google.colab'",
          "output_type": "error",
          "traceback": [
            "\u001b[1;31m---------------------------------------------------------------------------\u001b[0m",
            "\u001b[1;31mModuleNotFoundError\u001b[0m                       Traceback (most recent call last)",
            "Cell \u001b[1;32mIn[2], line 2\u001b[0m\n\u001b[0;32m      1\u001b[0m \u001b[38;5;66;03m#Mounting the drive\u001b[39;00m\n\u001b[1;32m----> 2\u001b[0m \u001b[38;5;28;01mfrom\u001b[39;00m \u001b[38;5;21;01mgoogle\u001b[39;00m\u001b[38;5;21;01m.\u001b[39;00m\u001b[38;5;21;01mcolab\u001b[39;00m \u001b[38;5;28;01mimport\u001b[39;00m drive\n\u001b[0;32m      3\u001b[0m drive\u001b[38;5;241m.\u001b[39mmount(\u001b[38;5;124m'\u001b[39m\u001b[38;5;124m/content/drive\u001b[39m\u001b[38;5;124m'\u001b[39m)\n",
            "\u001b[1;31mModuleNotFoundError\u001b[0m: No module named 'google.colab'"
          ]
        }
      ],
      "source": [
        "#Mounting the drive\n",
        "from google.colab import drive\n",
        "drive.mount('/content/drive')"
      ]
    },
    {
      "cell_type": "code",
      "execution_count": null,
      "metadata": {
        "id": "MRTQAg4L0FdT"
      },
      "outputs": [],
      "source": [
        "file_path_menu_breakdown = '/content/drive/My Drive/menu-breakdown-jan1-dec31-2023.csv'\n",
        "df_menu_breakdown = pd.read_csv(file_path_menu_breakdown)\n",
        "\n",
        "file_path_sales_2025 =  '/content/drive/My Drive/sales-by-date-jan1-apr18-2025.csv'\n",
        "df_sales_2025 = pd.read_csv(file_path_sales_2025)\n",
        "\n",
        "file_path_sales_2023_part1 = '/content/drive/My Drive/sales-by-date-jan1-dec31-2023.csv'\n",
        "df_sales_2023_part1 = pd.read_csv(file_path_sales_2023_part1)\n",
        "\n",
        "file_path_sales_2023_part2 = '/content/drive/My Drive/sales-by-date-jan1-dec31-2023 (1).csv'\n",
        "df_sales_2023_part2 = pd.read_csv(file_path_sales_2023_part2)\n",
        "\n",
        "file_path_sales_2024 = '/content/drive/My Drive/sales-by-date-jan1-dec31-2024.csv'\n",
        "df_sales_2024 = pd.read_csv(file_path_sales_2024)\n",
        "\n",
        "file_path_sales_time_2023 = '/content/drive/My Drive/sales-by-time-jan1-dec31-2023.csv'\n",
        "df_sales_time_2023 = pd.read_csv(file_path_sales_time_2023)\n",
        "\n",
        "file_path_sales_time_2024 = '/content/drive/My Drive/sales-by-time-jan1-dec31-2024.csv'\n",
        "df_sales_time_2024 = pd.read_csv(file_path_sales_time_2024)\n",
        "\n",
        "file_path_sales_time_2025 = '/content/drive/My Drive/sales-by-time-jan1-apr18-2025.csv'\n",
        "df_sales_time_2025 = pd.read_csv(file_path_sales_time_2025)\n",
        "\n",
        "file_path_sales_item_2023 = '/content/drive/My Drive/Item Sales 2023-01-01 - 2023-12-31.csv'\n",
        "df_sales_item_2023_copy = pd.read_csv(file_path_sales_item_2023)\n",
        "\n",
        "file_path_sales_item_2024 ='/content/drive/My Drive/Item Sales 2024-01-01 - 2024-12-31.csv'\n",
        "df_sales_item_2024 = pd.read_csv(file_path_sales_item_2024)\n",
        "\n",
        "\n"
      ]
    },
    {
      "cell_type": "markdown",
      "metadata": {
        "id": "aneAox656R_8"
      },
      "source": [
        "#Data Overview"
      ]
    },
    {
      "cell_type": "code",
      "execution_count": null,
      "metadata": {
        "colab": {
          "base_uri": "https://localhost:8080/"
        },
        "id": "FVH5vp0_6UPl",
        "outputId": "f2866357-6435-4f89-af92-6ee3db3c9554"
      },
      "outputs": [
        {
          "name": "stdout",
          "output_type": "stream",
          "text": [
            "                          Sales Category       Item Name  Modifier  \\\n",
            "No Sales Category                    NaN             NaN       NaN   \n",
            "No Sales Category  Naga Habanero Chicken             NaN       NaN   \n",
            "No Sales Category  Naga Habanero Chicken  light cilantro       NaN   \n",
            "No Sales Category  Naga Habanero Chicken        Jalapeno       NaN   \n",
            "No Sales Category  Naga Habanero Chicken       Pepperoni       NaN   \n",
            "...                                  ...             ...       ...   \n",
            "Pizza                          Hot Honey             NaN       NaN   \n",
            "Pizza                 Red Peppers Bags 3             NaN       NaN   \n",
            "Pizza                         Side Basil             NaN       NaN   \n",
            "Pizza                      Side Cilantro             NaN       NaN   \n",
            "Pizza                            Soda 2L             NaN       NaN   \n",
            "\n",
            "                   Unnamed: 3  Avg Price  Quantity  Gross Sales  \\\n",
            "No Sales Category   16.230000     5119.0  83106.70          0.0   \n",
            "No Sales Category   22.333365      542.0  12025.89          0.0   \n",
            "No Sales Category         NaN        1.0      0.00          0.0   \n",
            "No Sales Category         NaN       15.0     14.85          0.0   \n",
            "No Sales Category         NaN       12.0     35.88          0.0   \n",
            "...                       ...        ...       ...          ...   \n",
            "Pizza                1.629344       81.0    129.19          0.4   \n",
            "Pizza                0.840000        7.0      6.13          0.0   \n",
            "Pizza                0.500000        1.0      0.50          0.0   \n",
            "Pizza                0.500000        1.0      0.50          0.0   \n",
            "Pizza                3.990000       10.0     39.90          0.0   \n",
            "\n",
            "                   Discount Amount  Net Sales  \n",
            "No Sales Category         83106.70        NaN  \n",
            "No Sales Category         12025.89        NaN  \n",
            "No Sales Category             0.00        NaN  \n",
            "No Sales Category            14.85        NaN  \n",
            "No Sales Category            35.88        NaN  \n",
            "...                            ...        ...  \n",
            "Pizza                       126.80        NaN  \n",
            "Pizza                         6.13        NaN  \n",
            "Pizza                         0.50        NaN  \n",
            "Pizza                         0.50        NaN  \n",
            "Pizza                        39.90        NaN  \n",
            "\n",
            "[1237 rows x 9 columns]\n"
          ]
        }
      ],
      "source": [
        "print(df_menu_breakdown)"
      ]
    },
    {
      "cell_type": "code",
      "execution_count": null,
      "metadata": {
        "colab": {
          "base_uri": "https://localhost:8080/"
        },
        "id": "0iCqX-3l6aBZ",
        "outputId": "de7c9f1a-6d5f-470d-f10d-5b961a0181ba"
      },
      "outputs": [
        {
          "name": "stdout",
          "output_type": "stream",
          "text": [
            "                          Sales Category       Item Name  Modifier  \\\n",
            "No Sales Category                    NaN             NaN       NaN   \n",
            "No Sales Category  Naga Habanero Chicken             NaN       NaN   \n",
            "No Sales Category  Naga Habanero Chicken  light cilantro       NaN   \n",
            "No Sales Category  Naga Habanero Chicken        Jalapeno       NaN   \n",
            "No Sales Category  Naga Habanero Chicken       Pepperoni       NaN   \n",
            "...                                  ...             ...       ...   \n",
            "Pizza                          Hot Honey             NaN       NaN   \n",
            "Pizza                 Red Peppers Bags 3             NaN       NaN   \n",
            "Pizza                         Side Basil             NaN       NaN   \n",
            "Pizza                      Side Cilantro             NaN       NaN   \n",
            "Pizza                            Soda 2L             NaN       NaN   \n",
            "\n",
            "                   Unnamed: 3  Avg Price  Quantity  Gross Sales  \\\n",
            "No Sales Category   16.230000     5119.0  83106.70          0.0   \n",
            "No Sales Category   22.333365      542.0  12025.89          0.0   \n",
            "No Sales Category         NaN        1.0      0.00          0.0   \n",
            "No Sales Category         NaN       15.0     14.85          0.0   \n",
            "No Sales Category         NaN       12.0     35.88          0.0   \n",
            "...                       ...        ...       ...          ...   \n",
            "Pizza                1.629344       81.0    129.19          0.4   \n",
            "Pizza                0.840000        7.0      6.13          0.0   \n",
            "Pizza                0.500000        1.0      0.50          0.0   \n",
            "Pizza                0.500000        1.0      0.50          0.0   \n",
            "Pizza                3.990000       10.0     39.90          0.0   \n",
            "\n",
            "                   Discount Amount  \n",
            "No Sales Category         83106.70  \n",
            "No Sales Category         12025.89  \n",
            "No Sales Category             0.00  \n",
            "No Sales Category            14.85  \n",
            "No Sales Category            35.88  \n",
            "...                            ...  \n",
            "Pizza                       126.80  \n",
            "Pizza                         6.13  \n",
            "Pizza                         0.50  \n",
            "Pizza                         0.50  \n",
            "Pizza                        39.90  \n",
            "\n",
            "[1237 rows x 8 columns]\n"
          ]
        }
      ],
      "source": [
        "df_menu_breakdown_cleaned = df_menu_breakdown.copy()\n",
        "for col in df_menu_breakdown.columns:\n",
        "    if df_menu_breakdown[col].isnull().all():\n",
        "        df_menu_breakdown_cleaned = df_menu_breakdown_cleaned.drop(col, axis=1)\n",
        "\n",
        "print(df_menu_breakdown_cleaned)"
      ]
    },
    {
      "cell_type": "markdown",
      "metadata": {
        "id": "pwcreZs0noQB"
      },
      "source": [
        "#Sales by Date"
      ]
    },
    {
      "cell_type": "code",
      "execution_count": null,
      "metadata": {
        "colab": {
          "base_uri": "https://localhost:8080/"
        },
        "id": "JuSX2DWOQ-eR",
        "outputId": "3eafaa48-92fa-4465-f907-c735cb81b66c"
      },
      "outputs": [
        {
          "name": "stdout",
          "output_type": "stream",
          "text": [
            "<class 'pandas.core.frame.DataFrame'>\n",
            "Index: 108 entries, 01/01/2025 to 04/18/2025\n",
            "Data columns (total 4 columns):\n",
            " #   Column     Non-Null Count  Dtype         \n",
            "---  ------     --------------  -----         \n",
            " 0   Date       108 non-null    datetime64[ns]\n",
            " 1   Net Sales  108 non-null    int64         \n",
            " 2   Orders     108 non-null    int64         \n",
            " 3   Guests     0 non-null      float64       \n",
            "dtypes: datetime64[ns](1), float64(1), int64(2)\n",
            "memory usage: 8.3+ KB\n",
            "None\n",
            "                                    Date  Net Sales  Orders  Guests\n",
            "01/01/2025 1970-01-01 00:00:00.000000000          0       0     NaN\n",
            "01/02/2025 1970-01-01 00:00:00.000000347         11      11     NaN\n",
            "01/03/2025 1970-01-01 00:00:00.000000871         18      18     NaN\n",
            "01/04/2025 1970-01-01 00:00:00.000000447         15      15     NaN\n",
            "01/05/2025 1970-01-01 00:00:00.000000823         25      25     NaN\n",
            "...                                  ...        ...     ...     ...\n",
            "04/14/2025 1970-01-01 00:00:00.000000000          0       0     NaN\n",
            "04/15/2025 1970-01-01 00:00:00.000000669         24      24     NaN\n",
            "04/16/2025 1970-01-01 00:00:00.000000458         15      15     NaN\n",
            "04/17/2025 1970-01-01 00:00:00.000000784         26      26     NaN\n",
            "04/18/2025 1970-01-01 00:00:00.000001158         36      36     NaN\n",
            "\n",
            "[108 rows x 4 columns]\n"
          ]
        }
      ],
      "source": [
        "print(df_sales_2025.info())\n",
        "print(df_sales_2025)"
      ]
    },
    {
      "cell_type": "code",
      "execution_count": null,
      "metadata": {
        "colab": {
          "base_uri": "https://localhost:8080/"
        },
        "id": "nWTLEYINWvwY",
        "outputId": "d5af2df4-c09c-47a5-9f94-17457e684846"
      },
      "outputs": [
        {
          "name": "stdout",
          "output_type": "stream",
          "text": [
            "<class 'pandas.core.frame.DataFrame'>\n",
            "Index: 108 entries, 01/01/2025 to 04/18/2025\n",
            "Data columns (total 4 columns):\n",
            " #   Column     Non-Null Count  Dtype         \n",
            "---  ------     --------------  -----         \n",
            " 0   Date       108 non-null    datetime64[ns]\n",
            " 1   Net Sales  108 non-null    int64         \n",
            " 2   Orders     108 non-null    int64         \n",
            " 3   Guests     0 non-null      float64       \n",
            "dtypes: datetime64[ns](1), float64(1), int64(2)\n",
            "memory usage: 8.3+ KB\n",
            "None\n",
            "                                    Date  Net Sales  Orders  Guests\n",
            "01/01/2025 1970-01-01 00:00:00.000000000          0       0     NaN\n",
            "01/02/2025 1970-01-01 00:00:00.000000347         11      11     NaN\n",
            "01/03/2025 1970-01-01 00:00:00.000000871         18      18     NaN\n",
            "01/04/2025 1970-01-01 00:00:00.000000447         15      15     NaN\n",
            "01/05/2025 1970-01-01 00:00:00.000000823         25      25     NaN\n",
            "...                                  ...        ...     ...     ...\n",
            "04/14/2025 1970-01-01 00:00:00.000000000          0       0     NaN\n",
            "04/15/2025 1970-01-01 00:00:00.000000669         24      24     NaN\n",
            "04/16/2025 1970-01-01 00:00:00.000000458         15      15     NaN\n",
            "04/17/2025 1970-01-01 00:00:00.000000784         26      26     NaN\n",
            "04/18/2025 1970-01-01 00:00:00.000001158         36      36     NaN\n",
            "\n",
            "[108 rows x 4 columns]\n"
          ]
        }
      ],
      "source": [
        "df_sales_2025['Date'] = pd.to_datetime(df_sales_2025['Date'])\n",
        "print(df_sales_2025.info())\n",
        "print(df_sales_2025)"
      ]
    },
    {
      "cell_type": "code",
      "execution_count": null,
      "metadata": {
        "id": "pPoKbC21POMs"
      },
      "outputs": [],
      "source": [
        "df_sales_2025.to_csv('sales_2025_cleaned.csv', index=False)"
      ]
    },
    {
      "cell_type": "code",
      "execution_count": null,
      "metadata": {
        "colab": {
          "base_uri": "https://localhost:8080/"
        },
        "id": "wgetMbONYpKk",
        "outputId": "8584ebb6-137d-44a5-9991-267e9c6563b8"
      },
      "outputs": [
        {
          "name": "stdout",
          "output_type": "stream",
          "text": [
            "<class 'pandas.core.frame.DataFrame'>\n",
            "Index: 365 entries, 01/01/2023 to 12/31/2023\n",
            "Data columns (total 4 columns):\n",
            " #   Column     Non-Null Count  Dtype         \n",
            "---  ------     --------------  -----         \n",
            " 0   Date       365 non-null    datetime64[ns]\n",
            " 1   Net Sales  365 non-null    int64         \n",
            " 2   Orders     365 non-null    int64         \n",
            " 3   Guests     0 non-null      float64       \n",
            "dtypes: datetime64[ns](1), float64(1), int64(2)\n",
            "memory usage: 14.3+ KB\n",
            "None\n",
            "                                    Date  Net Sales  Orders  Guests\n",
            "01/01/2023 1970-01-01 00:00:00.000000493         15      15     NaN\n",
            "01/02/2023 1970-01-01 00:00:00.000000000          0       0     NaN\n",
            "01/03/2023 1970-01-01 00:00:00.000000360         12      12     NaN\n",
            "01/04/2023 1970-01-01 00:00:00.000000254          9       9     NaN\n",
            "01/05/2023 1970-01-01 00:00:00.000000405         16      16     NaN\n",
            "...                                  ...        ...     ...     ...\n",
            "12/27/2023 1970-01-01 00:00:00.000000672         17      17     NaN\n",
            "12/28/2023 1970-01-01 00:00:00.000000878         24      24     NaN\n",
            "12/29/2023 1970-01-01 00:00:00.000001284         32      32     NaN\n",
            "12/30/2023 1970-01-01 00:00:00.000001417         43      43     NaN\n",
            "12/31/2023 1970-01-01 00:00:00.000001136         31      31     NaN\n",
            "\n",
            "[365 rows x 4 columns]\n"
          ]
        }
      ],
      "source": [
        "print(df_sales_2023_part1.info())\n",
        "print(df_sales_2023_part1)"
      ]
    },
    {
      "cell_type": "code",
      "execution_count": null,
      "metadata": {
        "colab": {
          "base_uri": "https://localhost:8080/"
        },
        "id": "T-3aBpwlYxsd",
        "outputId": "1b3f9e2c-c983-4681-bc82-1051e1d0d49c"
      },
      "outputs": [
        {
          "name": "stdout",
          "output_type": "stream",
          "text": [
            "<class 'pandas.core.frame.DataFrame'>\n",
            "Index: 365 entries, 01/01/2023 to 12/31/2023\n",
            "Data columns (total 4 columns):\n",
            " #   Column     Non-Null Count  Dtype         \n",
            "---  ------     --------------  -----         \n",
            " 0   Date       365 non-null    datetime64[ns]\n",
            " 1   Net Sales  365 non-null    int64         \n",
            " 2   Orders     365 non-null    int64         \n",
            " 3   Guests     0 non-null      float64       \n",
            "dtypes: datetime64[ns](1), float64(1), int64(2)\n",
            "memory usage: 14.3+ KB\n",
            "None\n",
            "                                    Date  Net Sales  Orders  Guests\n",
            "01/01/2023 1970-01-01 00:00:00.000000493         15      15     NaN\n",
            "01/02/2023 1970-01-01 00:00:00.000000000          0       0     NaN\n",
            "01/03/2023 1970-01-01 00:00:00.000000360         12      12     NaN\n",
            "01/04/2023 1970-01-01 00:00:00.000000254          9       9     NaN\n",
            "01/05/2023 1970-01-01 00:00:00.000000405         16      16     NaN\n",
            "...                                  ...        ...     ...     ...\n",
            "12/27/2023 1970-01-01 00:00:00.000000672         17      17     NaN\n",
            "12/28/2023 1970-01-01 00:00:00.000000878         24      24     NaN\n",
            "12/29/2023 1970-01-01 00:00:00.000001284         32      32     NaN\n",
            "12/30/2023 1970-01-01 00:00:00.000001417         43      43     NaN\n",
            "12/31/2023 1970-01-01 00:00:00.000001136         31      31     NaN\n",
            "\n",
            "[365 rows x 4 columns]\n"
          ]
        }
      ],
      "source": [
        "df_sales_2023_part1['Date'] = pd.to_datetime(df_sales_2023_part1['Date'])\n",
        "print(df_sales_2023_part1.info())\n",
        "print(df_sales_2023_part1)"
      ]
    },
    {
      "cell_type": "code",
      "execution_count": null,
      "metadata": {
        "id": "T0dR2k-LPJdx"
      },
      "outputs": [],
      "source": [
        "df_sales_2023_part1.to_csv('sales_2023_part1_cleaned.csv', index=False)"
      ]
    },
    {
      "cell_type": "code",
      "execution_count": null,
      "metadata": {
        "colab": {
          "base_uri": "https://localhost:8080/"
        },
        "id": "95AkMP3yb_Wd",
        "outputId": "e8c706f1-9f61-437e-b4bb-57b91d23b3dc"
      },
      "outputs": [
        {
          "name": "stdout",
          "output_type": "stream",
          "text": [
            "<class 'pandas.core.frame.DataFrame'>\n",
            "Index: 365 entries, 01/01/2023 to 12/31/2023\n",
            "Data columns (total 4 columns):\n",
            " #   Column     Non-Null Count  Dtype         \n",
            "---  ------     --------------  -----         \n",
            " 0   Date       365 non-null    datetime64[ns]\n",
            " 1   Net Sales  365 non-null    int64         \n",
            " 2   Orders     365 non-null    int64         \n",
            " 3   Guests     0 non-null      float64       \n",
            "dtypes: datetime64[ns](1), float64(1), int64(2)\n",
            "memory usage: 14.3+ KB\n",
            "None\n"
          ]
        }
      ],
      "source": [
        "df_sales_2023_part2['Date'] = pd.to_datetime(df_sales_2023_part2['Date'])\n",
        "print(df_sales_2023_part2.info())"
      ]
    },
    {
      "cell_type": "code",
      "execution_count": null,
      "metadata": {
        "id": "84cEZj0xOyPK"
      },
      "outputs": [],
      "source": [
        "df_sales_2023_part2.to_csv('sales_2023_part2_cleaned.csv', index=False)"
      ]
    },
    {
      "cell_type": "code",
      "execution_count": null,
      "metadata": {
        "colab": {
          "base_uri": "https://localhost:8080/"
        },
        "id": "AdVP55kbfE36",
        "outputId": "d1390ef7-d36f-49e9-fc3b-576613d3e625"
      },
      "outputs": [
        {
          "name": "stdout",
          "output_type": "stream",
          "text": [
            "<class 'pandas.core.frame.DataFrame'>\n",
            "Index: 366 entries, 01/01/2024 to 12/31/2024\n",
            "Data columns (total 4 columns):\n",
            " #   Column     Non-Null Count  Dtype  \n",
            "---  ------     --------------  -----  \n",
            " 0   Date       366 non-null    float64\n",
            " 1   Net Sales  366 non-null    int64  \n",
            " 2   Orders     366 non-null    int64  \n",
            " 3   Guests     0 non-null      float64\n",
            "dtypes: float64(2), int64(2)\n",
            "memory usage: 14.3+ KB\n",
            "None\n",
            "              Date  Net Sales  Orders  Guests\n",
            "01/01/2024    0.00          0       0     NaN\n",
            "01/02/2024  656.12         19      19     NaN\n",
            "01/03/2024  666.52         17      17     NaN\n",
            "01/04/2024  373.35         12      12     NaN\n",
            "01/05/2024  817.98         24      24     NaN\n",
            "...            ...        ...     ...     ...\n",
            "12/27/2024  769.41         20      20     NaN\n",
            "12/28/2024  759.91         23      23     NaN\n",
            "12/29/2024  961.75         16      16     NaN\n",
            "12/30/2024    0.00          0       0     NaN\n",
            "12/31/2024  623.86         16      16     NaN\n",
            "\n",
            "[366 rows x 4 columns]\n"
          ]
        }
      ],
      "source": [
        "print(df_sales_2024.info())\n",
        "print(df_sales_2024)"
      ]
    },
    {
      "cell_type": "code",
      "execution_count": null,
      "metadata": {
        "colab": {
          "base_uri": "https://localhost:8080/"
        },
        "id": "Wq2h8N7zg7hR",
        "outputId": "9128584f-110a-41df-ff05-08f2ee9bb5f0"
      },
      "outputs": [
        {
          "name": "stdout",
          "output_type": "stream",
          "text": [
            "<class 'pandas.core.frame.DataFrame'>\n",
            "Index: 366 entries, 01/01/2024 to 12/31/2024\n",
            "Data columns (total 4 columns):\n",
            " #   Column     Non-Null Count  Dtype         \n",
            "---  ------     --------------  -----         \n",
            " 0   Date       366 non-null    datetime64[ns]\n",
            " 1   Net Sales  366 non-null    int64         \n",
            " 2   Orders     366 non-null    int64         \n",
            " 3   Guests     0 non-null      float64       \n",
            "dtypes: datetime64[ns](1), float64(1), int64(2)\n",
            "memory usage: 14.3+ KB\n",
            "None\n"
          ]
        }
      ],
      "source": [
        "df_sales_2024['Date'] = pd.to_datetime(df_sales_2024['Date'])\n",
        "print(df_sales_2024.info())"
      ]
    },
    {
      "cell_type": "code",
      "execution_count": null,
      "metadata": {
        "id": "QbWUnpXXOqJl"
      },
      "outputs": [],
      "source": [
        "df_sales_2024.to_csv('sales_2024_cleaned.csv', index=False)"
      ]
    },
    {
      "cell_type": "markdown",
      "metadata": {
        "id": "F71UhjJOnsG5"
      },
      "source": [
        "#Sales by Time"
      ]
    },
    {
      "cell_type": "code",
      "execution_count": null,
      "metadata": {
        "colab": {
          "base_uri": "https://localhost:8080/"
        },
        "id": "DVEs9JvQn45k",
        "outputId": "7714fa8e-9c6d-4e63-eb92-e456f2378707"
      },
      "outputs": [
        {
          "name": "stdout",
          "output_type": "stream",
          "text": [
            "<class 'pandas.core.frame.DataFrame'>\n",
            "Index: 16 entries, 12:00 AM to 11:00 PM\n",
            "Data columns (total 4 columns):\n",
            " #   Column     Non-Null Count  Dtype  \n",
            "---  ------     --------------  -----  \n",
            " 0   Time       16 non-null     float64\n",
            " 1   Net Sales  16 non-null     int64  \n",
            " 2   Orders     16 non-null     int64  \n",
            " 3   Guests     0 non-null      float64\n",
            "dtypes: float64(2), int64(2)\n",
            "memory usage: 640.0+ bytes\n"
          ]
        }
      ],
      "source": [
        "df_sales_time_2023.info()"
      ]
    },
    {
      "cell_type": "code",
      "execution_count": null,
      "metadata": {
        "colab": {
          "base_uri": "https://localhost:8080/"
        },
        "id": "-FnWZdhovhWD",
        "outputId": "22dee4e0-eae9-415e-a811-ca1ab22b2791"
      },
      "outputs": [
        {
          "name": "stdout",
          "output_type": "stream",
          "text": [
            "<class 'pandas.core.frame.DataFrame'>\n",
            "Index: 16 entries, 12:00 AM to 11:00 PM\n",
            "Data columns (total 4 columns):\n",
            " #   Column     Non-Null Count  Dtype         \n",
            "---  ------     --------------  -----         \n",
            " 0   Time       16 non-null     datetime64[ns]\n",
            " 1   Net Sales  16 non-null     int64         \n",
            " 2   Orders     16 non-null     int64         \n",
            " 3   Guests     0 non-null      float64       \n",
            "dtypes: datetime64[ns](1), float64(1), int64(2)\n",
            "memory usage: 640.0+ bytes\n",
            "None\n",
            "                                  Time  Net Sales  Orders  Guests\n",
            "12:00 AM 1970-01-01 00:00:00.000000380         18      18     NaN\n",
            "3:00 AM  1970-01-01 00:00:00.000000035          1       1     NaN\n",
            "5:00 AM  1970-01-01 00:00:00.000000025          1       1     NaN\n",
            "11:00 AM 1970-01-01 00:00:00.000000383         12      12     NaN\n",
            "12:00 PM 1970-01-01 00:00:00.000008077        242     242     NaN\n",
            "1:00 PM  1970-01-01 00:00:00.000006282        217     217     NaN\n",
            "2:00 PM  1970-01-01 00:00:00.000007907        244     244     NaN\n",
            "3:00 PM  1970-01-01 00:00:00.000011849        382     382     NaN\n",
            "4:00 PM  1970-01-01 00:00:00.000017227        520     520     NaN\n",
            "5:00 PM  1970-01-01 00:00:00.000031480        882     882     NaN\n",
            "6:00 PM  1970-01-01 00:00:00.000037710       1098    1098     NaN\n",
            "7:00 PM  1970-01-01 00:00:00.000033278        986     986     NaN\n",
            "8:00 PM  1970-01-01 00:00:00.000023993        757     757     NaN\n",
            "9:00 PM  1970-01-01 00:00:00.000018345        604     604     NaN\n",
            "10:00 PM 1970-01-01 00:00:00.000009742        316     316     NaN\n",
            "11:00 PM 1970-01-01 00:00:00.000002264         88      88     NaN\n"
          ]
        }
      ],
      "source": [
        "df_sales_time_2023['Time'] = pd.to_datetime(df_sales_time_2023['Time'])\n",
        "print(df_sales_time_2023.info())\n",
        "print(df_sales_time_2023)\n",
        "\n"
      ]
    },
    {
      "cell_type": "code",
      "execution_count": null,
      "metadata": {
        "id": "vhPvkwWxOlZ_"
      },
      "outputs": [],
      "source": [
        "df_sales_time_2023.to_csv('sales_time_2023_cleaned.csv', index=False)"
      ]
    },
    {
      "cell_type": "code",
      "execution_count": null,
      "metadata": {
        "colab": {
          "base_uri": "https://localhost:8080/"
        },
        "id": "zHY9BWbf0Bqx",
        "outputId": "7460b58f-0f11-4734-9221-18aec4130327"
      },
      "outputs": [
        {
          "name": "stdout",
          "output_type": "stream",
          "text": [
            "<class 'pandas.core.frame.DataFrame'>\n",
            "Index: 19 entries, 12:00 AM to 11:00 PM\n",
            "Data columns (total 4 columns):\n",
            " #   Column     Non-Null Count  Dtype         \n",
            "---  ------     --------------  -----         \n",
            " 0   Time       19 non-null     datetime64[ns]\n",
            " 1   Net Sales  19 non-null     int64         \n",
            " 2   Orders     19 non-null     int64         \n",
            " 3   Guests     0 non-null      float64       \n",
            "dtypes: datetime64[ns](1), float64(1), int64(2)\n",
            "memory usage: 760.0+ bytes\n",
            "None\n",
            "                                  Time  Net Sales  Orders  Guests\n",
            "12:00 AM 1970-01-01 00:00:00.000000098          3       3     NaN\n",
            "1:00 AM  1970-01-01 00:00:00.000000029          1       1     NaN\n",
            "3:00 AM  1970-01-01 00:00:00.000000071          1       1     NaN\n",
            "4:00 AM  1970-01-01 00:00:00.000000033          1       1     NaN\n",
            "7:00 AM  1970-01-01 00:00:00.000000242          1       1     NaN\n",
            "10:00 AM 1970-01-01 00:00:00.000000024          1       1     NaN\n",
            "11:00 AM 1970-01-01 00:00:00.000000773         20      20     NaN\n",
            "12:00 PM 1970-01-01 00:00:00.000009594        247     247     NaN\n",
            "1:00 PM  1970-01-01 00:00:00.000007811        202     202     NaN\n",
            "2:00 PM  1970-01-01 00:00:00.000011856        247     247     NaN\n",
            "3:00 PM  1970-01-01 00:00:00.000013926        398     398     NaN\n",
            "4:00 PM  1970-01-01 00:00:00.000016769        468     468     NaN\n",
            "5:00 PM  1970-01-01 00:00:00.000029609        777     777     NaN\n",
            "6:00 PM  1970-01-01 00:00:00.000038158       1045    1045     NaN\n",
            "7:00 PM  1970-01-01 00:00:00.000033700        950     950     NaN\n",
            "8:00 PM  1970-01-01 00:00:00.000024683        773     773     NaN\n",
            "9:00 PM  1970-01-01 00:00:00.000019813        674     674     NaN\n",
            "10:00 PM 1970-01-01 00:00:00.000010309        393     393     NaN\n",
            "11:00 PM 1970-01-01 00:00:00.000002011         83      83     NaN\n"
          ]
        }
      ],
      "source": [
        "df_sales_time_2024['Time'] = pd.to_datetime(df_sales_time_2024['Time'])\n",
        "print(df_sales_time_2024.info())\n",
        "print(df_sales_time_2024)"
      ]
    },
    {
      "cell_type": "code",
      "execution_count": null,
      "metadata": {
        "id": "oIokSBpeNxO_"
      },
      "outputs": [],
      "source": [
        "df_sales_time_2024.to_csv('sales_time_2024_cleaned.csv', index=False)"
      ]
    },
    {
      "cell_type": "code",
      "execution_count": null,
      "metadata": {
        "colab": {
          "base_uri": "https://localhost:8080/"
        },
        "id": "KMoH_9gY0x4l",
        "outputId": "db39ccdb-7feb-4594-f651-173718a3c2cb"
      },
      "outputs": [
        {
          "name": "stdout",
          "output_type": "stream",
          "text": [
            "<class 'pandas.core.frame.DataFrame'>\n",
            "Index: 16 entries, 12:00 AM to 11:00 PM\n",
            "Data columns (total 4 columns):\n",
            " #   Column     Non-Null Count  Dtype         \n",
            "---  ------     --------------  -----         \n",
            " 0   Time       16 non-null     datetime64[ns]\n",
            " 1   Net Sales  16 non-null     int64         \n",
            " 2   Orders     16 non-null     int64         \n",
            " 3   Guests     0 non-null      float64       \n",
            "dtypes: datetime64[ns](1), float64(1), int64(2)\n",
            "memory usage: 640.0+ bytes\n",
            "None\n",
            "                                  Time  Net Sales  Orders  Guests\n",
            "12:00 AM 1970-01-01 00:00:00.000000002          1       1     NaN\n",
            "3:00 AM  1970-01-01 00:00:00.000000099          1       1     NaN\n",
            "10:00 AM 1970-01-01 00:00:00.000000019          1       1     NaN\n",
            "11:00 AM 1970-01-01 00:00:00.000001068          9       9     NaN\n",
            "12:00 PM 1970-01-01 00:00:00.000004408        123     123     NaN\n",
            "1:00 PM  1970-01-01 00:00:00.000005593         89      89     NaN\n",
            "2:00 PM  1970-01-01 00:00:00.000004789        115     115     NaN\n",
            "3:00 PM  1970-01-01 00:00:00.000005038        151     151     NaN\n",
            "4:00 PM  1970-01-01 00:00:00.000008922        243     243     NaN\n",
            "5:00 PM  1970-01-01 00:00:00.000017214        417     417     NaN\n",
            "6:00 PM  1970-01-01 00:00:00.000021002        573     573     NaN\n",
            "7:00 PM  1970-01-01 00:00:00.000015062        436     436     NaN\n",
            "8:00 PM  1970-01-01 00:00:00.000007836        262     262     NaN\n",
            "9:00 PM  1970-01-01 00:00:00.000004497        155     155     NaN\n",
            "10:00 PM 1970-01-01 00:00:00.000003171        106     106     NaN\n",
            "11:00 PM 1970-01-01 00:00:00.000000305         13      13     NaN\n"
          ]
        }
      ],
      "source": [
        "df_sales_time_2025['Time'] = pd.to_datetime(df_sales_time_2025['Time'])\n",
        "print(df_sales_time_2025.info())\n",
        "print(df_sales_time_2025)"
      ]
    },
    {
      "cell_type": "code",
      "execution_count": null,
      "metadata": {
        "id": "rzFZYgGVNK6W"
      },
      "outputs": [],
      "source": [
        "df_sales_time_2025.to_csv('sales_time_2025_cleaned.csv', index=False)"
      ]
    },
    {
      "cell_type": "markdown",
      "metadata": {
        "id": "q7gpPHB723et"
      },
      "source": [
        "#Sales by Item"
      ]
    },
    {
      "cell_type": "code",
      "execution_count": null,
      "metadata": {
        "colab": {
          "base_uri": "https://localhost:8080/"
        },
        "id": "3NaneC4W3Vtp",
        "outputId": "2af7592c-59a0-4e85-e15b-932c3012eed9"
      },
      "outputs": [
        {
          "name": "stdout",
          "output_type": "stream",
          "text": [
            "<class 'pandas.core.frame.DataFrame'>\n",
            "RangeIndex: 53 entries, 0 to 52\n",
            "Data columns (total 3 columns):\n",
            " #   Column         Non-Null Count  Dtype \n",
            "---  ------         --------------  ----- \n",
            " 0   Item           53 non-null     object\n",
            " 1   Quantity Sold  53 non-null     int64 \n",
            " 2   Total Sales    53 non-null     object\n",
            "dtypes: int64(1), object(2)\n",
            "memory usage: 1.4+ KB\n",
            "None\n",
            "                                              Item  Quantity Sold Total Sales\n",
            "0                                     Chicken Wrap             83     $663.17\n",
            "1                                            Ranch            360     $578.40\n",
            "2                              Beef Chopped Cheese             59     $471.41\n",
            "3                                    Alfredo Pasta             41     $409.59\n",
            "4                                Naga Chicken Wrap             50     $389.50\n",
            "5                                         Naga Dip            185     $368.15\n",
            "6                                 Garlic Beef Wrap             46     $353.54\n",
            "7                                        Hot Honey            163     $324.37\n",
            "8                              Naga Habanero Pasta             27     $269.73\n",
            "9                               Tomato Basil Pasta             18     $179.82\n",
            "10                                      Soda (Can)             42     $117.25\n",
            "11                                Meatlovers Pizza            405      $99.95\n",
            "12                                     Paneer Wrap             10      $79.90\n",
            "13                                   Mushroom Wrap              7      $55.93\n",
            "14                               Soft Drinks (Can)             22      $43.28\n",
            "15                                   Aged Parmesan             17      $33.83\n",
            "16                                    Mushrom Wrap              4      $30.96\n",
            "17                                   Water (small)             13      $24.27\n",
            "18                              Red Peppers Bags 3             21      $18.79\n",
            "19                                 Parmesan Bags 3             15      $12.45\n",
            "20                                   Side Jalapeno             11      $10.89\n",
            "21                                    Chicken Wrap              1       $7.99\n",
            "22                             Beef Chopped Cheese              1       $7.99\n",
            "23                                      Side Basil             10       $5.54\n",
            "24                                     Side Olives              5       $4.95\n",
            "25                             Side Banana Peppers              3       $2.97\n",
            "26                                   Side Cilantro              5       $2.86\n",
            "27                           4Cheez with Hot Honey            162       $0.00\n",
            "28                          Naga Habanero Mushroom             44       $0.00\n",
            "29                                  Chicken Bianca             93       $0.00\n",
            "30                             Spicy Naga Balachao             12       $0.00\n",
            "31                                      Taco Pizza              6       $0.00\n",
            "32                             Spicy Naga Mushroom             10       $0.00\n",
            "33                                    Veggie Pizza             70       $0.00\n",
            "34                                   Spicy Italian              5       $0.00\n",
            "35                            Alfredo Cheese Pizza             68       $0.00\n",
            "36                                   Bongo Tex Mex             30       $0.00\n",
            "37                                      Korean BBQ             26       $0.00\n",
            "38                          Naga Habanero Balachao             20       $0.00\n",
            "39                              Spicy Naga Chicken            220       $0.00\n",
            "40                            Naga Habanero Paneer             64       $0.00\n",
            "41                                   Pepper Lovers             26       $0.00\n",
            "42                                 Harissa Chicken            183       $0.00\n",
            "43                                   Cheddar Birds             26       $0.00\n",
            "44                      Bros favorite Cheese Pizza            366       $0.00\n",
            "45                           Naga Habanero Chicken            277       $0.00\n",
            "46                                 Beef Taco Pizza            102       $0.00\n",
            "47                            Garlic Ghee Mushroom            169       $0.00\n",
            "48                                Customized Pizza             70       $0.00\n",
            "49                                Garlic Artichoke              4       $0.00\n",
            "50  Jhura Beef Pesto (contains Pine & Cashew Nuts)             91       $0.00\n",
            "51              Bengali Beef Pesto (Contains Nuts)            105       $0.00\n",
            "52                                  Beef Pepperoni            524       $0.00\n"
          ]
        }
      ],
      "source": [
        "print(df_sales_item_2023_copy.info())\n",
        "print(df_sales_item_2023_copy)\n",
        "\n",
        "\n",
        "\n"
      ]
    },
    {
      "cell_type": "code",
      "execution_count": null,
      "metadata": {
        "colab": {
          "base_uri": "https://localhost:8080/"
        },
        "id": "0uawor3789Md",
        "outputId": "89c355d5-e3c2-40e6-e040-b3639bd7ec1f"
      },
      "outputs": [
        {
          "name": "stdout",
          "output_type": "stream",
          "text": [
            "<class 'pandas.core.frame.DataFrame'>\n",
            "RangeIndex: 53 entries, 0 to 52\n",
            "Data columns (total 3 columns):\n",
            " #   Column         Non-Null Count  Dtype  \n",
            "---  ------         --------------  -----  \n",
            " 0   Item           53 non-null     object \n",
            " 1   Quantity Sold  53 non-null     int64  \n",
            " 2   Total Sales    53 non-null     float64\n",
            "dtypes: float64(1), int64(1), object(1)\n",
            "memory usage: 1.4+ KB\n",
            "None\n",
            "                                              Item  Quantity Sold  Total Sales\n",
            "0                                     Chicken Wrap             83       663.17\n",
            "1                                            Ranch            360       578.40\n",
            "2                              Beef Chopped Cheese             59       471.41\n",
            "3                                    Alfredo Pasta             41       409.59\n",
            "4                                Naga Chicken Wrap             50       389.50\n",
            "5                                         Naga Dip            185       368.15\n",
            "6                                 Garlic Beef Wrap             46       353.54\n",
            "7                                        Hot Honey            163       324.37\n",
            "8                              Naga Habanero Pasta             27       269.73\n",
            "9                               Tomato Basil Pasta             18       179.82\n",
            "10                                      Soda (Can)             42       117.25\n",
            "11                                Meatlovers Pizza            405        99.95\n",
            "12                                     Paneer Wrap             10        79.90\n",
            "13                                   Mushroom Wrap              7        55.93\n",
            "14                               Soft Drinks (Can)             22        43.28\n",
            "15                                   Aged Parmesan             17        33.83\n",
            "16                                    Mushrom Wrap              4        30.96\n",
            "17                                   Water (small)             13        24.27\n",
            "18                              Red Peppers Bags 3             21        18.79\n",
            "19                                 Parmesan Bags 3             15        12.45\n",
            "20                                   Side Jalapeno             11        10.89\n",
            "21                                    Chicken Wrap              1         7.99\n",
            "22                             Beef Chopped Cheese              1         7.99\n",
            "23                                      Side Basil             10         5.54\n",
            "24                                     Side Olives              5         4.95\n",
            "25                             Side Banana Peppers              3         2.97\n",
            "26                                   Side Cilantro              5         2.86\n",
            "27                           4Cheez with Hot Honey            162         0.00\n",
            "28                          Naga Habanero Mushroom             44         0.00\n",
            "29                                  Chicken Bianca             93         0.00\n",
            "30                             Spicy Naga Balachao             12         0.00\n",
            "31                                      Taco Pizza              6         0.00\n",
            "32                             Spicy Naga Mushroom             10         0.00\n",
            "33                                    Veggie Pizza             70         0.00\n",
            "34                                   Spicy Italian              5         0.00\n",
            "35                            Alfredo Cheese Pizza             68         0.00\n",
            "36                                   Bongo Tex Mex             30         0.00\n",
            "37                                      Korean BBQ             26         0.00\n",
            "38                          Naga Habanero Balachao             20         0.00\n",
            "39                              Spicy Naga Chicken            220         0.00\n",
            "40                            Naga Habanero Paneer             64         0.00\n",
            "41                                   Pepper Lovers             26         0.00\n",
            "42                                 Harissa Chicken            183         0.00\n",
            "43                                   Cheddar Birds             26         0.00\n",
            "44                      Bros favorite Cheese Pizza            366         0.00\n",
            "45                           Naga Habanero Chicken            277         0.00\n",
            "46                                 Beef Taco Pizza            102         0.00\n",
            "47                            Garlic Ghee Mushroom            169         0.00\n",
            "48                                Customized Pizza             70         0.00\n",
            "49                                Garlic Artichoke              4         0.00\n",
            "50  Jhura Beef Pesto (contains Pine & Cashew Nuts)             91         0.00\n",
            "51              Bengali Beef Pesto (Contains Nuts)            105         0.00\n",
            "52                                  Beef Pepperoni            524         0.00\n"
          ]
        }
      ],
      "source": [
        "df_sales_item_2023_copy['Total Sales'] = df_sales_item_2023_copy['Total Sales'].astype(str).str.replace('$', '').str.replace(',', '').astype(float)\n",
        "print(df_sales_item_2023_copy.info())\n",
        "print(df_sales_item_2023_copy)\n"
      ]
    },
    {
      "cell_type": "code",
      "execution_count": null,
      "metadata": {
        "colab": {
          "base_uri": "https://localhost:8080/"
        },
        "id": "9KA4gb9zA9SG",
        "outputId": "196ea8d6-6fad-4f00-d7de-c2df0222aacf"
      },
      "outputs": [
        {
          "name": "stdout",
          "output_type": "stream",
          "text": [
            "Item\n",
            "Chicken Wrap                                      2\n",
            "Beef Chopped Cheese                               2\n",
            "Ranch                                             1\n",
            "Alfredo Pasta                                     1\n",
            "Naga Chicken Wrap                                 1\n",
            "Naga Dip                                          1\n",
            "Garlic Beef Wrap                                  1\n",
            "Hot Honey                                         1\n",
            "Naga Habanero Pasta                               1\n",
            "Tomato Basil Pasta                                1\n",
            "Soda (Can)                                        1\n",
            "Meatlovers Pizza                                  1\n",
            "Paneer Wrap                                       1\n",
            "Mushroom Wrap                                     1\n",
            "Soft Drinks (Can)                                 1\n",
            "Aged Parmesan                                     1\n",
            "Mushrom Wrap                                      1\n",
            "Water (small)                                     1\n",
            "Red Peppers Bags 3                                1\n",
            "Parmesan Bags 3                                   1\n",
            "Side Jalapeno                                     1\n",
            "Side Basil                                        1\n",
            "Side Olives                                       1\n",
            "Side Banana Peppers                               1\n",
            "Side Cilantro                                     1\n",
            "4Cheez with Hot Honey                             1\n",
            "Naga Habanero Mushroom                            1\n",
            "Chicken Bianca                                    1\n",
            "Spicy Naga Balachao                               1\n",
            "Taco Pizza                                        1\n",
            "Spicy Naga Mushroom                               1\n",
            "Veggie Pizza                                      1\n",
            "Spicy Italian                                     1\n",
            "Alfredo Cheese Pizza                              1\n",
            "Bongo Tex Mex                                     1\n",
            "Korean BBQ                                        1\n",
            "Naga Habanero Balachao                            1\n",
            "Spicy Naga Chicken                                1\n",
            "Naga Habanero Paneer                              1\n",
            "Pepper Lovers                                     1\n",
            "Harissa Chicken                                   1\n",
            "Cheddar Birds                                     1\n",
            "Bros favorite Cheese Pizza                        1\n",
            "Naga Habanero Chicken                             1\n",
            "Beef Taco Pizza                                   1\n",
            "Garlic Ghee Mushroom                              1\n",
            "Customized Pizza                                  1\n",
            "Garlic Artichoke                                  1\n",
            "Jhura Beef Pesto (contains Pine & Cashew Nuts)    1\n",
            "Bengali Beef Pesto (Contains Nuts)                1\n",
            "Beef Pepperoni                                    1\n",
            "Name: count, dtype: int64\n"
          ]
        }
      ],
      "source": [
        "item_frequencies = df_sales_item_2023_copy['Item'].value_counts()\n",
        "print(item_frequencies)"
      ]
    },
    {
      "cell_type": "code",
      "execution_count": null,
      "metadata": {
        "id": "tIf0U2lUNDqV"
      },
      "outputs": [],
      "source": [
        "df_sales_item_2023_copy.to_csv('sales_item_2023_cleaned.csv', index=False)"
      ]
    },
    {
      "cell_type": "code",
      "execution_count": null,
      "metadata": {
        "colab": {
          "base_uri": "https://localhost:8080/"
        },
        "id": "gw6B99eIJG8G",
        "outputId": "fda92c49-8bb8-4493-b807-983587c44861"
      },
      "outputs": [
        {
          "name": "stdout",
          "output_type": "stream",
          "text": [
            "<class 'pandas.core.frame.DataFrame'>\n",
            "RangeIndex: 36 entries, 0 to 35\n",
            "Data columns (total 3 columns):\n",
            " #   Column         Non-Null Count  Dtype  \n",
            "---  ------         --------------  -----  \n",
            " 0   Item           36 non-null     object \n",
            " 1   Quantity Sold  36 non-null     int64  \n",
            " 2   Total Sales    36 non-null     float64\n",
            "dtypes: float64(1), int64(1), object(1)\n",
            "memory usage: 996.0+ bytes\n",
            "None\n",
            "                                  Item  Quantity Sold  Total Sales\n",
            "0                        Alfredo Pasta             79       789.21\n",
            "1                         Chicken Wrap             94       751.06\n",
            "2                  Beef Chopped Cheese             80       639.20\n",
            "3                   Tomato Basil Pasta             49       489.51\n",
            "4                                Ranch            343       339.57\n",
            "5                             Naga Dip            148       294.52\n",
            "6                            Hot Honey            140       278.60\n",
            "7                  Naga Habanero Pasta             27       269.73\n",
            "8                           Soda (Can)             71       177.50\n",
            "9                          Paneer Wrap             18       143.82\n",
            "10                       Mushroom Wrap             12        95.88\n",
            "11                     Parmesan Bags 3             26        25.74\n",
            "12                  Red Peppers Bags 3             20        19.80\n",
            "13                       Water (small)              5         9.95\n",
            "14                       Side Jalapeno              6         5.94\n",
            "15                         Side Olives              5         4.95\n",
            "16                          Side Basil              3         1.50\n",
            "17                       Side Cilantro              1         0.50\n",
            "18               Naga Habanero Chicken            475         0.00\n",
            "19                    Garlic Artichoke             61         0.00\n",
            "20  Bengali Beef Pesto (Contains Nuts)            178         0.00\n",
            "21                        Veggie Pizza            132         0.00\n",
            "22               4Cheez with Hot Honey            165         0.00\n",
            "23                Alfredo Cheese Pizza             44         0.00\n",
            "24                      Beef Pepperoni            520         0.00\n",
            "25                     Alfredo Chicken            121         0.00\n",
            "26              Naga Habanero Mushroom             63         0.00\n",
            "27                    Meatlovers Pizza            425         0.00\n",
            "28                Garlic Ghee Mushroom            104         0.00\n",
            "29                    Customized Pizza             79         0.00\n",
            "30                     Beef Taco Pizza            170         0.00\n",
            "31                Classic Cheese Pizza            376         0.00\n",
            "32                     Harissa Chicken            233         0.00\n",
            "33              Naga Habanero Balachao             21         0.00\n",
            "34                          Korean BBQ            198         0.00\n",
            "35                Naga Habanero Paneer             94         0.00\n"
          ]
        }
      ],
      "source": [
        "df_sales_item_2024['Total Sales'] = df_sales_item_2024['Total Sales'].astype(str).str.replace('$', '').str.replace(',', '').astype(float)\n",
        "print(df_sales_item_2024.info())\n",
        "print(df_sales_item_2024)"
      ]
    },
    {
      "cell_type": "code",
      "execution_count": null,
      "metadata": {
        "id": "1ptS8AHHM18V"
      },
      "outputs": [],
      "source": [
        "df_sales_item_2024.to_csv('sales_item_2024_cleaned.csv', index=False)"
      ]
    },
    {
      "cell_type": "code",
      "execution_count": 17,
      "metadata": {},
      "outputs": [
        {
          "name": "stdout",
          "output_type": "stream",
          "text": [
            "                      Food  Date   Revenue\n",
            "0               Korean BBQ  2023    801.57\n",
            "1    Naga Habanero Chicken  2023  14443.13\n",
            "2       Spicy Naga Chicken  2023  10830.08\n",
            "3          Beef Taco Pizza  2023   3267.07\n",
            "4               Taco Pizza  2023    457.78\n",
            "..                     ...   ...       ...\n",
            "134            Side Olives  2025      1.98\n",
            "135          Side Jalapeno  2025      0.99\n",
            "136       Side Garlic Mayo  2025     15.84\n",
            "137         Marinara Sauce  2025     13.93\n",
            "138                14\" Pie  2025    180.00\n",
            "\n",
            "[139 rows x 3 columns]\n",
            "Epoch 1/100\n"
          ]
        },
        {
          "name": "stderr",
          "output_type": "stream",
          "text": [
            "C:\\Users\\mahd\\AppData\\Local\\Packages\\PythonSoftwareFoundation.Python.3.12_qbz5n2kfra8p0\\LocalCache\\local-packages\\Python312\\site-packages\\keras\\src\\layers\\core\\dense.py:87: UserWarning: Do not pass an `input_shape`/`input_dim` argument to a layer. When using Sequential models, prefer using an `Input(shape)` object as the first layer in the model instead.\n",
            "  super().__init__(activity_regularizer=activity_regularizer, **kwargs)\n"
          ]
        },
        {
          "name": "stdout",
          "output_type": "stream",
          "text": [
            "\u001b[1m7/7\u001b[0m \u001b[32m━━━━━━━━━━━━━━━━━━━━\u001b[0m\u001b[37m\u001b[0m \u001b[1m1s\u001b[0m 38ms/step - loss: 19384802.0000 - val_loss: 2373365.5000\n",
            "Epoch 2/100\n",
            "\u001b[1m7/7\u001b[0m \u001b[32m━━━━━━━━━━━━━━━━━━━━\u001b[0m\u001b[37m\u001b[0m \u001b[1m0s\u001b[0m 24ms/step - loss: 15104582.0000 - val_loss: 2370599.2500\n",
            "Epoch 3/100\n",
            "\u001b[1m7/7\u001b[0m \u001b[32m━━━━━━━━━━━━━━━━━━━━\u001b[0m\u001b[37m\u001b[0m \u001b[1m0s\u001b[0m 14ms/step - loss: 17121674.0000 - val_loss: 2367577.0000\n",
            "Epoch 4/100\n",
            "\u001b[1m7/7\u001b[0m \u001b[32m━━━━━━━━━━━━━━━━━━━━\u001b[0m\u001b[37m\u001b[0m \u001b[1m0s\u001b[0m 13ms/step - loss: 16547906.0000 - val_loss: 2364394.7500\n",
            "Epoch 5/100\n",
            "\u001b[1m7/7\u001b[0m \u001b[32m━━━━━━━━━━━━━━━━━━━━\u001b[0m\u001b[37m\u001b[0m \u001b[1m0s\u001b[0m 23ms/step - loss: 23028328.0000 - val_loss: 2361028.7500\n",
            "Epoch 6/100\n",
            "\u001b[1m7/7\u001b[0m \u001b[32m━━━━━━━━━━━━━━━━━━━━\u001b[0m\u001b[37m\u001b[0m \u001b[1m0s\u001b[0m 11ms/step - loss: 19483812.0000 - val_loss: 2356965.5000\n",
            "Epoch 7/100\n",
            "\u001b[1m7/7\u001b[0m \u001b[32m━━━━━━━━━━━━━━━━━━━━\u001b[0m\u001b[37m\u001b[0m \u001b[1m0s\u001b[0m 15ms/step - loss: 15146030.0000 - val_loss: 2352265.7500\n",
            "Epoch 8/100\n",
            "\u001b[1m7/7\u001b[0m \u001b[32m━━━━━━━━━━━━━━━━━━━━\u001b[0m\u001b[37m\u001b[0m \u001b[1m0s\u001b[0m 19ms/step - loss: 19995936.0000 - val_loss: 2346762.2500\n",
            "Epoch 9/100\n",
            "\u001b[1m7/7\u001b[0m \u001b[32m━━━━━━━━━━━━━━━━━━━━\u001b[0m\u001b[37m\u001b[0m \u001b[1m0s\u001b[0m 12ms/step - loss: 17463166.0000 - val_loss: 2340579.0000\n",
            "Epoch 10/100\n",
            "\u001b[1m7/7\u001b[0m \u001b[32m━━━━━━━━━━━━━━━━━━━━\u001b[0m\u001b[37m\u001b[0m \u001b[1m0s\u001b[0m 14ms/step - loss: 25158128.0000 - val_loss: 2333219.5000\n",
            "Epoch 11/100\n",
            "\u001b[1m7/7\u001b[0m \u001b[32m━━━━━━━━━━━━━━━━━━━━\u001b[0m\u001b[37m\u001b[0m \u001b[1m0s\u001b[0m 19ms/step - loss: 16518165.0000 - val_loss: 2325223.2500\n",
            "Epoch 12/100\n",
            "\u001b[1m7/7\u001b[0m \u001b[32m━━━━━━━━━━━━━━━━━━━━\u001b[0m\u001b[37m\u001b[0m \u001b[1m0s\u001b[0m 17ms/step - loss: 22776164.0000 - val_loss: 2315653.7500\n",
            "Epoch 13/100\n",
            "\u001b[1m7/7\u001b[0m \u001b[32m━━━━━━━━━━━━━━━━━━━━\u001b[0m\u001b[37m\u001b[0m \u001b[1m0s\u001b[0m 15ms/step - loss: 20858668.0000 - val_loss: 2305381.2500\n",
            "Epoch 14/100\n",
            "\u001b[1m7/7\u001b[0m \u001b[32m━━━━━━━━━━━━━━━━━━━━\u001b[0m\u001b[37m\u001b[0m \u001b[1m0s\u001b[0m 13ms/step - loss: 19160284.0000 - val_loss: 2294125.7500\n",
            "Epoch 15/100\n",
            "\u001b[1m7/7\u001b[0m \u001b[32m━━━━━━━━━━━━━━━━━━━━\u001b[0m\u001b[37m\u001b[0m \u001b[1m0s\u001b[0m 14ms/step - loss: 19830378.0000 - val_loss: 2282041.5000\n",
            "Epoch 16/100\n",
            "\u001b[1m7/7\u001b[0m \u001b[32m━━━━━━━━━━━━━━━━━━━━\u001b[0m\u001b[37m\u001b[0m \u001b[1m0s\u001b[0m 16ms/step - loss: 25446964.0000 - val_loss: 2268044.7500\n",
            "Epoch 17/100\n",
            "\u001b[1m7/7\u001b[0m \u001b[32m━━━━━━━━━━━━━━━━━━━━\u001b[0m\u001b[37m\u001b[0m \u001b[1m0s\u001b[0m 16ms/step - loss: 16387833.0000 - val_loss: 2254759.0000\n",
            "Epoch 18/100\n",
            "\u001b[1m7/7\u001b[0m \u001b[32m━━━━━━━━━━━━━━━━━━━━\u001b[0m\u001b[37m\u001b[0m \u001b[1m0s\u001b[0m 16ms/step - loss: 23432320.0000 - val_loss: 2240386.5000\n",
            "Epoch 19/100\n",
            "\u001b[1m7/7\u001b[0m \u001b[32m━━━━━━━━━━━━━━━━━━━━\u001b[0m\u001b[37m\u001b[0m \u001b[1m0s\u001b[0m 14ms/step - loss: 25565468.0000 - val_loss: 2225627.7500\n",
            "Epoch 20/100\n",
            "\u001b[1m7/7\u001b[0m \u001b[32m━━━━━━━━━━━━━━━━━━━━\u001b[0m\u001b[37m\u001b[0m \u001b[1m0s\u001b[0m 11ms/step - loss: 22101310.0000 - val_loss: 2210806.2500\n",
            "Epoch 21/100\n",
            "\u001b[1m7/7\u001b[0m \u001b[32m━━━━━━━━━━━━━━━━━━━━\u001b[0m\u001b[37m\u001b[0m \u001b[1m0s\u001b[0m 11ms/step - loss: 13902308.0000 - val_loss: 2195723.7500\n",
            "Epoch 22/100\n",
            "\u001b[1m7/7\u001b[0m \u001b[32m━━━━━━━━━━━━━━━━━━━━\u001b[0m\u001b[37m\u001b[0m \u001b[1m0s\u001b[0m 33ms/step - loss: 16033045.0000 - val_loss: 2181468.0000\n",
            "Epoch 23/100\n",
            "\u001b[1m7/7\u001b[0m \u001b[32m━━━━━━━━━━━━━━━━━━━━\u001b[0m\u001b[37m\u001b[0m \u001b[1m0s\u001b[0m 10ms/step - loss: 23124636.0000 - val_loss: 2167199.7500\n",
            "Epoch 24/100\n",
            "\u001b[1m7/7\u001b[0m \u001b[32m━━━━━━━━━━━━━━━━━━━━\u001b[0m\u001b[37m\u001b[0m \u001b[1m0s\u001b[0m 11ms/step - loss: 11285675.0000 - val_loss: 2155928.2500\n",
            "Epoch 25/100\n",
            "\u001b[1m7/7\u001b[0m \u001b[32m━━━━━━━━━━━━━━━━━━━━\u001b[0m\u001b[37m\u001b[0m \u001b[1m0s\u001b[0m 16ms/step - loss: 19480030.0000 - val_loss: 2145681.2500\n",
            "Epoch 26/100\n",
            "\u001b[1m7/7\u001b[0m \u001b[32m━━━━━━━━━━━━━━━━━━━━\u001b[0m\u001b[37m\u001b[0m \u001b[1m0s\u001b[0m 15ms/step - loss: 16315416.0000 - val_loss: 2138969.2500\n",
            "Epoch 27/100\n",
            "\u001b[1m7/7\u001b[0m \u001b[32m━━━━━━━━━━━━━━━━━━━━\u001b[0m\u001b[37m\u001b[0m \u001b[1m0s\u001b[0m 26ms/step - loss: 21736392.0000 - val_loss: 2136627.2500\n",
            "Epoch 28/100\n",
            "\u001b[1m7/7\u001b[0m \u001b[32m━━━━━━━━━━━━━━━━━━━━\u001b[0m\u001b[37m\u001b[0m \u001b[1m0s\u001b[0m 11ms/step - loss: 12367784.0000 - val_loss: 2138084.5000\n",
            "Epoch 29/100\n",
            "\u001b[1m7/7\u001b[0m \u001b[32m━━━━━━━━━━━━━━━━━━━━\u001b[0m\u001b[37m\u001b[0m \u001b[1m0s\u001b[0m 13ms/step - loss: 15473805.0000 - val_loss: 2143795.7500\n",
            "Epoch 30/100\n",
            "\u001b[1m7/7\u001b[0m \u001b[32m━━━━━━━━━━━━━━━━━━━━\u001b[0m\u001b[37m\u001b[0m \u001b[1m0s\u001b[0m 13ms/step - loss: 21197476.0000 - val_loss: 2157255.5000\n",
            "Epoch 31/100\n",
            "\u001b[1m7/7\u001b[0m \u001b[32m━━━━━━━━━━━━━━━━━━━━\u001b[0m\u001b[37m\u001b[0m \u001b[1m0s\u001b[0m 18ms/step - loss: 10506818.0000 - val_loss: 2174515.7500\n",
            "Epoch 32/100\n",
            "\u001b[1m7/7\u001b[0m \u001b[32m━━━━━━━━━━━━━━━━━━━━\u001b[0m\u001b[37m\u001b[0m \u001b[1m0s\u001b[0m 18ms/step - loss: 21962162.0000 - val_loss: 2203452.0000\n",
            "Epoch 33/100\n",
            "\u001b[1m7/7\u001b[0m \u001b[32m━━━━━━━━━━━━━━━━━━━━\u001b[0m\u001b[37m\u001b[0m \u001b[1m0s\u001b[0m 28ms/step - loss: 19991082.0000 - val_loss: 2230462.2500\n",
            "Epoch 34/100\n",
            "\u001b[1m7/7\u001b[0m \u001b[32m━━━━━━━━━━━━━━━━━━━━\u001b[0m\u001b[37m\u001b[0m \u001b[1m0s\u001b[0m 14ms/step - loss: 15452075.0000 - val_loss: 2259763.7500\n",
            "Epoch 35/100\n",
            "\u001b[1m7/7\u001b[0m \u001b[32m━━━━━━━━━━━━━━━━━━━━\u001b[0m\u001b[37m\u001b[0m \u001b[1m0s\u001b[0m 12ms/step - loss: 20990498.0000 - val_loss: 2294833.7500\n",
            "Epoch 36/100\n",
            "\u001b[1m7/7\u001b[0m \u001b[32m━━━━━━━━━━━━━━━━━━━━\u001b[0m\u001b[37m\u001b[0m \u001b[1m0s\u001b[0m 20ms/step - loss: 18056488.0000 - val_loss: 2336034.2500\n",
            "Epoch 37/100\n",
            "\u001b[1m7/7\u001b[0m \u001b[32m━━━━━━━━━━━━━━━━━━━━\u001b[0m\u001b[37m\u001b[0m \u001b[1m0s\u001b[0m 17ms/step - loss: 19589196.0000 - val_loss: 2380767.5000\n",
            "Epoch 38/100\n",
            "\u001b[1m7/7\u001b[0m \u001b[32m━━━━━━━━━━━━━━━━━━━━\u001b[0m\u001b[37m\u001b[0m \u001b[1m0s\u001b[0m 17ms/step - loss: 19932958.0000 - val_loss: 2431089.0000\n",
            "Epoch 39/100\n",
            "\u001b[1m7/7\u001b[0m \u001b[32m━━━━━━━━━━━━━━━━━━━━\u001b[0m\u001b[37m\u001b[0m \u001b[1m0s\u001b[0m 10ms/step - loss: 18513960.0000 - val_loss: 2473330.2500\n",
            "Epoch 40/100\n",
            "\u001b[1m7/7\u001b[0m \u001b[32m━━━━━━━━━━━━━━━━━━━━\u001b[0m\u001b[37m\u001b[0m \u001b[1m0s\u001b[0m 13ms/step - loss: 19462328.0000 - val_loss: 2533276.7500\n",
            "Epoch 41/100\n",
            "\u001b[1m7/7\u001b[0m \u001b[32m━━━━━━━━━━━━━━━━━━━━\u001b[0m\u001b[37m\u001b[0m \u001b[1m0s\u001b[0m 30ms/step - loss: 12649211.0000 - val_loss: 2574036.7500\n",
            "Epoch 42/100\n",
            "\u001b[1m7/7\u001b[0m \u001b[32m━━━━━━━━━━━━━━━━━━━━\u001b[0m\u001b[37m\u001b[0m \u001b[1m0s\u001b[0m 18ms/step - loss: 15356472.0000 - val_loss: 2613049.7500\n",
            "Epoch 43/100\n",
            "\u001b[1m7/7\u001b[0m \u001b[32m━━━━━━━━━━━━━━━━━━━━\u001b[0m\u001b[37m\u001b[0m \u001b[1m0s\u001b[0m 13ms/step - loss: 17776152.0000 - val_loss: 2673221.2500\n",
            "Epoch 44/100\n",
            "\u001b[1m7/7\u001b[0m \u001b[32m━━━━━━━━━━━━━━━━━━━━\u001b[0m\u001b[37m\u001b[0m \u001b[1m0s\u001b[0m 16ms/step - loss: 12507179.0000 - val_loss: 2735800.2500\n",
            "Epoch 45/100\n",
            "\u001b[1m7/7\u001b[0m \u001b[32m━━━━━━━━━━━━━━━━━━━━\u001b[0m\u001b[37m\u001b[0m \u001b[1m0s\u001b[0m 9ms/step - loss: 19242696.0000 - val_loss: 2836388.2500\n",
            "Epoch 46/100\n",
            "\u001b[1m7/7\u001b[0m \u001b[32m━━━━━━━━━━━━━━━━━━━━\u001b[0m\u001b[37m\u001b[0m \u001b[1m0s\u001b[0m 11ms/step - loss: 18774434.0000 - val_loss: 2892942.0000\n",
            "Epoch 47/100\n",
            "\u001b[1m7/7\u001b[0m \u001b[32m━━━━━━━━━━━━━━━━━━━━\u001b[0m\u001b[37m\u001b[0m \u001b[1m0s\u001b[0m 11ms/step - loss: 20937570.0000 - val_loss: 2931864.2500\n",
            "Epoch 48/100\n",
            "\u001b[1m7/7\u001b[0m \u001b[32m━━━━━━━━━━━━━━━━━━━━\u001b[0m\u001b[37m\u001b[0m \u001b[1m0s\u001b[0m 23ms/step - loss: 14588488.0000 - val_loss: 2970050.7500\n",
            "Epoch 49/100\n",
            "\u001b[1m7/7\u001b[0m \u001b[32m━━━━━━━━━━━━━━━━━━━━\u001b[0m\u001b[37m\u001b[0m \u001b[1m0s\u001b[0m 16ms/step - loss: 16812544.0000 - val_loss: 2996677.0000\n",
            "Epoch 50/100\n",
            "\u001b[1m7/7\u001b[0m \u001b[32m━━━━━━━━━━━━━━━━━━━━\u001b[0m\u001b[37m\u001b[0m \u001b[1m0s\u001b[0m 10ms/step - loss: 20312368.0000 - val_loss: 3036763.2500\n",
            "Epoch 51/100\n",
            "\u001b[1m7/7\u001b[0m \u001b[32m━━━━━━━━━━━━━━━━━━━━\u001b[0m\u001b[37m\u001b[0m \u001b[1m0s\u001b[0m 27ms/step - loss: 16073915.0000 - val_loss: 3040868.0000\n",
            "Epoch 52/100\n",
            "\u001b[1m7/7\u001b[0m \u001b[32m━━━━━━━━━━━━━━━━━━━━\u001b[0m\u001b[37m\u001b[0m \u001b[1m0s\u001b[0m 15ms/step - loss: 19180544.0000 - val_loss: 3043935.0000\n",
            "Epoch 53/100\n",
            "\u001b[1m7/7\u001b[0m \u001b[32m━━━━━━━━━━━━━━━━━━━━\u001b[0m\u001b[37m\u001b[0m \u001b[1m0s\u001b[0m 14ms/step - loss: 18108792.0000 - val_loss: 3067640.0000\n",
            "Epoch 54/100\n",
            "\u001b[1m7/7\u001b[0m \u001b[32m━━━━━━━━━━━━━━━━━━━━\u001b[0m\u001b[37m\u001b[0m \u001b[1m0s\u001b[0m 13ms/step - loss: 18536196.0000 - val_loss: 3093182.7500\n",
            "Epoch 55/100\n",
            "\u001b[1m7/7\u001b[0m \u001b[32m━━━━━━━━━━━━━━━━━━━━\u001b[0m\u001b[37m\u001b[0m \u001b[1m0s\u001b[0m 12ms/step - loss: 20791946.0000 - val_loss: 3125050.7500\n",
            "Epoch 56/100\n",
            "\u001b[1m7/7\u001b[0m \u001b[32m━━━━━━━━━━━━━━━━━━━━\u001b[0m\u001b[37m\u001b[0m \u001b[1m0s\u001b[0m 11ms/step - loss: 20228546.0000 - val_loss: 3133984.7500\n",
            "Epoch 57/100\n",
            "\u001b[1m7/7\u001b[0m \u001b[32m━━━━━━━━━━━━━━━━━━━━\u001b[0m\u001b[37m\u001b[0m \u001b[1m0s\u001b[0m 14ms/step - loss: 20737554.0000 - val_loss: 3150296.0000\n",
            "Epoch 58/100\n",
            "\u001b[1m7/7\u001b[0m \u001b[32m━━━━━━━━━━━━━━━━━━━━\u001b[0m\u001b[37m\u001b[0m \u001b[1m0s\u001b[0m 30ms/step - loss: 15032364.0000 - val_loss: 3129406.7500\n",
            "Epoch 59/100\n",
            "\u001b[1m7/7\u001b[0m \u001b[32m━━━━━━━━━━━━━━━━━━━━\u001b[0m\u001b[37m\u001b[0m \u001b[1m0s\u001b[0m 18ms/step - loss: 14264684.0000 - val_loss: 3120364.7500\n",
            "Epoch 60/100\n",
            "\u001b[1m7/7\u001b[0m \u001b[32m━━━━━━━━━━━━━━━━━━━━\u001b[0m\u001b[37m\u001b[0m \u001b[1m0s\u001b[0m 13ms/step - loss: 19148928.0000 - val_loss: 3107342.7500\n",
            "Epoch 61/100\n",
            "\u001b[1m7/7\u001b[0m \u001b[32m━━━━━━━━━━━━━━━━━━━━\u001b[0m\u001b[37m\u001b[0m \u001b[1m0s\u001b[0m 14ms/step - loss: 12920333.0000 - val_loss: 3117108.2500\n",
            "Epoch 62/100\n",
            "\u001b[1m7/7\u001b[0m \u001b[32m━━━━━━━━━━━━━━━━━━━━\u001b[0m\u001b[37m\u001b[0m \u001b[1m0s\u001b[0m 17ms/step - loss: 16965446.0000 - val_loss: 3132656.7500\n",
            "Epoch 63/100\n",
            "\u001b[1m7/7\u001b[0m \u001b[32m━━━━━━━━━━━━━━━━━━━━\u001b[0m\u001b[37m\u001b[0m \u001b[1m0s\u001b[0m 34ms/step - loss: 12941701.0000 - val_loss: 3153142.7500\n",
            "Epoch 64/100\n",
            "\u001b[1m7/7\u001b[0m \u001b[32m━━━━━━━━━━━━━━━━━━━━\u001b[0m\u001b[37m\u001b[0m \u001b[1m0s\u001b[0m 14ms/step - loss: 12499788.0000 - val_loss: 3168881.2500\n",
            "Epoch 65/100\n",
            "\u001b[1m7/7\u001b[0m \u001b[32m━━━━━━━━━━━━━━━━━━━━\u001b[0m\u001b[37m\u001b[0m \u001b[1m0s\u001b[0m 13ms/step - loss: 15534128.0000 - val_loss: 3198437.2500\n",
            "Epoch 66/100\n",
            "\u001b[1m7/7\u001b[0m \u001b[32m━━━━━━━━━━━━━━━━━━━━\u001b[0m\u001b[37m\u001b[0m \u001b[1m0s\u001b[0m 11ms/step - loss: 21529884.0000 - val_loss: 3244448.0000\n",
            "Epoch 67/100\n",
            "\u001b[1m7/7\u001b[0m \u001b[32m━━━━━━━━━━━━━━━━━━━━\u001b[0m\u001b[37m\u001b[0m \u001b[1m0s\u001b[0m 17ms/step - loss: 21585602.0000 - val_loss: 3246125.2500\n",
            "Epoch 68/100\n",
            "\u001b[1m7/7\u001b[0m \u001b[32m━━━━━━━━━━━━━━━━━━━━\u001b[0m\u001b[37m\u001b[0m \u001b[1m0s\u001b[0m 21ms/step - loss: 16391473.0000 - val_loss: 3216941.0000\n",
            "Epoch 69/100\n",
            "\u001b[1m7/7\u001b[0m \u001b[32m━━━━━━━━━━━━━━━━━━━━\u001b[0m\u001b[37m\u001b[0m \u001b[1m0s\u001b[0m 14ms/step - loss: 11914443.0000 - val_loss: 3193548.2500\n",
            "Epoch 70/100\n",
            "\u001b[1m7/7\u001b[0m \u001b[32m━━━━━━━━━━━━━━━━━━━━\u001b[0m\u001b[37m\u001b[0m \u001b[1m0s\u001b[0m 12ms/step - loss: 16250466.0000 - val_loss: 3202798.0000\n",
            "Epoch 71/100\n",
            "\u001b[1m7/7\u001b[0m \u001b[32m━━━━━━━━━━━━━━━━━━━━\u001b[0m\u001b[37m\u001b[0m \u001b[1m0s\u001b[0m 13ms/step - loss: 17084496.0000 - val_loss: 3212190.2500\n",
            "Epoch 72/100\n",
            "\u001b[1m7/7\u001b[0m \u001b[32m━━━━━━━━━━━━━━━━━━━━\u001b[0m\u001b[37m\u001b[0m \u001b[1m0s\u001b[0m 21ms/step - loss: 16994414.0000 - val_loss: 3213006.7500\n",
            "Epoch 73/100\n",
            "\u001b[1m7/7\u001b[0m \u001b[32m━━━━━━━━━━━━━━━━━━━━\u001b[0m\u001b[37m\u001b[0m \u001b[1m0s\u001b[0m 15ms/step - loss: 16159817.0000 - val_loss: 3226196.0000\n",
            "Epoch 74/100\n",
            "\u001b[1m7/7\u001b[0m \u001b[32m━━━━━━━━━━━━━━━━━━━━\u001b[0m\u001b[37m\u001b[0m \u001b[1m0s\u001b[0m 18ms/step - loss: 14747768.0000 - val_loss: 3287938.2500\n",
            "Epoch 75/100\n",
            "\u001b[1m7/7\u001b[0m \u001b[32m━━━━━━━━━━━━━━━━━━━━\u001b[0m\u001b[37m\u001b[0m \u001b[1m0s\u001b[0m 22ms/step - loss: 15237719.0000 - val_loss: 3322839.2500\n",
            "Epoch 76/100\n",
            "\u001b[1m7/7\u001b[0m \u001b[32m━━━━━━━━━━━━━━━━━━━━\u001b[0m\u001b[37m\u001b[0m \u001b[1m0s\u001b[0m 18ms/step - loss: 13654295.0000 - val_loss: 3326143.7500\n",
            "Epoch 77/100\n",
            "\u001b[1m7/7\u001b[0m \u001b[32m━━━━━━━━━━━━━━━━━━━━\u001b[0m\u001b[37m\u001b[0m \u001b[1m0s\u001b[0m 23ms/step - loss: 15942651.0000 - val_loss: 3385635.2500\n",
            "Epoch 78/100\n",
            "\u001b[1m7/7\u001b[0m \u001b[32m━━━━━━━━━━━━━━━━━━━━\u001b[0m\u001b[37m\u001b[0m \u001b[1m0s\u001b[0m 18ms/step - loss: 13082280.0000 - val_loss: 3382701.2500\n",
            "Epoch 79/100\n",
            "\u001b[1m7/7\u001b[0m \u001b[32m━━━━━━━━━━━━━━━━━━━━\u001b[0m\u001b[37m\u001b[0m \u001b[1m0s\u001b[0m 33ms/step - loss: 16747168.0000 - val_loss: 3392478.0000\n",
            "Epoch 80/100\n",
            "\u001b[1m7/7\u001b[0m \u001b[32m━━━━━━━━━━━━━━━━━━━━\u001b[0m\u001b[37m\u001b[0m \u001b[1m0s\u001b[0m 10ms/step - loss: 20448856.0000 - val_loss: 3439144.7500\n",
            "Epoch 81/100\n",
            "\u001b[1m7/7\u001b[0m \u001b[32m━━━━━━━━━━━━━━━━━━━━\u001b[0m\u001b[37m\u001b[0m \u001b[1m0s\u001b[0m 20ms/step - loss: 17541004.0000 - val_loss: 3446035.2500\n",
            "Epoch 82/100\n",
            "\u001b[1m7/7\u001b[0m \u001b[32m━━━━━━━━━━━━━━━━━━━━\u001b[0m\u001b[37m\u001b[0m \u001b[1m0s\u001b[0m 12ms/step - loss: 12832812.0000 - val_loss: 3432074.7500\n",
            "Epoch 83/100\n",
            "\u001b[1m7/7\u001b[0m \u001b[32m━━━━━━━━━━━━━━━━━━━━\u001b[0m\u001b[37m\u001b[0m \u001b[1m0s\u001b[0m 16ms/step - loss: 13435742.0000 - val_loss: 3396101.0000\n",
            "Epoch 84/100\n",
            "\u001b[1m7/7\u001b[0m \u001b[32m━━━━━━━━━━━━━━━━━━━━\u001b[0m\u001b[37m\u001b[0m \u001b[1m0s\u001b[0m 18ms/step - loss: 16907146.0000 - val_loss: 3370130.0000\n",
            "Epoch 85/100\n",
            "\u001b[1m7/7\u001b[0m \u001b[32m━━━━━━━━━━━━━━━━━━━━\u001b[0m\u001b[37m\u001b[0m \u001b[1m0s\u001b[0m 15ms/step - loss: 12834125.0000 - val_loss: 3349742.7500\n",
            "Epoch 86/100\n",
            "\u001b[1m7/7\u001b[0m \u001b[32m━━━━━━━━━━━━━━━━━━━━\u001b[0m\u001b[37m\u001b[0m \u001b[1m0s\u001b[0m 19ms/step - loss: 16603434.0000 - val_loss: 3353881.0000\n",
            "Epoch 87/100\n",
            "\u001b[1m7/7\u001b[0m \u001b[32m━━━━━━━━━━━━━━━━━━━━\u001b[0m\u001b[37m\u001b[0m \u001b[1m0s\u001b[0m 15ms/step - loss: 10749188.0000 - val_loss: 3353124.0000\n",
            "Epoch 88/100\n",
            "\u001b[1m7/7\u001b[0m \u001b[32m━━━━━━━━━━━━━━━━━━━━\u001b[0m\u001b[37m\u001b[0m \u001b[1m0s\u001b[0m 21ms/step - loss: 15114347.0000 - val_loss: 3419272.0000\n",
            "Epoch 89/100\n",
            "\u001b[1m7/7\u001b[0m \u001b[32m━━━━━━━━━━━━━━━━━━━━\u001b[0m\u001b[37m\u001b[0m \u001b[1m0s\u001b[0m 14ms/step - loss: 16955390.0000 - val_loss: 3423932.7500\n",
            "Epoch 90/100\n",
            "\u001b[1m7/7\u001b[0m \u001b[32m━━━━━━━━━━━━━━━━━━━━\u001b[0m\u001b[37m\u001b[0m \u001b[1m0s\u001b[0m 14ms/step - loss: 12004977.0000 - val_loss: 3370879.2500\n",
            "Epoch 91/100\n",
            "\u001b[1m7/7\u001b[0m \u001b[32m━━━━━━━━━━━━━━━━━━━━\u001b[0m\u001b[37m\u001b[0m \u001b[1m0s\u001b[0m 17ms/step - loss: 14018908.0000 - val_loss: 3381981.2500\n",
            "Epoch 92/100\n",
            "\u001b[1m7/7\u001b[0m \u001b[32m━━━━━━━━━━━━━━━━━━━━\u001b[0m\u001b[37m\u001b[0m \u001b[1m0s\u001b[0m 25ms/step - loss: 13800245.0000 - val_loss: 3381898.2500\n",
            "Epoch 93/100\n",
            "\u001b[1m7/7\u001b[0m \u001b[32m━━━━━━━━━━━━━━━━━━━━\u001b[0m\u001b[37m\u001b[0m \u001b[1m0s\u001b[0m 11ms/step - loss: 21333256.0000 - val_loss: 3445967.2500\n",
            "Epoch 94/100\n",
            "\u001b[1m7/7\u001b[0m \u001b[32m━━━━━━━━━━━━━━━━━━━━\u001b[0m\u001b[37m\u001b[0m \u001b[1m0s\u001b[0m 16ms/step - loss: 16040933.0000 - val_loss: 3456656.7500\n",
            "Epoch 95/100\n",
            "\u001b[1m7/7\u001b[0m \u001b[32m━━━━━━━━━━━━━━━━━━━━\u001b[0m\u001b[37m\u001b[0m \u001b[1m0s\u001b[0m 22ms/step - loss: 15985778.0000 - val_loss: 3447241.2500\n",
            "Epoch 96/100\n",
            "\u001b[1m7/7\u001b[0m \u001b[32m━━━━━━━━━━━━━━━━━━━━\u001b[0m\u001b[37m\u001b[0m \u001b[1m0s\u001b[0m 15ms/step - loss: 13072956.0000 - val_loss: 3403279.7500\n",
            "Epoch 97/100\n",
            "\u001b[1m7/7\u001b[0m \u001b[32m━━━━━━━━━━━━━━━━━━━━\u001b[0m\u001b[37m\u001b[0m \u001b[1m0s\u001b[0m 17ms/step - loss: 16955634.0000 - val_loss: 3393239.2500\n",
            "Epoch 98/100\n",
            "\u001b[1m7/7\u001b[0m \u001b[32m━━━━━━━━━━━━━━━━━━━━\u001b[0m\u001b[37m\u001b[0m \u001b[1m0s\u001b[0m 24ms/step - loss: 14345338.0000 - val_loss: 3463613.2500\n",
            "Epoch 99/100\n",
            "\u001b[1m7/7\u001b[0m \u001b[32m━━━━━━━━━━━━━━━━━━━━\u001b[0m\u001b[37m\u001b[0m \u001b[1m0s\u001b[0m 17ms/step - loss: 16637229.0000 - val_loss: 3495721.2500\n",
            "Epoch 100/100\n",
            "\u001b[1m7/7\u001b[0m \u001b[32m━━━━━━━━━━━━━━━━━━━━\u001b[0m\u001b[37m\u001b[0m \u001b[1m0s\u001b[0m 16ms/step - loss: 17342918.0000 - val_loss: 3492068.7500\n",
            "WARNING:tensorflow:5 out of the last 8 calls to <function TensorFlowTrainer.make_predict_function.<locals>.one_step_on_data_distributed at 0x0000022058E718A0> triggered tf.function retracing. Tracing is expensive and the excessive number of tracings could be due to (1) creating @tf.function repeatedly in a loop, (2) passing tensors with different shapes, (3) passing Python objects instead of tensors. For (1), please define your @tf.function outside of the loop. For (2), @tf.function has reduce_retracing=True option that can avoid unnecessary retracing. For (3), please refer to https://www.tensorflow.org/guide/function#controlling_retracing and https://www.tensorflow.org/api_docs/python/tf/function for  more details.\n"
          ]
        },
        {
          "name": "stderr",
          "output_type": "stream",
          "text": [
            "WARNING:tensorflow:5 out of the last 8 calls to <function TensorFlowTrainer.make_predict_function.<locals>.one_step_on_data_distributed at 0x0000022058E718A0> triggered tf.function retracing. Tracing is expensive and the excessive number of tracings could be due to (1) creating @tf.function repeatedly in a loop, (2) passing tensors with different shapes, (3) passing Python objects instead of tensors. For (1), please define your @tf.function outside of the loop. For (2), @tf.function has reduce_retracing=True option that can avoid unnecessary retracing. For (3), please refer to https://www.tensorflow.org/guide/function#controlling_retracing and https://www.tensorflow.org/api_docs/python/tf/function for  more details.\n"
          ]
        },
        {
          "name": "stdout",
          "output_type": "stream",
          "text": [
            "\u001b[1m1/4\u001b[0m \u001b[32m━━━━━\u001b[0m\u001b[37m━━━━━━━━━━━━━━━\u001b[0m \u001b[1m0s\u001b[0m 62ms/stepWARNING:tensorflow:6 out of the last 11 calls to <function TensorFlowTrainer.make_predict_function.<locals>.one_step_on_data_distributed at 0x0000022058E718A0> triggered tf.function retracing. Tracing is expensive and the excessive number of tracings could be due to (1) creating @tf.function repeatedly in a loop, (2) passing tensors with different shapes, (3) passing Python objects instead of tensors. For (1), please define your @tf.function outside of the loop. For (2), @tf.function has reduce_retracing=True option that can avoid unnecessary retracing. For (3), please refer to https://www.tensorflow.org/guide/function#controlling_retracing and https://www.tensorflow.org/api_docs/python/tf/function for  more details.\n"
          ]
        },
        {
          "name": "stderr",
          "output_type": "stream",
          "text": [
            "WARNING:tensorflow:6 out of the last 11 calls to <function TensorFlowTrainer.make_predict_function.<locals>.one_step_on_data_distributed at 0x0000022058E718A0> triggered tf.function retracing. Tracing is expensive and the excessive number of tracings could be due to (1) creating @tf.function repeatedly in a loop, (2) passing tensors with different shapes, (3) passing Python objects instead of tensors. For (1), please define your @tf.function outside of the loop. For (2), @tf.function has reduce_retracing=True option that can avoid unnecessary retracing. For (3), please refer to https://www.tensorflow.org/guide/function#controlling_retracing and https://www.tensorflow.org/api_docs/python/tf/function for  more details.\n"
          ]
        },
        {
          "name": "stdout",
          "output_type": "stream",
          "text": [
            "\u001b[1m4/4\u001b[0m \u001b[32m━━━━━━━━━━━━━━━━━━━━\u001b[0m\u001b[37m\u001b[0m \u001b[1m0s\u001b[0m 22ms/step\n",
            "\u001b[1m1/1\u001b[0m \u001b[32m━━━━━━━━━━━━━━━━━━━━\u001b[0m\u001b[37m\u001b[0m \u001b[1m0s\u001b[0m 48ms/step\n",
            "\u001b[1m1/1\u001b[0m \u001b[32m━━━━━━━━━━━━━━━━━━━━\u001b[0m\u001b[37m\u001b[0m \u001b[1m0s\u001b[0m 54ms/step - loss: 13906128.0000\n",
            "Test Loss: 13906128.0\n"
          ]
        }
      ],
      "source": [
        "import pandas as pd\n",
        "from sklearn.model_selection import train_test_split\n",
        "from sklearn.preprocessing import LabelEncoder, StandardScaler\n",
        "from tensorflow.keras.models import Sequential\n",
        "from tensorflow.keras.layers import Dense\n",
        "from tensorflow.keras.optimizers import Adam\n",
        "\n",
        "# Load data\n",
        "foodData = pd.read_csv(\"FinalData/IndividualFoodData.csv\")\n",
        "print(foodData)\n",
        "\n",
        "# Encode 'Food' (categorical variable) using LabelEncoder\n",
        "label_encoder = LabelEncoder()\n",
        "foodData['Food'] = label_encoder.fit_transform(foodData['Food'])\n",
        "\n",
        "# Split data into X (features) and Y (target)\n",
        "X = foodData.drop(\"Revenue\", axis=1)\n",
        "Y = foodData[\"Revenue\"]\n",
        "\n",
        "# Normalize data (scaling numeric columns for NN input)\n",
        "scaler = StandardScaler()\n",
        "X[['Date']] = scaler.fit_transform(X[['Date']])  # Scaling Date (numeric)\n",
        "\n",
        "# Split into training and test sets\n",
        "X_train, X_test, Y_train, Y_test = train_test_split(X, Y, test_size=0.2, random_state=42)\n",
        "\n",
        "# Build a simple Neural Network\n",
        "model = Sequential()\n",
        "\n",
        "# Input layer (use the number of features for input layer size)\n",
        "model.add(Dense(64, input_dim=X_train.shape[1], activation='relu'))  # First hidden layer\n",
        "model.add(Dense(32, activation='relu'))  # Second hidden layer\n",
        "model.add(Dense(1))  # Output layer (single value for regression)\n",
        "\n",
        "# Compile the model\n",
        "model.compile(optimizer=Adam(learning_rate=0.001), loss='mean_squared_error')\n",
        "\n",
        "# Train the model\n",
        "model.fit(X_train, Y_train, epochs=100, batch_size=16, validation_split=0.1, verbose=1)\n",
        "\n",
        "# Make predictions on training and test data\n",
        "train_predictions = model.predict(X_train)\n",
        "test_predictions = model.predict(X_test)\n",
        "\n",
        "# Save the model\n",
        "model.save('MlAlgos/neural_network_model.keras')\n",
        "\n",
        "# Evaluate the model on the test set\n",
        "test_loss = model.evaluate(X_test, Y_test)\n",
        "print(f\"Test Loss: {test_loss}\")\n",
        "\n"
      ]
    }
  ],
  "metadata": {
    "colab": {
      "authorship_tag": "ABX9TyNkvNX2HtaXVuXRe8bSEvO/",
      "include_colab_link": true,
      "provenance": []
    },
    "kernelspec": {
      "display_name": "Python 3",
      "name": "python3"
    },
    "language_info": {
      "name": "python"
    }
  },
  "nbformat": 4,
  "nbformat_minor": 0
}
