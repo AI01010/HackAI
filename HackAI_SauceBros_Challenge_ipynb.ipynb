{
  "cells": [
    {
      "cell_type": "markdown",
      "metadata": {
        "colab_type": "text",
        "id": "view-in-github"
      },
      "source": [
        "<a href=\"https://colab.research.google.com/github/AI01010/HackAI/blob/main/HackAI_SauceBros_Challenge_ipynb.ipynb\" target=\"_parent\"><img src=\"https://colab.research.google.com/assets/colab-badge.svg\" alt=\"Open In Colab\"/></a>"
      ]
    },
    {
      "cell_type": "markdown",
      "metadata": {
        "id": "UQd5QXXtvoZ8"
      },
      "source": [
        "# Importing Necessary Libraries"
      ]
    },
    {
      "cell_type": "code",
      "execution_count": 4,
      "metadata": {
        "id": "NMY-dKpZsAb3"
      },
      "outputs": [],
      "source": [
        "import pandas as pd\n",
        "import numpy as np\n",
        "import matplotlib.pyplot as plt\n",
        "import seaborn as sns"
      ]
    },
    {
      "cell_type": "markdown",
      "metadata": {
        "id": "4vuTP5zovxe0"
      },
      "source": [
        "# Loading Dataset"
      ]
    },
    {
      "cell_type": "code",
      "execution_count": 2,
      "metadata": {
        "colab": {
          "base_uri": "https://localhost:8080/"
        },
        "id": "XHINDSXjv1ic",
        "outputId": "4c5019aa-19ae-4782-9987-bf30446c7048"
      },
      "outputs": [
        {
          "ename": "ModuleNotFoundError",
          "evalue": "No module named 'google.colab'",
          "output_type": "error",
          "traceback": [
            "\u001b[1;31m---------------------------------------------------------------------------\u001b[0m",
            "\u001b[1;31mModuleNotFoundError\u001b[0m                       Traceback (most recent call last)",
            "Cell \u001b[1;32mIn[2], line 2\u001b[0m\n\u001b[0;32m      1\u001b[0m \u001b[38;5;66;03m#Mounting the drive\u001b[39;00m\n\u001b[1;32m----> 2\u001b[0m \u001b[38;5;28;01mfrom\u001b[39;00m \u001b[38;5;21;01mgoogle\u001b[39;00m\u001b[38;5;21;01m.\u001b[39;00m\u001b[38;5;21;01mcolab\u001b[39;00m \u001b[38;5;28;01mimport\u001b[39;00m drive\n\u001b[0;32m      3\u001b[0m drive\u001b[38;5;241m.\u001b[39mmount(\u001b[38;5;124m'\u001b[39m\u001b[38;5;124m/content/drive\u001b[39m\u001b[38;5;124m'\u001b[39m)\n",
            "\u001b[1;31mModuleNotFoundError\u001b[0m: No module named 'google.colab'"
          ]
        }
      ],
      "source": [
        "#Mounting the drive\n",
        "from google.colab import drive\n",
        "drive.mount('/content/drive')"
      ]
    },
    {
      "cell_type": "code",
      "execution_count": null,
      "metadata": {
        "id": "MRTQAg4L0FdT"
      },
      "outputs": [],
      "source": [
        "file_path_menu_breakdown = '/content/drive/My Drive/menu-breakdown-jan1-dec31-2023.csv'\n",
        "df_menu_breakdown = pd.read_csv(file_path_menu_breakdown)\n",
        "\n",
        "file_path_sales_2025 =  '/content/drive/My Drive/sales-by-date-jan1-apr18-2025.csv'\n",
        "df_sales_2025 = pd.read_csv(file_path_sales_2025)\n",
        "\n",
        "file_path_sales_2023_part1 = '/content/drive/My Drive/sales-by-date-jan1-dec31-2023.csv'\n",
        "df_sales_2023_part1 = pd.read_csv(file_path_sales_2023_part1)\n",
        "\n",
        "file_path_sales_2023_part2 = '/content/drive/My Drive/sales-by-date-jan1-dec31-2023 (1).csv'\n",
        "df_sales_2023_part2 = pd.read_csv(file_path_sales_2023_part2)\n",
        "\n",
        "file_path_sales_2024 = '/content/drive/My Drive/sales-by-date-jan1-dec31-2024.csv'\n",
        "df_sales_2024 = pd.read_csv(file_path_sales_2024)\n",
        "\n",
        "file_path_sales_time_2023 = '/content/drive/My Drive/sales-by-time-jan1-dec31-2023.csv'\n",
        "df_sales_time_2023 = pd.read_csv(file_path_sales_time_2023)\n",
        "\n",
        "file_path_sales_time_2024 = '/content/drive/My Drive/sales-by-time-jan1-dec31-2024.csv'\n",
        "df_sales_time_2024 = pd.read_csv(file_path_sales_time_2024)\n",
        "\n",
        "file_path_sales_time_2025 = '/content/drive/My Drive/sales-by-time-jan1-apr18-2025.csv'\n",
        "df_sales_time_2025 = pd.read_csv(file_path_sales_time_2025)\n",
        "\n",
        "file_path_sales_item_2023 = '/content/drive/My Drive/Item Sales 2023-01-01 - 2023-12-31.csv'\n",
        "df_sales_item_2023_copy = pd.read_csv(file_path_sales_item_2023)\n",
        "\n",
        "file_path_sales_item_2024 ='/content/drive/My Drive/Item Sales 2024-01-01 - 2024-12-31.csv'\n",
        "df_sales_item_2024 = pd.read_csv(file_path_sales_item_2024)\n",
        "\n",
        "\n"
      ]
    },
    {
      "cell_type": "markdown",
      "metadata": {
        "id": "aneAox656R_8"
      },
      "source": [
        "#Data Overview"
      ]
    },
    {
      "cell_type": "code",
      "execution_count": null,
      "metadata": {
        "colab": {
          "base_uri": "https://localhost:8080/"
        },
        "id": "FVH5vp0_6UPl",
        "outputId": "f2866357-6435-4f89-af92-6ee3db3c9554"
      },
      "outputs": [
        {
          "name": "stdout",
          "output_type": "stream",
          "text": [
            "                          Sales Category       Item Name  Modifier  \\\n",
            "No Sales Category                    NaN             NaN       NaN   \n",
            "No Sales Category  Naga Habanero Chicken             NaN       NaN   \n",
            "No Sales Category  Naga Habanero Chicken  light cilantro       NaN   \n",
            "No Sales Category  Naga Habanero Chicken        Jalapeno       NaN   \n",
            "No Sales Category  Naga Habanero Chicken       Pepperoni       NaN   \n",
            "...                                  ...             ...       ...   \n",
            "Pizza                          Hot Honey             NaN       NaN   \n",
            "Pizza                 Red Peppers Bags 3             NaN       NaN   \n",
            "Pizza                         Side Basil             NaN       NaN   \n",
            "Pizza                      Side Cilantro             NaN       NaN   \n",
            "Pizza                            Soda 2L             NaN       NaN   \n",
            "\n",
            "                   Unnamed: 3  Avg Price  Quantity  Gross Sales  \\\n",
            "No Sales Category   16.230000     5119.0  83106.70          0.0   \n",
            "No Sales Category   22.333365      542.0  12025.89          0.0   \n",
            "No Sales Category         NaN        1.0      0.00          0.0   \n",
            "No Sales Category         NaN       15.0     14.85          0.0   \n",
            "No Sales Category         NaN       12.0     35.88          0.0   \n",
            "...                       ...        ...       ...          ...   \n",
            "Pizza                1.629344       81.0    129.19          0.4   \n",
            "Pizza                0.840000        7.0      6.13          0.0   \n",
            "Pizza                0.500000        1.0      0.50          0.0   \n",
            "Pizza                0.500000        1.0      0.50          0.0   \n",
            "Pizza                3.990000       10.0     39.90          0.0   \n",
            "\n",
            "                   Discount Amount  Net Sales  \n",
            "No Sales Category         83106.70        NaN  \n",
            "No Sales Category         12025.89        NaN  \n",
            "No Sales Category             0.00        NaN  \n",
            "No Sales Category            14.85        NaN  \n",
            "No Sales Category            35.88        NaN  \n",
            "...                            ...        ...  \n",
            "Pizza                       126.80        NaN  \n",
            "Pizza                         6.13        NaN  \n",
            "Pizza                         0.50        NaN  \n",
            "Pizza                         0.50        NaN  \n",
            "Pizza                        39.90        NaN  \n",
            "\n",
            "[1237 rows x 9 columns]\n"
          ]
        }
      ],
      "source": [
        "print(df_menu_breakdown)"
      ]
    },
    {
      "cell_type": "code",
      "execution_count": null,
      "metadata": {
        "colab": {
          "base_uri": "https://localhost:8080/"
        },
        "id": "0iCqX-3l6aBZ",
        "outputId": "de7c9f1a-6d5f-470d-f10d-5b961a0181ba"
      },
      "outputs": [
        {
          "name": "stdout",
          "output_type": "stream",
          "text": [
            "                          Sales Category       Item Name  Modifier  \\\n",
            "No Sales Category                    NaN             NaN       NaN   \n",
            "No Sales Category  Naga Habanero Chicken             NaN       NaN   \n",
            "No Sales Category  Naga Habanero Chicken  light cilantro       NaN   \n",
            "No Sales Category  Naga Habanero Chicken        Jalapeno       NaN   \n",
            "No Sales Category  Naga Habanero Chicken       Pepperoni       NaN   \n",
            "...                                  ...             ...       ...   \n",
            "Pizza                          Hot Honey             NaN       NaN   \n",
            "Pizza                 Red Peppers Bags 3             NaN       NaN   \n",
            "Pizza                         Side Basil             NaN       NaN   \n",
            "Pizza                      Side Cilantro             NaN       NaN   \n",
            "Pizza                            Soda 2L             NaN       NaN   \n",
            "\n",
            "                   Unnamed: 3  Avg Price  Quantity  Gross Sales  \\\n",
            "No Sales Category   16.230000     5119.0  83106.70          0.0   \n",
            "No Sales Category   22.333365      542.0  12025.89          0.0   \n",
            "No Sales Category         NaN        1.0      0.00          0.0   \n",
            "No Sales Category         NaN       15.0     14.85          0.0   \n",
            "No Sales Category         NaN       12.0     35.88          0.0   \n",
            "...                       ...        ...       ...          ...   \n",
            "Pizza                1.629344       81.0    129.19          0.4   \n",
            "Pizza                0.840000        7.0      6.13          0.0   \n",
            "Pizza                0.500000        1.0      0.50          0.0   \n",
            "Pizza                0.500000        1.0      0.50          0.0   \n",
            "Pizza                3.990000       10.0     39.90          0.0   \n",
            "\n",
            "                   Discount Amount  \n",
            "No Sales Category         83106.70  \n",
            "No Sales Category         12025.89  \n",
            "No Sales Category             0.00  \n",
            "No Sales Category            14.85  \n",
            "No Sales Category            35.88  \n",
            "...                            ...  \n",
            "Pizza                       126.80  \n",
            "Pizza                         6.13  \n",
            "Pizza                         0.50  \n",
            "Pizza                         0.50  \n",
            "Pizza                        39.90  \n",
            "\n",
            "[1237 rows x 8 columns]\n"
          ]
        }
      ],
      "source": [
        "df_menu_breakdown_cleaned = df_menu_breakdown.copy()\n",
        "for col in df_menu_breakdown.columns:\n",
        "    if df_menu_breakdown[col].isnull().all():\n",
        "        df_menu_breakdown_cleaned = df_menu_breakdown_cleaned.drop(col, axis=1)\n",
        "\n",
        "print(df_menu_breakdown_cleaned)"
      ]
    },
    {
      "cell_type": "markdown",
      "metadata": {
        "id": "pwcreZs0noQB"
      },
      "source": [
        "#Sales by Date"
      ]
    },
    {
      "cell_type": "code",
      "execution_count": null,
      "metadata": {
        "colab": {
          "base_uri": "https://localhost:8080/"
        },
        "id": "JuSX2DWOQ-eR",
        "outputId": "3eafaa48-92fa-4465-f907-c735cb81b66c"
      },
      "outputs": [
        {
          "name": "stdout",
          "output_type": "stream",
          "text": [
            "<class 'pandas.core.frame.DataFrame'>\n",
            "Index: 108 entries, 01/01/2025 to 04/18/2025\n",
            "Data columns (total 4 columns):\n",
            " #   Column     Non-Null Count  Dtype         \n",
            "---  ------     --------------  -----         \n",
            " 0   Date       108 non-null    datetime64[ns]\n",
            " 1   Net Sales  108 non-null    int64         \n",
            " 2   Orders     108 non-null    int64         \n",
            " 3   Guests     0 non-null      float64       \n",
            "dtypes: datetime64[ns](1), float64(1), int64(2)\n",
            "memory usage: 8.3+ KB\n",
            "None\n",
            "                                    Date  Net Sales  Orders  Guests\n",
            "01/01/2025 1970-01-01 00:00:00.000000000          0       0     NaN\n",
            "01/02/2025 1970-01-01 00:00:00.000000347         11      11     NaN\n",
            "01/03/2025 1970-01-01 00:00:00.000000871         18      18     NaN\n",
            "01/04/2025 1970-01-01 00:00:00.000000447         15      15     NaN\n",
            "01/05/2025 1970-01-01 00:00:00.000000823         25      25     NaN\n",
            "...                                  ...        ...     ...     ...\n",
            "04/14/2025 1970-01-01 00:00:00.000000000          0       0     NaN\n",
            "04/15/2025 1970-01-01 00:00:00.000000669         24      24     NaN\n",
            "04/16/2025 1970-01-01 00:00:00.000000458         15      15     NaN\n",
            "04/17/2025 1970-01-01 00:00:00.000000784         26      26     NaN\n",
            "04/18/2025 1970-01-01 00:00:00.000001158         36      36     NaN\n",
            "\n",
            "[108 rows x 4 columns]\n"
          ]
        }
      ],
      "source": [
        "print(df_sales_2025.info())\n",
        "print(df_sales_2025)"
      ]
    },
    {
      "cell_type": "code",
      "execution_count": null,
      "metadata": {
        "colab": {
          "base_uri": "https://localhost:8080/"
        },
        "id": "nWTLEYINWvwY",
        "outputId": "d5af2df4-c09c-47a5-9f94-17457e684846"
      },
      "outputs": [
        {
          "name": "stdout",
          "output_type": "stream",
          "text": [
            "<class 'pandas.core.frame.DataFrame'>\n",
            "Index: 108 entries, 01/01/2025 to 04/18/2025\n",
            "Data columns (total 4 columns):\n",
            " #   Column     Non-Null Count  Dtype         \n",
            "---  ------     --------------  -----         \n",
            " 0   Date       108 non-null    datetime64[ns]\n",
            " 1   Net Sales  108 non-null    int64         \n",
            " 2   Orders     108 non-null    int64         \n",
            " 3   Guests     0 non-null      float64       \n",
            "dtypes: datetime64[ns](1), float64(1), int64(2)\n",
            "memory usage: 8.3+ KB\n",
            "None\n",
            "                                    Date  Net Sales  Orders  Guests\n",
            "01/01/2025 1970-01-01 00:00:00.000000000          0       0     NaN\n",
            "01/02/2025 1970-01-01 00:00:00.000000347         11      11     NaN\n",
            "01/03/2025 1970-01-01 00:00:00.000000871         18      18     NaN\n",
            "01/04/2025 1970-01-01 00:00:00.000000447         15      15     NaN\n",
            "01/05/2025 1970-01-01 00:00:00.000000823         25      25     NaN\n",
            "...                                  ...        ...     ...     ...\n",
            "04/14/2025 1970-01-01 00:00:00.000000000          0       0     NaN\n",
            "04/15/2025 1970-01-01 00:00:00.000000669         24      24     NaN\n",
            "04/16/2025 1970-01-01 00:00:00.000000458         15      15     NaN\n",
            "04/17/2025 1970-01-01 00:00:00.000000784         26      26     NaN\n",
            "04/18/2025 1970-01-01 00:00:00.000001158         36      36     NaN\n",
            "\n",
            "[108 rows x 4 columns]\n"
          ]
        }
      ],
      "source": [
        "df_sales_2025['Date'] = pd.to_datetime(df_sales_2025['Date'])\n",
        "print(df_sales_2025.info())\n",
        "print(df_sales_2025)"
      ]
    },
    {
      "cell_type": "code",
      "execution_count": null,
      "metadata": {
        "id": "pPoKbC21POMs"
      },
      "outputs": [],
      "source": [
        "df_sales_2025.to_csv('sales_2025_cleaned.csv', index=False)"
      ]
    },
    {
      "cell_type": "code",
      "execution_count": null,
      "metadata": {
        "colab": {
          "base_uri": "https://localhost:8080/"
        },
        "id": "wgetMbONYpKk",
        "outputId": "8584ebb6-137d-44a5-9991-267e9c6563b8"
      },
      "outputs": [
        {
          "name": "stdout",
          "output_type": "stream",
          "text": [
            "<class 'pandas.core.frame.DataFrame'>\n",
            "Index: 365 entries, 01/01/2023 to 12/31/2023\n",
            "Data columns (total 4 columns):\n",
            " #   Column     Non-Null Count  Dtype         \n",
            "---  ------     --------------  -----         \n",
            " 0   Date       365 non-null    datetime64[ns]\n",
            " 1   Net Sales  365 non-null    int64         \n",
            " 2   Orders     365 non-null    int64         \n",
            " 3   Guests     0 non-null      float64       \n",
            "dtypes: datetime64[ns](1), float64(1), int64(2)\n",
            "memory usage: 14.3+ KB\n",
            "None\n",
            "                                    Date  Net Sales  Orders  Guests\n",
            "01/01/2023 1970-01-01 00:00:00.000000493         15      15     NaN\n",
            "01/02/2023 1970-01-01 00:00:00.000000000          0       0     NaN\n",
            "01/03/2023 1970-01-01 00:00:00.000000360         12      12     NaN\n",
            "01/04/2023 1970-01-01 00:00:00.000000254          9       9     NaN\n",
            "01/05/2023 1970-01-01 00:00:00.000000405         16      16     NaN\n",
            "...                                  ...        ...     ...     ...\n",
            "12/27/2023 1970-01-01 00:00:00.000000672         17      17     NaN\n",
            "12/28/2023 1970-01-01 00:00:00.000000878         24      24     NaN\n",
            "12/29/2023 1970-01-01 00:00:00.000001284         32      32     NaN\n",
            "12/30/2023 1970-01-01 00:00:00.000001417         43      43     NaN\n",
            "12/31/2023 1970-01-01 00:00:00.000001136         31      31     NaN\n",
            "\n",
            "[365 rows x 4 columns]\n"
          ]
        }
      ],
      "source": [
        "print(df_sales_2023_part1.info())\n",
        "print(df_sales_2023_part1)"
      ]
    },
    {
      "cell_type": "code",
      "execution_count": null,
      "metadata": {
        "colab": {
          "base_uri": "https://localhost:8080/"
        },
        "id": "T-3aBpwlYxsd",
        "outputId": "1b3f9e2c-c983-4681-bc82-1051e1d0d49c"
      },
      "outputs": [
        {
          "name": "stdout",
          "output_type": "stream",
          "text": [
            "<class 'pandas.core.frame.DataFrame'>\n",
            "Index: 365 entries, 01/01/2023 to 12/31/2023\n",
            "Data columns (total 4 columns):\n",
            " #   Column     Non-Null Count  Dtype         \n",
            "---  ------     --------------  -----         \n",
            " 0   Date       365 non-null    datetime64[ns]\n",
            " 1   Net Sales  365 non-null    int64         \n",
            " 2   Orders     365 non-null    int64         \n",
            " 3   Guests     0 non-null      float64       \n",
            "dtypes: datetime64[ns](1), float64(1), int64(2)\n",
            "memory usage: 14.3+ KB\n",
            "None\n",
            "                                    Date  Net Sales  Orders  Guests\n",
            "01/01/2023 1970-01-01 00:00:00.000000493         15      15     NaN\n",
            "01/02/2023 1970-01-01 00:00:00.000000000          0       0     NaN\n",
            "01/03/2023 1970-01-01 00:00:00.000000360         12      12     NaN\n",
            "01/04/2023 1970-01-01 00:00:00.000000254          9       9     NaN\n",
            "01/05/2023 1970-01-01 00:00:00.000000405         16      16     NaN\n",
            "...                                  ...        ...     ...     ...\n",
            "12/27/2023 1970-01-01 00:00:00.000000672         17      17     NaN\n",
            "12/28/2023 1970-01-01 00:00:00.000000878         24      24     NaN\n",
            "12/29/2023 1970-01-01 00:00:00.000001284         32      32     NaN\n",
            "12/30/2023 1970-01-01 00:00:00.000001417         43      43     NaN\n",
            "12/31/2023 1970-01-01 00:00:00.000001136         31      31     NaN\n",
            "\n",
            "[365 rows x 4 columns]\n"
          ]
        }
      ],
      "source": [
        "df_sales_2023_part1['Date'] = pd.to_datetime(df_sales_2023_part1['Date'])\n",
        "print(df_sales_2023_part1.info())\n",
        "print(df_sales_2023_part1)"
      ]
    },
    {
      "cell_type": "code",
      "execution_count": null,
      "metadata": {
        "id": "T0dR2k-LPJdx"
      },
      "outputs": [],
      "source": [
        "df_sales_2023_part1.to_csv('sales_2023_part1_cleaned.csv', index=False)"
      ]
    },
    {
      "cell_type": "code",
      "execution_count": null,
      "metadata": {
        "colab": {
          "base_uri": "https://localhost:8080/"
        },
        "id": "95AkMP3yb_Wd",
        "outputId": "e8c706f1-9f61-437e-b4bb-57b91d23b3dc"
      },
      "outputs": [
        {
          "name": "stdout",
          "output_type": "stream",
          "text": [
            "<class 'pandas.core.frame.DataFrame'>\n",
            "Index: 365 entries, 01/01/2023 to 12/31/2023\n",
            "Data columns (total 4 columns):\n",
            " #   Column     Non-Null Count  Dtype         \n",
            "---  ------     --------------  -----         \n",
            " 0   Date       365 non-null    datetime64[ns]\n",
            " 1   Net Sales  365 non-null    int64         \n",
            " 2   Orders     365 non-null    int64         \n",
            " 3   Guests     0 non-null      float64       \n",
            "dtypes: datetime64[ns](1), float64(1), int64(2)\n",
            "memory usage: 14.3+ KB\n",
            "None\n"
          ]
        }
      ],
      "source": [
        "df_sales_2023_part2['Date'] = pd.to_datetime(df_sales_2023_part2['Date'])\n",
        "print(df_sales_2023_part2.info())"
      ]
    },
    {
      "cell_type": "code",
      "execution_count": null,
      "metadata": {
        "id": "84cEZj0xOyPK"
      },
      "outputs": [],
      "source": [
        "df_sales_2023_part2.to_csv('sales_2023_part2_cleaned.csv', index=False)"
      ]
    },
    {
      "cell_type": "code",
      "execution_count": null,
      "metadata": {
        "colab": {
          "base_uri": "https://localhost:8080/"
        },
        "id": "AdVP55kbfE36",
        "outputId": "d1390ef7-d36f-49e9-fc3b-576613d3e625"
      },
      "outputs": [
        {
          "name": "stdout",
          "output_type": "stream",
          "text": [
            "<class 'pandas.core.frame.DataFrame'>\n",
            "Index: 366 entries, 01/01/2024 to 12/31/2024\n",
            "Data columns (total 4 columns):\n",
            " #   Column     Non-Null Count  Dtype  \n",
            "---  ------     --------------  -----  \n",
            " 0   Date       366 non-null    float64\n",
            " 1   Net Sales  366 non-null    int64  \n",
            " 2   Orders     366 non-null    int64  \n",
            " 3   Guests     0 non-null      float64\n",
            "dtypes: float64(2), int64(2)\n",
            "memory usage: 14.3+ KB\n",
            "None\n",
            "              Date  Net Sales  Orders  Guests\n",
            "01/01/2024    0.00          0       0     NaN\n",
            "01/02/2024  656.12         19      19     NaN\n",
            "01/03/2024  666.52         17      17     NaN\n",
            "01/04/2024  373.35         12      12     NaN\n",
            "01/05/2024  817.98         24      24     NaN\n",
            "...            ...        ...     ...     ...\n",
            "12/27/2024  769.41         20      20     NaN\n",
            "12/28/2024  759.91         23      23     NaN\n",
            "12/29/2024  961.75         16      16     NaN\n",
            "12/30/2024    0.00          0       0     NaN\n",
            "12/31/2024  623.86         16      16     NaN\n",
            "\n",
            "[366 rows x 4 columns]\n"
          ]
        }
      ],
      "source": [
        "print(df_sales_2024.info())\n",
        "print(df_sales_2024)"
      ]
    },
    {
      "cell_type": "code",
      "execution_count": null,
      "metadata": {
        "colab": {
          "base_uri": "https://localhost:8080/"
        },
        "id": "Wq2h8N7zg7hR",
        "outputId": "9128584f-110a-41df-ff05-08f2ee9bb5f0"
      },
      "outputs": [
        {
          "name": "stdout",
          "output_type": "stream",
          "text": [
            "<class 'pandas.core.frame.DataFrame'>\n",
            "Index: 366 entries, 01/01/2024 to 12/31/2024\n",
            "Data columns (total 4 columns):\n",
            " #   Column     Non-Null Count  Dtype         \n",
            "---  ------     --------------  -----         \n",
            " 0   Date       366 non-null    datetime64[ns]\n",
            " 1   Net Sales  366 non-null    int64         \n",
            " 2   Orders     366 non-null    int64         \n",
            " 3   Guests     0 non-null      float64       \n",
            "dtypes: datetime64[ns](1), float64(1), int64(2)\n",
            "memory usage: 14.3+ KB\n",
            "None\n"
          ]
        }
      ],
      "source": [
        "df_sales_2024['Date'] = pd.to_datetime(df_sales_2024['Date'])\n",
        "print(df_sales_2024.info())"
      ]
    },
    {
      "cell_type": "code",
      "execution_count": null,
      "metadata": {
        "id": "QbWUnpXXOqJl"
      },
      "outputs": [],
      "source": [
        "df_sales_2024.to_csv('sales_2024_cleaned.csv', index=False)"
      ]
    },
    {
      "cell_type": "markdown",
      "metadata": {
        "id": "F71UhjJOnsG5"
      },
      "source": [
        "#Sales by Time"
      ]
    },
    {
      "cell_type": "code",
      "execution_count": null,
      "metadata": {
        "colab": {
          "base_uri": "https://localhost:8080/"
        },
        "id": "DVEs9JvQn45k",
        "outputId": "7714fa8e-9c6d-4e63-eb92-e456f2378707"
      },
      "outputs": [
        {
          "name": "stdout",
          "output_type": "stream",
          "text": [
            "<class 'pandas.core.frame.DataFrame'>\n",
            "Index: 16 entries, 12:00 AM to 11:00 PM\n",
            "Data columns (total 4 columns):\n",
            " #   Column     Non-Null Count  Dtype  \n",
            "---  ------     --------------  -----  \n",
            " 0   Time       16 non-null     float64\n",
            " 1   Net Sales  16 non-null     int64  \n",
            " 2   Orders     16 non-null     int64  \n",
            " 3   Guests     0 non-null      float64\n",
            "dtypes: float64(2), int64(2)\n",
            "memory usage: 640.0+ bytes\n"
          ]
        }
      ],
      "source": [
        "df_sales_time_2023.info()"
      ]
    },
    {
      "cell_type": "code",
      "execution_count": null,
      "metadata": {
        "colab": {
          "base_uri": "https://localhost:8080/"
        },
        "id": "-FnWZdhovhWD",
        "outputId": "22dee4e0-eae9-415e-a811-ca1ab22b2791"
      },
      "outputs": [
        {
          "name": "stdout",
          "output_type": "stream",
          "text": [
            "<class 'pandas.core.frame.DataFrame'>\n",
            "Index: 16 entries, 12:00 AM to 11:00 PM\n",
            "Data columns (total 4 columns):\n",
            " #   Column     Non-Null Count  Dtype         \n",
            "---  ------     --------------  -----         \n",
            " 0   Time       16 non-null     datetime64[ns]\n",
            " 1   Net Sales  16 non-null     int64         \n",
            " 2   Orders     16 non-null     int64         \n",
            " 3   Guests     0 non-null      float64       \n",
            "dtypes: datetime64[ns](1), float64(1), int64(2)\n",
            "memory usage: 640.0+ bytes\n",
            "None\n",
            "                                  Time  Net Sales  Orders  Guests\n",
            "12:00 AM 1970-01-01 00:00:00.000000380         18      18     NaN\n",
            "3:00 AM  1970-01-01 00:00:00.000000035          1       1     NaN\n",
            "5:00 AM  1970-01-01 00:00:00.000000025          1       1     NaN\n",
            "11:00 AM 1970-01-01 00:00:00.000000383         12      12     NaN\n",
            "12:00 PM 1970-01-01 00:00:00.000008077        242     242     NaN\n",
            "1:00 PM  1970-01-01 00:00:00.000006282        217     217     NaN\n",
            "2:00 PM  1970-01-01 00:00:00.000007907        244     244     NaN\n",
            "3:00 PM  1970-01-01 00:00:00.000011849        382     382     NaN\n",
            "4:00 PM  1970-01-01 00:00:00.000017227        520     520     NaN\n",
            "5:00 PM  1970-01-01 00:00:00.000031480        882     882     NaN\n",
            "6:00 PM  1970-01-01 00:00:00.000037710       1098    1098     NaN\n",
            "7:00 PM  1970-01-01 00:00:00.000033278        986     986     NaN\n",
            "8:00 PM  1970-01-01 00:00:00.000023993        757     757     NaN\n",
            "9:00 PM  1970-01-01 00:00:00.000018345        604     604     NaN\n",
            "10:00 PM 1970-01-01 00:00:00.000009742        316     316     NaN\n",
            "11:00 PM 1970-01-01 00:00:00.000002264         88      88     NaN\n"
          ]
        }
      ],
      "source": [
        "df_sales_time_2023['Time'] = pd.to_datetime(df_sales_time_2023['Time'])\n",
        "print(df_sales_time_2023.info())\n",
        "print(df_sales_time_2023)\n",
        "\n"
      ]
    },
    {
      "cell_type": "code",
      "execution_count": null,
      "metadata": {
        "id": "vhPvkwWxOlZ_"
      },
      "outputs": [],
      "source": [
        "df_sales_time_2023.to_csv('sales_time_2023_cleaned.csv', index=False)"
      ]
    },
    {
      "cell_type": "code",
      "execution_count": null,
      "metadata": {
        "colab": {
          "base_uri": "https://localhost:8080/"
        },
        "id": "zHY9BWbf0Bqx",
        "outputId": "7460b58f-0f11-4734-9221-18aec4130327"
      },
      "outputs": [
        {
          "name": "stdout",
          "output_type": "stream",
          "text": [
            "<class 'pandas.core.frame.DataFrame'>\n",
            "Index: 19 entries, 12:00 AM to 11:00 PM\n",
            "Data columns (total 4 columns):\n",
            " #   Column     Non-Null Count  Dtype         \n",
            "---  ------     --------------  -----         \n",
            " 0   Time       19 non-null     datetime64[ns]\n",
            " 1   Net Sales  19 non-null     int64         \n",
            " 2   Orders     19 non-null     int64         \n",
            " 3   Guests     0 non-null      float64       \n",
            "dtypes: datetime64[ns](1), float64(1), int64(2)\n",
            "memory usage: 760.0+ bytes\n",
            "None\n",
            "                                  Time  Net Sales  Orders  Guests\n",
            "12:00 AM 1970-01-01 00:00:00.000000098          3       3     NaN\n",
            "1:00 AM  1970-01-01 00:00:00.000000029          1       1     NaN\n",
            "3:00 AM  1970-01-01 00:00:00.000000071          1       1     NaN\n",
            "4:00 AM  1970-01-01 00:00:00.000000033          1       1     NaN\n",
            "7:00 AM  1970-01-01 00:00:00.000000242          1       1     NaN\n",
            "10:00 AM 1970-01-01 00:00:00.000000024          1       1     NaN\n",
            "11:00 AM 1970-01-01 00:00:00.000000773         20      20     NaN\n",
            "12:00 PM 1970-01-01 00:00:00.000009594        247     247     NaN\n",
            "1:00 PM  1970-01-01 00:00:00.000007811        202     202     NaN\n",
            "2:00 PM  1970-01-01 00:00:00.000011856        247     247     NaN\n",
            "3:00 PM  1970-01-01 00:00:00.000013926        398     398     NaN\n",
            "4:00 PM  1970-01-01 00:00:00.000016769        468     468     NaN\n",
            "5:00 PM  1970-01-01 00:00:00.000029609        777     777     NaN\n",
            "6:00 PM  1970-01-01 00:00:00.000038158       1045    1045     NaN\n",
            "7:00 PM  1970-01-01 00:00:00.000033700        950     950     NaN\n",
            "8:00 PM  1970-01-01 00:00:00.000024683        773     773     NaN\n",
            "9:00 PM  1970-01-01 00:00:00.000019813        674     674     NaN\n",
            "10:00 PM 1970-01-01 00:00:00.000010309        393     393     NaN\n",
            "11:00 PM 1970-01-01 00:00:00.000002011         83      83     NaN\n"
          ]
        }
      ],
      "source": [
        "df_sales_time_2024['Time'] = pd.to_datetime(df_sales_time_2024['Time'])\n",
        "print(df_sales_time_2024.info())\n",
        "print(df_sales_time_2024)"
      ]
    },
    {
      "cell_type": "code",
      "execution_count": null,
      "metadata": {
        "id": "oIokSBpeNxO_"
      },
      "outputs": [],
      "source": [
        "df_sales_time_2024.to_csv('sales_time_2024_cleaned.csv', index=False)"
      ]
    },
    {
      "cell_type": "code",
      "execution_count": null,
      "metadata": {
        "colab": {
          "base_uri": "https://localhost:8080/"
        },
        "id": "KMoH_9gY0x4l",
        "outputId": "db39ccdb-7feb-4594-f651-173718a3c2cb"
      },
      "outputs": [
        {
          "name": "stdout",
          "output_type": "stream",
          "text": [
            "<class 'pandas.core.frame.DataFrame'>\n",
            "Index: 16 entries, 12:00 AM to 11:00 PM\n",
            "Data columns (total 4 columns):\n",
            " #   Column     Non-Null Count  Dtype         \n",
            "---  ------     --------------  -----         \n",
            " 0   Time       16 non-null     datetime64[ns]\n",
            " 1   Net Sales  16 non-null     int64         \n",
            " 2   Orders     16 non-null     int64         \n",
            " 3   Guests     0 non-null      float64       \n",
            "dtypes: datetime64[ns](1), float64(1), int64(2)\n",
            "memory usage: 640.0+ bytes\n",
            "None\n",
            "                                  Time  Net Sales  Orders  Guests\n",
            "12:00 AM 1970-01-01 00:00:00.000000002          1       1     NaN\n",
            "3:00 AM  1970-01-01 00:00:00.000000099          1       1     NaN\n",
            "10:00 AM 1970-01-01 00:00:00.000000019          1       1     NaN\n",
            "11:00 AM 1970-01-01 00:00:00.000001068          9       9     NaN\n",
            "12:00 PM 1970-01-01 00:00:00.000004408        123     123     NaN\n",
            "1:00 PM  1970-01-01 00:00:00.000005593         89      89     NaN\n",
            "2:00 PM  1970-01-01 00:00:00.000004789        115     115     NaN\n",
            "3:00 PM  1970-01-01 00:00:00.000005038        151     151     NaN\n",
            "4:00 PM  1970-01-01 00:00:00.000008922        243     243     NaN\n",
            "5:00 PM  1970-01-01 00:00:00.000017214        417     417     NaN\n",
            "6:00 PM  1970-01-01 00:00:00.000021002        573     573     NaN\n",
            "7:00 PM  1970-01-01 00:00:00.000015062        436     436     NaN\n",
            "8:00 PM  1970-01-01 00:00:00.000007836        262     262     NaN\n",
            "9:00 PM  1970-01-01 00:00:00.000004497        155     155     NaN\n",
            "10:00 PM 1970-01-01 00:00:00.000003171        106     106     NaN\n",
            "11:00 PM 1970-01-01 00:00:00.000000305         13      13     NaN\n"
          ]
        }
      ],
      "source": [
        "df_sales_time_2025['Time'] = pd.to_datetime(df_sales_time_2025['Time'])\n",
        "print(df_sales_time_2025.info())\n",
        "print(df_sales_time_2025)"
      ]
    },
    {
      "cell_type": "code",
      "execution_count": null,
      "metadata": {
        "id": "rzFZYgGVNK6W"
      },
      "outputs": [],
      "source": [
        "df_sales_time_2025.to_csv('sales_time_2025_cleaned.csv', index=False)"
      ]
    },
    {
      "cell_type": "markdown",
      "metadata": {
        "id": "q7gpPHB723et"
      },
      "source": [
        "#Sales by Item"
      ]
    },
    {
      "cell_type": "code",
      "execution_count": null,
      "metadata": {
        "colab": {
          "base_uri": "https://localhost:8080/"
        },
        "id": "3NaneC4W3Vtp",
        "outputId": "2af7592c-59a0-4e85-e15b-932c3012eed9"
      },
      "outputs": [
        {
          "name": "stdout",
          "output_type": "stream",
          "text": [
            "<class 'pandas.core.frame.DataFrame'>\n",
            "RangeIndex: 53 entries, 0 to 52\n",
            "Data columns (total 3 columns):\n",
            " #   Column         Non-Null Count  Dtype \n",
            "---  ------         --------------  ----- \n",
            " 0   Item           53 non-null     object\n",
            " 1   Quantity Sold  53 non-null     int64 \n",
            " 2   Total Sales    53 non-null     object\n",
            "dtypes: int64(1), object(2)\n",
            "memory usage: 1.4+ KB\n",
            "None\n",
            "                                              Item  Quantity Sold Total Sales\n",
            "0                                     Chicken Wrap             83     $663.17\n",
            "1                                            Ranch            360     $578.40\n",
            "2                              Beef Chopped Cheese             59     $471.41\n",
            "3                                    Alfredo Pasta             41     $409.59\n",
            "4                                Naga Chicken Wrap             50     $389.50\n",
            "5                                         Naga Dip            185     $368.15\n",
            "6                                 Garlic Beef Wrap             46     $353.54\n",
            "7                                        Hot Honey            163     $324.37\n",
            "8                              Naga Habanero Pasta             27     $269.73\n",
            "9                               Tomato Basil Pasta             18     $179.82\n",
            "10                                      Soda (Can)             42     $117.25\n",
            "11                                Meatlovers Pizza            405      $99.95\n",
            "12                                     Paneer Wrap             10      $79.90\n",
            "13                                   Mushroom Wrap              7      $55.93\n",
            "14                               Soft Drinks (Can)             22      $43.28\n",
            "15                                   Aged Parmesan             17      $33.83\n",
            "16                                    Mushrom Wrap              4      $30.96\n",
            "17                                   Water (small)             13      $24.27\n",
            "18                              Red Peppers Bags 3             21      $18.79\n",
            "19                                 Parmesan Bags 3             15      $12.45\n",
            "20                                   Side Jalapeno             11      $10.89\n",
            "21                                    Chicken Wrap              1       $7.99\n",
            "22                             Beef Chopped Cheese              1       $7.99\n",
            "23                                      Side Basil             10       $5.54\n",
            "24                                     Side Olives              5       $4.95\n",
            "25                             Side Banana Peppers              3       $2.97\n",
            "26                                   Side Cilantro              5       $2.86\n",
            "27                           4Cheez with Hot Honey            162       $0.00\n",
            "28                          Naga Habanero Mushroom             44       $0.00\n",
            "29                                  Chicken Bianca             93       $0.00\n",
            "30                             Spicy Naga Balachao             12       $0.00\n",
            "31                                      Taco Pizza              6       $0.00\n",
            "32                             Spicy Naga Mushroom             10       $0.00\n",
            "33                                    Veggie Pizza             70       $0.00\n",
            "34                                   Spicy Italian              5       $0.00\n",
            "35                            Alfredo Cheese Pizza             68       $0.00\n",
            "36                                   Bongo Tex Mex             30       $0.00\n",
            "37                                      Korean BBQ             26       $0.00\n",
            "38                          Naga Habanero Balachao             20       $0.00\n",
            "39                              Spicy Naga Chicken            220       $0.00\n",
            "40                            Naga Habanero Paneer             64       $0.00\n",
            "41                                   Pepper Lovers             26       $0.00\n",
            "42                                 Harissa Chicken            183       $0.00\n",
            "43                                   Cheddar Birds             26       $0.00\n",
            "44                      Bros favorite Cheese Pizza            366       $0.00\n",
            "45                           Naga Habanero Chicken            277       $0.00\n",
            "46                                 Beef Taco Pizza            102       $0.00\n",
            "47                            Garlic Ghee Mushroom            169       $0.00\n",
            "48                                Customized Pizza             70       $0.00\n",
            "49                                Garlic Artichoke              4       $0.00\n",
            "50  Jhura Beef Pesto (contains Pine & Cashew Nuts)             91       $0.00\n",
            "51              Bengali Beef Pesto (Contains Nuts)            105       $0.00\n",
            "52                                  Beef Pepperoni            524       $0.00\n"
          ]
        }
      ],
      "source": [
        "print(df_sales_item_2023_copy.info())\n",
        "print(df_sales_item_2023_copy)\n",
        "\n",
        "\n",
        "\n"
      ]
    },
    {
      "cell_type": "code",
      "execution_count": null,
      "metadata": {
        "colab": {
          "base_uri": "https://localhost:8080/"
        },
        "id": "0uawor3789Md",
        "outputId": "89c355d5-e3c2-40e6-e040-b3639bd7ec1f"
      },
      "outputs": [
        {
          "name": "stdout",
          "output_type": "stream",
          "text": [
            "<class 'pandas.core.frame.DataFrame'>\n",
            "RangeIndex: 53 entries, 0 to 52\n",
            "Data columns (total 3 columns):\n",
            " #   Column         Non-Null Count  Dtype  \n",
            "---  ------         --------------  -----  \n",
            " 0   Item           53 non-null     object \n",
            " 1   Quantity Sold  53 non-null     int64  \n",
            " 2   Total Sales    53 non-null     float64\n",
            "dtypes: float64(1), int64(1), object(1)\n",
            "memory usage: 1.4+ KB\n",
            "None\n",
            "                                              Item  Quantity Sold  Total Sales\n",
            "0                                     Chicken Wrap             83       663.17\n",
            "1                                            Ranch            360       578.40\n",
            "2                              Beef Chopped Cheese             59       471.41\n",
            "3                                    Alfredo Pasta             41       409.59\n",
            "4                                Naga Chicken Wrap             50       389.50\n",
            "5                                         Naga Dip            185       368.15\n",
            "6                                 Garlic Beef Wrap             46       353.54\n",
            "7                                        Hot Honey            163       324.37\n",
            "8                              Naga Habanero Pasta             27       269.73\n",
            "9                               Tomato Basil Pasta             18       179.82\n",
            "10                                      Soda (Can)             42       117.25\n",
            "11                                Meatlovers Pizza            405        99.95\n",
            "12                                     Paneer Wrap             10        79.90\n",
            "13                                   Mushroom Wrap              7        55.93\n",
            "14                               Soft Drinks (Can)             22        43.28\n",
            "15                                   Aged Parmesan             17        33.83\n",
            "16                                    Mushrom Wrap              4        30.96\n",
            "17                                   Water (small)             13        24.27\n",
            "18                              Red Peppers Bags 3             21        18.79\n",
            "19                                 Parmesan Bags 3             15        12.45\n",
            "20                                   Side Jalapeno             11        10.89\n",
            "21                                    Chicken Wrap              1         7.99\n",
            "22                             Beef Chopped Cheese              1         7.99\n",
            "23                                      Side Basil             10         5.54\n",
            "24                                     Side Olives              5         4.95\n",
            "25                             Side Banana Peppers              3         2.97\n",
            "26                                   Side Cilantro              5         2.86\n",
            "27                           4Cheez with Hot Honey            162         0.00\n",
            "28                          Naga Habanero Mushroom             44         0.00\n",
            "29                                  Chicken Bianca             93         0.00\n",
            "30                             Spicy Naga Balachao             12         0.00\n",
            "31                                      Taco Pizza              6         0.00\n",
            "32                             Spicy Naga Mushroom             10         0.00\n",
            "33                                    Veggie Pizza             70         0.00\n",
            "34                                   Spicy Italian              5         0.00\n",
            "35                            Alfredo Cheese Pizza             68         0.00\n",
            "36                                   Bongo Tex Mex             30         0.00\n",
            "37                                      Korean BBQ             26         0.00\n",
            "38                          Naga Habanero Balachao             20         0.00\n",
            "39                              Spicy Naga Chicken            220         0.00\n",
            "40                            Naga Habanero Paneer             64         0.00\n",
            "41                                   Pepper Lovers             26         0.00\n",
            "42                                 Harissa Chicken            183         0.00\n",
            "43                                   Cheddar Birds             26         0.00\n",
            "44                      Bros favorite Cheese Pizza            366         0.00\n",
            "45                           Naga Habanero Chicken            277         0.00\n",
            "46                                 Beef Taco Pizza            102         0.00\n",
            "47                            Garlic Ghee Mushroom            169         0.00\n",
            "48                                Customized Pizza             70         0.00\n",
            "49                                Garlic Artichoke              4         0.00\n",
            "50  Jhura Beef Pesto (contains Pine & Cashew Nuts)             91         0.00\n",
            "51              Bengali Beef Pesto (Contains Nuts)            105         0.00\n",
            "52                                  Beef Pepperoni            524         0.00\n"
          ]
        }
      ],
      "source": [
        "df_sales_item_2023_copy['Total Sales'] = df_sales_item_2023_copy['Total Sales'].astype(str).str.replace('$', '').str.replace(',', '').astype(float)\n",
        "print(df_sales_item_2023_copy.info())\n",
        "print(df_sales_item_2023_copy)\n"
      ]
    },
    {
      "cell_type": "code",
      "execution_count": null,
      "metadata": {
        "colab": {
          "base_uri": "https://localhost:8080/"
        },
        "id": "9KA4gb9zA9SG",
        "outputId": "196ea8d6-6fad-4f00-d7de-c2df0222aacf"
      },
      "outputs": [
        {
          "name": "stdout",
          "output_type": "stream",
          "text": [
            "Item\n",
            "Chicken Wrap                                      2\n",
            "Beef Chopped Cheese                               2\n",
            "Ranch                                             1\n",
            "Alfredo Pasta                                     1\n",
            "Naga Chicken Wrap                                 1\n",
            "Naga Dip                                          1\n",
            "Garlic Beef Wrap                                  1\n",
            "Hot Honey                                         1\n",
            "Naga Habanero Pasta                               1\n",
            "Tomato Basil Pasta                                1\n",
            "Soda (Can)                                        1\n",
            "Meatlovers Pizza                                  1\n",
            "Paneer Wrap                                       1\n",
            "Mushroom Wrap                                     1\n",
            "Soft Drinks (Can)                                 1\n",
            "Aged Parmesan                                     1\n",
            "Mushrom Wrap                                      1\n",
            "Water (small)                                     1\n",
            "Red Peppers Bags 3                                1\n",
            "Parmesan Bags 3                                   1\n",
            "Side Jalapeno                                     1\n",
            "Side Basil                                        1\n",
            "Side Olives                                       1\n",
            "Side Banana Peppers                               1\n",
            "Side Cilantro                                     1\n",
            "4Cheez with Hot Honey                             1\n",
            "Naga Habanero Mushroom                            1\n",
            "Chicken Bianca                                    1\n",
            "Spicy Naga Balachao                               1\n",
            "Taco Pizza                                        1\n",
            "Spicy Naga Mushroom                               1\n",
            "Veggie Pizza                                      1\n",
            "Spicy Italian                                     1\n",
            "Alfredo Cheese Pizza                              1\n",
            "Bongo Tex Mex                                     1\n",
            "Korean BBQ                                        1\n",
            "Naga Habanero Balachao                            1\n",
            "Spicy Naga Chicken                                1\n",
            "Naga Habanero Paneer                              1\n",
            "Pepper Lovers                                     1\n",
            "Harissa Chicken                                   1\n",
            "Cheddar Birds                                     1\n",
            "Bros favorite Cheese Pizza                        1\n",
            "Naga Habanero Chicken                             1\n",
            "Beef Taco Pizza                                   1\n",
            "Garlic Ghee Mushroom                              1\n",
            "Customized Pizza                                  1\n",
            "Garlic Artichoke                                  1\n",
            "Jhura Beef Pesto (contains Pine & Cashew Nuts)    1\n",
            "Bengali Beef Pesto (Contains Nuts)                1\n",
            "Beef Pepperoni                                    1\n",
            "Name: count, dtype: int64\n"
          ]
        }
      ],
      "source": [
        "item_frequencies = df_sales_item_2023_copy['Item'].value_counts()\n",
        "print(item_frequencies)"
      ]
    },
    {
      "cell_type": "code",
      "execution_count": null,
      "metadata": {
        "id": "tIf0U2lUNDqV"
      },
      "outputs": [],
      "source": [
        "df_sales_item_2023_copy.to_csv('sales_item_2023_cleaned.csv', index=False)"
      ]
    },
    {
      "cell_type": "code",
      "execution_count": null,
      "metadata": {
        "colab": {
          "base_uri": "https://localhost:8080/"
        },
        "id": "gw6B99eIJG8G",
        "outputId": "fda92c49-8bb8-4493-b807-983587c44861"
      },
      "outputs": [
        {
          "name": "stdout",
          "output_type": "stream",
          "text": [
            "<class 'pandas.core.frame.DataFrame'>\n",
            "RangeIndex: 36 entries, 0 to 35\n",
            "Data columns (total 3 columns):\n",
            " #   Column         Non-Null Count  Dtype  \n",
            "---  ------         --------------  -----  \n",
            " 0   Item           36 non-null     object \n",
            " 1   Quantity Sold  36 non-null     int64  \n",
            " 2   Total Sales    36 non-null     float64\n",
            "dtypes: float64(1), int64(1), object(1)\n",
            "memory usage: 996.0+ bytes\n",
            "None\n",
            "                                  Item  Quantity Sold  Total Sales\n",
            "0                        Alfredo Pasta             79       789.21\n",
            "1                         Chicken Wrap             94       751.06\n",
            "2                  Beef Chopped Cheese             80       639.20\n",
            "3                   Tomato Basil Pasta             49       489.51\n",
            "4                                Ranch            343       339.57\n",
            "5                             Naga Dip            148       294.52\n",
            "6                            Hot Honey            140       278.60\n",
            "7                  Naga Habanero Pasta             27       269.73\n",
            "8                           Soda (Can)             71       177.50\n",
            "9                          Paneer Wrap             18       143.82\n",
            "10                       Mushroom Wrap             12        95.88\n",
            "11                     Parmesan Bags 3             26        25.74\n",
            "12                  Red Peppers Bags 3             20        19.80\n",
            "13                       Water (small)              5         9.95\n",
            "14                       Side Jalapeno              6         5.94\n",
            "15                         Side Olives              5         4.95\n",
            "16                          Side Basil              3         1.50\n",
            "17                       Side Cilantro              1         0.50\n",
            "18               Naga Habanero Chicken            475         0.00\n",
            "19                    Garlic Artichoke             61         0.00\n",
            "20  Bengali Beef Pesto (Contains Nuts)            178         0.00\n",
            "21                        Veggie Pizza            132         0.00\n",
            "22               4Cheez with Hot Honey            165         0.00\n",
            "23                Alfredo Cheese Pizza             44         0.00\n",
            "24                      Beef Pepperoni            520         0.00\n",
            "25                     Alfredo Chicken            121         0.00\n",
            "26              Naga Habanero Mushroom             63         0.00\n",
            "27                    Meatlovers Pizza            425         0.00\n",
            "28                Garlic Ghee Mushroom            104         0.00\n",
            "29                    Customized Pizza             79         0.00\n",
            "30                     Beef Taco Pizza            170         0.00\n",
            "31                Classic Cheese Pizza            376         0.00\n",
            "32                     Harissa Chicken            233         0.00\n",
            "33              Naga Habanero Balachao             21         0.00\n",
            "34                          Korean BBQ            198         0.00\n",
            "35                Naga Habanero Paneer             94         0.00\n"
          ]
        }
      ],
      "source": [
        "df_sales_item_2024['Total Sales'] = df_sales_item_2024['Total Sales'].astype(str).str.replace('$', '').str.replace(',', '').astype(float)\n",
        "print(df_sales_item_2024.info())\n",
        "print(df_sales_item_2024)"
      ]
    },
    {
      "cell_type": "code",
      "execution_count": null,
      "metadata": {
        "id": "1ptS8AHHM18V"
      },
      "outputs": [],
      "source": [
        "df_sales_item_2024.to_csv('sales_item_2024_cleaned.csv', index=False)"
      ]
    },
    {
      "cell_type": "code",
      "execution_count": 5,
      "metadata": {},
      "outputs": [
        {
          "name": "stdout",
          "output_type": "stream",
          "text": [
            "                      Food  Date   Revenue\n",
            "0               Korean BBQ  2023    801.57\n",
            "1    Naga Habanero Chicken  2023  14443.13\n",
            "2       Spicy Naga Chicken  2023  10830.08\n",
            "3          Beef Taco Pizza  2023   3267.07\n",
            "4               Taco Pizza  2023    457.78\n",
            "..                     ...   ...       ...\n",
            "134            Side Olives  2025      1.98\n",
            "135          Side Jalapeno  2025      0.99\n",
            "136       Side Garlic Mayo  2025     15.84\n",
            "137         Marinara Sauce  2025     13.93\n",
            "138                14\" Pie  2025    180.00\n",
            "\n",
            "[139 rows x 3 columns]\n",
            "0:\tlearn: 3643.4530027\ttotal: 164ms\tremaining: 49s\n",
            "1:\tlearn: 3592.8938226\ttotal: 183ms\tremaining: 27.3s\n",
            "2:\tlearn: 3559.3298704\ttotal: 212ms\tremaining: 21s\n",
            "3:\tlearn: 3536.5275910\ttotal: 223ms\tremaining: 16.5s\n",
            "4:\tlearn: 3495.1475406\ttotal: 266ms\tremaining: 15.7s\n",
            "5:\tlearn: 3463.4087890\ttotal: 293ms\tremaining: 14.4s\n",
            "6:\tlearn: 3425.5771052\ttotal: 336ms\tremaining: 14.1s\n",
            "7:\tlearn: 3412.8264058\ttotal: 349ms\tremaining: 12.8s\n",
            "8:\tlearn: 3402.7523886\ttotal: 364ms\tremaining: 11.8s\n",
            "9:\tlearn: 3369.5401152\ttotal: 411ms\tremaining: 11.9s\n",
            "10:\tlearn: 3346.1983269\ttotal: 436ms\tremaining: 11.4s\n",
            "11:\tlearn: 3324.1684376\ttotal: 463ms\tremaining: 11.1s\n",
            "12:\tlearn: 3281.3236649\ttotal: 514ms\tremaining: 11.4s\n",
            "13:\tlearn: 3270.4787715\ttotal: 540ms\tremaining: 11s\n",
            "14:\tlearn: 3244.4734939\ttotal: 577ms\tremaining: 11s\n",
            "15:\tlearn: 3227.4544674\ttotal: 602ms\tremaining: 10.7s\n",
            "16:\tlearn: 3219.4617165\ttotal: 635ms\tremaining: 10.6s\n",
            "17:\tlearn: 3190.9131007\ttotal: 683ms\tremaining: 10.7s\n",
            "18:\tlearn: 3185.3553912\ttotal: 700ms\tremaining: 10.4s\n",
            "19:\tlearn: 3170.2836496\ttotal: 733ms\tremaining: 10.3s\n",
            "20:\tlearn: 3168.3006518\ttotal: 742ms\tremaining: 9.86s\n",
            "21:\tlearn: 3160.9300154\ttotal: 770ms\tremaining: 9.73s\n",
            "22:\tlearn: 3156.2846805\ttotal: 792ms\tremaining: 9.54s\n",
            "23:\tlearn: 3148.0969748\ttotal: 839ms\tremaining: 9.65s\n",
            "24:\tlearn: 3144.1943095\ttotal: 865ms\tremaining: 9.51s\n",
            "25:\tlearn: 3126.1285906\ttotal: 905ms\tremaining: 9.54s\n",
            "26:\tlearn: 3121.3737432\ttotal: 928ms\tremaining: 9.38s\n",
            "27:\tlearn: 3098.9157427\ttotal: 982ms\tremaining: 9.54s\n",
            "28:\tlearn: 3097.5241544\ttotal: 996ms\tremaining: 9.3s\n",
            "29:\tlearn: 3094.2387233\ttotal: 1.02s\tremaining: 9.2s\n",
            "30:\tlearn: 3087.7478941\ttotal: 1.05s\tremaining: 9.08s\n",
            "31:\tlearn: 3087.1969982\ttotal: 1.06s\tremaining: 8.86s\n",
            "32:\tlearn: 3084.0446659\ttotal: 1.08s\tremaining: 8.71s\n",
            "33:\tlearn: 3082.7840584\ttotal: 1.09s\tremaining: 8.56s\n",
            "34:\tlearn: 3082.7830526\ttotal: 1.1s\tremaining: 8.33s\n",
            "35:\tlearn: 3078.8963966\ttotal: 1.16s\tremaining: 8.47s\n",
            "36:\tlearn: 3073.6387782\ttotal: 1.19s\tremaining: 8.47s\n",
            "37:\tlearn: 3073.0175528\ttotal: 1.2s\tremaining: 8.3s\n",
            "38:\tlearn: 3063.2615519\ttotal: 1.23s\tremaining: 8.26s\n",
            "39:\tlearn: 3063.2615122\ttotal: 1.24s\tremaining: 8.06s\n",
            "40:\tlearn: 3051.2669223\ttotal: 1.28s\tremaining: 8.06s\n",
            "41:\tlearn: 3050.2080371\ttotal: 1.3s\tremaining: 7.96s\n",
            "42:\tlearn: 3049.7194744\ttotal: 1.31s\tremaining: 7.81s\n",
            "43:\tlearn: 3048.8803376\ttotal: 1.32s\tremaining: 7.71s\n",
            "44:\tlearn: 3047.0508274\ttotal: 1.35s\tremaining: 7.66s\n",
            "45:\tlearn: 3047.0506950\ttotal: 1.36s\tremaining: 7.49s\n",
            "46:\tlearn: 3032.6752312\ttotal: 1.4s\tremaining: 7.52s\n",
            "47:\tlearn: 3020.0518881\ttotal: 1.44s\tremaining: 7.55s\n",
            "48:\tlearn: 3019.1954724\ttotal: 1.46s\tremaining: 7.46s\n",
            "49:\tlearn: 3012.2567613\ttotal: 1.51s\tremaining: 7.54s\n",
            "50:\tlearn: 3008.1527515\ttotal: 1.54s\tremaining: 7.54s\n",
            "51:\tlearn: 3005.4177919\ttotal: 1.57s\tremaining: 7.49s\n",
            "52:\tlearn: 3005.3352447\ttotal: 1.58s\tremaining: 7.38s\n",
            "53:\tlearn: 3005.1247853\ttotal: 1.6s\tremaining: 7.27s\n",
            "54:\tlearn: 3004.6010654\ttotal: 1.61s\tremaining: 7.16s\n",
            "55:\tlearn: 2993.6559937\ttotal: 1.65s\tremaining: 7.2s\n",
            "56:\tlearn: 2992.0530409\ttotal: 1.68s\tremaining: 7.17s\n",
            "57:\tlearn: 2983.6897754\ttotal: 1.75s\tremaining: 7.3s\n",
            "58:\tlearn: 2974.3631618\ttotal: 1.82s\tremaining: 7.43s\n",
            "59:\tlearn: 2966.5241143\ttotal: 1.86s\tremaining: 7.46s\n",
            "60:\tlearn: 2966.3008022\ttotal: 1.88s\tremaining: 7.35s\n",
            "61:\tlearn: 2955.4252147\ttotal: 1.93s\tremaining: 7.42s\n",
            "62:\tlearn: 2950.8997897\ttotal: 1.97s\tremaining: 7.39s\n",
            "63:\tlearn: 2950.3164359\ttotal: 2s\tremaining: 7.39s\n",
            "64:\tlearn: 2943.6859497\ttotal: 2.04s\tremaining: 7.38s\n",
            "65:\tlearn: 2934.8061630\ttotal: 2.08s\tremaining: 7.36s\n",
            "66:\tlearn: 2929.1973383\ttotal: 2.13s\tremaining: 7.42s\n",
            "67:\tlearn: 2923.4619990\ttotal: 2.17s\tremaining: 7.41s\n",
            "68:\tlearn: 2918.6442136\ttotal: 2.25s\tremaining: 7.55s\n",
            "69:\tlearn: 2913.7141400\ttotal: 2.34s\tremaining: 7.69s\n",
            "70:\tlearn: 2913.7068219\ttotal: 2.35s\tremaining: 7.57s\n",
            "71:\tlearn: 2907.3468722\ttotal: 2.44s\tremaining: 7.72s\n",
            "72:\tlearn: 2903.2270173\ttotal: 2.48s\tremaining: 7.71s\n",
            "73:\tlearn: 2898.7410752\ttotal: 2.53s\tremaining: 7.74s\n",
            "74:\tlearn: 2894.8275960\ttotal: 2.57s\tremaining: 7.72s\n",
            "75:\tlearn: 2886.8492464\ttotal: 2.62s\tremaining: 7.71s\n",
            "76:\tlearn: 2883.6503164\ttotal: 2.65s\tremaining: 7.69s\n",
            "77:\tlearn: 2879.8431887\ttotal: 2.71s\tremaining: 7.72s\n",
            "78:\tlearn: 2873.0908922\ttotal: 2.79s\tremaining: 7.81s\n",
            "79:\tlearn: 2870.4707942\ttotal: 2.83s\tremaining: 7.79s\n",
            "80:\tlearn: 2867.7359916\ttotal: 2.89s\tremaining: 7.81s\n",
            "81:\tlearn: 2865.1749243\ttotal: 2.96s\tremaining: 7.88s\n",
            "82:\tlearn: 2862.2339038\ttotal: 3.02s\tremaining: 7.89s\n",
            "83:\tlearn: 2859.1121611\ttotal: 3.16s\tremaining: 8.13s\n",
            "84:\tlearn: 2856.2336735\ttotal: 3.26s\tremaining: 8.24s\n",
            "85:\tlearn: 2853.5677583\ttotal: 3.31s\tremaining: 8.25s\n",
            "86:\tlearn: 2851.3503225\ttotal: 3.37s\tremaining: 8.25s\n",
            "87:\tlearn: 2846.5517117\ttotal: 3.42s\tremaining: 8.25s\n",
            "88:\tlearn: 2844.5686000\ttotal: 3.5s\tremaining: 8.31s\n",
            "89:\tlearn: 2842.9562655\ttotal: 3.56s\tremaining: 8.3s\n",
            "90:\tlearn: 2839.4627822\ttotal: 3.61s\tremaining: 8.28s\n",
            "91:\tlearn: 2837.7987045\ttotal: 3.67s\tremaining: 8.29s\n",
            "92:\tlearn: 2837.1221565\ttotal: 3.71s\tremaining: 8.26s\n",
            "93:\tlearn: 2835.6295937\ttotal: 3.77s\tremaining: 8.27s\n",
            "94:\tlearn: 2834.0755778\ttotal: 3.82s\tremaining: 8.25s\n",
            "95:\tlearn: 2832.7678993\ttotal: 3.88s\tremaining: 8.24s\n",
            "96:\tlearn: 2831.3706783\ttotal: 3.94s\tremaining: 8.24s\n",
            "97:\tlearn: 2830.0529718\ttotal: 4.01s\tremaining: 8.27s\n",
            "98:\tlearn: 2829.2662715\ttotal: 4.1s\tremaining: 8.32s\n",
            "99:\tlearn: 2828.5498232\ttotal: 4.16s\tremaining: 8.31s\n",
            "100:\tlearn: 2827.2735054\ttotal: 4.21s\tremaining: 8.29s\n",
            "101:\tlearn: 2826.0747402\ttotal: 4.28s\tremaining: 8.31s\n",
            "102:\tlearn: 2825.6104151\ttotal: 4.33s\tremaining: 8.28s\n",
            "103:\tlearn: 2825.1795368\ttotal: 4.41s\tremaining: 8.31s\n",
            "104:\tlearn: 2822.3429710\ttotal: 4.46s\tremaining: 8.27s\n",
            "105:\tlearn: 2819.5383314\ttotal: 4.52s\tremaining: 8.27s\n",
            "106:\tlearn: 2817.0241703\ttotal: 4.57s\tremaining: 8.25s\n",
            "107:\tlearn: 2816.1344672\ttotal: 4.62s\tremaining: 8.22s\n",
            "108:\tlearn: 2813.9224931\ttotal: 4.68s\tremaining: 8.2s\n",
            "109:\tlearn: 2813.0973062\ttotal: 4.77s\tremaining: 8.24s\n",
            "110:\tlearn: 2812.2693667\ttotal: 4.82s\tremaining: 8.21s\n",
            "111:\tlearn: 2810.2581933\ttotal: 4.88s\tremaining: 8.2s\n",
            "112:\tlearn: 2809.5407510\ttotal: 4.93s\tremaining: 8.15s\n",
            "113:\tlearn: 2808.8570575\ttotal: 4.98s\tremaining: 8.13s\n",
            "114:\tlearn: 2808.2101559\ttotal: 5.04s\tremaining: 8.11s\n",
            "115:\tlearn: 2807.9784834\ttotal: 5.11s\tremaining: 8.1s\n",
            "116:\tlearn: 2806.2496249\ttotal: 5.15s\tremaining: 8.06s\n",
            "117:\tlearn: 2804.6664587\ttotal: 5.21s\tremaining: 8.03s\n",
            "118:\tlearn: 2804.4859233\ttotal: 5.25s\tremaining: 7.99s\n",
            "119:\tlearn: 2803.0980969\ttotal: 5.32s\tremaining: 7.97s\n",
            "120:\tlearn: 2802.5345002\ttotal: 5.38s\tremaining: 7.96s\n",
            "121:\tlearn: 2801.3024940\ttotal: 5.45s\tremaining: 7.94s\n",
            "122:\tlearn: 2801.1632469\ttotal: 5.49s\tremaining: 7.9s\n",
            "123:\tlearn: 2800.0489916\ttotal: 5.56s\tremaining: 7.89s\n",
            "124:\tlearn: 2799.0469290\ttotal: 5.62s\tremaining: 7.87s\n",
            "125:\tlearn: 2798.9302062\ttotal: 5.68s\tremaining: 7.85s\n",
            "126:\tlearn: 2798.1338909\ttotal: 5.76s\tremaining: 7.84s\n",
            "127:\tlearn: 2797.2904822\ttotal: 5.82s\tremaining: 7.82s\n",
            "128:\tlearn: 2796.5430855\ttotal: 5.88s\tremaining: 7.79s\n",
            "129:\tlearn: 2795.8658133\ttotal: 5.95s\tremaining: 7.78s\n",
            "130:\tlearn: 2795.3842421\ttotal: 6.01s\tremaining: 7.75s\n",
            "131:\tlearn: 2794.7719094\ttotal: 6.07s\tremaining: 7.73s\n",
            "132:\tlearn: 2794.2162335\ttotal: 6.13s\tremaining: 7.7s\n",
            "133:\tlearn: 2793.7120960\ttotal: 6.2s\tremaining: 7.68s\n",
            "134:\tlearn: 2793.5457156\ttotal: 6.25s\tremaining: 7.64s\n",
            "135:\tlearn: 2793.0806242\ttotal: 6.31s\tremaining: 7.6s\n",
            "136:\tlearn: 2792.6734630\ttotal: 6.39s\tremaining: 7.6s\n",
            "137:\tlearn: 2792.6147767\ttotal: 6.46s\tremaining: 7.58s\n",
            "138:\tlearn: 2792.2472127\ttotal: 6.53s\tremaining: 7.56s\n",
            "139:\tlearn: 2791.8155111\ttotal: 6.58s\tremaining: 7.52s\n",
            "140:\tlearn: 2791.4071797\ttotal: 6.63s\tremaining: 7.48s\n",
            "141:\tlearn: 2791.1435908\ttotal: 6.7s\tremaining: 7.45s\n",
            "142:\tlearn: 2790.8062908\ttotal: 6.75s\tremaining: 7.41s\n",
            "143:\tlearn: 2790.4987473\ttotal: 6.82s\tremaining: 7.39s\n",
            "144:\tlearn: 2790.1285522\ttotal: 6.89s\tremaining: 7.36s\n",
            "145:\tlearn: 2789.8502686\ttotal: 6.95s\tremaining: 7.33s\n",
            "146:\tlearn: 2789.4658406\ttotal: 7.03s\tremaining: 7.32s\n",
            "147:\tlearn: 2789.2295545\ttotal: 7.09s\tremaining: 7.28s\n",
            "148:\tlearn: 2789.0138899\ttotal: 7.14s\tremaining: 7.24s\n",
            "149:\tlearn: 2788.8166966\ttotal: 7.19s\tremaining: 7.19s\n",
            "150:\tlearn: 2788.6264389\ttotal: 7.27s\tremaining: 7.17s\n",
            "151:\tlearn: 2788.4494636\ttotal: 7.36s\tremaining: 7.16s\n",
            "152:\tlearn: 2788.3208361\ttotal: 7.42s\tremaining: 7.13s\n",
            "153:\tlearn: 2787.9813445\ttotal: 7.47s\tremaining: 7.09s\n",
            "154:\tlearn: 2787.8308728\ttotal: 7.54s\tremaining: 7.06s\n",
            "155:\tlearn: 2787.5551517\ttotal: 7.61s\tremaining: 7.02s\n",
            "156:\tlearn: 2787.4911666\ttotal: 7.68s\tremaining: 6.99s\n",
            "157:\tlearn: 2786.9454955\ttotal: 7.75s\tremaining: 6.97s\n",
            "158:\tlearn: 2786.8932866\ttotal: 7.83s\tremaining: 6.94s\n",
            "159:\tlearn: 2786.4095137\ttotal: 7.91s\tremaining: 6.92s\n",
            "160:\tlearn: 2786.2898009\ttotal: 8.01s\tremaining: 6.92s\n",
            "161:\tlearn: 2786.1798237\ttotal: 8.14s\tremaining: 6.93s\n",
            "162:\tlearn: 2786.1393579\ttotal: 8.2s\tremaining: 6.89s\n",
            "163:\tlearn: 2785.8685876\ttotal: 8.28s\tremaining: 6.87s\n",
            "164:\tlearn: 2785.7699994\ttotal: 8.34s\tremaining: 6.83s\n",
            "165:\tlearn: 2785.5147047\ttotal: 8.43s\tremaining: 6.81s\n",
            "166:\tlearn: 2785.0953468\ttotal: 8.54s\tremaining: 6.8s\n",
            "167:\tlearn: 2785.0612957\ttotal: 8.6s\tremaining: 6.75s\n",
            "168:\tlearn: 2784.7953097\ttotal: 8.65s\tremaining: 6.71s\n",
            "169:\tlearn: 2784.5740678\ttotal: 8.74s\tremaining: 6.69s\n",
            "170:\tlearn: 2784.5009372\ttotal: 8.83s\tremaining: 6.66s\n",
            "171:\tlearn: 2784.4320079\ttotal: 8.92s\tremaining: 6.64s\n",
            "172:\tlearn: 2784.3632252\ttotal: 8.98s\tremaining: 6.59s\n",
            "173:\tlearn: 2784.3391428\ttotal: 9.03s\tremaining: 6.54s\n",
            "174:\tlearn: 2784.2812308\ttotal: 9.1s\tremaining: 6.5s\n",
            "175:\tlearn: 2784.2233996\ttotal: 9.19s\tremaining: 6.47s\n",
            "176:\tlearn: 2784.1751247\ttotal: 9.26s\tremaining: 6.44s\n",
            "177:\tlearn: 2783.7679615\ttotal: 9.34s\tremaining: 6.4s\n",
            "178:\tlearn: 2783.5878391\ttotal: 9.38s\tremaining: 6.34s\n",
            "179:\tlearn: 2783.2123908\ttotal: 9.44s\tremaining: 6.29s\n",
            "180:\tlearn: 2783.1682972\ttotal: 9.52s\tremaining: 6.26s\n",
            "181:\tlearn: 2782.8138398\ttotal: 9.58s\tremaining: 6.21s\n",
            "182:\tlearn: 2782.7686329\ttotal: 9.63s\tremaining: 6.16s\n",
            "183:\tlearn: 2782.4341774\ttotal: 9.7s\tremaining: 6.11s\n",
            "184:\tlearn: 2782.4206879\ttotal: 9.74s\tremaining: 6.06s\n",
            "185:\tlearn: 2782.1051310\ttotal: 9.83s\tremaining: 6.02s\n",
            "186:\tlearn: 2782.0682123\ttotal: 9.91s\tremaining: 5.99s\n",
            "187:\tlearn: 2782.0378362\ttotal: 9.97s\tremaining: 5.94s\n",
            "188:\tlearn: 2781.9011474\ttotal: 10s\tremaining: 5.9s\n",
            "189:\tlearn: 2781.7351251\ttotal: 10.1s\tremaining: 5.85s\n",
            "190:\tlearn: 2781.7238580\ttotal: 10.2s\tremaining: 5.81s\n",
            "191:\tlearn: 2781.6891494\ttotal: 10.3s\tremaining: 5.79s\n",
            "192:\tlearn: 2781.6591503\ttotal: 10.3s\tremaining: 5.74s\n",
            "193:\tlearn: 2781.6362838\ttotal: 10.4s\tremaining: 5.67s\n",
            "194:\tlearn: 2781.6063150\ttotal: 10.5s\tremaining: 5.63s\n",
            "195:\tlearn: 2781.4496198\ttotal: 10.6s\tremaining: 5.61s\n",
            "196:\tlearn: 2781.3014293\ttotal: 10.6s\tremaining: 5.57s\n",
            "197:\tlearn: 2781.1607678\ttotal: 10.7s\tremaining: 5.5s\n",
            "198:\tlearn: 2781.0270798\ttotal: 10.7s\tremaining: 5.45s\n",
            "199:\tlearn: 2781.0055825\ttotal: 10.8s\tremaining: 5.39s\n",
            "200:\tlearn: 2780.7545916\ttotal: 10.8s\tremaining: 5.34s\n",
            "201:\tlearn: 2780.7411928\ttotal: 10.9s\tremaining: 5.29s\n",
            "202:\tlearn: 2780.6338766\ttotal: 11s\tremaining: 5.26s\n",
            "203:\tlearn: 2780.5337595\ttotal: 11.1s\tremaining: 5.21s\n",
            "204:\tlearn: 2780.5107600\ttotal: 11.1s\tremaining: 5.16s\n",
            "205:\tlearn: 2780.3902306\ttotal: 11.2s\tremaining: 5.11s\n",
            "206:\tlearn: 2780.3837113\ttotal: 11.3s\tremaining: 5.09s\n",
            "207:\tlearn: 2780.3628090\ttotal: 11.4s\tremaining: 5.04s\n",
            "208:\tlearn: 2778.6839528\ttotal: 11.5s\tremaining: 4.99s\n",
            "209:\tlearn: 2777.1902406\ttotal: 11.5s\tremaining: 4.93s\n",
            "210:\tlearn: 2777.0756801\ttotal: 11.6s\tremaining: 4.88s\n",
            "211:\tlearn: 2777.0478939\ttotal: 11.7s\tremaining: 4.84s\n",
            "212:\tlearn: 2776.9473344\ttotal: 11.7s\tremaining: 4.8s\n",
            "213:\tlearn: 2775.6092294\ttotal: 11.8s\tremaining: 4.74s\n",
            "214:\tlearn: 2775.4958303\ttotal: 11.8s\tremaining: 4.68s\n",
            "215:\tlearn: 2775.3117438\ttotal: 11.9s\tremaining: 4.63s\n",
            "216:\tlearn: 2775.3098171\ttotal: 12s\tremaining: 4.58s\n",
            "217:\tlearn: 2775.2233137\ttotal: 12.1s\tremaining: 4.53s\n",
            "218:\tlearn: 2775.1937467\ttotal: 12.1s\tremaining: 4.48s\n",
            "219:\tlearn: 2775.1653641\ttotal: 12.2s\tremaining: 4.42s\n",
            "220:\tlearn: 2775.0687559\ttotal: 12.2s\tremaining: 4.37s\n",
            "221:\tlearn: 2775.0647729\ttotal: 12.3s\tremaining: 4.32s\n",
            "222:\tlearn: 2773.8617031\ttotal: 12.3s\tremaining: 4.26s\n",
            "223:\tlearn: 2773.7591754\ttotal: 12.4s\tremaining: 4.21s\n",
            "224:\tlearn: 2772.6893357\ttotal: 12.5s\tremaining: 4.16s\n",
            "225:\tlearn: 2771.6620113\ttotal: 12.6s\tremaining: 4.11s\n",
            "226:\tlearn: 2771.5665165\ttotal: 12.6s\tremaining: 4.06s\n",
            "227:\tlearn: 2770.7151429\ttotal: 12.7s\tremaining: 4.01s\n",
            "228:\tlearn: 2770.6181949\ttotal: 12.8s\tremaining: 3.96s\n",
            "229:\tlearn: 2770.5750810\ttotal: 12.8s\tremaining: 3.9s\n",
            "230:\tlearn: 2769.8127634\ttotal: 12.9s\tremaining: 3.85s\n",
            "231:\tlearn: 2769.1346998\ttotal: 13s\tremaining: 3.81s\n",
            "232:\tlearn: 2769.0840076\ttotal: 13.1s\tremaining: 3.76s\n",
            "233:\tlearn: 2768.4756832\ttotal: 13.1s\tremaining: 3.7s\n",
            "234:\tlearn: 2768.4127499\ttotal: 13.2s\tremaining: 3.65s\n",
            "235:\tlearn: 2768.3601270\ttotal: 13.2s\tremaining: 3.59s\n",
            "236:\tlearn: 2767.8140962\ttotal: 13.3s\tremaining: 3.54s\n",
            "237:\tlearn: 2767.7592178\ttotal: 13.4s\tremaining: 3.48s\n",
            "238:\tlearn: 2767.7080208\ttotal: 13.4s\tremaining: 3.43s\n",
            "239:\tlearn: 2767.2125039\ttotal: 13.5s\tremaining: 3.37s\n",
            "240:\tlearn: 2766.7719042\ttotal: 13.5s\tremaining: 3.31s\n",
            "241:\tlearn: 2766.7693766\ttotal: 13.7s\tremaining: 3.28s\n",
            "242:\tlearn: 2766.7301025\ttotal: 13.8s\tremaining: 3.23s\n",
            "243:\tlearn: 2766.6756438\ttotal: 13.8s\tremaining: 3.17s\n",
            "244:\tlearn: 2766.5725304\ttotal: 13.9s\tremaining: 3.11s\n",
            "245:\tlearn: 2766.1693458\ttotal: 13.9s\tremaining: 3.06s\n",
            "246:\tlearn: 2766.0687820\ttotal: 14s\tremaining: 3s\n",
            "247:\tlearn: 2765.7066549\ttotal: 14.1s\tremaining: 2.96s\n",
            "248:\tlearn: 2765.3844936\ttotal: 14.2s\tremaining: 2.91s\n",
            "249:\tlearn: 2765.3256929\ttotal: 14.3s\tremaining: 2.86s\n",
            "250:\tlearn: 2765.2731616\ttotal: 14.4s\tremaining: 2.8s\n",
            "251:\tlearn: 2765.2181011\ttotal: 14.4s\tremaining: 2.75s\n",
            "252:\tlearn: 2765.1676280\ttotal: 14.5s\tremaining: 2.69s\n",
            "253:\tlearn: 2765.1239863\ttotal: 14.6s\tremaining: 2.64s\n",
            "254:\tlearn: 2765.1219665\ttotal: 14.6s\tremaining: 2.58s\n",
            "255:\tlearn: 2765.0313589\ttotal: 14.7s\tremaining: 2.53s\n",
            "256:\tlearn: 2764.9377855\ttotal: 14.8s\tremaining: 2.47s\n",
            "257:\tlearn: 2764.6365414\ttotal: 14.8s\tremaining: 2.41s\n",
            "258:\tlearn: 2764.5531038\ttotal: 14.9s\tremaining: 2.36s\n",
            "259:\tlearn: 2764.2815546\ttotal: 15s\tremaining: 2.3s\n",
            "260:\tlearn: 2764.2313740\ttotal: 15s\tremaining: 2.24s\n",
            "261:\tlearn: 2764.2299869\ttotal: 15.1s\tremaining: 2.18s\n",
            "262:\tlearn: 2764.2014410\ttotal: 15.1s\tremaining: 2.12s\n",
            "263:\tlearn: 2763.9543149\ttotal: 15.1s\tremaining: 2.06s\n",
            "264:\tlearn: 2763.9135559\ttotal: 15.2s\tremaining: 2s\n",
            "265:\tlearn: 2763.9130334\ttotal: 15.2s\tremaining: 1.94s\n",
            "266:\tlearn: 2763.8349103\ttotal: 15.2s\tremaining: 1.88s\n",
            "267:\tlearn: 2763.7605212\ttotal: 15.3s\tremaining: 1.82s\n",
            "268:\tlearn: 2763.7167249\ttotal: 15.3s\tremaining: 1.77s\n",
            "269:\tlearn: 2763.6755514\ttotal: 15.4s\tremaining: 1.71s\n",
            "270:\tlearn: 2763.6373163\ttotal: 15.5s\tremaining: 1.65s\n",
            "271:\tlearn: 2763.6014389\ttotal: 15.5s\tremaining: 1.6s\n",
            "272:\tlearn: 2763.5677928\ttotal: 15.6s\tremaining: 1.54s\n",
            "273:\tlearn: 2763.5266888\ttotal: 15.7s\tremaining: 1.49s\n",
            "274:\tlearn: 2763.4943607\ttotal: 15.8s\tremaining: 1.43s\n",
            "275:\tlearn: 2763.2512447\ttotal: 15.9s\tremaining: 1.38s\n",
            "276:\tlearn: 2763.2490868\ttotal: 15.9s\tremaining: 1.32s\n",
            "277:\tlearn: 2763.1804144\ttotal: 16s\tremaining: 1.26s\n",
            "278:\tlearn: 2763.1495030\ttotal: 16s\tremaining: 1.21s\n",
            "279:\tlearn: 2763.1472880\ttotal: 16.1s\tremaining: 1.15s\n",
            "280:\tlearn: 2763.1184468\ttotal: 16.2s\tremaining: 1.09s\n",
            "281:\tlearn: 2763.0658390\ttotal: 16.2s\tremaining: 1.04s\n",
            "282:\tlearn: 2763.0092394\ttotal: 16.3s\tremaining: 981ms\n",
            "283:\tlearn: 2762.9268738\ttotal: 16.4s\tremaining: 926ms\n",
            "284:\tlearn: 2762.9023065\ttotal: 16.5s\tremaining: 868ms\n",
            "285:\tlearn: 2762.8794759\ttotal: 16.5s\tremaining: 810ms\n",
            "286:\tlearn: 2762.8398254\ttotal: 16.6s\tremaining: 753ms\n",
            "287:\tlearn: 2762.8377897\ttotal: 16.8s\tremaining: 699ms\n",
            "288:\tlearn: 2762.7953918\ttotal: 16.9s\tremaining: 642ms\n",
            "289:\tlearn: 2762.7750791\ttotal: 16.9s\tremaining: 583ms\n",
            "290:\tlearn: 2762.6968342\ttotal: 16.9s\tremaining: 524ms\n",
            "291:\tlearn: 2762.6792325\ttotal: 17s\tremaining: 465ms\n",
            "292:\tlearn: 2762.6605655\ttotal: 17s\tremaining: 407ms\n",
            "293:\tlearn: 2762.6585958\ttotal: 17.1s\tremaining: 349ms\n",
            "294:\tlearn: 2762.6568534\ttotal: 17.2s\tremaining: 291ms\n",
            "295:\tlearn: 2762.5824353\ttotal: 17.2s\tremaining: 233ms\n",
            "296:\tlearn: 2762.5646649\ttotal: 17.3s\tremaining: 175ms\n",
            "297:\tlearn: 2762.3230078\ttotal: 17.4s\tremaining: 117ms\n",
            "298:\tlearn: 2762.3042866\ttotal: 17.4s\tremaining: 58.4ms\n",
            "299:\tlearn: 2762.2868803\ttotal: 17.5s\tremaining: 0us\n"
          ]
        }
      ],
      "source": [
        "from catboost import CatBoostRegressor\n",
        "from sklearn.model_selection import train_test_split\n",
        "\n",
        "# STARTING HERE WILL BE CODE FOR THE RANDOM FOREST WITH THE FOOD GENERATOR\n",
        "foodData = pd.read_csv(\"FinalData/IndividualFoodData.csv\")\n",
        "\n",
        "print(foodData)\n",
        "\n",
        "# return to x the dataframe without the output column\n",
        "X = foodData.drop(\"Revenue\", axis=1)\n",
        "Y = foodData[\"Revenue\"]\n",
        "\n",
        "\n",
        "# want only a very small amount to be used for testing, because we don't have many points to begin with to train our model\n",
        "# what we do is split x into values that are used for training and ones used to evlaute model.\n",
        "X_train , X_test , Y_train, Y_test = train_test_split(X, Y, test_size=None, random_state=42)\n",
        "\n",
        "# defining elements for our forest. Ngl I don't know too much on what these do\n",
        "catBooster = CatBoostRegressor(\n",
        "    iterations=300,  # number of trees\n",
        "    depth=10,  # depth of each tree\n",
        "    learning_rate=0.1,  # how much to adjust each tree\n",
        "    random_state=42,\n",
        "    cat_features=[0]  # Indicate that 'food' column is categorical (index 0, or your actual column name)\n",
        ")\n",
        "\n",
        "# now fitting our forest to our train data\n",
        "catBooster.fit(X_train, Y_train)\n",
        "\n",
        "booster_preds_train = catBooster.predict(X_train)\n",
        "\n",
        "booster_preds_test = catBooster.predict(X_test)\n",
        "\n",
        "catBooster.save_model('MlAlgos/catboost_model.cbm')\n"
      ]
    }
  ],
  "metadata": {
    "colab": {
      "authorship_tag": "ABX9TyNkvNX2HtaXVuXRe8bSEvO/",
      "include_colab_link": true,
      "provenance": []
    },
    "kernelspec": {
      "display_name": "Python 3",
      "name": "python3"
    },
    "language_info": {
      "name": "python"
    }
  },
  "nbformat": 4,
  "nbformat_minor": 0
}
