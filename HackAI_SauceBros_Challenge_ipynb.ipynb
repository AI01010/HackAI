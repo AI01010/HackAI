{
  "cells": [
    {
      "cell_type": "markdown",
      "metadata": {
        "colab_type": "text",
        "id": "view-in-github"
      },
      "source": [
        "<a href=\"https://colab.research.google.com/github/AI01010/HackAI/blob/main/HackAI_SauceBros_Challenge_ipynb.ipynb\" target=\"_parent\"><img src=\"https://colab.research.google.com/assets/colab-badge.svg\" alt=\"Open In Colab\"/></a>"
      ]
    },
    {
      "cell_type": "markdown",
      "metadata": {
        "id": "UQd5QXXtvoZ8"
      },
      "source": [
        "# Importing Necessary Libraries"
      ]
    },
    {
      "cell_type": "code",
      "execution_count": 1,
      "metadata": {
        "id": "NMY-dKpZsAb3"
      },
      "outputs": [],
      "source": [
        "import pandas as pd\n",
        "import numpy as np\n",
        "import matplotlib.pyplot as plt\n",
        "import seaborn as sns"
      ]
    },
    {
      "cell_type": "markdown",
      "metadata": {
        "id": "4vuTP5zovxe0"
      },
      "source": [
        "# Loading Dataset"
      ]
    },
    {
      "cell_type": "code",
      "execution_count": null,
      "metadata": {
        "colab": {
          "base_uri": "https://localhost:8080/"
        },
        "id": "XHINDSXjv1ic",
        "outputId": "ee117e03-2d50-4230-9768-66b827aa39c4"
      },
      "outputs": [
        {
          "name": "stdout",
          "output_type": "stream",
          "text": [
            "Drive already mounted at /content/drive; to attempt to forcibly remount, call drive.mount(\"/content/drive\", force_remount=True).\n"
          ]
        }
      ],
      "source": [
        "#Mounting the drive\n",
        "from google.colab import drive\n",
        "drive.mount('/content/drive')\n"
      ]
    },
    {
      "cell_type": "code",
      "execution_count": 48,
      "metadata": {
        "id": "MRTQAg4L0FdT"
      },
      "outputs": [],
      "source": [
        "file_path_menu_breakdown = '/content/drive/My Drive/menu-breakdown-jan1-dec31-2023.csv'\n",
        "df_menu_breakdown = pd.read_csv(file_path_menu_breakdown)"
      ]
    },
    {
      "cell_type": "markdown",
      "metadata": {
        "id": "aneAox656R_8"
      },
      "source": [
        "#Data Overview"
      ]
    },
    {
      "cell_type": "code",
      "execution_count": 2,
      "metadata": {
        "colab": {
          "base_uri": "https://localhost:8080/"
        },
        "id": "FVH5vp0_6UPl",
        "outputId": "e5453ff6-0d18-447b-bd7a-8426432e4c35"
      },
      "outputs": [
        {
          "ename": "NameError",
          "evalue": "name 'df_menu_breakdown' is not defined",
          "output_type": "error",
          "traceback": [
            "\u001b[1;31m---------------------------------------------------------------------------\u001b[0m",
            "\u001b[1;31mNameError\u001b[0m                                 Traceback (most recent call last)",
            "Cell \u001b[1;32mIn[2], line 1\u001b[0m\n\u001b[1;32m----> 1\u001b[0m \u001b[38;5;28mprint\u001b[39m(df_menu_breakdown)\n",
            "\u001b[1;31mNameError\u001b[0m: name 'df_menu_breakdown' is not defined"
          ]
        }
      ],
      "source": [
        "print(df_menu_breakdown)"
      ]
    },
    {
      "cell_type": "code",
      "execution_count": null,
      "metadata": {
        "colab": {
          "base_uri": "https://localhost:8080/"
        },
        "id": "0iCqX-3l6aBZ",
        "outputId": "bf7a265e-b07f-4891-bc28-4baac8a37278"
      },
      "outputs": [
        {
          "name": "stdout",
          "output_type": "stream",
          "text": [
            "Empty DataFrame\n",
            "Columns: [Sales Category, Item Name, Modifier, Unnamed: 3, Avg Price, Quantity, Gross Sales, Discount Amount, Net Sales]\n",
            "Index: []\n"
          ]
        }
      ],
      "source": [
        "df_menu_breakdown.dropna(inplace = True)\n",
        "print(df_menu_breakdown.to_string())"
      ]
    },
    {
      "cell_type": "code",
      "execution_count": 2,
      "metadata": {},
      "outputs": [
        {
          "ename": "ModuleNotFoundError",
          "evalue": "No module named 'catboost'",
          "output_type": "error",
          "traceback": [
            "\u001b[1;31m---------------------------------------------------------------------------\u001b[0m",
            "\u001b[1;31mModuleNotFoundError\u001b[0m                       Traceback (most recent call last)",
            "Cell \u001b[1;32mIn[2], line 1\u001b[0m\n\u001b[1;32m----> 1\u001b[0m \u001b[38;5;28;01mfrom\u001b[39;00m \u001b[38;5;21;01mcatboost\u001b[39;00m \u001b[38;5;28;01mimport\u001b[39;00m CatBoostRegressor\n\u001b[0;32m      2\u001b[0m \u001b[38;5;28;01mfrom\u001b[39;00m \u001b[38;5;21;01msklearn\u001b[39;00m\u001b[38;5;21;01m.\u001b[39;00m\u001b[38;5;21;01mmodel_selection\u001b[39;00m \u001b[38;5;28;01mimport\u001b[39;00m train_test_split\n\u001b[0;32m      4\u001b[0m \u001b[38;5;66;03m# STARTING HERE WILL BE CODE FOR THE RANDOM FOREST WITH THE FOOD GENERATOR\u001b[39;00m\n",
            "\u001b[1;31mModuleNotFoundError\u001b[0m: No module named 'catboost'"
          ]
        }
      ],
      "source": [
        "from catboost import CatBoostRegressor\n",
        "from sklearn.model_selection import train_test_split\n",
        "\n",
        "# STARTING HERE WILL BE CODE FOR THE RANDOM FOREST WITH THE FOOD GENERATOR\n",
        "foodData = pd.read_csv(\"FinalData/IndividualFoodData.csv\")\n",
        "\n",
        "print(foodData)\n",
        "\n",
        "# return to x the dataframe without the output column\n",
        "X = foodData.drop(\"Revenue\", axis=1)\n",
        "Y = foodData[\"Revenue\"]\n",
        "\n",
        "\n",
        "# want only a very small amount to be used for testing, because we don't have many points to begin with to train our model\n",
        "# what we do is split x into values that are used for training and ones used to evlaute model.\n",
        "X_train , X_test , Y_train, Y_test = train_test_split(X, Y, test_size=0.05, random_state=42)\n",
        "\n",
        "# defining elements for our forest. Ngl I don't know too much on what these do\n",
        "gradientBooster = CatBoostRegressor(\n",
        "    iterations=300,  # number of trees\n",
        "    depth=10,  # depth of each tree\n",
        "    learning_rate=0.1,  # how much to adjust each tree\n",
        "    random_state=42,\n",
        "    cat_features=[0]  # Indicate that 'food' column is categorical (index 0, or your actual column name)\n",
        ")\n",
        "\n",
        "# now fitting our forest to our train data\n",
        "gradientBooster.fit(X_train, Y_train)\n",
        "\n",
        "forest_preds_train = gradientBooster.predict(X_train)\n",
        "\n",
        "forest_preds_test = gradientBooster.predict(X_test)"
      ]
    }
  ],
  "metadata": {
    "colab": {
      "authorship_tag": "ABX9TyPS3LNTdRIavaNe0O1z8NU2",
      "include_colab_link": true,
      "provenance": []
    },
    "kernelspec": {
      "display_name": "base",
      "language": "python",
      "name": "python3"
    },
    "language_info": {
      "codemirror_mode": {
        "name": "ipython",
        "version": 3
      },
      "file_extension": ".py",
      "mimetype": "text/x-python",
      "name": "python",
      "nbconvert_exporter": "python",
      "pygments_lexer": "ipython3",
      "version": "3.11.5"
    }
  },
  "nbformat": 4,
  "nbformat_minor": 0
}
