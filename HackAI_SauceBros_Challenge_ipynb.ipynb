{
  "nbformat": 4,
  "nbformat_minor": 0,
  "metadata": {
    "colab": {
      "provenance": [],
      "authorship_tag": "ABX9TyPS3LNTdRIavaNe0O1z8NU2",
      "include_colab_link": true
    },
    "kernelspec": {
      "name": "python3",
      "display_name": "Python 3"
    },
    "language_info": {
      "name": "python"
    }
  },
  "cells": [
    {
      "cell_type": "markdown",
      "metadata": {
        "id": "view-in-github",
        "colab_type": "text"
      },
      "source": [
        "<a href=\"https://colab.research.google.com/github/AI01010/HackAI/blob/main/HackAI_SauceBros_Challenge_ipynb.ipynb\" target=\"_parent\"><img src=\"https://colab.research.google.com/assets/colab-badge.svg\" alt=\"Open In Colab\"/></a>"
      ]
    },
    {
      "cell_type": "markdown",
      "source": [
        "# Importing Necessary Libraries"
      ],
      "metadata": {
        "id": "UQd5QXXtvoZ8"
      }
    },
    {
      "cell_type": "code",
      "source": [
        "import pandas as pd\n",
        "import numpy as np\n",
        "import matplotlib.pyplot as plt\n",
        "import seaborn as sns"
      ],
      "metadata": {
        "id": "NMY-dKpZsAb3"
      },
      "execution_count": 46,
      "outputs": []
    },
    {
      "cell_type": "markdown",
      "source": [
        "# Loading Dataset"
      ],
      "metadata": {
        "id": "4vuTP5zovxe0"
      }
    },
    {
      "cell_type": "code",
      "source": [
        "#Mounting the drive\n",
        "from google.colab import drive\n",
        "drive.mount('/content/drive')"
      ],
      "metadata": {
        "colab": {
          "base_uri": "https://localhost:8080/"
        },
        "id": "XHINDSXjv1ic",
        "outputId": "ee117e03-2d50-4230-9768-66b827aa39c4"
      },
      "execution_count": 47,
      "outputs": [
        {
          "output_type": "stream",
          "name": "stdout",
          "text": [
            "Drive already mounted at /content/drive; to attempt to forcibly remount, call drive.mount(\"/content/drive\", force_remount=True).\n"
          ]
        }
      ]
    },
    {
      "cell_type": "code",
      "source": [
        "file_path_menu_breakdown = '/content/drive/My Drive/menu-breakdown-jan1-dec31-2023.csv'\n",
        "df_menu_breakdown = pd.read_csv(file_path_menu_breakdown)"
      ],
      "metadata": {
        "id": "MRTQAg4L0FdT"
      },
      "execution_count": 48,
      "outputs": []
    },
    {
      "cell_type": "markdown",
      "source": [
        "#Data Overview"
      ],
      "metadata": {
        "id": "aneAox656R_8"
      }
    },
    {
      "cell_type": "code",
      "source": [
        "print(df_menu_breakdown)"
      ],
      "metadata": {
        "id": "FVH5vp0_6UPl",
        "outputId": "e5453ff6-0d18-447b-bd7a-8426432e4c35",
        "colab": {
          "base_uri": "https://localhost:8080/"
        }
      },
      "execution_count": 49,
      "outputs": [
        {
          "output_type": "stream",
          "name": "stdout",
          "text": [
            "                          Sales Category       Item Name  Modifier  \\\n",
            "No Sales Category                    NaN             NaN       NaN   \n",
            "No Sales Category  Naga Habanero Chicken             NaN       NaN   \n",
            "No Sales Category  Naga Habanero Chicken  light cilantro       NaN   \n",
            "No Sales Category  Naga Habanero Chicken        Jalapeno       NaN   \n",
            "No Sales Category  Naga Habanero Chicken       Pepperoni       NaN   \n",
            "...                                  ...             ...       ...   \n",
            "Pizza                          Hot Honey             NaN       NaN   \n",
            "Pizza                 Red Peppers Bags 3             NaN       NaN   \n",
            "Pizza                         Side Basil             NaN       NaN   \n",
            "Pizza                      Side Cilantro             NaN       NaN   \n",
            "Pizza                            Soda 2L             NaN       NaN   \n",
            "\n",
            "                   Unnamed: 3  Avg Price  Quantity  Gross Sales  \\\n",
            "No Sales Category   16.230000     5119.0  83106.70          0.0   \n",
            "No Sales Category   22.333365      542.0  12025.89          0.0   \n",
            "No Sales Category         NaN        1.0      0.00          0.0   \n",
            "No Sales Category         NaN       15.0     14.85          0.0   \n",
            "No Sales Category         NaN       12.0     35.88          0.0   \n",
            "...                       ...        ...       ...          ...   \n",
            "Pizza                1.629344       81.0    129.19          0.4   \n",
            "Pizza                0.840000        7.0      6.13          0.0   \n",
            "Pizza                0.500000        1.0      0.50          0.0   \n",
            "Pizza                0.500000        1.0      0.50          0.0   \n",
            "Pizza                3.990000       10.0     39.90          0.0   \n",
            "\n",
            "                   Discount Amount  Net Sales  \n",
            "No Sales Category         83106.70        NaN  \n",
            "No Sales Category         12025.89        NaN  \n",
            "No Sales Category             0.00        NaN  \n",
            "No Sales Category            14.85        NaN  \n",
            "No Sales Category            35.88        NaN  \n",
            "...                            ...        ...  \n",
            "Pizza                       126.80        NaN  \n",
            "Pizza                         6.13        NaN  \n",
            "Pizza                         0.50        NaN  \n",
            "Pizza                         0.50        NaN  \n",
            "Pizza                        39.90        NaN  \n",
            "\n",
            "[1237 rows x 9 columns]\n"
          ]
        }
      ]
    },
    {
      "cell_type": "code",
      "source": [
        "df_menu_breakdown.dropna(inplace = True)\n",
        "print(df_menu_breakdown.to_string())"
      ],
      "metadata": {
        "id": "0iCqX-3l6aBZ",
        "outputId": "bf7a265e-b07f-4891-bc28-4baac8a37278",
        "colab": {
          "base_uri": "https://localhost:8080/"
        }
      },
      "execution_count": 50,
      "outputs": [
        {
          "output_type": "stream",
          "name": "stdout",
          "text": [
            "Empty DataFrame\n",
            "Columns: [Sales Category, Item Name, Modifier, Unnamed: 3, Avg Price, Quantity, Gross Sales, Discount Amount, Net Sales]\n",
            "Index: []\n"
          ]
        }
      ]
    }
  ]
}