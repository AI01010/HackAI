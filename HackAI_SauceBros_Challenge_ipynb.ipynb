{
  "cells": [
    {
      "cell_type": "markdown",
      "metadata": {
        "colab_type": "text",
        "id": "view-in-github"
      },
      "source": [
        "<a href=\"https://colab.research.google.com/github/AI01010/HackAI/blob/main/HackAI_SauceBros_Challenge_ipynb.ipynb\" target=\"_parent\"><img src=\"https://colab.research.google.com/assets/colab-badge.svg\" alt=\"Open In Colab\"/></a>"
      ]
    },
    {
      "cell_type": "markdown",
      "metadata": {
        "id": "UQd5QXXtvoZ8"
      },
      "source": [
        "# Importing Necessary Libraries"
      ]
    },
    {
      "cell_type": "code",
      "execution_count": 4,
      "metadata": {
        "id": "NMY-dKpZsAb3"
      },
      "outputs": [],
      "source": [
        "import pandas as pd\n",
        "import numpy as np\n",
        "import matplotlib.pyplot as plt\n",
        "import seaborn as sns"
      ]
    },
    {
      "cell_type": "markdown",
      "metadata": {
        "id": "4vuTP5zovxe0"
      },
      "source": [
        "# Loading Dataset"
      ]
    },
    {
      "cell_type": "code",
      "execution_count": 2,
      "metadata": {
        "colab": {
          "base_uri": "https://localhost:8080/"
        },
        "id": "XHINDSXjv1ic",
        "outputId": "4c5019aa-19ae-4782-9987-bf30446c7048"
      },
      "outputs": [
        {
          "ename": "ModuleNotFoundError",
          "evalue": "No module named 'google.colab'",
          "output_type": "error",
          "traceback": [
            "\u001b[1;31m---------------------------------------------------------------------------\u001b[0m",
            "\u001b[1;31mModuleNotFoundError\u001b[0m                       Traceback (most recent call last)",
            "Cell \u001b[1;32mIn[2], line 2\u001b[0m\n\u001b[0;32m      1\u001b[0m \u001b[38;5;66;03m#Mounting the drive\u001b[39;00m\n\u001b[1;32m----> 2\u001b[0m \u001b[38;5;28;01mfrom\u001b[39;00m \u001b[38;5;21;01mgoogle\u001b[39;00m\u001b[38;5;21;01m.\u001b[39;00m\u001b[38;5;21;01mcolab\u001b[39;00m \u001b[38;5;28;01mimport\u001b[39;00m drive\n\u001b[0;32m      3\u001b[0m drive\u001b[38;5;241m.\u001b[39mmount(\u001b[38;5;124m'\u001b[39m\u001b[38;5;124m/content/drive\u001b[39m\u001b[38;5;124m'\u001b[39m)\n",
            "\u001b[1;31mModuleNotFoundError\u001b[0m: No module named 'google.colab'"
          ]
        }
      ],
      "source": [
        "#Mounting the drive\n",
        "from google.colab import drive\n",
        "drive.mount('/content/drive')"
      ]
    },
    {
      "cell_type": "code",
      "execution_count": null,
      "metadata": {
        "id": "MRTQAg4L0FdT"
      },
      "outputs": [],
      "source": [
        "file_path_menu_breakdown = '/content/drive/My Drive/menu-breakdown-jan1-dec31-2023.csv'\n",
        "df_menu_breakdown = pd.read_csv(file_path_menu_breakdown)\n",
        "\n",
        "file_path_sales_2025 =  '/content/drive/My Drive/sales-by-date-jan1-apr18-2025.csv'\n",
        "df_sales_2025 = pd.read_csv(file_path_sales_2025)\n",
        "\n",
        "file_path_sales_2023_part1 = '/content/drive/My Drive/sales-by-date-jan1-dec31-2023.csv'\n",
        "df_sales_2023_part1 = pd.read_csv(file_path_sales_2023_part1)\n",
        "\n",
        "file_path_sales_2023_part2 = '/content/drive/My Drive/sales-by-date-jan1-dec31-2023 (1).csv'\n",
        "df_sales_2023_part2 = pd.read_csv(file_path_sales_2023_part2)\n",
        "\n",
        "file_path_sales_2024 = '/content/drive/My Drive/sales-by-date-jan1-dec31-2024.csv'\n",
        "df_sales_2024 = pd.read_csv(file_path_sales_2024)\n",
        "\n",
        "file_path_sales_time_2023 = '/content/drive/My Drive/sales-by-time-jan1-dec31-2023.csv'\n",
        "df_sales_time_2023 = pd.read_csv(file_path_sales_time_2023)\n",
        "\n",
        "file_path_sales_time_2024 = '/content/drive/My Drive/sales-by-time-jan1-dec31-2024.csv'\n",
        "df_sales_time_2024 = pd.read_csv(file_path_sales_time_2024)\n",
        "\n",
        "file_path_sales_time_2025 = '/content/drive/My Drive/sales-by-time-jan1-apr18-2025.csv'\n",
        "df_sales_time_2025 = pd.read_csv(file_path_sales_time_2025)\n",
        "\n",
        "file_path_sales_item_2023 = '/content/drive/My Drive/Item Sales 2023-01-01 - 2023-12-31.csv'\n",
        "df_sales_item_2023_copy = pd.read_csv(file_path_sales_item_2023)\n",
        "\n",
        "file_path_sales_item_2024 ='/content/drive/My Drive/Item Sales 2024-01-01 - 2024-12-31.csv'\n",
        "df_sales_item_2024 = pd.read_csv(file_path_sales_item_2024)\n",
        "\n",
        "\n"
      ]
    },
    {
      "cell_type": "markdown",
      "metadata": {
        "id": "aneAox656R_8"
      },
      "source": [
        "#Data Overview"
      ]
    },
    {
      "cell_type": "code",
      "execution_count": null,
      "metadata": {
        "colab": {
          "base_uri": "https://localhost:8080/"
        },
        "id": "FVH5vp0_6UPl",
        "outputId": "f2866357-6435-4f89-af92-6ee3db3c9554"
      },
      "outputs": [
        {
          "name": "stdout",
          "output_type": "stream",
          "text": [
            "                          Sales Category       Item Name  Modifier  \\\n",
            "No Sales Category                    NaN             NaN       NaN   \n",
            "No Sales Category  Naga Habanero Chicken             NaN       NaN   \n",
            "No Sales Category  Naga Habanero Chicken  light cilantro       NaN   \n",
            "No Sales Category  Naga Habanero Chicken        Jalapeno       NaN   \n",
            "No Sales Category  Naga Habanero Chicken       Pepperoni       NaN   \n",
            "...                                  ...             ...       ...   \n",
            "Pizza                          Hot Honey             NaN       NaN   \n",
            "Pizza                 Red Peppers Bags 3             NaN       NaN   \n",
            "Pizza                         Side Basil             NaN       NaN   \n",
            "Pizza                      Side Cilantro             NaN       NaN   \n",
            "Pizza                            Soda 2L             NaN       NaN   \n",
            "\n",
            "                   Unnamed: 3  Avg Price  Quantity  Gross Sales  \\\n",
            "No Sales Category   16.230000     5119.0  83106.70          0.0   \n",
            "No Sales Category   22.333365      542.0  12025.89          0.0   \n",
            "No Sales Category         NaN        1.0      0.00          0.0   \n",
            "No Sales Category         NaN       15.0     14.85          0.0   \n",
            "No Sales Category         NaN       12.0     35.88          0.0   \n",
            "...                       ...        ...       ...          ...   \n",
            "Pizza                1.629344       81.0    129.19          0.4   \n",
            "Pizza                0.840000        7.0      6.13          0.0   \n",
            "Pizza                0.500000        1.0      0.50          0.0   \n",
            "Pizza                0.500000        1.0      0.50          0.0   \n",
            "Pizza                3.990000       10.0     39.90          0.0   \n",
            "\n",
            "                   Discount Amount  Net Sales  \n",
            "No Sales Category         83106.70        NaN  \n",
            "No Sales Category         12025.89        NaN  \n",
            "No Sales Category             0.00        NaN  \n",
            "No Sales Category            14.85        NaN  \n",
            "No Sales Category            35.88        NaN  \n",
            "...                            ...        ...  \n",
            "Pizza                       126.80        NaN  \n",
            "Pizza                         6.13        NaN  \n",
            "Pizza                         0.50        NaN  \n",
            "Pizza                         0.50        NaN  \n",
            "Pizza                        39.90        NaN  \n",
            "\n",
            "[1237 rows x 9 columns]\n"
          ]
        }
      ],
      "source": [
        "print(df_menu_breakdown)"
      ]
    },
    {
      "cell_type": "code",
      "execution_count": null,
      "metadata": {
        "colab": {
          "base_uri": "https://localhost:8080/"
        },
        "id": "0iCqX-3l6aBZ",
        "outputId": "de7c9f1a-6d5f-470d-f10d-5b961a0181ba"
      },
      "outputs": [
        {
          "name": "stdout",
          "output_type": "stream",
          "text": [
            "                          Sales Category       Item Name  Modifier  \\\n",
            "No Sales Category                    NaN             NaN       NaN   \n",
            "No Sales Category  Naga Habanero Chicken             NaN       NaN   \n",
            "No Sales Category  Naga Habanero Chicken  light cilantro       NaN   \n",
            "No Sales Category  Naga Habanero Chicken        Jalapeno       NaN   \n",
            "No Sales Category  Naga Habanero Chicken       Pepperoni       NaN   \n",
            "...                                  ...             ...       ...   \n",
            "Pizza                          Hot Honey             NaN       NaN   \n",
            "Pizza                 Red Peppers Bags 3             NaN       NaN   \n",
            "Pizza                         Side Basil             NaN       NaN   \n",
            "Pizza                      Side Cilantro             NaN       NaN   \n",
            "Pizza                            Soda 2L             NaN       NaN   \n",
            "\n",
            "                   Unnamed: 3  Avg Price  Quantity  Gross Sales  \\\n",
            "No Sales Category   16.230000     5119.0  83106.70          0.0   \n",
            "No Sales Category   22.333365      542.0  12025.89          0.0   \n",
            "No Sales Category         NaN        1.0      0.00          0.0   \n",
            "No Sales Category         NaN       15.0     14.85          0.0   \n",
            "No Sales Category         NaN       12.0     35.88          0.0   \n",
            "...                       ...        ...       ...          ...   \n",
            "Pizza                1.629344       81.0    129.19          0.4   \n",
            "Pizza                0.840000        7.0      6.13          0.0   \n",
            "Pizza                0.500000        1.0      0.50          0.0   \n",
            "Pizza                0.500000        1.0      0.50          0.0   \n",
            "Pizza                3.990000       10.0     39.90          0.0   \n",
            "\n",
            "                   Discount Amount  \n",
            "No Sales Category         83106.70  \n",
            "No Sales Category         12025.89  \n",
            "No Sales Category             0.00  \n",
            "No Sales Category            14.85  \n",
            "No Sales Category            35.88  \n",
            "...                            ...  \n",
            "Pizza                       126.80  \n",
            "Pizza                         6.13  \n",
            "Pizza                         0.50  \n",
            "Pizza                         0.50  \n",
            "Pizza                        39.90  \n",
            "\n",
            "[1237 rows x 8 columns]\n"
          ]
        }
      ],
      "source": [
        "df_menu_breakdown_cleaned = df_menu_breakdown.copy()\n",
        "for col in df_menu_breakdown.columns:\n",
        "    if df_menu_breakdown[col].isnull().all():\n",
        "        df_menu_breakdown_cleaned = df_menu_breakdown_cleaned.drop(col, axis=1)\n",
        "\n",
        "print(df_menu_breakdown_cleaned)"
      ]
    },
    {
      "cell_type": "markdown",
      "metadata": {
        "id": "pwcreZs0noQB"
      },
      "source": [
        "#Sales by Date"
      ]
    },
    {
      "cell_type": "code",
      "execution_count": null,
      "metadata": {
        "colab": {
          "base_uri": "https://localhost:8080/"
        },
        "id": "JuSX2DWOQ-eR",
        "outputId": "3eafaa48-92fa-4465-f907-c735cb81b66c"
      },
      "outputs": [
        {
          "name": "stdout",
          "output_type": "stream",
          "text": [
            "<class 'pandas.core.frame.DataFrame'>\n",
            "Index: 108 entries, 01/01/2025 to 04/18/2025\n",
            "Data columns (total 4 columns):\n",
            " #   Column     Non-Null Count  Dtype         \n",
            "---  ------     --------------  -----         \n",
            " 0   Date       108 non-null    datetime64[ns]\n",
            " 1   Net Sales  108 non-null    int64         \n",
            " 2   Orders     108 non-null    int64         \n",
            " 3   Guests     0 non-null      float64       \n",
            "dtypes: datetime64[ns](1), float64(1), int64(2)\n",
            "memory usage: 8.3+ KB\n",
            "None\n",
            "                                    Date  Net Sales  Orders  Guests\n",
            "01/01/2025 1970-01-01 00:00:00.000000000          0       0     NaN\n",
            "01/02/2025 1970-01-01 00:00:00.000000347         11      11     NaN\n",
            "01/03/2025 1970-01-01 00:00:00.000000871         18      18     NaN\n",
            "01/04/2025 1970-01-01 00:00:00.000000447         15      15     NaN\n",
            "01/05/2025 1970-01-01 00:00:00.000000823         25      25     NaN\n",
            "...                                  ...        ...     ...     ...\n",
            "04/14/2025 1970-01-01 00:00:00.000000000          0       0     NaN\n",
            "04/15/2025 1970-01-01 00:00:00.000000669         24      24     NaN\n",
            "04/16/2025 1970-01-01 00:00:00.000000458         15      15     NaN\n",
            "04/17/2025 1970-01-01 00:00:00.000000784         26      26     NaN\n",
            "04/18/2025 1970-01-01 00:00:00.000001158         36      36     NaN\n",
            "\n",
            "[108 rows x 4 columns]\n"
          ]
        }
      ],
      "source": [
        "print(df_sales_2025.info())\n",
        "print(df_sales_2025)"
      ]
    },
    {
      "cell_type": "code",
      "execution_count": null,
      "metadata": {
        "colab": {
          "base_uri": "https://localhost:8080/"
        },
        "id": "nWTLEYINWvwY",
        "outputId": "d5af2df4-c09c-47a5-9f94-17457e684846"
      },
      "outputs": [
        {
          "name": "stdout",
          "output_type": "stream",
          "text": [
            "<class 'pandas.core.frame.DataFrame'>\n",
            "Index: 108 entries, 01/01/2025 to 04/18/2025\n",
            "Data columns (total 4 columns):\n",
            " #   Column     Non-Null Count  Dtype         \n",
            "---  ------     --------------  -----         \n",
            " 0   Date       108 non-null    datetime64[ns]\n",
            " 1   Net Sales  108 non-null    int64         \n",
            " 2   Orders     108 non-null    int64         \n",
            " 3   Guests     0 non-null      float64       \n",
            "dtypes: datetime64[ns](1), float64(1), int64(2)\n",
            "memory usage: 8.3+ KB\n",
            "None\n",
            "                                    Date  Net Sales  Orders  Guests\n",
            "01/01/2025 1970-01-01 00:00:00.000000000          0       0     NaN\n",
            "01/02/2025 1970-01-01 00:00:00.000000347         11      11     NaN\n",
            "01/03/2025 1970-01-01 00:00:00.000000871         18      18     NaN\n",
            "01/04/2025 1970-01-01 00:00:00.000000447         15      15     NaN\n",
            "01/05/2025 1970-01-01 00:00:00.000000823         25      25     NaN\n",
            "...                                  ...        ...     ...     ...\n",
            "04/14/2025 1970-01-01 00:00:00.000000000          0       0     NaN\n",
            "04/15/2025 1970-01-01 00:00:00.000000669         24      24     NaN\n",
            "04/16/2025 1970-01-01 00:00:00.000000458         15      15     NaN\n",
            "04/17/2025 1970-01-01 00:00:00.000000784         26      26     NaN\n",
            "04/18/2025 1970-01-01 00:00:00.000001158         36      36     NaN\n",
            "\n",
            "[108 rows x 4 columns]\n"
          ]
        }
      ],
      "source": [
        "df_sales_2025['Date'] = pd.to_datetime(df_sales_2025['Date'])\n",
        "print(df_sales_2025.info())\n",
        "print(df_sales_2025)"
      ]
    },
    {
      "cell_type": "code",
      "execution_count": null,
      "metadata": {
        "id": "pPoKbC21POMs"
      },
      "outputs": [],
      "source": [
        "df_sales_2025.to_csv('sales_2025_cleaned.csv', index=False)"
      ]
    },
    {
      "cell_type": "code",
      "execution_count": null,
      "metadata": {
        "colab": {
          "base_uri": "https://localhost:8080/"
        },
        "id": "wgetMbONYpKk",
        "outputId": "8584ebb6-137d-44a5-9991-267e9c6563b8"
      },
      "outputs": [
        {
          "name": "stdout",
          "output_type": "stream",
          "text": [
            "<class 'pandas.core.frame.DataFrame'>\n",
            "Index: 365 entries, 01/01/2023 to 12/31/2023\n",
            "Data columns (total 4 columns):\n",
            " #   Column     Non-Null Count  Dtype         \n",
            "---  ------     --------------  -----         \n",
            " 0   Date       365 non-null    datetime64[ns]\n",
            " 1   Net Sales  365 non-null    int64         \n",
            " 2   Orders     365 non-null    int64         \n",
            " 3   Guests     0 non-null      float64       \n",
            "dtypes: datetime64[ns](1), float64(1), int64(2)\n",
            "memory usage: 14.3+ KB\n",
            "None\n",
            "                                    Date  Net Sales  Orders  Guests\n",
            "01/01/2023 1970-01-01 00:00:00.000000493         15      15     NaN\n",
            "01/02/2023 1970-01-01 00:00:00.000000000          0       0     NaN\n",
            "01/03/2023 1970-01-01 00:00:00.000000360         12      12     NaN\n",
            "01/04/2023 1970-01-01 00:00:00.000000254          9       9     NaN\n",
            "01/05/2023 1970-01-01 00:00:00.000000405         16      16     NaN\n",
            "...                                  ...        ...     ...     ...\n",
            "12/27/2023 1970-01-01 00:00:00.000000672         17      17     NaN\n",
            "12/28/2023 1970-01-01 00:00:00.000000878         24      24     NaN\n",
            "12/29/2023 1970-01-01 00:00:00.000001284         32      32     NaN\n",
            "12/30/2023 1970-01-01 00:00:00.000001417         43      43     NaN\n",
            "12/31/2023 1970-01-01 00:00:00.000001136         31      31     NaN\n",
            "\n",
            "[365 rows x 4 columns]\n"
          ]
        }
      ],
      "source": [
        "print(df_sales_2023_part1.info())\n",
        "print(df_sales_2023_part1)"
      ]
    },
    {
      "cell_type": "code",
      "execution_count": null,
      "metadata": {
        "colab": {
          "base_uri": "https://localhost:8080/"
        },
        "id": "T-3aBpwlYxsd",
        "outputId": "1b3f9e2c-c983-4681-bc82-1051e1d0d49c"
      },
      "outputs": [
        {
          "name": "stdout",
          "output_type": "stream",
          "text": [
            "<class 'pandas.core.frame.DataFrame'>\n",
            "Index: 365 entries, 01/01/2023 to 12/31/2023\n",
            "Data columns (total 4 columns):\n",
            " #   Column     Non-Null Count  Dtype         \n",
            "---  ------     --------------  -----         \n",
            " 0   Date       365 non-null    datetime64[ns]\n",
            " 1   Net Sales  365 non-null    int64         \n",
            " 2   Orders     365 non-null    int64         \n",
            " 3   Guests     0 non-null      float64       \n",
            "dtypes: datetime64[ns](1), float64(1), int64(2)\n",
            "memory usage: 14.3+ KB\n",
            "None\n",
            "                                    Date  Net Sales  Orders  Guests\n",
            "01/01/2023 1970-01-01 00:00:00.000000493         15      15     NaN\n",
            "01/02/2023 1970-01-01 00:00:00.000000000          0       0     NaN\n",
            "01/03/2023 1970-01-01 00:00:00.000000360         12      12     NaN\n",
            "01/04/2023 1970-01-01 00:00:00.000000254          9       9     NaN\n",
            "01/05/2023 1970-01-01 00:00:00.000000405         16      16     NaN\n",
            "...                                  ...        ...     ...     ...\n",
            "12/27/2023 1970-01-01 00:00:00.000000672         17      17     NaN\n",
            "12/28/2023 1970-01-01 00:00:00.000000878         24      24     NaN\n",
            "12/29/2023 1970-01-01 00:00:00.000001284         32      32     NaN\n",
            "12/30/2023 1970-01-01 00:00:00.000001417         43      43     NaN\n",
            "12/31/2023 1970-01-01 00:00:00.000001136         31      31     NaN\n",
            "\n",
            "[365 rows x 4 columns]\n"
          ]
        }
      ],
      "source": [
        "df_sales_2023_part1['Date'] = pd.to_datetime(df_sales_2023_part1['Date'])\n",
        "print(df_sales_2023_part1.info())\n",
        "print(df_sales_2023_part1)"
      ]
    },
    {
      "cell_type": "code",
      "execution_count": null,
      "metadata": {
        "id": "T0dR2k-LPJdx"
      },
      "outputs": [],
      "source": [
        "df_sales_2023_part1.to_csv('sales_2023_part1_cleaned.csv', index=False)"
      ]
    },
    {
      "cell_type": "code",
      "execution_count": null,
      "metadata": {
        "colab": {
          "base_uri": "https://localhost:8080/"
        },
        "id": "95AkMP3yb_Wd",
        "outputId": "e8c706f1-9f61-437e-b4bb-57b91d23b3dc"
      },
      "outputs": [
        {
          "name": "stdout",
          "output_type": "stream",
          "text": [
            "<class 'pandas.core.frame.DataFrame'>\n",
            "Index: 365 entries, 01/01/2023 to 12/31/2023\n",
            "Data columns (total 4 columns):\n",
            " #   Column     Non-Null Count  Dtype         \n",
            "---  ------     --------------  -----         \n",
            " 0   Date       365 non-null    datetime64[ns]\n",
            " 1   Net Sales  365 non-null    int64         \n",
            " 2   Orders     365 non-null    int64         \n",
            " 3   Guests     0 non-null      float64       \n",
            "dtypes: datetime64[ns](1), float64(1), int64(2)\n",
            "memory usage: 14.3+ KB\n",
            "None\n"
          ]
        }
      ],
      "source": [
        "df_sales_2023_part2['Date'] = pd.to_datetime(df_sales_2023_part2['Date'])\n",
        "print(df_sales_2023_part2.info())"
      ]
    },
    {
      "cell_type": "code",
      "execution_count": null,
      "metadata": {
        "id": "84cEZj0xOyPK"
      },
      "outputs": [],
      "source": [
        "df_sales_2023_part2.to_csv('sales_2023_part2_cleaned.csv', index=False)"
      ]
    },
    {
      "cell_type": "code",
      "execution_count": null,
      "metadata": {
        "colab": {
          "base_uri": "https://localhost:8080/"
        },
        "id": "AdVP55kbfE36",
        "outputId": "d1390ef7-d36f-49e9-fc3b-576613d3e625"
      },
      "outputs": [
        {
          "name": "stdout",
          "output_type": "stream",
          "text": [
            "<class 'pandas.core.frame.DataFrame'>\n",
            "Index: 366 entries, 01/01/2024 to 12/31/2024\n",
            "Data columns (total 4 columns):\n",
            " #   Column     Non-Null Count  Dtype  \n",
            "---  ------     --------------  -----  \n",
            " 0   Date       366 non-null    float64\n",
            " 1   Net Sales  366 non-null    int64  \n",
            " 2   Orders     366 non-null    int64  \n",
            " 3   Guests     0 non-null      float64\n",
            "dtypes: float64(2), int64(2)\n",
            "memory usage: 14.3+ KB\n",
            "None\n",
            "              Date  Net Sales  Orders  Guests\n",
            "01/01/2024    0.00          0       0     NaN\n",
            "01/02/2024  656.12         19      19     NaN\n",
            "01/03/2024  666.52         17      17     NaN\n",
            "01/04/2024  373.35         12      12     NaN\n",
            "01/05/2024  817.98         24      24     NaN\n",
            "...            ...        ...     ...     ...\n",
            "12/27/2024  769.41         20      20     NaN\n",
            "12/28/2024  759.91         23      23     NaN\n",
            "12/29/2024  961.75         16      16     NaN\n",
            "12/30/2024    0.00          0       0     NaN\n",
            "12/31/2024  623.86         16      16     NaN\n",
            "\n",
            "[366 rows x 4 columns]\n"
          ]
        }
      ],
      "source": [
        "print(df_sales_2024.info())\n",
        "print(df_sales_2024)"
      ]
    },
    {
      "cell_type": "code",
      "execution_count": null,
      "metadata": {
        "colab": {
          "base_uri": "https://localhost:8080/"
        },
        "id": "Wq2h8N7zg7hR",
        "outputId": "9128584f-110a-41df-ff05-08f2ee9bb5f0"
      },
      "outputs": [
        {
          "name": "stdout",
          "output_type": "stream",
          "text": [
            "<class 'pandas.core.frame.DataFrame'>\n",
            "Index: 366 entries, 01/01/2024 to 12/31/2024\n",
            "Data columns (total 4 columns):\n",
            " #   Column     Non-Null Count  Dtype         \n",
            "---  ------     --------------  -----         \n",
            " 0   Date       366 non-null    datetime64[ns]\n",
            " 1   Net Sales  366 non-null    int64         \n",
            " 2   Orders     366 non-null    int64         \n",
            " 3   Guests     0 non-null      float64       \n",
            "dtypes: datetime64[ns](1), float64(1), int64(2)\n",
            "memory usage: 14.3+ KB\n",
            "None\n"
          ]
        }
      ],
      "source": [
        "df_sales_2024['Date'] = pd.to_datetime(df_sales_2024['Date'])\n",
        "print(df_sales_2024.info())"
      ]
    },
    {
      "cell_type": "code",
      "execution_count": null,
      "metadata": {
        "id": "QbWUnpXXOqJl"
      },
      "outputs": [],
      "source": [
        "df_sales_2024.to_csv('sales_2024_cleaned.csv', index=False)"
      ]
    },
    {
      "cell_type": "markdown",
      "metadata": {
        "id": "F71UhjJOnsG5"
      },
      "source": [
        "#Sales by Time"
      ]
    },
    {
      "cell_type": "code",
      "execution_count": null,
      "metadata": {
        "colab": {
          "base_uri": "https://localhost:8080/"
        },
        "id": "DVEs9JvQn45k",
        "outputId": "7714fa8e-9c6d-4e63-eb92-e456f2378707"
      },
      "outputs": [
        {
          "name": "stdout",
          "output_type": "stream",
          "text": [
            "<class 'pandas.core.frame.DataFrame'>\n",
            "Index: 16 entries, 12:00 AM to 11:00 PM\n",
            "Data columns (total 4 columns):\n",
            " #   Column     Non-Null Count  Dtype  \n",
            "---  ------     --------------  -----  \n",
            " 0   Time       16 non-null     float64\n",
            " 1   Net Sales  16 non-null     int64  \n",
            " 2   Orders     16 non-null     int64  \n",
            " 3   Guests     0 non-null      float64\n",
            "dtypes: float64(2), int64(2)\n",
            "memory usage: 640.0+ bytes\n"
          ]
        }
      ],
      "source": [
        "df_sales_time_2023.info()"
      ]
    },
    {
      "cell_type": "code",
      "execution_count": null,
      "metadata": {
        "colab": {
          "base_uri": "https://localhost:8080/"
        },
        "id": "-FnWZdhovhWD",
        "outputId": "22dee4e0-eae9-415e-a811-ca1ab22b2791"
      },
      "outputs": [
        {
          "name": "stdout",
          "output_type": "stream",
          "text": [
            "<class 'pandas.core.frame.DataFrame'>\n",
            "Index: 16 entries, 12:00 AM to 11:00 PM\n",
            "Data columns (total 4 columns):\n",
            " #   Column     Non-Null Count  Dtype         \n",
            "---  ------     --------------  -----         \n",
            " 0   Time       16 non-null     datetime64[ns]\n",
            " 1   Net Sales  16 non-null     int64         \n",
            " 2   Orders     16 non-null     int64         \n",
            " 3   Guests     0 non-null      float64       \n",
            "dtypes: datetime64[ns](1), float64(1), int64(2)\n",
            "memory usage: 640.0+ bytes\n",
            "None\n",
            "                                  Time  Net Sales  Orders  Guests\n",
            "12:00 AM 1970-01-01 00:00:00.000000380         18      18     NaN\n",
            "3:00 AM  1970-01-01 00:00:00.000000035          1       1     NaN\n",
            "5:00 AM  1970-01-01 00:00:00.000000025          1       1     NaN\n",
            "11:00 AM 1970-01-01 00:00:00.000000383         12      12     NaN\n",
            "12:00 PM 1970-01-01 00:00:00.000008077        242     242     NaN\n",
            "1:00 PM  1970-01-01 00:00:00.000006282        217     217     NaN\n",
            "2:00 PM  1970-01-01 00:00:00.000007907        244     244     NaN\n",
            "3:00 PM  1970-01-01 00:00:00.000011849        382     382     NaN\n",
            "4:00 PM  1970-01-01 00:00:00.000017227        520     520     NaN\n",
            "5:00 PM  1970-01-01 00:00:00.000031480        882     882     NaN\n",
            "6:00 PM  1970-01-01 00:00:00.000037710       1098    1098     NaN\n",
            "7:00 PM  1970-01-01 00:00:00.000033278        986     986     NaN\n",
            "8:00 PM  1970-01-01 00:00:00.000023993        757     757     NaN\n",
            "9:00 PM  1970-01-01 00:00:00.000018345        604     604     NaN\n",
            "10:00 PM 1970-01-01 00:00:00.000009742        316     316     NaN\n",
            "11:00 PM 1970-01-01 00:00:00.000002264         88      88     NaN\n"
          ]
        }
      ],
      "source": [
        "df_sales_time_2023['Time'] = pd.to_datetime(df_sales_time_2023['Time'])\n",
        "print(df_sales_time_2023.info())\n",
        "print(df_sales_time_2023)\n",
        "\n"
      ]
    },
    {
      "cell_type": "code",
      "execution_count": null,
      "metadata": {
        "id": "vhPvkwWxOlZ_"
      },
      "outputs": [],
      "source": [
        "df_sales_time_2023.to_csv('sales_time_2023_cleaned.csv', index=False)"
      ]
    },
    {
      "cell_type": "code",
      "execution_count": null,
      "metadata": {
        "colab": {
          "base_uri": "https://localhost:8080/"
        },
        "id": "zHY9BWbf0Bqx",
        "outputId": "7460b58f-0f11-4734-9221-18aec4130327"
      },
      "outputs": [
        {
          "name": "stdout",
          "output_type": "stream",
          "text": [
            "<class 'pandas.core.frame.DataFrame'>\n",
            "Index: 19 entries, 12:00 AM to 11:00 PM\n",
            "Data columns (total 4 columns):\n",
            " #   Column     Non-Null Count  Dtype         \n",
            "---  ------     --------------  -----         \n",
            " 0   Time       19 non-null     datetime64[ns]\n",
            " 1   Net Sales  19 non-null     int64         \n",
            " 2   Orders     19 non-null     int64         \n",
            " 3   Guests     0 non-null      float64       \n",
            "dtypes: datetime64[ns](1), float64(1), int64(2)\n",
            "memory usage: 760.0+ bytes\n",
            "None\n",
            "                                  Time  Net Sales  Orders  Guests\n",
            "12:00 AM 1970-01-01 00:00:00.000000098          3       3     NaN\n",
            "1:00 AM  1970-01-01 00:00:00.000000029          1       1     NaN\n",
            "3:00 AM  1970-01-01 00:00:00.000000071          1       1     NaN\n",
            "4:00 AM  1970-01-01 00:00:00.000000033          1       1     NaN\n",
            "7:00 AM  1970-01-01 00:00:00.000000242          1       1     NaN\n",
            "10:00 AM 1970-01-01 00:00:00.000000024          1       1     NaN\n",
            "11:00 AM 1970-01-01 00:00:00.000000773         20      20     NaN\n",
            "12:00 PM 1970-01-01 00:00:00.000009594        247     247     NaN\n",
            "1:00 PM  1970-01-01 00:00:00.000007811        202     202     NaN\n",
            "2:00 PM  1970-01-01 00:00:00.000011856        247     247     NaN\n",
            "3:00 PM  1970-01-01 00:00:00.000013926        398     398     NaN\n",
            "4:00 PM  1970-01-01 00:00:00.000016769        468     468     NaN\n",
            "5:00 PM  1970-01-01 00:00:00.000029609        777     777     NaN\n",
            "6:00 PM  1970-01-01 00:00:00.000038158       1045    1045     NaN\n",
            "7:00 PM  1970-01-01 00:00:00.000033700        950     950     NaN\n",
            "8:00 PM  1970-01-01 00:00:00.000024683        773     773     NaN\n",
            "9:00 PM  1970-01-01 00:00:00.000019813        674     674     NaN\n",
            "10:00 PM 1970-01-01 00:00:00.000010309        393     393     NaN\n",
            "11:00 PM 1970-01-01 00:00:00.000002011         83      83     NaN\n"
          ]
        }
      ],
      "source": [
        "df_sales_time_2024['Time'] = pd.to_datetime(df_sales_time_2024['Time'])\n",
        "print(df_sales_time_2024.info())\n",
        "print(df_sales_time_2024)"
      ]
    },
    {
      "cell_type": "code",
      "execution_count": null,
      "metadata": {
        "id": "oIokSBpeNxO_"
      },
      "outputs": [],
      "source": [
        "df_sales_time_2024.to_csv('sales_time_2024_cleaned.csv', index=False)"
      ]
    },
    {
      "cell_type": "code",
      "execution_count": null,
      "metadata": {
        "colab": {
          "base_uri": "https://localhost:8080/"
        },
        "id": "KMoH_9gY0x4l",
        "outputId": "db39ccdb-7feb-4594-f651-173718a3c2cb"
      },
      "outputs": [
        {
          "name": "stdout",
          "output_type": "stream",
          "text": [
            "<class 'pandas.core.frame.DataFrame'>\n",
            "Index: 16 entries, 12:00 AM to 11:00 PM\n",
            "Data columns (total 4 columns):\n",
            " #   Column     Non-Null Count  Dtype         \n",
            "---  ------     --------------  -----         \n",
            " 0   Time       16 non-null     datetime64[ns]\n",
            " 1   Net Sales  16 non-null     int64         \n",
            " 2   Orders     16 non-null     int64         \n",
            " 3   Guests     0 non-null      float64       \n",
            "dtypes: datetime64[ns](1), float64(1), int64(2)\n",
            "memory usage: 640.0+ bytes\n",
            "None\n",
            "                                  Time  Net Sales  Orders  Guests\n",
            "12:00 AM 1970-01-01 00:00:00.000000002          1       1     NaN\n",
            "3:00 AM  1970-01-01 00:00:00.000000099          1       1     NaN\n",
            "10:00 AM 1970-01-01 00:00:00.000000019          1       1     NaN\n",
            "11:00 AM 1970-01-01 00:00:00.000001068          9       9     NaN\n",
            "12:00 PM 1970-01-01 00:00:00.000004408        123     123     NaN\n",
            "1:00 PM  1970-01-01 00:00:00.000005593         89      89     NaN\n",
            "2:00 PM  1970-01-01 00:00:00.000004789        115     115     NaN\n",
            "3:00 PM  1970-01-01 00:00:00.000005038        151     151     NaN\n",
            "4:00 PM  1970-01-01 00:00:00.000008922        243     243     NaN\n",
            "5:00 PM  1970-01-01 00:00:00.000017214        417     417     NaN\n",
            "6:00 PM  1970-01-01 00:00:00.000021002        573     573     NaN\n",
            "7:00 PM  1970-01-01 00:00:00.000015062        436     436     NaN\n",
            "8:00 PM  1970-01-01 00:00:00.000007836        262     262     NaN\n",
            "9:00 PM  1970-01-01 00:00:00.000004497        155     155     NaN\n",
            "10:00 PM 1970-01-01 00:00:00.000003171        106     106     NaN\n",
            "11:00 PM 1970-01-01 00:00:00.000000305         13      13     NaN\n"
          ]
        }
      ],
      "source": [
        "df_sales_time_2025['Time'] = pd.to_datetime(df_sales_time_2025['Time'])\n",
        "print(df_sales_time_2025.info())\n",
        "print(df_sales_time_2025)"
      ]
    },
    {
      "cell_type": "code",
      "execution_count": null,
      "metadata": {
        "id": "rzFZYgGVNK6W"
      },
      "outputs": [],
      "source": [
        "df_sales_time_2025.to_csv('sales_time_2025_cleaned.csv', index=False)"
      ]
    },
    {
      "cell_type": "markdown",
      "metadata": {
        "id": "q7gpPHB723et"
      },
      "source": [
        "#Sales by Item"
      ]
    },
    {
      "cell_type": "code",
      "execution_count": null,
      "metadata": {
        "colab": {
          "base_uri": "https://localhost:8080/"
        },
        "id": "3NaneC4W3Vtp",
        "outputId": "2af7592c-59a0-4e85-e15b-932c3012eed9"
      },
      "outputs": [
        {
          "name": "stdout",
          "output_type": "stream",
          "text": [
            "<class 'pandas.core.frame.DataFrame'>\n",
            "RangeIndex: 53 entries, 0 to 52\n",
            "Data columns (total 3 columns):\n",
            " #   Column         Non-Null Count  Dtype \n",
            "---  ------         --------------  ----- \n",
            " 0   Item           53 non-null     object\n",
            " 1   Quantity Sold  53 non-null     int64 \n",
            " 2   Total Sales    53 non-null     object\n",
            "dtypes: int64(1), object(2)\n",
            "memory usage: 1.4+ KB\n",
            "None\n",
            "                                              Item  Quantity Sold Total Sales\n",
            "0                                     Chicken Wrap             83     $663.17\n",
            "1                                            Ranch            360     $578.40\n",
            "2                              Beef Chopped Cheese             59     $471.41\n",
            "3                                    Alfredo Pasta             41     $409.59\n",
            "4                                Naga Chicken Wrap             50     $389.50\n",
            "5                                         Naga Dip            185     $368.15\n",
            "6                                 Garlic Beef Wrap             46     $353.54\n",
            "7                                        Hot Honey            163     $324.37\n",
            "8                              Naga Habanero Pasta             27     $269.73\n",
            "9                               Tomato Basil Pasta             18     $179.82\n",
            "10                                      Soda (Can)             42     $117.25\n",
            "11                                Meatlovers Pizza            405      $99.95\n",
            "12                                     Paneer Wrap             10      $79.90\n",
            "13                                   Mushroom Wrap              7      $55.93\n",
            "14                               Soft Drinks (Can)             22      $43.28\n",
            "15                                   Aged Parmesan             17      $33.83\n",
            "16                                    Mushrom Wrap              4      $30.96\n",
            "17                                   Water (small)             13      $24.27\n",
            "18                              Red Peppers Bags 3             21      $18.79\n",
            "19                                 Parmesan Bags 3             15      $12.45\n",
            "20                                   Side Jalapeno             11      $10.89\n",
            "21                                    Chicken Wrap              1       $7.99\n",
            "22                             Beef Chopped Cheese              1       $7.99\n",
            "23                                      Side Basil             10       $5.54\n",
            "24                                     Side Olives              5       $4.95\n",
            "25                             Side Banana Peppers              3       $2.97\n",
            "26                                   Side Cilantro              5       $2.86\n",
            "27                           4Cheez with Hot Honey            162       $0.00\n",
            "28                          Naga Habanero Mushroom             44       $0.00\n",
            "29                                  Chicken Bianca             93       $0.00\n",
            "30                             Spicy Naga Balachao             12       $0.00\n",
            "31                                      Taco Pizza              6       $0.00\n",
            "32                             Spicy Naga Mushroom             10       $0.00\n",
            "33                                    Veggie Pizza             70       $0.00\n",
            "34                                   Spicy Italian              5       $0.00\n",
            "35                            Alfredo Cheese Pizza             68       $0.00\n",
            "36                                   Bongo Tex Mex             30       $0.00\n",
            "37                                      Korean BBQ             26       $0.00\n",
            "38                          Naga Habanero Balachao             20       $0.00\n",
            "39                              Spicy Naga Chicken            220       $0.00\n",
            "40                            Naga Habanero Paneer             64       $0.00\n",
            "41                                   Pepper Lovers             26       $0.00\n",
            "42                                 Harissa Chicken            183       $0.00\n",
            "43                                   Cheddar Birds             26       $0.00\n",
            "44                      Bros favorite Cheese Pizza            366       $0.00\n",
            "45                           Naga Habanero Chicken            277       $0.00\n",
            "46                                 Beef Taco Pizza            102       $0.00\n",
            "47                            Garlic Ghee Mushroom            169       $0.00\n",
            "48                                Customized Pizza             70       $0.00\n",
            "49                                Garlic Artichoke              4       $0.00\n",
            "50  Jhura Beef Pesto (contains Pine & Cashew Nuts)             91       $0.00\n",
            "51              Bengali Beef Pesto (Contains Nuts)            105       $0.00\n",
            "52                                  Beef Pepperoni            524       $0.00\n"
          ]
        }
      ],
      "source": [
        "print(df_sales_item_2023_copy.info())\n",
        "print(df_sales_item_2023_copy)\n",
        "\n",
        "\n",
        "\n"
      ]
    },
    {
      "cell_type": "code",
      "execution_count": null,
      "metadata": {
        "colab": {
          "base_uri": "https://localhost:8080/"
        },
        "id": "0uawor3789Md",
        "outputId": "89c355d5-e3c2-40e6-e040-b3639bd7ec1f"
      },
      "outputs": [
        {
          "name": "stdout",
          "output_type": "stream",
          "text": [
            "<class 'pandas.core.frame.DataFrame'>\n",
            "RangeIndex: 53 entries, 0 to 52\n",
            "Data columns (total 3 columns):\n",
            " #   Column         Non-Null Count  Dtype  \n",
            "---  ------         --------------  -----  \n",
            " 0   Item           53 non-null     object \n",
            " 1   Quantity Sold  53 non-null     int64  \n",
            " 2   Total Sales    53 non-null     float64\n",
            "dtypes: float64(1), int64(1), object(1)\n",
            "memory usage: 1.4+ KB\n",
            "None\n",
            "                                              Item  Quantity Sold  Total Sales\n",
            "0                                     Chicken Wrap             83       663.17\n",
            "1                                            Ranch            360       578.40\n",
            "2                              Beef Chopped Cheese             59       471.41\n",
            "3                                    Alfredo Pasta             41       409.59\n",
            "4                                Naga Chicken Wrap             50       389.50\n",
            "5                                         Naga Dip            185       368.15\n",
            "6                                 Garlic Beef Wrap             46       353.54\n",
            "7                                        Hot Honey            163       324.37\n",
            "8                              Naga Habanero Pasta             27       269.73\n",
            "9                               Tomato Basil Pasta             18       179.82\n",
            "10                                      Soda (Can)             42       117.25\n",
            "11                                Meatlovers Pizza            405        99.95\n",
            "12                                     Paneer Wrap             10        79.90\n",
            "13                                   Mushroom Wrap              7        55.93\n",
            "14                               Soft Drinks (Can)             22        43.28\n",
            "15                                   Aged Parmesan             17        33.83\n",
            "16                                    Mushrom Wrap              4        30.96\n",
            "17                                   Water (small)             13        24.27\n",
            "18                              Red Peppers Bags 3             21        18.79\n",
            "19                                 Parmesan Bags 3             15        12.45\n",
            "20                                   Side Jalapeno             11        10.89\n",
            "21                                    Chicken Wrap              1         7.99\n",
            "22                             Beef Chopped Cheese              1         7.99\n",
            "23                                      Side Basil             10         5.54\n",
            "24                                     Side Olives              5         4.95\n",
            "25                             Side Banana Peppers              3         2.97\n",
            "26                                   Side Cilantro              5         2.86\n",
            "27                           4Cheez with Hot Honey            162         0.00\n",
            "28                          Naga Habanero Mushroom             44         0.00\n",
            "29                                  Chicken Bianca             93         0.00\n",
            "30                             Spicy Naga Balachao             12         0.00\n",
            "31                                      Taco Pizza              6         0.00\n",
            "32                             Spicy Naga Mushroom             10         0.00\n",
            "33                                    Veggie Pizza             70         0.00\n",
            "34                                   Spicy Italian              5         0.00\n",
            "35                            Alfredo Cheese Pizza             68         0.00\n",
            "36                                   Bongo Tex Mex             30         0.00\n",
            "37                                      Korean BBQ             26         0.00\n",
            "38                          Naga Habanero Balachao             20         0.00\n",
            "39                              Spicy Naga Chicken            220         0.00\n",
            "40                            Naga Habanero Paneer             64         0.00\n",
            "41                                   Pepper Lovers             26         0.00\n",
            "42                                 Harissa Chicken            183         0.00\n",
            "43                                   Cheddar Birds             26         0.00\n",
            "44                      Bros favorite Cheese Pizza            366         0.00\n",
            "45                           Naga Habanero Chicken            277         0.00\n",
            "46                                 Beef Taco Pizza            102         0.00\n",
            "47                            Garlic Ghee Mushroom            169         0.00\n",
            "48                                Customized Pizza             70         0.00\n",
            "49                                Garlic Artichoke              4         0.00\n",
            "50  Jhura Beef Pesto (contains Pine & Cashew Nuts)             91         0.00\n",
            "51              Bengali Beef Pesto (Contains Nuts)            105         0.00\n",
            "52                                  Beef Pepperoni            524         0.00\n"
          ]
        }
      ],
      "source": [
        "df_sales_item_2023_copy['Total Sales'] = df_sales_item_2023_copy['Total Sales'].astype(str).str.replace('$', '').str.replace(',', '').astype(float)\n",
        "print(df_sales_item_2023_copy.info())\n",
        "print(df_sales_item_2023_copy)\n"
      ]
    },
    {
      "cell_type": "code",
      "execution_count": null,
      "metadata": {
        "colab": {
          "base_uri": "https://localhost:8080/"
        },
        "id": "9KA4gb9zA9SG",
        "outputId": "196ea8d6-6fad-4f00-d7de-c2df0222aacf"
      },
      "outputs": [
        {
          "name": "stdout",
          "output_type": "stream",
          "text": [
            "Item\n",
            "Chicken Wrap                                      2\n",
            "Beef Chopped Cheese                               2\n",
            "Ranch                                             1\n",
            "Alfredo Pasta                                     1\n",
            "Naga Chicken Wrap                                 1\n",
            "Naga Dip                                          1\n",
            "Garlic Beef Wrap                                  1\n",
            "Hot Honey                                         1\n",
            "Naga Habanero Pasta                               1\n",
            "Tomato Basil Pasta                                1\n",
            "Soda (Can)                                        1\n",
            "Meatlovers Pizza                                  1\n",
            "Paneer Wrap                                       1\n",
            "Mushroom Wrap                                     1\n",
            "Soft Drinks (Can)                                 1\n",
            "Aged Parmesan                                     1\n",
            "Mushrom Wrap                                      1\n",
            "Water (small)                                     1\n",
            "Red Peppers Bags 3                                1\n",
            "Parmesan Bags 3                                   1\n",
            "Side Jalapeno                                     1\n",
            "Side Basil                                        1\n",
            "Side Olives                                       1\n",
            "Side Banana Peppers                               1\n",
            "Side Cilantro                                     1\n",
            "4Cheez with Hot Honey                             1\n",
            "Naga Habanero Mushroom                            1\n",
            "Chicken Bianca                                    1\n",
            "Spicy Naga Balachao                               1\n",
            "Taco Pizza                                        1\n",
            "Spicy Naga Mushroom                               1\n",
            "Veggie Pizza                                      1\n",
            "Spicy Italian                                     1\n",
            "Alfredo Cheese Pizza                              1\n",
            "Bongo Tex Mex                                     1\n",
            "Korean BBQ                                        1\n",
            "Naga Habanero Balachao                            1\n",
            "Spicy Naga Chicken                                1\n",
            "Naga Habanero Paneer                              1\n",
            "Pepper Lovers                                     1\n",
            "Harissa Chicken                                   1\n",
            "Cheddar Birds                                     1\n",
            "Bros favorite Cheese Pizza                        1\n",
            "Naga Habanero Chicken                             1\n",
            "Beef Taco Pizza                                   1\n",
            "Garlic Ghee Mushroom                              1\n",
            "Customized Pizza                                  1\n",
            "Garlic Artichoke                                  1\n",
            "Jhura Beef Pesto (contains Pine & Cashew Nuts)    1\n",
            "Bengali Beef Pesto (Contains Nuts)                1\n",
            "Beef Pepperoni                                    1\n",
            "Name: count, dtype: int64\n"
          ]
        }
      ],
      "source": [
        "item_frequencies = df_sales_item_2023_copy['Item'].value_counts()\n",
        "print(item_frequencies)"
      ]
    },
    {
      "cell_type": "code",
      "execution_count": null,
      "metadata": {
        "id": "tIf0U2lUNDqV"
      },
      "outputs": [],
      "source": [
        "df_sales_item_2023_copy.to_csv('sales_item_2023_cleaned.csv', index=False)"
      ]
    },
    {
      "cell_type": "code",
      "execution_count": null,
      "metadata": {
        "colab": {
          "base_uri": "https://localhost:8080/"
        },
        "id": "gw6B99eIJG8G",
        "outputId": "fda92c49-8bb8-4493-b807-983587c44861"
      },
      "outputs": [
        {
          "name": "stdout",
          "output_type": "stream",
          "text": [
            "<class 'pandas.core.frame.DataFrame'>\n",
            "RangeIndex: 36 entries, 0 to 35\n",
            "Data columns (total 3 columns):\n",
            " #   Column         Non-Null Count  Dtype  \n",
            "---  ------         --------------  -----  \n",
            " 0   Item           36 non-null     object \n",
            " 1   Quantity Sold  36 non-null     int64  \n",
            " 2   Total Sales    36 non-null     float64\n",
            "dtypes: float64(1), int64(1), object(1)\n",
            "memory usage: 996.0+ bytes\n",
            "None\n",
            "                                  Item  Quantity Sold  Total Sales\n",
            "0                        Alfredo Pasta             79       789.21\n",
            "1                         Chicken Wrap             94       751.06\n",
            "2                  Beef Chopped Cheese             80       639.20\n",
            "3                   Tomato Basil Pasta             49       489.51\n",
            "4                                Ranch            343       339.57\n",
            "5                             Naga Dip            148       294.52\n",
            "6                            Hot Honey            140       278.60\n",
            "7                  Naga Habanero Pasta             27       269.73\n",
            "8                           Soda (Can)             71       177.50\n",
            "9                          Paneer Wrap             18       143.82\n",
            "10                       Mushroom Wrap             12        95.88\n",
            "11                     Parmesan Bags 3             26        25.74\n",
            "12                  Red Peppers Bags 3             20        19.80\n",
            "13                       Water (small)              5         9.95\n",
            "14                       Side Jalapeno              6         5.94\n",
            "15                         Side Olives              5         4.95\n",
            "16                          Side Basil              3         1.50\n",
            "17                       Side Cilantro              1         0.50\n",
            "18               Naga Habanero Chicken            475         0.00\n",
            "19                    Garlic Artichoke             61         0.00\n",
            "20  Bengali Beef Pesto (Contains Nuts)            178         0.00\n",
            "21                        Veggie Pizza            132         0.00\n",
            "22               4Cheez with Hot Honey            165         0.00\n",
            "23                Alfredo Cheese Pizza             44         0.00\n",
            "24                      Beef Pepperoni            520         0.00\n",
            "25                     Alfredo Chicken            121         0.00\n",
            "26              Naga Habanero Mushroom             63         0.00\n",
            "27                    Meatlovers Pizza            425         0.00\n",
            "28                Garlic Ghee Mushroom            104         0.00\n",
            "29                    Customized Pizza             79         0.00\n",
            "30                     Beef Taco Pizza            170         0.00\n",
            "31                Classic Cheese Pizza            376         0.00\n",
            "32                     Harissa Chicken            233         0.00\n",
            "33              Naga Habanero Balachao             21         0.00\n",
            "34                          Korean BBQ            198         0.00\n",
            "35                Naga Habanero Paneer             94         0.00\n"
          ]
        }
      ],
      "source": [
        "df_sales_item_2024['Total Sales'] = df_sales_item_2024['Total Sales'].astype(str).str.replace('$', '').str.replace(',', '').astype(float)\n",
        "print(df_sales_item_2024.info())\n",
        "print(df_sales_item_2024)"
      ]
    },
    {
      "cell_type": "code",
      "execution_count": null,
      "metadata": {
        "id": "1ptS8AHHM18V"
      },
      "outputs": [],
      "source": [
        "df_sales_item_2024.to_csv('sales_item_2024_cleaned.csv', index=False)"
      ]
    },
    {
      "cell_type": "code",
      "execution_count": 20,
      "metadata": {},
      "outputs": [
        {
          "name": "stdout",
          "output_type": "stream",
          "text": [
            "                      Food  Date   Revenue\n",
            "0               Korean BBQ  2023    801.57\n",
            "1    Naga Habanero Chicken  2023  14443.13\n",
            "2       Spicy Naga Chicken  2023  10830.08\n",
            "3          Beef Taco Pizza  2023   3267.07\n",
            "4               Taco Pizza  2023    457.78\n",
            "..                     ...   ...       ...\n",
            "134            Side Olives  2025      1.98\n",
            "135          Side Jalapeno  2025      0.99\n",
            "136       Side Garlic Mayo  2025     15.84\n",
            "137         Marinara Sauce  2025     13.93\n",
            "138                14\" Pie  2025    180.00\n",
            "\n",
            "[139 rows x 3 columns]\n",
            "Epoch 1/100\n"
          ]
        },
        {
          "name": "stderr",
          "output_type": "stream",
          "text": [
            "C:\\Users\\mahd\\AppData\\Local\\Packages\\PythonSoftwareFoundation.Python.3.12_qbz5n2kfra8p0\\LocalCache\\local-packages\\Python312\\site-packages\\keras\\src\\layers\\core\\dense.py:87: UserWarning: Do not pass an `input_shape`/`input_dim` argument to a layer. When using Sequential models, prefer using an `Input(shape)` object as the first layer in the model instead.\n",
            "  super().__init__(activity_regularizer=activity_regularizer, **kwargs)\n"
          ]
        },
        {
          "name": "stdout",
          "output_type": "stream",
          "text": [
            "\u001b[1m7/7\u001b[0m \u001b[32m━━━━━━━━━━━━━━━━━━━━\u001b[0m\u001b[37m\u001b[0m \u001b[1m1s\u001b[0m 39ms/step - loss: 22001606.0000 - val_loss: 3027251.0000\n",
            "Epoch 2/100\n",
            "\u001b[1m7/7\u001b[0m \u001b[32m━━━━━━━━━━━━━━━━━━━━\u001b[0m\u001b[37m\u001b[0m \u001b[1m0s\u001b[0m 12ms/step - loss: 25823622.0000 - val_loss: 3021496.2500\n",
            "Epoch 3/100\n",
            "\u001b[1m7/7\u001b[0m \u001b[32m━━━━━━━━━━━━━━━━━━━━\u001b[0m\u001b[37m\u001b[0m \u001b[1m0s\u001b[0m 16ms/step - loss: 23256276.0000 - val_loss: 3015562.5000\n",
            "Epoch 4/100\n",
            "\u001b[1m7/7\u001b[0m \u001b[32m━━━━━━━━━━━━━━━━━━━━\u001b[0m\u001b[37m\u001b[0m \u001b[1m0s\u001b[0m 32ms/step - loss: 26833264.0000 - val_loss: 3009656.5000\n",
            "Epoch 5/100\n",
            "\u001b[1m7/7\u001b[0m \u001b[32m━━━━━━━━━━━━━━━━━━━━\u001b[0m\u001b[37m\u001b[0m \u001b[1m0s\u001b[0m 10ms/step - loss: 20096828.0000 - val_loss: 3003208.5000\n",
            "Epoch 6/100\n",
            "\u001b[1m7/7\u001b[0m \u001b[32m━━━━━━━━━━━━━━━━━━━━\u001b[0m\u001b[37m\u001b[0m \u001b[1m0s\u001b[0m 20ms/step - loss: 16242094.0000 - val_loss: 2996093.5000\n",
            "Epoch 7/100\n",
            "\u001b[1m7/7\u001b[0m \u001b[32m━━━━━━━━━━━━━━━━━━━━\u001b[0m\u001b[37m\u001b[0m \u001b[1m0s\u001b[0m 10ms/step - loss: 33412512.0000 - val_loss: 2987630.7500\n",
            "Epoch 8/100\n",
            "\u001b[1m7/7\u001b[0m \u001b[32m━━━━━━━━━━━━━━━━━━━━\u001b[0m\u001b[37m\u001b[0m \u001b[1m0s\u001b[0m 13ms/step - loss: 14563436.0000 - val_loss: 2978772.2500\n",
            "Epoch 9/100\n",
            "\u001b[1m7/7\u001b[0m \u001b[32m━━━━━━━━━━━━━━━━━━━━\u001b[0m\u001b[37m\u001b[0m \u001b[1m0s\u001b[0m 19ms/step - loss: 16940558.0000 - val_loss: 2967383.7500\n",
            "Epoch 10/100\n",
            "\u001b[1m7/7\u001b[0m \u001b[32m━━━━━━━━━━━━━━━━━━━━\u001b[0m\u001b[37m\u001b[0m \u001b[1m0s\u001b[0m 14ms/step - loss: 15019278.0000 - val_loss: 2953493.0000\n",
            "Epoch 11/100\n",
            "\u001b[1m7/7\u001b[0m \u001b[32m━━━━━━━━━━━━━━━━━━━━\u001b[0m\u001b[37m\u001b[0m \u001b[1m0s\u001b[0m 15ms/step - loss: 24819684.0000 - val_loss: 2937135.5000\n",
            "Epoch 12/100\n",
            "\u001b[1m7/7\u001b[0m \u001b[32m━━━━━━━━━━━━━━━━━━━━\u001b[0m\u001b[37m\u001b[0m \u001b[1m0s\u001b[0m 17ms/step - loss: 23832820.0000 - val_loss: 2918961.2500\n",
            "Epoch 13/100\n",
            "\u001b[1m7/7\u001b[0m \u001b[32m━━━━━━━━━━━━━━━━━━━━\u001b[0m\u001b[37m\u001b[0m \u001b[1m0s\u001b[0m 14ms/step - loss: 15964696.0000 - val_loss: 2899136.0000\n",
            "Epoch 14/100\n",
            "\u001b[1m7/7\u001b[0m \u001b[32m━━━━━━━━━━━━━━━━━━━━\u001b[0m\u001b[37m\u001b[0m \u001b[1m0s\u001b[0m 12ms/step - loss: 15880810.0000 - val_loss: 2875566.7500\n",
            "Epoch 15/100\n",
            "\u001b[1m7/7\u001b[0m \u001b[32m━━━━━━━━━━━━━━━━━━━━\u001b[0m\u001b[37m\u001b[0m \u001b[1m0s\u001b[0m 13ms/step - loss: 23058936.0000 - val_loss: 2848474.5000\n",
            "Epoch 16/100\n",
            "\u001b[1m7/7\u001b[0m \u001b[32m━━━━━━━━━━━━━━━━━━━━\u001b[0m\u001b[37m\u001b[0m \u001b[1m0s\u001b[0m 12ms/step - loss: 13750924.0000 - val_loss: 2821430.7500\n",
            "Epoch 17/100\n",
            "\u001b[1m7/7\u001b[0m \u001b[32m━━━━━━━━━━━━━━━━━━━━\u001b[0m\u001b[37m\u001b[0m \u001b[1m0s\u001b[0m 12ms/step - loss: 23830062.0000 - val_loss: 2791058.5000\n",
            "Epoch 18/100\n",
            "\u001b[1m7/7\u001b[0m \u001b[32m━━━━━━━━━━━━━━━━━━━━\u001b[0m\u001b[37m\u001b[0m \u001b[1m0s\u001b[0m 11ms/step - loss: 24587596.0000 - val_loss: 2760004.5000\n",
            "Epoch 19/100\n",
            "\u001b[1m7/7\u001b[0m \u001b[32m━━━━━━━━━━━━━━━━━━━━\u001b[0m\u001b[37m\u001b[0m \u001b[1m0s\u001b[0m 11ms/step - loss: 17302744.0000 - val_loss: 2728559.7500\n",
            "Epoch 20/100\n",
            "\u001b[1m7/7\u001b[0m \u001b[32m━━━━━━━━━━━━━━━━━━━━\u001b[0m\u001b[37m\u001b[0m \u001b[1m0s\u001b[0m 13ms/step - loss: 15862390.0000 - val_loss: 2698146.2500\n",
            "Epoch 21/100\n",
            "\u001b[1m7/7\u001b[0m \u001b[32m━━━━━━━━━━━━━━━━━━━━\u001b[0m\u001b[37m\u001b[0m \u001b[1m0s\u001b[0m 10ms/step - loss: 17495068.0000 - val_loss: 2666394.7500\n",
            "Epoch 22/100\n",
            "\u001b[1m7/7\u001b[0m \u001b[32m━━━━━━━━━━━━━━━━━━━━\u001b[0m\u001b[37m\u001b[0m \u001b[1m0s\u001b[0m 13ms/step - loss: 19689056.0000 - val_loss: 2636943.5000\n",
            "Epoch 23/100\n",
            "\u001b[1m7/7\u001b[0m \u001b[32m━━━━━━━━━━━━━━━━━━━━\u001b[0m\u001b[37m\u001b[0m \u001b[1m0s\u001b[0m 12ms/step - loss: 18136382.0000 - val_loss: 2611051.0000\n",
            "Epoch 24/100\n",
            "\u001b[1m7/7\u001b[0m \u001b[32m━━━━━━━━━━━━━━━━━━━━\u001b[0m\u001b[37m\u001b[0m \u001b[1m0s\u001b[0m 16ms/step - loss: 29578286.0000 - val_loss: 2589721.2500\n",
            "Epoch 25/100\n",
            "\u001b[1m7/7\u001b[0m \u001b[32m━━━━━━━━━━━━━━━━━━━━\u001b[0m\u001b[37m\u001b[0m \u001b[1m0s\u001b[0m 16ms/step - loss: 17078736.0000 - val_loss: 2574192.5000\n",
            "Epoch 26/100\n",
            "\u001b[1m7/7\u001b[0m \u001b[32m━━━━━━━━━━━━━━━━━━━━\u001b[0m\u001b[37m\u001b[0m \u001b[1m0s\u001b[0m 10ms/step - loss: 16058412.0000 - val_loss: 2564053.5000\n",
            "Epoch 27/100\n",
            "\u001b[1m7/7\u001b[0m \u001b[32m━━━━━━━━━━━━━━━━━━━━\u001b[0m\u001b[37m\u001b[0m \u001b[1m0s\u001b[0m 21ms/step - loss: 18810980.0000 - val_loss: 2561373.2500\n",
            "Epoch 28/100\n",
            "\u001b[1m7/7\u001b[0m \u001b[32m━━━━━━━━━━━━━━━━━━━━\u001b[0m\u001b[37m\u001b[0m \u001b[1m0s\u001b[0m 10ms/step - loss: 12478668.0000 - val_loss: 2566085.0000\n",
            "Epoch 29/100\n",
            "\u001b[1m7/7\u001b[0m \u001b[32m━━━━━━━━━━━━━━━━━━━━\u001b[0m\u001b[37m\u001b[0m \u001b[1m0s\u001b[0m 11ms/step - loss: 19198746.0000 - val_loss: 2579914.7500\n",
            "Epoch 30/100\n",
            "\u001b[1m7/7\u001b[0m \u001b[32m━━━━━━━━━━━━━━━━━━━━\u001b[0m\u001b[37m\u001b[0m \u001b[1m0s\u001b[0m 10ms/step - loss: 11245387.0000 - val_loss: 2598136.0000\n",
            "Epoch 31/100\n",
            "\u001b[1m7/7\u001b[0m \u001b[32m━━━━━━━━━━━━━━━━━━━━\u001b[0m\u001b[37m\u001b[0m \u001b[1m0s\u001b[0m 12ms/step - loss: 21050146.0000 - val_loss: 2629786.2500\n",
            "Epoch 32/100\n",
            "\u001b[1m7/7\u001b[0m \u001b[32m━━━━━━━━━━━━━━━━━━━━\u001b[0m\u001b[37m\u001b[0m \u001b[1m0s\u001b[0m 12ms/step - loss: 15542055.0000 - val_loss: 2668890.5000\n",
            "Epoch 33/100\n",
            "\u001b[1m7/7\u001b[0m \u001b[32m━━━━━━━━━━━━━━━━━━━━\u001b[0m\u001b[37m\u001b[0m \u001b[1m0s\u001b[0m 11ms/step - loss: 18376032.0000 - val_loss: 2708101.2500\n",
            "Epoch 34/100\n",
            "\u001b[1m7/7\u001b[0m \u001b[32m━━━━━━━━━━━━━━━━━━━━\u001b[0m\u001b[37m\u001b[0m \u001b[1m0s\u001b[0m 15ms/step - loss: 19733562.0000 - val_loss: 2761021.7500\n",
            "Epoch 35/100\n",
            "\u001b[1m7/7\u001b[0m \u001b[32m━━━━━━━━━━━━━━━━━━━━\u001b[0m\u001b[37m\u001b[0m \u001b[1m0s\u001b[0m 11ms/step - loss: 19277944.0000 - val_loss: 2808115.7500\n",
            "Epoch 36/100\n",
            "\u001b[1m7/7\u001b[0m \u001b[32m━━━━━━━━━━━━━━━━━━━━\u001b[0m\u001b[37m\u001b[0m \u001b[1m0s\u001b[0m 12ms/step - loss: 16936426.0000 - val_loss: 2856513.7500\n",
            "Epoch 37/100\n",
            "\u001b[1m7/7\u001b[0m \u001b[32m━━━━━━━━━━━━━━━━━━━━\u001b[0m\u001b[37m\u001b[0m \u001b[1m0s\u001b[0m 19ms/step - loss: 18683054.0000 - val_loss: 2914303.5000\n",
            "Epoch 38/100\n",
            "\u001b[1m7/7\u001b[0m \u001b[32m━━━━━━━━━━━━━━━━━━━━\u001b[0m\u001b[37m\u001b[0m \u001b[1m0s\u001b[0m 17ms/step - loss: 16587713.0000 - val_loss: 2958136.5000\n",
            "Epoch 39/100\n",
            "\u001b[1m7/7\u001b[0m \u001b[32m━━━━━━━━━━━━━━━━━━━━\u001b[0m\u001b[37m\u001b[0m \u001b[1m0s\u001b[0m 24ms/step - loss: 22407030.0000 - val_loss: 2994976.5000\n",
            "Epoch 40/100\n",
            "\u001b[1m7/7\u001b[0m \u001b[32m━━━━━━━━━━━━━━━━━━━━\u001b[0m\u001b[37m\u001b[0m \u001b[1m0s\u001b[0m 9ms/step - loss: 19391740.0000 - val_loss: 3037426.5000\n",
            "Epoch 41/100\n",
            "\u001b[1m7/7\u001b[0m \u001b[32m━━━━━━━━━━━━━━━━━━━━\u001b[0m\u001b[37m\u001b[0m \u001b[1m0s\u001b[0m 13ms/step - loss: 18138010.0000 - val_loss: 3063451.0000\n",
            "Epoch 42/100\n",
            "\u001b[1m7/7\u001b[0m \u001b[32m━━━━━━━━━━━━━━━━━━━━\u001b[0m\u001b[37m\u001b[0m \u001b[1m0s\u001b[0m 19ms/step - loss: 22248988.0000 - val_loss: 3122901.0000\n",
            "Epoch 43/100\n",
            "\u001b[1m7/7\u001b[0m \u001b[32m━━━━━━━━━━━━━━━━━━━━\u001b[0m\u001b[37m\u001b[0m \u001b[1m0s\u001b[0m 13ms/step - loss: 14499673.0000 - val_loss: 3125863.0000\n",
            "Epoch 44/100\n",
            "\u001b[1m7/7\u001b[0m \u001b[32m━━━━━━━━━━━━━━━━━━━━\u001b[0m\u001b[37m\u001b[0m \u001b[1m0s\u001b[0m 10ms/step - loss: 12644669.0000 - val_loss: 3138571.7500\n",
            "Epoch 45/100\n",
            "\u001b[1m7/7\u001b[0m \u001b[32m━━━━━━━━━━━━━━━━━━━━\u001b[0m\u001b[37m\u001b[0m \u001b[1m0s\u001b[0m 14ms/step - loss: 20701956.0000 - val_loss: 3183112.0000\n",
            "Epoch 46/100\n",
            "\u001b[1m7/7\u001b[0m \u001b[32m━━━━━━━━━━━━━━━━━━━━\u001b[0m\u001b[37m\u001b[0m \u001b[1m0s\u001b[0m 17ms/step - loss: 14670440.0000 - val_loss: 3174830.7500\n",
            "Epoch 47/100\n",
            "\u001b[1m7/7\u001b[0m \u001b[32m━━━━━━━━━━━━━━━━━━━━\u001b[0m\u001b[37m\u001b[0m \u001b[1m0s\u001b[0m 19ms/step - loss: 23571124.0000 - val_loss: 3217886.2500\n",
            "Epoch 48/100\n",
            "\u001b[1m7/7\u001b[0m \u001b[32m━━━━━━━━━━━━━━━━━━━━\u001b[0m\u001b[37m\u001b[0m \u001b[1m0s\u001b[0m 9ms/step - loss: 21437664.0000 - val_loss: 3237230.2500\n",
            "Epoch 49/100\n",
            "\u001b[1m7/7\u001b[0m \u001b[32m━━━━━━━━━━━━━━━━━━━━\u001b[0m\u001b[37m\u001b[0m \u001b[1m0s\u001b[0m 12ms/step - loss: 16082942.0000 - val_loss: 3230121.7500\n",
            "Epoch 50/100\n",
            "\u001b[1m7/7\u001b[0m \u001b[32m━━━━━━━━━━━━━━━━━━━━\u001b[0m\u001b[37m\u001b[0m \u001b[1m0s\u001b[0m 28ms/step - loss: 27518978.0000 - val_loss: 3254301.5000\n",
            "Epoch 51/100\n",
            "\u001b[1m7/7\u001b[0m \u001b[32m━━━━━━━━━━━━━━━━━━━━\u001b[0m\u001b[37m\u001b[0m \u001b[1m0s\u001b[0m 10ms/step - loss: 19852142.0000 - val_loss: 3248885.7500\n",
            "Epoch 52/100\n",
            "\u001b[1m7/7\u001b[0m \u001b[32m━━━━━━━━━━━━━━━━━━━━\u001b[0m\u001b[37m\u001b[0m \u001b[1m0s\u001b[0m 14ms/step - loss: 17589312.0000 - val_loss: 3254364.5000\n",
            "Epoch 53/100\n",
            "\u001b[1m7/7\u001b[0m \u001b[32m━━━━━━━━━━━━━━━━━━━━\u001b[0m\u001b[37m\u001b[0m \u001b[1m0s\u001b[0m 14ms/step - loss: 19301672.0000 - val_loss: 3233942.2500\n",
            "Epoch 54/100\n",
            "\u001b[1m7/7\u001b[0m \u001b[32m━━━━━━━━━━━━━━━━━━━━\u001b[0m\u001b[37m\u001b[0m \u001b[1m0s\u001b[0m 12ms/step - loss: 19831780.0000 - val_loss: 3247579.0000\n",
            "Epoch 55/100\n",
            "\u001b[1m7/7\u001b[0m \u001b[32m━━━━━━━━━━━━━━━━━━━━\u001b[0m\u001b[37m\u001b[0m \u001b[1m0s\u001b[0m 19ms/step - loss: 13402948.0000 - val_loss: 3223605.0000\n",
            "Epoch 56/100\n",
            "\u001b[1m7/7\u001b[0m \u001b[32m━━━━━━━━━━━━━━━━━━━━\u001b[0m\u001b[37m\u001b[0m \u001b[1m0s\u001b[0m 16ms/step - loss: 17119052.0000 - val_loss: 3230909.2500\n",
            "Epoch 57/100\n",
            "\u001b[1m7/7\u001b[0m \u001b[32m━━━━━━━━━━━━━━━━━━━━\u001b[0m\u001b[37m\u001b[0m \u001b[1m0s\u001b[0m 20ms/step - loss: 15778870.0000 - val_loss: 3242003.0000\n",
            "Epoch 58/100\n",
            "\u001b[1m7/7\u001b[0m \u001b[32m━━━━━━━━━━━━━━━━━━━━\u001b[0m\u001b[37m\u001b[0m \u001b[1m0s\u001b[0m 12ms/step - loss: 15247270.0000 - val_loss: 3225153.5000\n",
            "Epoch 59/100\n",
            "\u001b[1m7/7\u001b[0m \u001b[32m━━━━━━━━━━━━━━━━━━━━\u001b[0m\u001b[37m\u001b[0m \u001b[1m0s\u001b[0m 11ms/step - loss: 13311117.0000 - val_loss: 3234954.5000\n",
            "Epoch 60/100\n",
            "\u001b[1m7/7\u001b[0m \u001b[32m━━━━━━━━━━━━━━━━━━━━\u001b[0m\u001b[37m\u001b[0m \u001b[1m0s\u001b[0m 14ms/step - loss: 20464124.0000 - val_loss: 3246035.7500\n",
            "Epoch 61/100\n",
            "\u001b[1m7/7\u001b[0m \u001b[32m━━━━━━━━━━━━━━━━━━━━\u001b[0m\u001b[37m\u001b[0m \u001b[1m0s\u001b[0m 16ms/step - loss: 12872916.0000 - val_loss: 3238699.0000\n",
            "Epoch 62/100\n",
            "\u001b[1m7/7\u001b[0m \u001b[32m━━━━━━━━━━━━━━━━━━━━\u001b[0m\u001b[37m\u001b[0m \u001b[1m0s\u001b[0m 20ms/step - loss: 17546174.0000 - val_loss: 3247117.5000\n",
            "Epoch 63/100\n",
            "\u001b[1m7/7\u001b[0m \u001b[32m━━━━━━━━━━━━━━━━━━━━\u001b[0m\u001b[37m\u001b[0m \u001b[1m0s\u001b[0m 13ms/step - loss: 14329398.0000 - val_loss: 3240354.5000\n",
            "Epoch 64/100\n",
            "\u001b[1m7/7\u001b[0m \u001b[32m━━━━━━━━━━━━━━━━━━━━\u001b[0m\u001b[37m\u001b[0m \u001b[1m0s\u001b[0m 11ms/step - loss: 15838685.0000 - val_loss: 3236792.5000\n",
            "Epoch 65/100\n",
            "\u001b[1m7/7\u001b[0m \u001b[32m━━━━━━━━━━━━━━━━━━━━\u001b[0m\u001b[37m\u001b[0m \u001b[1m0s\u001b[0m 10ms/step - loss: 16533880.0000 - val_loss: 3244294.2500\n",
            "Epoch 66/100\n",
            "\u001b[1m7/7\u001b[0m \u001b[32m━━━━━━━━━━━━━━━━━━━━\u001b[0m\u001b[37m\u001b[0m \u001b[1m0s\u001b[0m 10ms/step - loss: 19622514.0000 - val_loss: 3264947.5000\n",
            "Epoch 67/100\n",
            "\u001b[1m7/7\u001b[0m \u001b[32m━━━━━━━━━━━━━━━━━━━━\u001b[0m\u001b[37m\u001b[0m \u001b[1m0s\u001b[0m 10ms/step - loss: 12510327.0000 - val_loss: 3247283.7500\n",
            "Epoch 68/100\n",
            "\u001b[1m7/7\u001b[0m \u001b[32m━━━━━━━━━━━━━━━━━━━━\u001b[0m\u001b[37m\u001b[0m \u001b[1m0s\u001b[0m 15ms/step - loss: 15186222.0000 - val_loss: 3249769.5000\n",
            "Epoch 69/100\n",
            "\u001b[1m7/7\u001b[0m \u001b[32m━━━━━━━━━━━━━━━━━━━━\u001b[0m\u001b[37m\u001b[0m \u001b[1m0s\u001b[0m 13ms/step - loss: 18790122.0000 - val_loss: 3255640.2500\n",
            "Epoch 70/100\n",
            "\u001b[1m7/7\u001b[0m \u001b[32m━━━━━━━━━━━━━━━━━━━━\u001b[0m\u001b[37m\u001b[0m \u001b[1m0s\u001b[0m 12ms/step - loss: 15499544.0000 - val_loss: 3257203.0000\n",
            "Epoch 71/100\n",
            "\u001b[1m7/7\u001b[0m \u001b[32m━━━━━━━━━━━━━━━━━━━━\u001b[0m\u001b[37m\u001b[0m \u001b[1m0s\u001b[0m 17ms/step - loss: 22677342.0000 - val_loss: 3258884.0000\n",
            "Epoch 72/100\n",
            "\u001b[1m7/7\u001b[0m \u001b[32m━━━━━━━━━━━━━━━━━━━━\u001b[0m\u001b[37m\u001b[0m \u001b[1m0s\u001b[0m 13ms/step - loss: 15754931.0000 - val_loss: 3252293.5000\n",
            "Epoch 73/100\n",
            "\u001b[1m7/7\u001b[0m \u001b[32m━━━━━━━━━━━━━━━━━━━━\u001b[0m\u001b[37m\u001b[0m \u001b[1m0s\u001b[0m 11ms/step - loss: 19313772.0000 - val_loss: 3253732.0000\n",
            "Epoch 74/100\n",
            "\u001b[1m7/7\u001b[0m \u001b[32m━━━━━━━━━━━━━━━━━━━━\u001b[0m\u001b[37m\u001b[0m \u001b[1m0s\u001b[0m 11ms/step - loss: 19128340.0000 - val_loss: 3254133.5000\n",
            "Epoch 75/100\n",
            "\u001b[1m7/7\u001b[0m \u001b[32m━━━━━━━━━━━━━━━━━━━━\u001b[0m\u001b[37m\u001b[0m \u001b[1m0s\u001b[0m 15ms/step - loss: 20235210.0000 - val_loss: 3246470.2500\n",
            "Epoch 76/100\n",
            "\u001b[1m7/7\u001b[0m \u001b[32m━━━━━━━━━━━━━━━━━━━━\u001b[0m\u001b[37m\u001b[0m \u001b[1m0s\u001b[0m 10ms/step - loss: 19188676.0000 - val_loss: 3248561.7500\n",
            "Epoch 77/100\n",
            "\u001b[1m7/7\u001b[0m \u001b[32m━━━━━━━━━━━━━━━━━━━━\u001b[0m\u001b[37m\u001b[0m \u001b[1m0s\u001b[0m 14ms/step - loss: 18082836.0000 - val_loss: 3245666.7500\n",
            "Epoch 78/100\n",
            "\u001b[1m7/7\u001b[0m \u001b[32m━━━━━━━━━━━━━━━━━━━━\u001b[0m\u001b[37m\u001b[0m \u001b[1m0s\u001b[0m 12ms/step - loss: 22365042.0000 - val_loss: 3261195.0000\n",
            "Epoch 79/100\n",
            "\u001b[1m7/7\u001b[0m \u001b[32m━━━━━━━━━━━━━━━━━━━━\u001b[0m\u001b[37m\u001b[0m \u001b[1m0s\u001b[0m 9ms/step - loss: 19808952.0000 - val_loss: 3252821.5000\n",
            "Epoch 80/100\n",
            "\u001b[1m7/7\u001b[0m \u001b[32m━━━━━━━━━━━━━━━━━━━━\u001b[0m\u001b[37m\u001b[0m \u001b[1m0s\u001b[0m 18ms/step - loss: 17444342.0000 - val_loss: 3250340.0000\n",
            "Epoch 81/100\n",
            "\u001b[1m7/7\u001b[0m \u001b[32m━━━━━━━━━━━━━━━━━━━━\u001b[0m\u001b[37m\u001b[0m \u001b[1m0s\u001b[0m 12ms/step - loss: 12689192.0000 - val_loss: 3228729.5000\n",
            "Epoch 82/100\n",
            "\u001b[1m7/7\u001b[0m \u001b[32m━━━━━━━━━━━━━━━━━━━━\u001b[0m\u001b[37m\u001b[0m \u001b[1m0s\u001b[0m 15ms/step - loss: 15439722.0000 - val_loss: 3228712.2500\n",
            "Epoch 83/100\n",
            "\u001b[1m7/7\u001b[0m \u001b[32m━━━━━━━━━━━━━━━━━━━━\u001b[0m\u001b[37m\u001b[0m \u001b[1m0s\u001b[0m 11ms/step - loss: 15225974.0000 - val_loss: 3221855.7500\n",
            "Epoch 84/100\n",
            "\u001b[1m7/7\u001b[0m \u001b[32m━━━━━━━━━━━━━━━━━━━━\u001b[0m\u001b[37m\u001b[0m \u001b[1m0s\u001b[0m 10ms/step - loss: 17978914.0000 - val_loss: 3232427.0000\n",
            "Epoch 85/100\n",
            "\u001b[1m7/7\u001b[0m \u001b[32m━━━━━━━━━━━━━━━━━━━━\u001b[0m\u001b[37m\u001b[0m \u001b[1m0s\u001b[0m 13ms/step - loss: 17735238.0000 - val_loss: 3232165.0000\n",
            "Epoch 86/100\n",
            "\u001b[1m7/7\u001b[0m \u001b[32m━━━━━━━━━━━━━━━━━━━━\u001b[0m\u001b[37m\u001b[0m \u001b[1m0s\u001b[0m 10ms/step - loss: 12981628.0000 - val_loss: 3223465.2500\n",
            "Epoch 87/100\n",
            "\u001b[1m7/7\u001b[0m \u001b[32m━━━━━━━━━━━━━━━━━━━━\u001b[0m\u001b[37m\u001b[0m \u001b[1m0s\u001b[0m 11ms/step - loss: 17499552.0000 - val_loss: 3220968.2500\n",
            "Epoch 88/100\n",
            "\u001b[1m7/7\u001b[0m \u001b[32m━━━━━━━━━━━━━━━━━━━━\u001b[0m\u001b[37m\u001b[0m \u001b[1m0s\u001b[0m 15ms/step - loss: 15123096.0000 - val_loss: 3227133.0000\n",
            "Epoch 89/100\n",
            "\u001b[1m7/7\u001b[0m \u001b[32m━━━━━━━━━━━━━━━━━━━━\u001b[0m\u001b[37m\u001b[0m \u001b[1m0s\u001b[0m 11ms/step - loss: 16798562.0000 - val_loss: 3228717.0000\n",
            "Epoch 90/100\n",
            "\u001b[1m7/7\u001b[0m \u001b[32m━━━━━━━━━━━━━━━━━━━━\u001b[0m\u001b[37m\u001b[0m \u001b[1m0s\u001b[0m 12ms/step - loss: 21558658.0000 - val_loss: 3250749.7500\n",
            "Epoch 91/100\n",
            "\u001b[1m7/7\u001b[0m \u001b[32m━━━━━━━━━━━━━━━━━━━━\u001b[0m\u001b[37m\u001b[0m \u001b[1m0s\u001b[0m 27ms/step - loss: 15325346.0000 - val_loss: 3239170.7500\n",
            "Epoch 92/100\n",
            "\u001b[1m7/7\u001b[0m \u001b[32m━━━━━━━━━━━━━━━━━━━━\u001b[0m\u001b[37m\u001b[0m \u001b[1m0s\u001b[0m 21ms/step - loss: 15019380.0000 - val_loss: 3235624.5000\n",
            "Epoch 93/100\n",
            "\u001b[1m7/7\u001b[0m \u001b[32m━━━━━━━━━━━━━━━━━━━━\u001b[0m\u001b[37m\u001b[0m \u001b[1m0s\u001b[0m 24ms/step - loss: 16769902.0000 - val_loss: 3241635.7500\n",
            "Epoch 94/100\n",
            "\u001b[1m7/7\u001b[0m \u001b[32m━━━━━━━━━━━━━━━━━━━━\u001b[0m\u001b[37m\u001b[0m \u001b[1m0s\u001b[0m 18ms/step - loss: 16473930.0000 - val_loss: 3232391.0000\n",
            "Epoch 95/100\n",
            "\u001b[1m7/7\u001b[0m \u001b[32m━━━━━━━━━━━━━━━━━━━━\u001b[0m\u001b[37m\u001b[0m \u001b[1m0s\u001b[0m 12ms/step - loss: 16551910.0000 - val_loss: 3236419.0000\n",
            "Epoch 96/100\n",
            "\u001b[1m7/7\u001b[0m \u001b[32m━━━━━━━━━━━━━━━━━━━━\u001b[0m\u001b[37m\u001b[0m \u001b[1m0s\u001b[0m 13ms/step - loss: 14923173.0000 - val_loss: 3226307.7500\n",
            "Epoch 97/100\n",
            "\u001b[1m7/7\u001b[0m \u001b[32m━━━━━━━━━━━━━━━━━━━━\u001b[0m\u001b[37m\u001b[0m \u001b[1m0s\u001b[0m 11ms/step - loss: 16317694.0000 - val_loss: 3223088.0000\n",
            "Epoch 98/100\n",
            "\u001b[1m7/7\u001b[0m \u001b[32m━━━━━━━━━━━━━━━━━━━━\u001b[0m\u001b[37m\u001b[0m \u001b[1m0s\u001b[0m 11ms/step - loss: 15849083.0000 - val_loss: 3223924.5000\n",
            "Epoch 99/100\n",
            "\u001b[1m7/7\u001b[0m \u001b[32m━━━━━━━━━━━━━━━━━━━━\u001b[0m\u001b[37m\u001b[0m \u001b[1m0s\u001b[0m 11ms/step - loss: 17517326.0000 - val_loss: 3227465.7500\n",
            "Epoch 100/100\n",
            "\u001b[1m7/7\u001b[0m \u001b[32m━━━━━━━━━━━━━━━━━━━━\u001b[0m\u001b[37m\u001b[0m \u001b[1m0s\u001b[0m 11ms/step - loss: 19088830.0000 - val_loss: 3228638.2500\n",
            "\u001b[1m4/4\u001b[0m \u001b[32m━━━━━━━━━━━━━━━━━━━━\u001b[0m\u001b[37m\u001b[0m \u001b[1m0s\u001b[0m 12ms/step\n",
            "\u001b[1m1/1\u001b[0m \u001b[32m━━━━━━━━━━━━━━━━━━━━\u001b[0m\u001b[37m\u001b[0m \u001b[1m0s\u001b[0m 30ms/step\n",
            "\u001b[1m1/1\u001b[0m \u001b[32m━━━━━━━━━━━━━━━━━━━━\u001b[0m\u001b[37m\u001b[0m \u001b[1m0s\u001b[0m 95ms/step - loss: 1891775.1250\n",
            "Test Loss: 1891775.125\n"
          ]
        }
      ],
      "source": [
        "import pandas as pd\n",
        "from sklearn.model_selection import train_test_split\n",
        "from sklearn.preprocessing import LabelEncoder, StandardScaler\n",
        "from tensorflow.keras.models import Sequential\n",
        "from tensorflow.keras.layers import Dense\n",
        "from tensorflow.keras.optimizers import Adam\n",
        "\n",
        "# Load data\n",
        "foodData = pd.read_csv(\"FinalData/IndividualFoodData.csv\")\n",
        "print(foodData)\n",
        "\n",
        "# Encode 'Food' (categorical variable) using LabelEncoder\n",
        "label_encoder = LabelEncoder()\n",
        "foodData['Food'] = label_encoder.fit_transform(foodData['Food'])\n",
        "\n",
        "# Split data into X (features) and Y (target)\n",
        "X = foodData.drop(\"Revenue\", axis=1)\n",
        "Y = foodData[\"Revenue\"]\n",
        "\n",
        "# Normalize data (scaling numeric columns for NN input)\n",
        "scaler = StandardScaler()\n",
        "X[['Date']] = scaler.fit_transform(X[['Date']])  # Scaling Date (numeric)\n",
        "\n",
        "# Split into training and test sets\n",
        "X_train, X_test, Y_train, Y_test = train_test_split(X, Y, test_size=0.1, random_state=42)\n",
        "\n",
        "# Build a simple Neural Network\n",
        "model = Sequential()\n",
        "\n",
        "# Input layer (use the number of features for input layer size)\n",
        "model.add(Dense(64, input_dim=X_train.shape[1], activation='relu'))  # First hidden layer\n",
        "model.add(Dense(32, activation='relu'))  # Second hidden layer\n",
        "model.add(Dense(1))  # Output layer (single value for regression)\n",
        "\n",
        "# Compile the model\n",
        "model.compile(optimizer=Adam(learning_rate=0.001), loss='mean_squared_error')\n",
        "\n",
        "# Train the model\n",
        "model.fit(X_train, Y_train, epochs=100, batch_size=16, validation_split=0.1, verbose=1)\n",
        "\n",
        "# Make predictions on training and test data\n",
        "train_predictions = model.predict(X_train)\n",
        "test_predictions = model.predict(X_test)\n",
        "\n",
        "# Save the model\n",
        "model.save('MlAlgos/food_neural_network_model.keras')\n",
        "\n",
        "# Evaluate the model on the test set\n",
        "test_loss = model.evaluate(X_test, Y_test)\n",
        "print(f\"Test Loss: {test_loss}\")\n",
        "\n"
      ]
    },
    {
      "cell_type": "code",
      "execution_count": 3,
      "metadata": {},
      "outputs": [
        {
          "name": "stdout",
          "output_type": "stream",
          "text": [
            "    Month  Year     Sales\n",
            "0       1  2023   3538.25\n",
            "1       2  2023   4510.88\n",
            "2       3  2023   4958.34\n",
            "3       4  2023   4446.33\n",
            "4       5  2023   3762.31\n",
            "5       6  2023   5562.49\n",
            "6       7  2023   7975.16\n",
            "7       8  2023   4989.79\n",
            "8       9  2023   6999.92\n",
            "9       1  2024   4468.05\n",
            "10      2  2024   5841.56\n",
            "11      3  2024   7188.82\n",
            "12      4  2024   5646.16\n",
            "13      5  2024   5072.15\n",
            "14      6  2024   6646.78\n",
            "15      7  2024   4178.94\n",
            "16      8  2024   5200.74\n",
            "17      9  2024   5195.94\n",
            "18      1  2025   3016.00\n",
            "19      2  2025   9060.42\n",
            "20      3  2025  13164.17\n",
            "21      4  2025   8643.90\n",
            "Epoch 1/100\n"
          ]
        },
        {
          "name": "stderr",
          "output_type": "stream",
          "text": [
            "C:\\Users\\mahd\\AppData\\Local\\Packages\\PythonSoftwareFoundation.Python.3.12_qbz5n2kfra8p0\\LocalCache\\local-packages\\Python312\\site-packages\\keras\\src\\layers\\core\\dense.py:87: UserWarning: Do not pass an `input_shape`/`input_dim` argument to a layer. When using Sequential models, prefer using an `Input(shape)` object as the first layer in the model instead.\n",
            "  super().__init__(activity_regularizer=activity_regularizer, **kwargs)\n"
          ]
        },
        {
          "name": "stdout",
          "output_type": "stream",
          "text": [
            "\u001b[1m2/2\u001b[0m \u001b[32m━━━━━━━━━━━━━━━━━━━━\u001b[0m\u001b[37m\u001b[0m \u001b[1m1s\u001b[0m 143ms/step - loss: 0.3271 - val_loss: 0.8368\n",
            "Epoch 2/100\n",
            "\u001b[1m2/2\u001b[0m \u001b[32m━━━━━━━━━━━━━━━━━━━━\u001b[0m\u001b[37m\u001b[0m \u001b[1m0s\u001b[0m 64ms/step - loss: 0.3106 - val_loss: 0.8873\n",
            "Epoch 3/100\n",
            "\u001b[1m2/2\u001b[0m \u001b[32m━━━━━━━━━━━━━━━━━━━━\u001b[0m\u001b[37m\u001b[0m \u001b[1m0s\u001b[0m 54ms/step - loss: 0.2878 - val_loss: 0.9328\n",
            "Epoch 4/100\n",
            "\u001b[1m2/2\u001b[0m \u001b[32m━━━━━━━━━━━━━━━━━━━━\u001b[0m\u001b[37m\u001b[0m \u001b[1m0s\u001b[0m 61ms/step - loss: 0.2558 - val_loss: 0.9848\n",
            "Epoch 5/100\n",
            "\u001b[1m2/2\u001b[0m \u001b[32m━━━━━━━━━━━━━━━━━━━━\u001b[0m\u001b[37m\u001b[0m \u001b[1m0s\u001b[0m 71ms/step - loss: 0.2386 - val_loss: 1.0379\n",
            "Epoch 6/100\n",
            "\u001b[1m2/2\u001b[0m \u001b[32m━━━━━━━━━━━━━━━━━━━━\u001b[0m\u001b[37m\u001b[0m \u001b[1m0s\u001b[0m 59ms/step - loss: 0.2495 - val_loss: 1.0796\n",
            "Epoch 7/100\n",
            "\u001b[1m2/2\u001b[0m \u001b[32m━━━━━━━━━━━━━━━━━━━━\u001b[0m\u001b[37m\u001b[0m \u001b[1m0s\u001b[0m 67ms/step - loss: 0.2381 - val_loss: 1.1089\n",
            "Epoch 8/100\n",
            "\u001b[1m2/2\u001b[0m \u001b[32m━━━━━━━━━━━━━━━━━━━━\u001b[0m\u001b[37m\u001b[0m \u001b[1m0s\u001b[0m 66ms/step - loss: 0.2382 - val_loss: 1.1274\n",
            "Epoch 9/100\n",
            "\u001b[1m2/2\u001b[0m \u001b[32m━━━━━━━━━━━━━━━━━━━━\u001b[0m\u001b[37m\u001b[0m \u001b[1m0s\u001b[0m 70ms/step - loss: 0.2320 - val_loss: 1.1431\n",
            "Epoch 10/100\n",
            "\u001b[1m2/2\u001b[0m \u001b[32m━━━━━━━━━━━━━━━━━━━━\u001b[0m\u001b[37m\u001b[0m \u001b[1m0s\u001b[0m 199ms/step - loss: 0.2295 - val_loss: 1.1611\n",
            "Epoch 11/100\n",
            "\u001b[1m2/2\u001b[0m \u001b[32m━━━━━━━━━━━━━━━━━━━━\u001b[0m\u001b[37m\u001b[0m \u001b[1m0s\u001b[0m 100ms/step - loss: 0.2309 - val_loss: 1.1830\n",
            "Epoch 12/100\n",
            "\u001b[1m2/2\u001b[0m \u001b[32m━━━━━━━━━━━━━━━━━━━━\u001b[0m\u001b[37m\u001b[0m \u001b[1m0s\u001b[0m 95ms/step - loss: 0.2195 - val_loss: 1.2079\n",
            "Epoch 13/100\n",
            "\u001b[1m2/2\u001b[0m \u001b[32m━━━━━━━━━━━━━━━━━━━━\u001b[0m\u001b[37m\u001b[0m \u001b[1m0s\u001b[0m 62ms/step - loss: 0.2279 - val_loss: 1.2286\n",
            "Epoch 14/100\n",
            "\u001b[1m2/2\u001b[0m \u001b[32m━━━━━━━━━━━━━━━━━━━━\u001b[0m\u001b[37m\u001b[0m \u001b[1m0s\u001b[0m 94ms/step - loss: 0.2289 - val_loss: 1.2386\n",
            "Epoch 15/100\n",
            "\u001b[1m2/2\u001b[0m \u001b[32m━━━━━━━━━━━━━━━━━━━━\u001b[0m\u001b[37m\u001b[0m \u001b[1m0s\u001b[0m 86ms/step - loss: 0.2202 - val_loss: 1.2438\n",
            "Epoch 16/100\n",
            "\u001b[1m2/2\u001b[0m \u001b[32m━━━━━━━━━━━━━━━━━━━━\u001b[0m\u001b[37m\u001b[0m \u001b[1m0s\u001b[0m 86ms/step - loss: 0.2173 - val_loss: 1.2434\n",
            "Epoch 17/100\n",
            "\u001b[1m2/2\u001b[0m \u001b[32m━━━━━━━━━━━━━━━━━━━━\u001b[0m\u001b[37m\u001b[0m \u001b[1m0s\u001b[0m 81ms/step - loss: 0.2155 - val_loss: 1.2305\n",
            "Epoch 18/100\n",
            "\u001b[1m2/2\u001b[0m \u001b[32m━━━━━━━━━━━━━━━━━━━━\u001b[0m\u001b[37m\u001b[0m \u001b[1m0s\u001b[0m 94ms/step - loss: 0.2209 - val_loss: 1.2106\n",
            "Epoch 19/100\n",
            "\u001b[1m2/2\u001b[0m \u001b[32m━━━━━━━━━━━━━━━━━━━━\u001b[0m\u001b[37m\u001b[0m \u001b[1m0s\u001b[0m 61ms/step - loss: 0.2193 - val_loss: 1.1927\n",
            "Epoch 20/100\n",
            "\u001b[1m2/2\u001b[0m \u001b[32m━━━━━━━━━━━━━━━━━━━━\u001b[0m\u001b[37m\u001b[0m \u001b[1m0s\u001b[0m 78ms/step - loss: 0.2159 - val_loss: 1.1778\n",
            "Epoch 21/100\n",
            "\u001b[1m2/2\u001b[0m \u001b[32m━━━━━━━━━━━━━━━━━━━━\u001b[0m\u001b[37m\u001b[0m \u001b[1m0s\u001b[0m 61ms/step - loss: 0.2151 - val_loss: 1.1659\n",
            "Epoch 22/100\n",
            "\u001b[1m2/2\u001b[0m \u001b[32m━━━━━━━━━━━━━━━━━━━━\u001b[0m\u001b[37m\u001b[0m \u001b[1m0s\u001b[0m 55ms/step - loss: 0.2143 - val_loss: 1.1574\n",
            "Epoch 23/100\n",
            "\u001b[1m2/2\u001b[0m \u001b[32m━━━━━━━━━━━━━━━━━━━━\u001b[0m\u001b[37m\u001b[0m \u001b[1m0s\u001b[0m 56ms/step - loss: 0.2060 - val_loss: 1.1354\n",
            "Epoch 24/100\n",
            "\u001b[1m2/2\u001b[0m \u001b[32m━━━━━━━━━━━━━━━━━━━━\u001b[0m\u001b[37m\u001b[0m \u001b[1m0s\u001b[0m 86ms/step - loss: 0.2111 - val_loss: 1.1027\n",
            "Epoch 25/100\n",
            "\u001b[1m2/2\u001b[0m \u001b[32m━━━━━━━━━━━━━━━━━━━━\u001b[0m\u001b[37m\u001b[0m \u001b[1m0s\u001b[0m 105ms/step - loss: 0.2122 - val_loss: 1.0752\n",
            "Epoch 26/100\n",
            "\u001b[1m2/2\u001b[0m \u001b[32m━━━━━━━━━━━━━━━━━━━━\u001b[0m\u001b[37m\u001b[0m \u001b[1m0s\u001b[0m 78ms/step - loss: 0.2114 - val_loss: 1.0549\n",
            "Epoch 27/100\n",
            "\u001b[1m2/2\u001b[0m \u001b[32m━━━━━━━━━━━━━━━━━━━━\u001b[0m\u001b[37m\u001b[0m \u001b[1m0s\u001b[0m 68ms/step - loss: 0.2117 - val_loss: 1.0410\n",
            "Epoch 28/100\n",
            "\u001b[1m2/2\u001b[0m \u001b[32m━━━━━━━━━━━━━━━━━━━━\u001b[0m\u001b[37m\u001b[0m \u001b[1m0s\u001b[0m 69ms/step - loss: 0.2080 - val_loss: 1.0272\n",
            "Epoch 29/100\n",
            "\u001b[1m2/2\u001b[0m \u001b[32m━━━━━━━━━━━━━━━━━━━━\u001b[0m\u001b[37m\u001b[0m \u001b[1m0s\u001b[0m 68ms/step - loss: 0.2097 - val_loss: 1.0151\n",
            "Epoch 30/100\n",
            "\u001b[1m2/2\u001b[0m \u001b[32m━━━━━━━━━━━━━━━━━━━━\u001b[0m\u001b[37m\u001b[0m \u001b[1m0s\u001b[0m 61ms/step - loss: 0.2023 - val_loss: 1.0064\n",
            "Epoch 31/100\n",
            "\u001b[1m2/2\u001b[0m \u001b[32m━━━━━━━━━━━━━━━━━━━━\u001b[0m\u001b[37m\u001b[0m \u001b[1m0s\u001b[0m 72ms/step - loss: 0.2054 - val_loss: 0.9967\n",
            "Epoch 32/100\n",
            "\u001b[1m2/2\u001b[0m \u001b[32m━━━━━━━━━━━━━━━━━━━━\u001b[0m\u001b[37m\u001b[0m \u001b[1m0s\u001b[0m 128ms/step - loss: 0.2096 - val_loss: 0.9898\n",
            "Epoch 33/100\n",
            "\u001b[1m2/2\u001b[0m \u001b[32m━━━━━━━━━━━━━━━━━━━━\u001b[0m\u001b[37m\u001b[0m \u001b[1m0s\u001b[0m 82ms/step - loss: 0.2045 - val_loss: 0.9863\n",
            "Epoch 34/100\n",
            "\u001b[1m2/2\u001b[0m \u001b[32m━━━━━━━━━━━━━━━━━━━━\u001b[0m\u001b[37m\u001b[0m \u001b[1m0s\u001b[0m 69ms/step - loss: 0.2042 - val_loss: 0.9713\n",
            "Epoch 35/100\n",
            "\u001b[1m2/2\u001b[0m \u001b[32m━━━━━━━━━━━━━━━━━━━━\u001b[0m\u001b[37m\u001b[0m \u001b[1m0s\u001b[0m 60ms/step - loss: 0.2097 - val_loss: 0.9475\n",
            "Epoch 36/100\n",
            "\u001b[1m2/2\u001b[0m \u001b[32m━━━━━━━━━━━━━━━━━━━━\u001b[0m\u001b[37m\u001b[0m \u001b[1m0s\u001b[0m 68ms/step - loss: 0.2113 - val_loss: 0.9305\n",
            "Epoch 37/100\n",
            "\u001b[1m2/2\u001b[0m \u001b[32m━━━━━━━━━━━━━━━━━━━━\u001b[0m\u001b[37m\u001b[0m \u001b[1m0s\u001b[0m 80ms/step - loss: 0.2122 - val_loss: 0.9178\n",
            "Epoch 38/100\n",
            "\u001b[1m2/2\u001b[0m \u001b[32m━━━━━━━━━━━━━━━━━━━━\u001b[0m\u001b[37m\u001b[0m \u001b[1m0s\u001b[0m 58ms/step - loss: 0.2113 - val_loss: 0.9061\n",
            "Epoch 39/100\n",
            "\u001b[1m2/2\u001b[0m \u001b[32m━━━━━━━━━━━━━━━━━━━━\u001b[0m\u001b[37m\u001b[0m \u001b[1m0s\u001b[0m 63ms/step - loss: 0.2096 - val_loss: 0.8851\n",
            "Epoch 40/100\n",
            "\u001b[1m2/2\u001b[0m \u001b[32m━━━━━━━━━━━━━━━━━━━━\u001b[0m\u001b[37m\u001b[0m \u001b[1m0s\u001b[0m 86ms/step - loss: 0.2000 - val_loss: 0.8769\n",
            "Epoch 41/100\n",
            "\u001b[1m2/2\u001b[0m \u001b[32m━━━━━━━━━━━━━━━━━━━━\u001b[0m\u001b[37m\u001b[0m \u001b[1m0s\u001b[0m 72ms/step - loss: 0.2128 - val_loss: 0.8912\n",
            "Epoch 42/100\n",
            "\u001b[1m2/2\u001b[0m \u001b[32m━━━━━━━━━━━━━━━━━━━━\u001b[0m\u001b[37m\u001b[0m \u001b[1m0s\u001b[0m 65ms/step - loss: 0.2121 - val_loss: 0.9113\n",
            "Epoch 43/100\n",
            "\u001b[1m2/2\u001b[0m \u001b[32m━━━━━━━━━━━━━━━━━━━━\u001b[0m\u001b[37m\u001b[0m \u001b[1m0s\u001b[0m 98ms/step - loss: 0.2098 - val_loss: 0.9249\n",
            "Epoch 44/100\n",
            "\u001b[1m2/2\u001b[0m \u001b[32m━━━━━━━━━━━━━━━━━━━━\u001b[0m\u001b[37m\u001b[0m \u001b[1m0s\u001b[0m 74ms/step - loss: 0.2058 - val_loss: 0.9279\n",
            "Epoch 45/100\n",
            "\u001b[1m2/2\u001b[0m \u001b[32m━━━━━━━━━━━━━━━━━━━━\u001b[0m\u001b[37m\u001b[0m \u001b[1m0s\u001b[0m 70ms/step - loss: 0.2136 - val_loss: 0.9333\n",
            "Epoch 46/100\n",
            "\u001b[1m2/2\u001b[0m \u001b[32m━━━━━━━━━━━━━━━━━━━━\u001b[0m\u001b[37m\u001b[0m \u001b[1m0s\u001b[0m 73ms/step - loss: 0.2139 - val_loss: 0.9406\n",
            "Epoch 47/100\n",
            "\u001b[1m2/2\u001b[0m \u001b[32m━━━━━━━━━━━━━━━━━━━━\u001b[0m\u001b[37m\u001b[0m \u001b[1m0s\u001b[0m 69ms/step - loss: 0.2122 - val_loss: 0.9502\n",
            "Epoch 48/100\n",
            "\u001b[1m2/2\u001b[0m \u001b[32m━━━━━━━━━━━━━━━━━━━━\u001b[0m\u001b[37m\u001b[0m \u001b[1m0s\u001b[0m 64ms/step - loss: 0.2104 - val_loss: 0.9648\n",
            "Epoch 49/100\n",
            "\u001b[1m2/2\u001b[0m \u001b[32m━━━━━━━━━━━━━━━━━━━━\u001b[0m\u001b[37m\u001b[0m \u001b[1m0s\u001b[0m 66ms/step - loss: 0.2067 - val_loss: 0.9794\n",
            "Epoch 50/100\n",
            "\u001b[1m2/2\u001b[0m \u001b[32m━━━━━━━━━━━━━━━━━━━━\u001b[0m\u001b[37m\u001b[0m \u001b[1m0s\u001b[0m 67ms/step - loss: 0.2068 - val_loss: 0.9937\n",
            "Epoch 51/100\n",
            "\u001b[1m2/2\u001b[0m \u001b[32m━━━━━━━━━━━━━━━━━━━━\u001b[0m\u001b[37m\u001b[0m \u001b[1m0s\u001b[0m 66ms/step - loss: 0.2070 - val_loss: 1.0115\n",
            "Epoch 52/100\n",
            "\u001b[1m2/2\u001b[0m \u001b[32m━━━━━━━━━━━━━━━━━━━━\u001b[0m\u001b[37m\u001b[0m \u001b[1m0s\u001b[0m 74ms/step - loss: 0.2082 - val_loss: 1.0293\n",
            "Epoch 53/100\n",
            "\u001b[1m2/2\u001b[0m \u001b[32m━━━━━━━━━━━━━━━━━━━━\u001b[0m\u001b[37m\u001b[0m \u001b[1m0s\u001b[0m 87ms/step - loss: 0.2047 - val_loss: 1.0331\n",
            "Epoch 54/100\n",
            "\u001b[1m2/2\u001b[0m \u001b[32m━━━━━━━━━━━━━━━━━━━━\u001b[0m\u001b[37m\u001b[0m \u001b[1m0s\u001b[0m 79ms/step - loss: 0.2113 - val_loss: 1.0225\n",
            "Epoch 55/100\n",
            "\u001b[1m2/2\u001b[0m \u001b[32m━━━━━━━━━━━━━━━━━━━━\u001b[0m\u001b[37m\u001b[0m \u001b[1m0s\u001b[0m 85ms/step - loss: 0.2126 - val_loss: 1.0248\n",
            "Epoch 56/100\n",
            "\u001b[1m2/2\u001b[0m \u001b[32m━━━━━━━━━━━━━━━━━━━━\u001b[0m\u001b[37m\u001b[0m \u001b[1m0s\u001b[0m 57ms/step - loss: 0.2104 - val_loss: 1.0259\n",
            "Epoch 57/100\n",
            "\u001b[1m2/2\u001b[0m \u001b[32m━━━━━━━━━━━━━━━━━━━━\u001b[0m\u001b[37m\u001b[0m \u001b[1m0s\u001b[0m 61ms/step - loss: 0.2127 - val_loss: 1.0052\n",
            "Epoch 58/100\n",
            "\u001b[1m2/2\u001b[0m \u001b[32m━━━━━━━━━━━━━━━━━━━━\u001b[0m\u001b[37m\u001b[0m \u001b[1m0s\u001b[0m 113ms/step - loss: 0.2134 - val_loss: 0.9810\n",
            "Epoch 59/100\n",
            "\u001b[1m2/2\u001b[0m \u001b[32m━━━━━━━━━━━━━━━━━━━━\u001b[0m\u001b[37m\u001b[0m \u001b[1m0s\u001b[0m 68ms/step - loss: 0.2064 - val_loss: 0.9505\n",
            "Epoch 60/100\n",
            "\u001b[1m2/2\u001b[0m \u001b[32m━━━━━━━━━━━━━━━━━━━━\u001b[0m\u001b[37m\u001b[0m \u001b[1m0s\u001b[0m 72ms/step - loss: 0.2051 - val_loss: 0.9069\n",
            "Epoch 61/100\n",
            "\u001b[1m2/2\u001b[0m \u001b[32m━━━━━━━━━━━━━━━━━━━━\u001b[0m\u001b[37m\u001b[0m \u001b[1m0s\u001b[0m 65ms/step - loss: 0.2008 - val_loss: 0.8641\n",
            "Epoch 62/100\n",
            "\u001b[1m2/2\u001b[0m \u001b[32m━━━━━━━━━━━━━━━━━━━━\u001b[0m\u001b[37m\u001b[0m \u001b[1m0s\u001b[0m 54ms/step - loss: 0.2124 - val_loss: 0.8335\n",
            "Epoch 63/100\n",
            "\u001b[1m2/2\u001b[0m \u001b[32m━━━━━━━━━━━━━━━━━━━━\u001b[0m\u001b[37m\u001b[0m \u001b[1m0s\u001b[0m 64ms/step - loss: 0.2066 - val_loss: 0.8122\n",
            "Epoch 64/100\n",
            "\u001b[1m2/2\u001b[0m \u001b[32m━━━━━━━━━━━━━━━━━━━━\u001b[0m\u001b[37m\u001b[0m \u001b[1m0s\u001b[0m 56ms/step - loss: 0.2076 - val_loss: 0.7962\n",
            "Epoch 65/100\n",
            "\u001b[1m2/2\u001b[0m \u001b[32m━━━━━━━━━━━━━━━━━━━━\u001b[0m\u001b[37m\u001b[0m \u001b[1m0s\u001b[0m 54ms/step - loss: 0.2127 - val_loss: 0.8009\n",
            "Epoch 66/100\n",
            "\u001b[1m2/2\u001b[0m \u001b[32m━━━━━━━━━━━━━━━━━━━━\u001b[0m\u001b[37m\u001b[0m \u001b[1m0s\u001b[0m 66ms/step - loss: 0.2104 - val_loss: 0.8240\n",
            "Epoch 67/100\n",
            "\u001b[1m2/2\u001b[0m \u001b[32m━━━━━━━━━━━━━━━━━━━━\u001b[0m\u001b[37m\u001b[0m \u001b[1m0s\u001b[0m 60ms/step - loss: 0.2122 - val_loss: 0.8474\n",
            "Epoch 68/100\n",
            "\u001b[1m2/2\u001b[0m \u001b[32m━━━━━━━━━━━━━━━━━━━━\u001b[0m\u001b[37m\u001b[0m \u001b[1m0s\u001b[0m 69ms/step - loss: 0.2091 - val_loss: 0.8817\n",
            "Epoch 69/100\n",
            "\u001b[1m2/2\u001b[0m \u001b[32m━━━━━━━━━━━━━━━━━━━━\u001b[0m\u001b[37m\u001b[0m \u001b[1m0s\u001b[0m 65ms/step - loss: 0.2079 - val_loss: 0.9249\n",
            "Epoch 70/100\n",
            "\u001b[1m2/2\u001b[0m \u001b[32m━━━━━━━━━━━━━━━━━━━━\u001b[0m\u001b[37m\u001b[0m \u001b[1m0s\u001b[0m 66ms/step - loss: 0.2094 - val_loss: 0.9604\n",
            "Epoch 71/100\n",
            "\u001b[1m2/2\u001b[0m \u001b[32m━━━━━━━━━━━━━━━━━━━━\u001b[0m\u001b[37m\u001b[0m \u001b[1m0s\u001b[0m 89ms/step - loss: 0.2070 - val_loss: 0.9894\n",
            "Epoch 72/100\n",
            "\u001b[1m2/2\u001b[0m \u001b[32m━━━━━━━━━━━━━━━━━━━━\u001b[0m\u001b[37m\u001b[0m \u001b[1m0s\u001b[0m 62ms/step - loss: 0.2050 - val_loss: 1.0126\n",
            "Epoch 73/100\n",
            "\u001b[1m2/2\u001b[0m \u001b[32m━━━━━━━━━━━━━━━━━━━━\u001b[0m\u001b[37m\u001b[0m \u001b[1m0s\u001b[0m 53ms/step - loss: 0.1907 - val_loss: 1.0359\n",
            "Epoch 74/100\n",
            "\u001b[1m2/2\u001b[0m \u001b[32m━━━━━━━━━━━━━━━━━━━━\u001b[0m\u001b[37m\u001b[0m \u001b[1m0s\u001b[0m 87ms/step - loss: 0.1933 - val_loss: 1.0574\n",
            "Epoch 75/100\n",
            "\u001b[1m2/2\u001b[0m \u001b[32m━━━━━━━━━━━━━━━━━━━━\u001b[0m\u001b[37m\u001b[0m \u001b[1m0s\u001b[0m 88ms/step - loss: 0.1983 - val_loss: 1.0707\n",
            "Epoch 76/100\n",
            "\u001b[1m2/2\u001b[0m \u001b[32m━━━━━━━━━━━━━━━━━━━━\u001b[0m\u001b[37m\u001b[0m \u001b[1m0s\u001b[0m 77ms/step - loss: 0.1969 - val_loss: 1.0800\n",
            "Epoch 77/100\n",
            "\u001b[1m2/2\u001b[0m \u001b[32m━━━━━━━━━━━━━━━━━━━━\u001b[0m\u001b[37m\u001b[0m \u001b[1m0s\u001b[0m 142ms/step - loss: 0.1960 - val_loss: 1.0917\n",
            "Epoch 78/100\n",
            "\u001b[1m2/2\u001b[0m \u001b[32m━━━━━━━━━━━━━━━━━━━━\u001b[0m\u001b[37m\u001b[0m \u001b[1m0s\u001b[0m 61ms/step - loss: 0.1936 - val_loss: 1.1086\n",
            "Epoch 79/100\n",
            "\u001b[1m2/2\u001b[0m \u001b[32m━━━━━━━━━━━━━━━━━━━━\u001b[0m\u001b[37m\u001b[0m \u001b[1m0s\u001b[0m 208ms/step - loss: 0.1953 - val_loss: 1.1219\n",
            "Epoch 80/100\n",
            "\u001b[1m2/2\u001b[0m \u001b[32m━━━━━━━━━━━━━━━━━━━━\u001b[0m\u001b[37m\u001b[0m \u001b[1m0s\u001b[0m 96ms/step - loss: 0.1924 - val_loss: 1.1259\n",
            "Epoch 81/100\n",
            "\u001b[1m2/2\u001b[0m \u001b[32m━━━━━━━━━━━━━━━━━━━━\u001b[0m\u001b[37m\u001b[0m \u001b[1m0s\u001b[0m 88ms/step - loss: 0.1877 - val_loss: 1.1271\n",
            "Epoch 82/100\n",
            "\u001b[1m2/2\u001b[0m \u001b[32m━━━━━━━━━━━━━━━━━━━━\u001b[0m\u001b[37m\u001b[0m \u001b[1m0s\u001b[0m 87ms/step - loss: 0.1959 - val_loss: 1.1302\n",
            "Epoch 83/100\n",
            "\u001b[1m2/2\u001b[0m \u001b[32m━━━━━━━━━━━━━━━━━━━━\u001b[0m\u001b[37m\u001b[0m \u001b[1m0s\u001b[0m 79ms/step - loss: 0.1955 - val_loss: 1.1272\n",
            "Epoch 84/100\n",
            "\u001b[1m2/2\u001b[0m \u001b[32m━━━━━━━━━━━━━━━━━━━━\u001b[0m\u001b[37m\u001b[0m \u001b[1m0s\u001b[0m 92ms/step - loss: 0.1993 - val_loss: 1.1270\n",
            "Epoch 85/100\n",
            "\u001b[1m2/2\u001b[0m \u001b[32m━━━━━━━━━━━━━━━━━━━━\u001b[0m\u001b[37m\u001b[0m \u001b[1m0s\u001b[0m 86ms/step - loss: 0.2004 - val_loss: 1.1284\n",
            "Epoch 86/100\n",
            "\u001b[1m2/2\u001b[0m \u001b[32m━━━━━━━━━━━━━━━━━━━━\u001b[0m\u001b[37m\u001b[0m \u001b[1m0s\u001b[0m 86ms/step - loss: 0.2010 - val_loss: 1.1266\n",
            "Epoch 87/100\n",
            "\u001b[1m2/2\u001b[0m \u001b[32m━━━━━━━━━━━━━━━━━━━━\u001b[0m\u001b[37m\u001b[0m \u001b[1m0s\u001b[0m 91ms/step - loss: 0.1990 - val_loss: 1.1263\n",
            "Epoch 88/100\n",
            "\u001b[1m2/2\u001b[0m \u001b[32m━━━━━━━━━━━━━━━━━━━━\u001b[0m\u001b[37m\u001b[0m \u001b[1m0s\u001b[0m 117ms/step - loss: 0.1947 - val_loss: 1.1332\n",
            "Epoch 89/100\n",
            "\u001b[1m2/2\u001b[0m \u001b[32m━━━━━━━━━━━━━━━━━━━━\u001b[0m\u001b[37m\u001b[0m \u001b[1m0s\u001b[0m 89ms/step - loss: 0.1955 - val_loss: 1.1461\n",
            "Epoch 90/100\n",
            "\u001b[1m2/2\u001b[0m \u001b[32m━━━━━━━━━━━━━━━━━━━━\u001b[0m\u001b[37m\u001b[0m \u001b[1m0s\u001b[0m 89ms/step - loss: 0.1857 - val_loss: 1.1559\n",
            "Epoch 91/100\n",
            "\u001b[1m2/2\u001b[0m \u001b[32m━━━━━━━━━━━━━━━━━━━━\u001b[0m\u001b[37m\u001b[0m \u001b[1m0s\u001b[0m 90ms/step - loss: 0.1863 - val_loss: 1.1621\n",
            "Epoch 92/100\n",
            "\u001b[1m2/2\u001b[0m \u001b[32m━━━━━━━━━━━━━━━━━━━━\u001b[0m\u001b[37m\u001b[0m \u001b[1m0s\u001b[0m 87ms/step - loss: 0.1925 - val_loss: 1.1688\n",
            "Epoch 93/100\n",
            "\u001b[1m2/2\u001b[0m \u001b[32m━━━━━━━━━━━━━━━━━━━━\u001b[0m\u001b[37m\u001b[0m \u001b[1m0s\u001b[0m 92ms/step - loss: 0.1814 - val_loss: 1.1858\n",
            "Epoch 94/100\n",
            "\u001b[1m2/2\u001b[0m \u001b[32m━━━━━━━━━━━━━━━━━━━━\u001b[0m\u001b[37m\u001b[0m \u001b[1m0s\u001b[0m 84ms/step - loss: 0.1928 - val_loss: 1.2138\n",
            "Epoch 95/100\n",
            "\u001b[1m2/2\u001b[0m \u001b[32m━━━━━━━━━━━━━━━━━━━━\u001b[0m\u001b[37m\u001b[0m \u001b[1m0s\u001b[0m 87ms/step - loss: 0.1892 - val_loss: 1.2389\n",
            "Epoch 96/100\n",
            "\u001b[1m2/2\u001b[0m \u001b[32m━━━━━━━━━━━━━━━━━━━━\u001b[0m\u001b[37m\u001b[0m \u001b[1m0s\u001b[0m 90ms/step - loss: 0.1912 - val_loss: 1.2542\n",
            "Epoch 97/100\n",
            "\u001b[1m2/2\u001b[0m \u001b[32m━━━━━━━━━━━━━━━━━━━━\u001b[0m\u001b[37m\u001b[0m \u001b[1m0s\u001b[0m 89ms/step - loss: 0.1971 - val_loss: 1.2603\n",
            "Epoch 98/100\n",
            "\u001b[1m2/2\u001b[0m \u001b[32m━━━━━━━━━━━━━━━━━━━━\u001b[0m\u001b[37m\u001b[0m \u001b[1m0s\u001b[0m 87ms/step - loss: 0.1988 - val_loss: 1.2582\n",
            "Epoch 99/100\n",
            "\u001b[1m2/2\u001b[0m \u001b[32m━━━━━━━━━━━━━━━━━━━━\u001b[0m\u001b[37m\u001b[0m \u001b[1m0s\u001b[0m 91ms/step - loss: 0.1981 - val_loss: 1.2598\n",
            "Epoch 100/100\n",
            "\u001b[1m2/2\u001b[0m \u001b[32m━━━━━━━━━━━━━━━━━━━━\u001b[0m\u001b[37m\u001b[0m \u001b[1m0s\u001b[0m 88ms/step - loss: 0.1889 - val_loss: 1.2646\n",
            "\u001b[1m1/1\u001b[0m \u001b[32m━━━━━━━━━━━━━━━━━━━━\u001b[0m\u001b[37m\u001b[0m \u001b[1m0s\u001b[0m 79ms/step\n",
            "\u001b[1m1/1\u001b[0m \u001b[32m━━━━━━━━━━━━━━━━━━━━\u001b[0m\u001b[37m\u001b[0m \u001b[1m0s\u001b[0m 241ms/step\n"
          ]
        },
        {
          "ename": "ValueError",
          "evalue": "Cannot take the length of shape with unknown rank.",
          "output_type": "error",
          "traceback": [
            "\u001b[1;31m---------------------------------------------------------------------------\u001b[0m",
            "\u001b[1;31mValueError\u001b[0m                                Traceback (most recent call last)",
            "Cell \u001b[1;32mIn[3], line 49\u001b[0m\n\u001b[0;32m     46\u001b[0m joblib\u001b[38;5;241m.\u001b[39mdump(y_scaler, \u001b[38;5;124m\"\u001b[39m\u001b[38;5;124mMlAlgos/sales_scaler.save\u001b[39m\u001b[38;5;124m\"\u001b[39m)\n\u001b[0;32m     48\u001b[0m \u001b[38;5;66;03m# Evaluate the model on the test set\u001b[39;00m\n\u001b[1;32m---> 49\u001b[0m test_loss \u001b[38;5;241m=\u001b[39m \u001b[43mmodel\u001b[49m\u001b[38;5;241;43m.\u001b[39;49m\u001b[43mevaluate\u001b[49m\u001b[43m(\u001b[49m\u001b[43mX_test\u001b[49m\u001b[43m,\u001b[49m\u001b[43m \u001b[49m\u001b[43mY_test\u001b[49m\u001b[43m)\u001b[49m\n\u001b[0;32m     50\u001b[0m joblib\u001b[38;5;241m.\u001b[39mdump(scaler, \u001b[38;5;124m\"\u001b[39m\u001b[38;5;124mMlAlgos/month_scaler.save\u001b[39m\u001b[38;5;124m\"\u001b[39m)\n\u001b[0;32m     51\u001b[0m \u001b[38;5;28mprint\u001b[39m(\u001b[38;5;124mf\u001b[39m\u001b[38;5;124m\"\u001b[39m\u001b[38;5;124mTest Loss: \u001b[39m\u001b[38;5;132;01m{\u001b[39;00mtest_loss\u001b[38;5;132;01m}\u001b[39;00m\u001b[38;5;124m\"\u001b[39m)\n",
            "File \u001b[1;32m~\\AppData\\Local\\Packages\\PythonSoftwareFoundation.Python.3.12_qbz5n2kfra8p0\\LocalCache\\local-packages\\Python312\\site-packages\\keras\\src\\utils\\traceback_utils.py:122\u001b[0m, in \u001b[0;36mfilter_traceback.<locals>.error_handler\u001b[1;34m(*args, **kwargs)\u001b[0m\n\u001b[0;32m    119\u001b[0m     filtered_tb \u001b[38;5;241m=\u001b[39m _process_traceback_frames(e\u001b[38;5;241m.\u001b[39m__traceback__)\n\u001b[0;32m    120\u001b[0m     \u001b[38;5;66;03m# To get the full stack trace, call:\u001b[39;00m\n\u001b[0;32m    121\u001b[0m     \u001b[38;5;66;03m# `keras.config.disable_traceback_filtering()`\u001b[39;00m\n\u001b[1;32m--> 122\u001b[0m     \u001b[38;5;28;01mraise\u001b[39;00m e\u001b[38;5;241m.\u001b[39mwith_traceback(filtered_tb) \u001b[38;5;28;01mfrom\u001b[39;00m \u001b[38;5;28;01mNone\u001b[39;00m\n\u001b[0;32m    123\u001b[0m \u001b[38;5;28;01mfinally\u001b[39;00m:\n\u001b[0;32m    124\u001b[0m     \u001b[38;5;28;01mdel\u001b[39;00m filtered_tb\n",
            "File \u001b[1;32m~\\AppData\\Local\\Packages\\PythonSoftwareFoundation.Python.3.12_qbz5n2kfra8p0\\LocalCache\\local-packages\\Python312\\site-packages\\optree\\ops.py:766\u001b[0m, in \u001b[0;36mtree_map\u001b[1;34m(func, tree, is_leaf, none_is_leaf, namespace, *rests)\u001b[0m\n\u001b[0;32m    764\u001b[0m leaves, treespec \u001b[38;5;241m=\u001b[39m _C\u001b[38;5;241m.\u001b[39mflatten(tree, is_leaf, none_is_leaf, namespace)\n\u001b[0;32m    765\u001b[0m flat_args \u001b[38;5;241m=\u001b[39m [leaves] \u001b[38;5;241m+\u001b[39m [treespec\u001b[38;5;241m.\u001b[39mflatten_up_to(r) \u001b[38;5;28;01mfor\u001b[39;00m r \u001b[38;5;129;01min\u001b[39;00m rests]\n\u001b[1;32m--> 766\u001b[0m \u001b[38;5;28;01mreturn\u001b[39;00m \u001b[43mtreespec\u001b[49m\u001b[38;5;241;43m.\u001b[39;49m\u001b[43munflatten\u001b[49m\u001b[43m(\u001b[49m\u001b[38;5;28;43mmap\u001b[39;49m\u001b[43m(\u001b[49m\u001b[43mfunc\u001b[49m\u001b[43m,\u001b[49m\u001b[43m \u001b[49m\u001b[38;5;241;43m*\u001b[39;49m\u001b[43mflat_args\u001b[49m\u001b[43m)\u001b[49m\u001b[43m)\u001b[49m\n",
            "\u001b[1;31mValueError\u001b[0m: Cannot take the length of shape with unknown rank."
          ]
        }
      ],
      "source": [
        "import joblib\n",
        "import pandas as pd\n",
        "from sklearn.model_selection import train_test_split\n",
        "from sklearn.preprocessing import LabelEncoder, StandardScaler\n",
        "from tensorflow.keras.models import Sequential\n",
        "from tensorflow.keras.layers import Dense\n",
        "from tensorflow.keras.optimizers import Adam\n",
        "\n",
        "\n",
        "monthlySalesData = pd.read_csv(\"FinalData/SalesPerMonth.csv\")\n",
        "print(monthlySalesData)\n",
        "\n",
        "X = monthlySalesData.drop(\"Sales\", axis=1)\n",
        "Y = monthlySalesData[\"Sales\"]\n",
        "\n",
        "# Normalize data (scaling numeric columns for NN input)\n",
        "scaler = StandardScaler()\n",
        "X[['Month', 'Year']] = scaler.fit_transform(X[['Month', 'Year']])\n",
        "\n",
        "# Split into training and test sets\n",
        "X_train, X_test, Y_train, Y_test = train_test_split(X, Y, test_size=0.1, random_state=42)\n",
        "\n",
        "# Build a simple Neural Network\n",
        "model = Sequential()\n",
        "\n",
        "# Input layer (use the number of features for input layer size)\n",
        "model.add(Dense(64, input_dim=X_train.shape[1], activation='relu'))  # First hidden layer\n",
        "model.add(Dense(32, activation='relu'))  # Second hidden layer\n",
        "model.add(Dense(1))  # Output layer (single value for regression)\n",
        "\n",
        "# Compile the model\n",
        "model.compile(optimizer=Adam(learning_rate=0.001), loss='mean_squared_error')\n",
        "\n",
        "y_scaler = StandardScaler()\n",
        "Y_scaled = y_scaler.fit_transform(Y.values.reshape(-1, 1)).flatten()\n",
        "\n",
        "# Train the model\n",
        "model.fit(X_train, Y_scaled, epochs=100, batch_size=16, validation_split=0.1, verbose=1)\n",
        "\n",
        "# Make predictions on training and test data\n",
        "train_predictions = model.predict(X_train)\n",
        "test_predictions = model.predict(X_test)\n",
        "\n",
        "# Save the model\n",
        "model.save('MlAlgos/monthlySales_neural_network_model.keras')\n",
        "joblib.dump(y_scaler, \"MlAlgos/sales_scaler.save\")\n",
        "\n",
        "# Evaluate the model on the test set\n",
        "test_loss = model.evaluate(X_test, Y_test)\n",
        "joblib.dump(scaler, \"MlAlgos/month_scaler.save\")\n",
        "print(f\"Test Loss: {test_loss}\")\n",
        "\n"
      ]
    }
  ],
  "metadata": {
    "colab": {
      "authorship_tag": "ABX9TyNkvNX2HtaXVuXRe8bSEvO/",
      "include_colab_link": true,
      "provenance": []
    },
    "kernelspec": {
      "display_name": "Python 3",
      "name": "python3"
    },
    "language_info": {
      "codemirror_mode": {
        "name": "ipython",
        "version": 3
      },
      "file_extension": ".py",
      "mimetype": "text/x-python",
      "name": "python",
      "nbconvert_exporter": "python",
      "pygments_lexer": "ipython3",
      "version": "3.12.10"
    }
  },
  "nbformat": 4,
  "nbformat_minor": 0
}
