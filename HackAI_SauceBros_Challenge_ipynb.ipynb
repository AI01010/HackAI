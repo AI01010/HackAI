{
 "cells": [
  {
   "cell_type": "markdown",
   "metadata": {
    "colab_type": "text",
    "id": "view-in-github"
   },
   "source": [
    "<a href=\"https://colab.research.google.com/github/AI01010/HackAI/blob/main/HackAI_SauceBros_Challenge_ipynb.ipynb\" target=\"_parent\"><img src=\"https://colab.research.google.com/assets/colab-badge.svg\" alt=\"Open In Colab\"/></a>"
   ]
  },
  {
   "cell_type": "markdown",
   "metadata": {
    "id": "UQd5QXXtvoZ8"
   },
   "source": [
    "# Importing Necessary Libraries"
   ]
  },
  {
   "cell_type": "code",
   "execution_count": 2,
   "metadata": {
    "id": "NMY-dKpZsAb3"
   },
   "outputs": [],
   "source": [
    "import pandas as pd\n",
    "import numpy as np\n",
    "import matplotlib.pyplot as plt\n",
    "import seaborn as sns"
   ]
  },
  {
   "cell_type": "markdown",
   "metadata": {
    "id": "4vuTP5zovxe0"
   },
   "source": [
    "# Loading Dataset"
   ]
  },
  {
   "cell_type": "code",
   "execution_count": 6,
   "metadata": {
    "colab": {
     "base_uri": "https://localhost:8080/"
    },
    "id": "XHINDSXjv1ic",
    "outputId": "4c5019aa-19ae-4782-9987-bf30446c7048"
   },
   "outputs": [
    {
     "ename": "ModuleNotFoundError",
     "evalue": "No module named 'google'",
     "output_type": "error",
     "traceback": [
      "\u001b[1;31m---------------------------------------------------------------------------\u001b[0m",
      "\u001b[1;31mModuleNotFoundError\u001b[0m                       Traceback (most recent call last)",
      "Cell \u001b[1;32mIn[6], line 2\u001b[0m\n\u001b[0;32m      1\u001b[0m \u001b[38;5;66;03m#Mounting the drive\u001b[39;00m\n\u001b[1;32m----> 2\u001b[0m \u001b[38;5;28;01mfrom\u001b[39;00m \u001b[38;5;21;01mgoogle\u001b[39;00m\u001b[38;5;21;01m.\u001b[39;00m\u001b[38;5;21;01mcolab\u001b[39;00m \u001b[38;5;28;01mimport\u001b[39;00m drive\n\u001b[0;32m      3\u001b[0m drive\u001b[38;5;241m.\u001b[39mmount(\u001b[38;5;124m'\u001b[39m\u001b[38;5;124m/content/drive\u001b[39m\u001b[38;5;124m'\u001b[39m)\n",
      "\u001b[1;31mModuleNotFoundError\u001b[0m: No module named 'google'"
     ]
    }
   ],
   "source": [
    "#Mounting the drive\n",
    "from google.colab import drive\n",
    "drive.mount('/content/drive')\n"
   ]
  },
  {
   "cell_type": "code",
   "execution_count": 105,
   "metadata": {
    "id": "MRTQAg4L0FdT"
   },
   "outputs": [],
   "source": [
    "file_path_menu_breakdown = '/content/drive/My Drive/menu-breakdown-jan1-dec31-2023.csv'\n",
    "df_menu_breakdown = pd.read_csv(file_path_menu_breakdown)\n",
    "\n",
    "file_path_sales_2025 =  '/content/drive/My Drive/sales-by-date-jan1-apr18-2025.csv'\n",
    "df_sales_2025 = pd.read_csv(file_path_sales_2025)\n",
    "\n",
    "file_path_sales_2023_part1 = '/content/drive/My Drive/sales-by-date-jan1-dec31-2023.csv'\n",
    "df_sales_2023_part1 = pd.read_csv(file_path_sales_2023_part1)\n",
    "\n",
    "file_path_sales_2023_part2 = '/content/drive/My Drive/sales-by-date-jan1-dec31-2023 (1).csv'\n",
    "df_sales_2023_part2 = pd.read_csv(file_path_sales_2023_part2)\n",
    "\n",
    "file_path_sales_2024 = '/content/drive/My Drive/sales-by-date-jan1-dec31-2024.csv'\n",
    "df_sales_2024 = pd.read_csv(file_path_sales_2024)\n",
    "\n",
    "file_path_sales_time_2023 = '/content/drive/My Drive/sales-by-time-jan1-dec31-2023.csv'\n",
    "df_sales_time_2023 = pd.read_csv(file_path_sales_time_2023)\n",
    "\n",
    "file_path_sales_time_2024 = '/content/drive/My Drive/sales-by-time-jan1-dec31-2024.csv'\n",
    "df_sales_time_2024 = pd.read_csv(file_path_sales_time_2024)\n",
    "\n",
    "file_path_sales_time_2025 = '/content/drive/My Drive/sales-by-time-jan1-apr18-2025.csv'\n",
    "df_sales_time_2025 = pd.read_csv(file_path_sales_time_2025)\n",
    "\n",
    "file_path_sales_item_2023 = '/content/drive/My Drive/Item Sales 2023-01-01 - 2023-12-31.csv'\n",
    "df_sales_item_2023_copy = pd.read_csv(file_path_sales_item_2023)\n",
    "\n",
    "file_path_sales_item_2024 ='/content/drive/My Drive/Item Sales 2024-01-01 - 2024-12-31.csv'\n",
    "df_sales_item_2024 = pd.read_csv(file_path_sales_item_2024)\n",
    "\n",
    "\n"
   ]
  },
  {
   "cell_type": "markdown",
   "metadata": {
    "id": "aneAox656R_8"
   },
   "source": [
    "#Data Overview"
   ]
  },
  {
   "cell_type": "code",
   "execution_count": null,
   "metadata": {
    "colab": {
     "base_uri": "https://localhost:8080/"
    },
    "id": "FVH5vp0_6UPl",
    "outputId": "f2866357-6435-4f89-af92-6ee3db3c9554"
   },
   "outputs": [
    {
     "ename": "NameError",
     "evalue": "name 'df_menu_breakdown' is not defined",
     "output_type": "error",
     "traceback": [
      "\u001b[1;31m---------------------------------------------------------------------------\u001b[0m",
      "\u001b[1;31mNameError\u001b[0m                                 Traceback (most recent call last)",
      "Cell \u001b[1;32mIn[2], line 1\u001b[0m\n\u001b[1;32m----> 1\u001b[0m \u001b[38;5;28mprint\u001b[39m(df_menu_breakdown)\n",
      "\u001b[1;31mNameError\u001b[0m: name 'df_menu_breakdown' is not defined"
     ]
    }
   ],
   "source": [
    "print(df_menu_breakdown)"
   ]
  },
  {
   "cell_type": "code",
   "execution_count": 8,
   "metadata": {
    "colab": {
     "base_uri": "https://localhost:8080/"
    },
    "id": "0iCqX-3l6aBZ",
    "outputId": "de7c9f1a-6d5f-470d-f10d-5b961a0181ba"
   },
   "outputs": [
    {
     "name": "stdout",
     "output_type": "stream",
     "text": [
      "                          Sales Category       Item Name  Modifier  \\\n",
      "No Sales Category                    NaN             NaN       NaN   \n",
      "No Sales Category  Naga Habanero Chicken             NaN       NaN   \n",
      "No Sales Category  Naga Habanero Chicken  light cilantro       NaN   \n",
      "No Sales Category  Naga Habanero Chicken        Jalapeno       NaN   \n",
      "No Sales Category  Naga Habanero Chicken       Pepperoni       NaN   \n",
      "...                                  ...             ...       ...   \n",
      "Pizza                          Hot Honey             NaN       NaN   \n",
      "Pizza                 Red Peppers Bags 3             NaN       NaN   \n",
      "Pizza                         Side Basil             NaN       NaN   \n",
      "Pizza                      Side Cilantro             NaN       NaN   \n",
      "Pizza                            Soda 2L             NaN       NaN   \n",
      "\n",
      "                   Unnamed: 3  Avg Price  Quantity  Gross Sales  \\\n",
      "No Sales Category   16.230000     5119.0  83106.70          0.0   \n",
      "No Sales Category   22.333365      542.0  12025.89          0.0   \n",
      "No Sales Category         NaN        1.0      0.00          0.0   \n",
      "No Sales Category         NaN       15.0     14.85          0.0   \n",
      "No Sales Category         NaN       12.0     35.88          0.0   \n",
      "...                       ...        ...       ...          ...   \n",
      "Pizza                1.629344       81.0    129.19          0.4   \n",
      "Pizza                0.840000        7.0      6.13          0.0   \n",
      "Pizza                0.500000        1.0      0.50          0.0   \n",
      "Pizza                0.500000        1.0      0.50          0.0   \n",
      "Pizza                3.990000       10.0     39.90          0.0   \n",
      "\n",
      "                   Discount Amount  \n",
      "No Sales Category         83106.70  \n",
      "No Sales Category         12025.89  \n",
      "No Sales Category             0.00  \n",
      "No Sales Category            14.85  \n",
      "No Sales Category            35.88  \n",
      "...                            ...  \n",
      "Pizza                       126.80  \n",
      "Pizza                         6.13  \n",
      "Pizza                         0.50  \n",
      "Pizza                         0.50  \n",
      "Pizza                        39.90  \n",
      "\n",
      "[1237 rows x 8 columns]\n"
     ]
    }
   ],
   "source": [
    "df_menu_breakdown_cleaned = df_menu_breakdown.copy()\n",
    "for col in df_menu_breakdown.columns:\n",
    "    if df_menu_breakdown[col].isnull().all():\n",
    "        df_menu_breakdown_cleaned = df_menu_breakdown_cleaned.drop(col, axis=1)\n",
    "\n",
    "print(df_menu_breakdown_cleaned)"
   ]
  },
  {
   "cell_type": "markdown",
   "metadata": {
    "id": "pwcreZs0noQB"
   },
   "source": [
    "#Sales by Date"
   ]
  },
  {
   "cell_type": "code",
   "execution_count": 20,
   "metadata": {
    "colab": {
     "base_uri": "https://localhost:8080/"
    },
    "id": "JuSX2DWOQ-eR",
    "outputId": "3eafaa48-92fa-4465-f907-c735cb81b66c"
   },
   "outputs": [
    {
     "name": "stdout",
     "output_type": "stream",
     "text": [
      "<class 'pandas.core.frame.DataFrame'>\n",
      "Index: 108 entries, 01/01/2025 to 04/18/2025\n",
      "Data columns (total 4 columns):\n",
      " #   Column     Non-Null Count  Dtype         \n",
      "---  ------     --------------  -----         \n",
      " 0   Date       108 non-null    datetime64[ns]\n",
      " 1   Net Sales  108 non-null    int64         \n",
      " 2   Orders     108 non-null    int64         \n",
      " 3   Guests     0 non-null      float64       \n",
      "dtypes: datetime64[ns](1), float64(1), int64(2)\n",
      "memory usage: 8.3+ KB\n",
      "None\n",
      "                                    Date  Net Sales  Orders  Guests\n",
      "01/01/2025 1970-01-01 00:00:00.000000000          0       0     NaN\n",
      "01/02/2025 1970-01-01 00:00:00.000000347         11      11     NaN\n",
      "01/03/2025 1970-01-01 00:00:00.000000871         18      18     NaN\n",
      "01/04/2025 1970-01-01 00:00:00.000000447         15      15     NaN\n",
      "01/05/2025 1970-01-01 00:00:00.000000823         25      25     NaN\n",
      "...                                  ...        ...     ...     ...\n",
      "04/14/2025 1970-01-01 00:00:00.000000000          0       0     NaN\n",
      "04/15/2025 1970-01-01 00:00:00.000000669         24      24     NaN\n",
      "04/16/2025 1970-01-01 00:00:00.000000458         15      15     NaN\n",
      "04/17/2025 1970-01-01 00:00:00.000000784         26      26     NaN\n",
      "04/18/2025 1970-01-01 00:00:00.000001158         36      36     NaN\n",
      "\n",
      "[108 rows x 4 columns]\n"
     ]
    }
   ],
   "source": [
    "print(df_sales_2025.info())\n",
    "print(df_sales_2025)"
   ]
  },
  {
   "cell_type": "code",
   "execution_count": 21,
   "metadata": {
    "colab": {
     "base_uri": "https://localhost:8080/"
    },
    "id": "nWTLEYINWvwY",
    "outputId": "d5af2df4-c09c-47a5-9f94-17457e684846"
   },
   "outputs": [
    {
     "name": "stdout",
     "output_type": "stream",
     "text": [
      "<class 'pandas.core.frame.DataFrame'>\n",
      "Index: 108 entries, 01/01/2025 to 04/18/2025\n",
      "Data columns (total 4 columns):\n",
      " #   Column     Non-Null Count  Dtype         \n",
      "---  ------     --------------  -----         \n",
      " 0   Date       108 non-null    datetime64[ns]\n",
      " 1   Net Sales  108 non-null    int64         \n",
      " 2   Orders     108 non-null    int64         \n",
      " 3   Guests     0 non-null      float64       \n",
      "dtypes: datetime64[ns](1), float64(1), int64(2)\n",
      "memory usage: 8.3+ KB\n",
      "None\n",
      "                                    Date  Net Sales  Orders  Guests\n",
      "01/01/2025 1970-01-01 00:00:00.000000000          0       0     NaN\n",
      "01/02/2025 1970-01-01 00:00:00.000000347         11      11     NaN\n",
      "01/03/2025 1970-01-01 00:00:00.000000871         18      18     NaN\n",
      "01/04/2025 1970-01-01 00:00:00.000000447         15      15     NaN\n",
      "01/05/2025 1970-01-01 00:00:00.000000823         25      25     NaN\n",
      "...                                  ...        ...     ...     ...\n",
      "04/14/2025 1970-01-01 00:00:00.000000000          0       0     NaN\n",
      "04/15/2025 1970-01-01 00:00:00.000000669         24      24     NaN\n",
      "04/16/2025 1970-01-01 00:00:00.000000458         15      15     NaN\n",
      "04/17/2025 1970-01-01 00:00:00.000000784         26      26     NaN\n",
      "04/18/2025 1970-01-01 00:00:00.000001158         36      36     NaN\n",
      "\n",
      "[108 rows x 4 columns]\n"
     ]
    }
   ],
   "source": [
    "df_sales_2025['Date'] = pd.to_datetime(df_sales_2025['Date'])\n",
    "print(df_sales_2025.info())\n",
    "print(df_sales_2025)"
   ]
  },
  {
   "cell_type": "code",
   "execution_count": 25,
   "metadata": {
    "colab": {
     "base_uri": "https://localhost:8080/"
    },
    "id": "wgetMbONYpKk",
    "outputId": "8584ebb6-137d-44a5-9991-267e9c6563b8"
   },
   "outputs": [
    {
     "name": "stdout",
     "output_type": "stream",
     "text": [
      "<class 'pandas.core.frame.DataFrame'>\n",
      "Index: 365 entries, 01/01/2023 to 12/31/2023\n",
      "Data columns (total 4 columns):\n",
      " #   Column     Non-Null Count  Dtype         \n",
      "---  ------     --------------  -----         \n",
      " 0   Date       365 non-null    datetime64[ns]\n",
      " 1   Net Sales  365 non-null    int64         \n",
      " 2   Orders     365 non-null    int64         \n",
      " 3   Guests     0 non-null      float64       \n",
      "dtypes: datetime64[ns](1), float64(1), int64(2)\n",
      "memory usage: 14.3+ KB\n",
      "None\n",
      "                                    Date  Net Sales  Orders  Guests\n",
      "01/01/2023 1970-01-01 00:00:00.000000493         15      15     NaN\n",
      "01/02/2023 1970-01-01 00:00:00.000000000          0       0     NaN\n",
      "01/03/2023 1970-01-01 00:00:00.000000360         12      12     NaN\n",
      "01/04/2023 1970-01-01 00:00:00.000000254          9       9     NaN\n",
      "01/05/2023 1970-01-01 00:00:00.000000405         16      16     NaN\n",
      "...                                  ...        ...     ...     ...\n",
      "12/27/2023 1970-01-01 00:00:00.000000672         17      17     NaN\n",
      "12/28/2023 1970-01-01 00:00:00.000000878         24      24     NaN\n",
      "12/29/2023 1970-01-01 00:00:00.000001284         32      32     NaN\n",
      "12/30/2023 1970-01-01 00:00:00.000001417         43      43     NaN\n",
      "12/31/2023 1970-01-01 00:00:00.000001136         31      31     NaN\n",
      "\n",
      "[365 rows x 4 columns]\n"
     ]
    }
   ],
   "source": [
    "print(df_sales_2023_part1.info())\n",
    "print(df_sales_2023_part1)"
   ]
  },
  {
   "cell_type": "code",
   "execution_count": 24,
   "metadata": {
    "colab": {
     "base_uri": "https://localhost:8080/"
    },
    "id": "T-3aBpwlYxsd",
    "outputId": "1b3f9e2c-c983-4681-bc82-1051e1d0d49c"
   },
   "outputs": [
    {
     "name": "stdout",
     "output_type": "stream",
     "text": [
      "<class 'pandas.core.frame.DataFrame'>\n",
      "Index: 365 entries, 01/01/2023 to 12/31/2023\n",
      "Data columns (total 4 columns):\n",
      " #   Column     Non-Null Count  Dtype         \n",
      "---  ------     --------------  -----         \n",
      " 0   Date       365 non-null    datetime64[ns]\n",
      " 1   Net Sales  365 non-null    int64         \n",
      " 2   Orders     365 non-null    int64         \n",
      " 3   Guests     0 non-null      float64       \n",
      "dtypes: datetime64[ns](1), float64(1), int64(2)\n",
      "memory usage: 14.3+ KB\n",
      "None\n",
      "                                    Date  Net Sales  Orders  Guests\n",
      "01/01/2023 1970-01-01 00:00:00.000000493         15      15     NaN\n",
      "01/02/2023 1970-01-01 00:00:00.000000000          0       0     NaN\n",
      "01/03/2023 1970-01-01 00:00:00.000000360         12      12     NaN\n",
      "01/04/2023 1970-01-01 00:00:00.000000254          9       9     NaN\n",
      "01/05/2023 1970-01-01 00:00:00.000000405         16      16     NaN\n",
      "...                                  ...        ...     ...     ...\n",
      "12/27/2023 1970-01-01 00:00:00.000000672         17      17     NaN\n",
      "12/28/2023 1970-01-01 00:00:00.000000878         24      24     NaN\n",
      "12/29/2023 1970-01-01 00:00:00.000001284         32      32     NaN\n",
      "12/30/2023 1970-01-01 00:00:00.000001417         43      43     NaN\n",
      "12/31/2023 1970-01-01 00:00:00.000001136         31      31     NaN\n",
      "\n",
      "[365 rows x 4 columns]\n"
     ]
    }
   ],
   "source": [
    "df_sales_2023_part1['Date'] = pd.to_datetime(df_sales_2023_part1['Date'])\n",
    "print(df_sales_2023_part1.info())\n",
    "print(df_sales_2023_part1)"
   ]
  },
  {
   "cell_type": "code",
   "execution_count": 35,
   "metadata": {
    "colab": {
     "base_uri": "https://localhost:8080/"
    },
    "id": "95AkMP3yb_Wd",
    "outputId": "e8c706f1-9f61-437e-b4bb-57b91d23b3dc"
   },
   "outputs": [
    {
     "name": "stdout",
     "output_type": "stream",
     "text": [
      "<class 'pandas.core.frame.DataFrame'>\n",
      "Index: 365 entries, 01/01/2023 to 12/31/2023\n",
      "Data columns (total 4 columns):\n",
      " #   Column     Non-Null Count  Dtype         \n",
      "---  ------     --------------  -----         \n",
      " 0   Date       365 non-null    datetime64[ns]\n",
      " 1   Net Sales  365 non-null    int64         \n",
      " 2   Orders     365 non-null    int64         \n",
      " 3   Guests     0 non-null      float64       \n",
      "dtypes: datetime64[ns](1), float64(1), int64(2)\n",
      "memory usage: 14.3+ KB\n",
      "None\n"
     ]
    }
   ],
   "source": [
    "df_sales_2023_part2['Date'] = pd.to_datetime(df_sales_2023_part2['Date'])\n",
    "print(df_sales_2023_part2.info())"
   ]
  },
  {
   "cell_type": "code",
   "execution_count": 36,
   "metadata": {
    "colab": {
     "base_uri": "https://localhost:8080/"
    },
    "id": "AdVP55kbfE36",
    "outputId": "d1390ef7-d36f-49e9-fc3b-576613d3e625"
   },
   "outputs": [
    {
     "name": "stdout",
     "output_type": "stream",
     "text": [
      "<class 'pandas.core.frame.DataFrame'>\n",
      "Index: 366 entries, 01/01/2024 to 12/31/2024\n",
      "Data columns (total 4 columns):\n",
      " #   Column     Non-Null Count  Dtype  \n",
      "---  ------     --------------  -----  \n",
      " 0   Date       366 non-null    float64\n",
      " 1   Net Sales  366 non-null    int64  \n",
      " 2   Orders     366 non-null    int64  \n",
      " 3   Guests     0 non-null      float64\n",
      "dtypes: float64(2), int64(2)\n",
      "memory usage: 14.3+ KB\n",
      "None\n",
      "              Date  Net Sales  Orders  Guests\n",
      "01/01/2024    0.00          0       0     NaN\n",
      "01/02/2024  656.12         19      19     NaN\n",
      "01/03/2024  666.52         17      17     NaN\n",
      "01/04/2024  373.35         12      12     NaN\n",
      "01/05/2024  817.98         24      24     NaN\n",
      "...            ...        ...     ...     ...\n",
      "12/27/2024  769.41         20      20     NaN\n",
      "12/28/2024  759.91         23      23     NaN\n",
      "12/29/2024  961.75         16      16     NaN\n",
      "12/30/2024    0.00          0       0     NaN\n",
      "12/31/2024  623.86         16      16     NaN\n",
      "\n",
      "[366 rows x 4 columns]\n"
     ]
    }
   ],
   "source": [
    "print(df_sales_2024.info())\n",
    "print(df_sales_2024)"
   ]
  },
  {
   "cell_type": "code",
   "execution_count": 39,
   "metadata": {
    "colab": {
     "base_uri": "https://localhost:8080/"
    },
    "id": "Wq2h8N7zg7hR",
    "outputId": "9128584f-110a-41df-ff05-08f2ee9bb5f0"
   },
   "outputs": [
    {
     "name": "stdout",
     "output_type": "stream",
     "text": [
      "<class 'pandas.core.frame.DataFrame'>\n",
      "Index: 366 entries, 01/01/2024 to 12/31/2024\n",
      "Data columns (total 4 columns):\n",
      " #   Column     Non-Null Count  Dtype         \n",
      "---  ------     --------------  -----         \n",
      " 0   Date       366 non-null    datetime64[ns]\n",
      " 1   Net Sales  366 non-null    int64         \n",
      " 2   Orders     366 non-null    int64         \n",
      " 3   Guests     0 non-null      float64       \n",
      "dtypes: datetime64[ns](1), float64(1), int64(2)\n",
      "memory usage: 14.3+ KB\n",
      "None\n"
     ]
    }
   ],
   "source": [
    "df_sales_2024['Date'] = pd.to_datetime(df_sales_2024['Date'])\n",
    "print(df_sales_2024.info())"
   ]
  },
  {
   "cell_type": "markdown",
   "metadata": {
    "id": "F71UhjJOnsG5"
   },
   "source": [
    "#Sales by Time"
   ]
  },
  {
   "cell_type": "code",
   "execution_count": 46,
   "metadata": {
    "colab": {
     "base_uri": "https://localhost:8080/"
    },
    "id": "DVEs9JvQn45k",
    "outputId": "7714fa8e-9c6d-4e63-eb92-e456f2378707"
   },
   "outputs": [
    {
     "name": "stdout",
     "output_type": "stream",
     "text": [
      "<class 'pandas.core.frame.DataFrame'>\n",
      "Index: 16 entries, 12:00 AM to 11:00 PM\n",
      "Data columns (total 4 columns):\n",
      " #   Column     Non-Null Count  Dtype  \n",
      "---  ------     --------------  -----  \n",
      " 0   Time       16 non-null     float64\n",
      " 1   Net Sales  16 non-null     int64  \n",
      " 2   Orders     16 non-null     int64  \n",
      " 3   Guests     0 non-null      float64\n",
      "dtypes: float64(2), int64(2)\n",
      "memory usage: 640.0+ bytes\n"
     ]
    }
   ],
   "source": [
    "df_sales_time_2023.info()"
   ]
  },
  {
   "cell_type": "code",
   "execution_count": 62,
   "metadata": {
    "colab": {
     "base_uri": "https://localhost:8080/"
    },
    "id": "-FnWZdhovhWD",
    "outputId": "22dee4e0-eae9-415e-a811-ca1ab22b2791"
   },
   "outputs": [
    {
     "name": "stdout",
     "output_type": "stream",
     "text": [
      "<class 'pandas.core.frame.DataFrame'>\n",
      "Index: 16 entries, 12:00 AM to 11:00 PM\n",
      "Data columns (total 4 columns):\n",
      " #   Column     Non-Null Count  Dtype         \n",
      "---  ------     --------------  -----         \n",
      " 0   Time       16 non-null     datetime64[ns]\n",
      " 1   Net Sales  16 non-null     int64         \n",
      " 2   Orders     16 non-null     int64         \n",
      " 3   Guests     0 non-null      float64       \n",
      "dtypes: datetime64[ns](1), float64(1), int64(2)\n",
      "memory usage: 640.0+ bytes\n",
      "None\n",
      "                                  Time  Net Sales  Orders  Guests\n",
      "12:00 AM 1970-01-01 00:00:00.000000380         18      18     NaN\n",
      "3:00 AM  1970-01-01 00:00:00.000000035          1       1     NaN\n",
      "5:00 AM  1970-01-01 00:00:00.000000025          1       1     NaN\n",
      "11:00 AM 1970-01-01 00:00:00.000000383         12      12     NaN\n",
      "12:00 PM 1970-01-01 00:00:00.000008077        242     242     NaN\n",
      "1:00 PM  1970-01-01 00:00:00.000006282        217     217     NaN\n",
      "2:00 PM  1970-01-01 00:00:00.000007907        244     244     NaN\n",
      "3:00 PM  1970-01-01 00:00:00.000011849        382     382     NaN\n",
      "4:00 PM  1970-01-01 00:00:00.000017227        520     520     NaN\n",
      "5:00 PM  1970-01-01 00:00:00.000031480        882     882     NaN\n",
      "6:00 PM  1970-01-01 00:00:00.000037710       1098    1098     NaN\n",
      "7:00 PM  1970-01-01 00:00:00.000033278        986     986     NaN\n",
      "8:00 PM  1970-01-01 00:00:00.000023993        757     757     NaN\n",
      "9:00 PM  1970-01-01 00:00:00.000018345        604     604     NaN\n",
      "10:00 PM 1970-01-01 00:00:00.000009742        316     316     NaN\n",
      "11:00 PM 1970-01-01 00:00:00.000002264         88      88     NaN\n"
     ]
    }
   ],
   "source": [
    "df_sales_time_2023['Time'] = pd.to_datetime(df_sales_time_2023['Time'])\n",
    "print(df_sales_time_2023.info())\n",
    "print(df_sales_time_2023)\n",
    "\n"
   ]
  },
  {
   "cell_type": "code",
   "execution_count": 66,
   "metadata": {
    "colab": {
     "base_uri": "https://localhost:8080/"
    },
    "id": "zHY9BWbf0Bqx",
    "outputId": "7460b58f-0f11-4734-9221-18aec4130327"
   },
   "outputs": [
    {
     "name": "stdout",
     "output_type": "stream",
     "text": [
      "<class 'pandas.core.frame.DataFrame'>\n",
      "Index: 19 entries, 12:00 AM to 11:00 PM\n",
      "Data columns (total 4 columns):\n",
      " #   Column     Non-Null Count  Dtype         \n",
      "---  ------     --------------  -----         \n",
      " 0   Time       19 non-null     datetime64[ns]\n",
      " 1   Net Sales  19 non-null     int64         \n",
      " 2   Orders     19 non-null     int64         \n",
      " 3   Guests     0 non-null      float64       \n",
      "dtypes: datetime64[ns](1), float64(1), int64(2)\n",
      "memory usage: 760.0+ bytes\n",
      "None\n",
      "                                  Time  Net Sales  Orders  Guests\n",
      "12:00 AM 1970-01-01 00:00:00.000000098          3       3     NaN\n",
      "1:00 AM  1970-01-01 00:00:00.000000029          1       1     NaN\n",
      "3:00 AM  1970-01-01 00:00:00.000000071          1       1     NaN\n",
      "4:00 AM  1970-01-01 00:00:00.000000033          1       1     NaN\n",
      "7:00 AM  1970-01-01 00:00:00.000000242          1       1     NaN\n",
      "10:00 AM 1970-01-01 00:00:00.000000024          1       1     NaN\n",
      "11:00 AM 1970-01-01 00:00:00.000000773         20      20     NaN\n",
      "12:00 PM 1970-01-01 00:00:00.000009594        247     247     NaN\n",
      "1:00 PM  1970-01-01 00:00:00.000007811        202     202     NaN\n",
      "2:00 PM  1970-01-01 00:00:00.000011856        247     247     NaN\n",
      "3:00 PM  1970-01-01 00:00:00.000013926        398     398     NaN\n",
      "4:00 PM  1970-01-01 00:00:00.000016769        468     468     NaN\n",
      "5:00 PM  1970-01-01 00:00:00.000029609        777     777     NaN\n",
      "6:00 PM  1970-01-01 00:00:00.000038158       1045    1045     NaN\n",
      "7:00 PM  1970-01-01 00:00:00.000033700        950     950     NaN\n",
      "8:00 PM  1970-01-01 00:00:00.000024683        773     773     NaN\n",
      "9:00 PM  1970-01-01 00:00:00.000019813        674     674     NaN\n",
      "10:00 PM 1970-01-01 00:00:00.000010309        393     393     NaN\n",
      "11:00 PM 1970-01-01 00:00:00.000002011         83      83     NaN\n"
     ]
    }
   ],
   "source": [
    "df_sales_time_2024['Time'] = pd.to_datetime(df_sales_time_2024['Time'])\n",
    "print(df_sales_time_2024.info())\n",
    "print(df_sales_time_2024)"
   ]
  },
  {
   "cell_type": "code",
   "execution_count": 73,
   "metadata": {
    "colab": {
     "base_uri": "https://localhost:8080/"
    },
    "id": "KMoH_9gY0x4l",
    "outputId": "db39ccdb-7feb-4594-f651-173718a3c2cb"
   },
   "outputs": [
    {
     "name": "stdout",
     "output_type": "stream",
     "text": [
      "<class 'pandas.core.frame.DataFrame'>\n",
      "Index: 16 entries, 12:00 AM to 11:00 PM\n",
      "Data columns (total 4 columns):\n",
      " #   Column     Non-Null Count  Dtype         \n",
      "---  ------     --------------  -----         \n",
      " 0   Time       16 non-null     datetime64[ns]\n",
      " 1   Net Sales  16 non-null     int64         \n",
      " 2   Orders     16 non-null     int64         \n",
      " 3   Guests     0 non-null      float64       \n",
      "dtypes: datetime64[ns](1), float64(1), int64(2)\n",
      "memory usage: 640.0+ bytes\n",
      "None\n",
      "                                  Time  Net Sales  Orders  Guests\n",
      "12:00 AM 1970-01-01 00:00:00.000000002          1       1     NaN\n",
      "3:00 AM  1970-01-01 00:00:00.000000099          1       1     NaN\n",
      "10:00 AM 1970-01-01 00:00:00.000000019          1       1     NaN\n",
      "11:00 AM 1970-01-01 00:00:00.000001068          9       9     NaN\n",
      "12:00 PM 1970-01-01 00:00:00.000004408        123     123     NaN\n",
      "1:00 PM  1970-01-01 00:00:00.000005593         89      89     NaN\n",
      "2:00 PM  1970-01-01 00:00:00.000004789        115     115     NaN\n",
      "3:00 PM  1970-01-01 00:00:00.000005038        151     151     NaN\n",
      "4:00 PM  1970-01-01 00:00:00.000008922        243     243     NaN\n",
      "5:00 PM  1970-01-01 00:00:00.000017214        417     417     NaN\n",
      "6:00 PM  1970-01-01 00:00:00.000021002        573     573     NaN\n",
      "7:00 PM  1970-01-01 00:00:00.000015062        436     436     NaN\n",
      "8:00 PM  1970-01-01 00:00:00.000007836        262     262     NaN\n",
      "9:00 PM  1970-01-01 00:00:00.000004497        155     155     NaN\n",
      "10:00 PM 1970-01-01 00:00:00.000003171        106     106     NaN\n",
      "11:00 PM 1970-01-01 00:00:00.000000305         13      13     NaN\n"
     ]
    }
   ],
   "source": [
    "df_sales_time_2025['Time'] = pd.to_datetime(df_sales_time_2025['Time'])\n",
    "print(df_sales_time_2025.info())\n",
    "print(df_sales_time_2025)"
   ]
  },
  {
   "cell_type": "markdown",
   "metadata": {
    "id": "q7gpPHB723et"
   },
   "source": [
    "#Sales by Item"
   ]
  },
  {
   "cell_type": "code",
   "execution_count": 96,
   "metadata": {
    "colab": {
     "base_uri": "https://localhost:8080/"
    },
    "id": "3NaneC4W3Vtp",
    "outputId": "2af7592c-59a0-4e85-e15b-932c3012eed9"
   },
   "outputs": [
    {
     "name": "stdout",
     "output_type": "stream",
     "text": [
      "<class 'pandas.core.frame.DataFrame'>\n",
      "RangeIndex: 53 entries, 0 to 52\n",
      "Data columns (total 3 columns):\n",
      " #   Column         Non-Null Count  Dtype \n",
      "---  ------         --------------  ----- \n",
      " 0   Item           53 non-null     object\n",
      " 1   Quantity Sold  53 non-null     int64 \n",
      " 2   Total Sales    53 non-null     object\n",
      "dtypes: int64(1), object(2)\n",
      "memory usage: 1.4+ KB\n",
      "None\n",
      "                                              Item  Quantity Sold Total Sales\n",
      "0                                     Chicken Wrap             83     $663.17\n",
      "1                                            Ranch            360     $578.40\n",
      "2                              Beef Chopped Cheese             59     $471.41\n",
      "3                                    Alfredo Pasta             41     $409.59\n",
      "4                                Naga Chicken Wrap             50     $389.50\n",
      "5                                         Naga Dip            185     $368.15\n",
      "6                                 Garlic Beef Wrap             46     $353.54\n",
      "7                                        Hot Honey            163     $324.37\n",
      "8                              Naga Habanero Pasta             27     $269.73\n",
      "9                               Tomato Basil Pasta             18     $179.82\n",
      "10                                      Soda (Can)             42     $117.25\n",
      "11                                Meatlovers Pizza            405      $99.95\n",
      "12                                     Paneer Wrap             10      $79.90\n",
      "13                                   Mushroom Wrap              7      $55.93\n",
      "14                               Soft Drinks (Can)             22      $43.28\n",
      "15                                   Aged Parmesan             17      $33.83\n",
      "16                                    Mushrom Wrap              4      $30.96\n",
      "17                                   Water (small)             13      $24.27\n",
      "18                              Red Peppers Bags 3             21      $18.79\n",
      "19                                 Parmesan Bags 3             15      $12.45\n",
      "20                                   Side Jalapeno             11      $10.89\n",
      "21                                    Chicken Wrap              1       $7.99\n",
      "22                             Beef Chopped Cheese              1       $7.99\n",
      "23                                      Side Basil             10       $5.54\n",
      "24                                     Side Olives              5       $4.95\n",
      "25                             Side Banana Peppers              3       $2.97\n",
      "26                                   Side Cilantro              5       $2.86\n",
      "27                           4Cheez with Hot Honey            162       $0.00\n",
      "28                          Naga Habanero Mushroom             44       $0.00\n",
      "29                                  Chicken Bianca             93       $0.00\n",
      "30                             Spicy Naga Balachao             12       $0.00\n",
      "31                                      Taco Pizza              6       $0.00\n",
      "32                             Spicy Naga Mushroom             10       $0.00\n",
      "33                                    Veggie Pizza             70       $0.00\n",
      "34                                   Spicy Italian              5       $0.00\n",
      "35                            Alfredo Cheese Pizza             68       $0.00\n",
      "36                                   Bongo Tex Mex             30       $0.00\n",
      "37                                      Korean BBQ             26       $0.00\n",
      "38                          Naga Habanero Balachao             20       $0.00\n",
      "39                              Spicy Naga Chicken            220       $0.00\n",
      "40                            Naga Habanero Paneer             64       $0.00\n",
      "41                                   Pepper Lovers             26       $0.00\n",
      "42                                 Harissa Chicken            183       $0.00\n",
      "43                                   Cheddar Birds             26       $0.00\n",
      "44                      Bros favorite Cheese Pizza            366       $0.00\n",
      "45                           Naga Habanero Chicken            277       $0.00\n",
      "46                                 Beef Taco Pizza            102       $0.00\n",
      "47                            Garlic Ghee Mushroom            169       $0.00\n",
      "48                                Customized Pizza             70       $0.00\n",
      "49                                Garlic Artichoke              4       $0.00\n",
      "50  Jhura Beef Pesto (contains Pine & Cashew Nuts)             91       $0.00\n",
      "51              Bengali Beef Pesto (Contains Nuts)            105       $0.00\n",
      "52                                  Beef Pepperoni            524       $0.00\n"
     ]
    }
   ],
   "source": [
    "print(df_sales_item_2023_copy.info())\n",
    "print(df_sales_item_2023_copy)\n",
    "\n",
    "\n",
    "\n"
   ]
  },
  {
   "cell_type": "code",
   "execution_count": 103,
   "metadata": {
    "colab": {
     "base_uri": "https://localhost:8080/"
    },
    "id": "0uawor3789Md",
    "outputId": "89c355d5-e3c2-40e6-e040-b3639bd7ec1f"
   },
   "outputs": [
    {
     "name": "stdout",
     "output_type": "stream",
     "text": [
      "<class 'pandas.core.frame.DataFrame'>\n",
      "RangeIndex: 53 entries, 0 to 52\n",
      "Data columns (total 3 columns):\n",
      " #   Column         Non-Null Count  Dtype  \n",
      "---  ------         --------------  -----  \n",
      " 0   Item           53 non-null     object \n",
      " 1   Quantity Sold  53 non-null     int64  \n",
      " 2   Total Sales    53 non-null     float64\n",
      "dtypes: float64(1), int64(1), object(1)\n",
      "memory usage: 1.4+ KB\n",
      "None\n",
      "                                              Item  Quantity Sold  Total Sales\n",
      "0                                     Chicken Wrap             83       663.17\n",
      "1                                            Ranch            360       578.40\n",
      "2                              Beef Chopped Cheese             59       471.41\n",
      "3                                    Alfredo Pasta             41       409.59\n",
      "4                                Naga Chicken Wrap             50       389.50\n",
      "5                                         Naga Dip            185       368.15\n",
      "6                                 Garlic Beef Wrap             46       353.54\n",
      "7                                        Hot Honey            163       324.37\n",
      "8                              Naga Habanero Pasta             27       269.73\n",
      "9                               Tomato Basil Pasta             18       179.82\n",
      "10                                      Soda (Can)             42       117.25\n",
      "11                                Meatlovers Pizza            405        99.95\n",
      "12                                     Paneer Wrap             10        79.90\n",
      "13                                   Mushroom Wrap              7        55.93\n",
      "14                               Soft Drinks (Can)             22        43.28\n",
      "15                                   Aged Parmesan             17        33.83\n",
      "16                                    Mushrom Wrap              4        30.96\n",
      "17                                   Water (small)             13        24.27\n",
      "18                              Red Peppers Bags 3             21        18.79\n",
      "19                                 Parmesan Bags 3             15        12.45\n",
      "20                                   Side Jalapeno             11        10.89\n",
      "21                                    Chicken Wrap              1         7.99\n",
      "22                             Beef Chopped Cheese              1         7.99\n",
      "23                                      Side Basil             10         5.54\n",
      "24                                     Side Olives              5         4.95\n",
      "25                             Side Banana Peppers              3         2.97\n",
      "26                                   Side Cilantro              5         2.86\n",
      "27                           4Cheez with Hot Honey            162         0.00\n",
      "28                          Naga Habanero Mushroom             44         0.00\n",
      "29                                  Chicken Bianca             93         0.00\n",
      "30                             Spicy Naga Balachao             12         0.00\n",
      "31                                      Taco Pizza              6         0.00\n",
      "32                             Spicy Naga Mushroom             10         0.00\n",
      "33                                    Veggie Pizza             70         0.00\n",
      "34                                   Spicy Italian              5         0.00\n",
      "35                            Alfredo Cheese Pizza             68         0.00\n",
      "36                                   Bongo Tex Mex             30         0.00\n",
      "37                                      Korean BBQ             26         0.00\n",
      "38                          Naga Habanero Balachao             20         0.00\n",
      "39                              Spicy Naga Chicken            220         0.00\n",
      "40                            Naga Habanero Paneer             64         0.00\n",
      "41                                   Pepper Lovers             26         0.00\n",
      "42                                 Harissa Chicken            183         0.00\n",
      "43                                   Cheddar Birds             26         0.00\n",
      "44                      Bros favorite Cheese Pizza            366         0.00\n",
      "45                           Naga Habanero Chicken            277         0.00\n",
      "46                                 Beef Taco Pizza            102         0.00\n",
      "47                            Garlic Ghee Mushroom            169         0.00\n",
      "48                                Customized Pizza             70         0.00\n",
      "49                                Garlic Artichoke              4         0.00\n",
      "50  Jhura Beef Pesto (contains Pine & Cashew Nuts)             91         0.00\n",
      "51              Bengali Beef Pesto (Contains Nuts)            105         0.00\n",
      "52                                  Beef Pepperoni            524         0.00\n"
     ]
    }
   ],
   "source": [
    "df_sales_item_2023_copy['Total Sales'] = df_sales_item_2023_copy['Total Sales'].astype(str).str.replace('$', '').str.replace(',', '').astype(float)\n",
    "print(df_sales_item_2023_copy.info())\n",
    "print(df_sales_item_2023_copy)\n"
   ]
  },
  {
   "cell_type": "code",
   "execution_count": 104,
   "metadata": {
    "colab": {
     "base_uri": "https://localhost:8080/"
    },
    "id": "9KA4gb9zA9SG",
    "outputId": "196ea8d6-6fad-4f00-d7de-c2df0222aacf"
   },
   "outputs": [
    {
     "name": "stdout",
     "output_type": "stream",
     "text": [
      "Item\n",
      "Chicken Wrap                                      2\n",
      "Beef Chopped Cheese                               2\n",
      "Ranch                                             1\n",
      "Alfredo Pasta                                     1\n",
      "Naga Chicken Wrap                                 1\n",
      "Naga Dip                                          1\n",
      "Garlic Beef Wrap                                  1\n",
      "Hot Honey                                         1\n",
      "Naga Habanero Pasta                               1\n",
      "Tomato Basil Pasta                                1\n",
      "Soda (Can)                                        1\n",
      "Meatlovers Pizza                                  1\n",
      "Paneer Wrap                                       1\n",
      "Mushroom Wrap                                     1\n",
      "Soft Drinks (Can)                                 1\n",
      "Aged Parmesan                                     1\n",
      "Mushrom Wrap                                      1\n",
      "Water (small)                                     1\n",
      "Red Peppers Bags 3                                1\n",
      "Parmesan Bags 3                                   1\n",
      "Side Jalapeno                                     1\n",
      "Side Basil                                        1\n",
      "Side Olives                                       1\n",
      "Side Banana Peppers                               1\n",
      "Side Cilantro                                     1\n",
      "4Cheez with Hot Honey                             1\n",
      "Naga Habanero Mushroom                            1\n",
      "Chicken Bianca                                    1\n",
      "Spicy Naga Balachao                               1\n",
      "Taco Pizza                                        1\n",
      "Spicy Naga Mushroom                               1\n",
      "Veggie Pizza                                      1\n",
      "Spicy Italian                                     1\n",
      "Alfredo Cheese Pizza                              1\n",
      "Bongo Tex Mex                                     1\n",
      "Korean BBQ                                        1\n",
      "Naga Habanero Balachao                            1\n",
      "Spicy Naga Chicken                                1\n",
      "Naga Habanero Paneer                              1\n",
      "Pepper Lovers                                     1\n",
      "Harissa Chicken                                   1\n",
      "Cheddar Birds                                     1\n",
      "Bros favorite Cheese Pizza                        1\n",
      "Naga Habanero Chicken                             1\n",
      "Beef Taco Pizza                                   1\n",
      "Garlic Ghee Mushroom                              1\n",
      "Customized Pizza                                  1\n",
      "Garlic Artichoke                                  1\n",
      "Jhura Beef Pesto (contains Pine & Cashew Nuts)    1\n",
      "Bengali Beef Pesto (Contains Nuts)                1\n",
      "Beef Pepperoni                                    1\n",
      "Name: count, dtype: int64\n"
     ]
    }
   ],
   "source": [
    "item_frequencies = df_sales_item_2023_copy['Item'].value_counts()\n",
    "print(item_frequencies)"
   ]
  },
  {
   "cell_type": "code",
   "execution_count": 5,
   "metadata": {
    "colab": {
     "base_uri": "https://localhost:8080/"
    },
    "id": "gw6B99eIJG8G",
    "outputId": "fda92c49-8bb8-4493-b807-983587c44861"
   },
   "outputs": [
    {
     "ename": "NameError",
     "evalue": "name 'df_sales_item_2024' is not defined",
     "output_type": "error",
     "traceback": [
      "\u001b[1;31m---------------------------------------------------------------------------\u001b[0m",
      "\u001b[1;31mNameError\u001b[0m                                 Traceback (most recent call last)",
      "Cell \u001b[1;32mIn[5], line 1\u001b[0m\n\u001b[1;32m----> 1\u001b[0m df_sales_item_2024[\u001b[38;5;124m'\u001b[39m\u001b[38;5;124mTotal Sales\u001b[39m\u001b[38;5;124m'\u001b[39m] \u001b[38;5;241m=\u001b[39m df_sales_item_2024[\u001b[38;5;124m'\u001b[39m\u001b[38;5;124mTotal Sales\u001b[39m\u001b[38;5;124m'\u001b[39m]\u001b[38;5;241m.\u001b[39mastype(\u001b[38;5;28mstr\u001b[39m)\u001b[38;5;241m.\u001b[39mstr\u001b[38;5;241m.\u001b[39mreplace(\u001b[38;5;124m'\u001b[39m\u001b[38;5;124m$\u001b[39m\u001b[38;5;124m'\u001b[39m, \u001b[38;5;124m'\u001b[39m\u001b[38;5;124m'\u001b[39m)\u001b[38;5;241m.\u001b[39mstr\u001b[38;5;241m.\u001b[39mreplace(\u001b[38;5;124m'\u001b[39m\u001b[38;5;124m,\u001b[39m\u001b[38;5;124m'\u001b[39m, \u001b[38;5;124m'\u001b[39m\u001b[38;5;124m'\u001b[39m)\u001b[38;5;241m.\u001b[39mastype(\u001b[38;5;28mfloat\u001b[39m)\n\u001b[0;32m      2\u001b[0m \u001b[38;5;28mprint\u001b[39m(df_sales_item_2024\u001b[38;5;241m.\u001b[39minfo())\n\u001b[0;32m      3\u001b[0m \u001b[38;5;28mprint\u001b[39m(df_sales_item_2024)\n",
      "\u001b[1;31mNameError\u001b[0m: name 'df_sales_item_2024' is not defined"
     ]
    }
   ],
   "source": [
    "df_sales_item_2024['Total Sales'] = df_sales_item_2024['Total Sales'].astype(str).str.replace('$', '').str.replace(',', '').astype(float)\n",
    "print(df_sales_item_2024.info())\n",
    "print(df_sales_item_2024)"
   ]
  },
  {
   "cell_type": "code",
   "execution_count": 3,
   "metadata": {},
   "outputs": [
    {
     "name": "stdout",
     "output_type": "stream",
     "text": [
      "                      Food  Date   Revenue\n",
      "0               Korean BBQ  2023    801.57\n",
      "1    Naga Habanero Chicken  2023  14443.13\n",
      "2       Spicy Naga Chicken  2023  10830.08\n",
      "3          Beef Taco Pizza  2023   3267.07\n",
      "4               Taco Pizza  2023    457.78\n",
      "..                     ...   ...       ...\n",
      "134            Side Olives  2025      1.98\n",
      "135          Side Jalapeno  2025      0.99\n",
      "136       Side Garlic Mayo  2025     15.84\n",
      "137         Marinara Sauce  2025     13.93\n",
      "138                14\" Pie  2025    180.00\n",
      "\n",
      "[139 rows x 3 columns]\n",
      "0:\tlearn: 3569.2118606\ttotal: 206ms\tremaining: 1m 1s\n",
      "1:\tlearn: 3502.6962633\ttotal: 252ms\tremaining: 37.6s\n",
      "2:\tlearn: 3443.1411069\ttotal: 306ms\tremaining: 30.3s\n",
      "3:\tlearn: 3394.5191753\ttotal: 360ms\tremaining: 26.6s\n",
      "4:\tlearn: 3351.0801773\ttotal: 387ms\tremaining: 22.8s\n",
      "5:\tlearn: 3322.3236424\ttotal: 418ms\tremaining: 20.5s\n",
      "6:\tlearn: 3283.1321726\ttotal: 502ms\tremaining: 21s\n",
      "7:\tlearn: 3241.6976803\ttotal: 562ms\tremaining: 20.5s\n",
      "8:\tlearn: 3227.5452923\ttotal: 590ms\tremaining: 19.1s\n",
      "9:\tlearn: 3216.1134677\ttotal: 613ms\tremaining: 17.8s\n",
      "10:\tlearn: 3190.9305505\ttotal: 654ms\tremaining: 17.2s\n",
      "11:\tlearn: 3157.3384951\ttotal: 720ms\tremaining: 17.3s\n",
      "12:\tlearn: 3145.8219602\ttotal: 738ms\tremaining: 16.3s\n",
      "13:\tlearn: 3117.8828950\ttotal: 812ms\tremaining: 16.6s\n",
      "14:\tlearn: 3094.2309168\ttotal: 881ms\tremaining: 16.7s\n",
      "15:\tlearn: 3073.6709894\ttotal: 977ms\tremaining: 17.3s\n",
      "16:\tlearn: 3065.8030967\ttotal: 1.01s\tremaining: 16.8s\n",
      "17:\tlearn: 3055.0517047\ttotal: 1.05s\tremaining: 16.5s\n",
      "18:\tlearn: 3045.8405204\ttotal: 1.12s\tremaining: 16.6s\n",
      "19:\tlearn: 3041.5719097\ttotal: 1.19s\tremaining: 16.7s\n",
      "20:\tlearn: 3037.4247837\ttotal: 1.24s\tremaining: 16.4s\n",
      "21:\tlearn: 3032.5153647\ttotal: 1.25s\tremaining: 15.8s\n",
      "22:\tlearn: 3027.9811967\ttotal: 1.29s\tremaining: 15.5s\n",
      "23:\tlearn: 3024.2931001\ttotal: 1.31s\tremaining: 15.1s\n",
      "24:\tlearn: 3017.9317057\ttotal: 1.34s\tremaining: 14.7s\n",
      "25:\tlearn: 3012.3895493\ttotal: 1.35s\tremaining: 14.3s\n",
      "26:\tlearn: 3006.8909393\ttotal: 1.39s\tremaining: 14.1s\n",
      "27:\tlearn: 3005.1700350\ttotal: 1.42s\tremaining: 13.8s\n",
      "28:\tlearn: 2999.8113916\ttotal: 1.45s\tremaining: 13.6s\n",
      "29:\tlearn: 2998.1532534\ttotal: 1.47s\tremaining: 13.2s\n",
      "30:\tlearn: 2996.6334668\ttotal: 1.48s\tremaining: 12.9s\n",
      "31:\tlearn: 2988.9480198\ttotal: 1.52s\tremaining: 12.7s\n",
      "32:\tlearn: 2981.4694360\ttotal: 1.56s\tremaining: 12.6s\n",
      "33:\tlearn: 2972.5919013\ttotal: 1.6s\tremaining: 12.6s\n",
      "34:\tlearn: 2970.5797512\ttotal: 1.63s\tremaining: 12.3s\n",
      "35:\tlearn: 2968.7988397\ttotal: 1.64s\tremaining: 12s\n",
      "36:\tlearn: 2961.4234942\ttotal: 1.67s\tremaining: 11.9s\n",
      "37:\tlearn: 2956.7870686\ttotal: 1.71s\tremaining: 11.8s\n",
      "38:\tlearn: 2950.8310692\ttotal: 1.73s\tremaining: 11.6s\n",
      "39:\tlearn: 2950.8173097\ttotal: 1.73s\tremaining: 11.3s\n",
      "40:\tlearn: 2950.6486674\ttotal: 1.75s\tremaining: 11s\n",
      "41:\tlearn: 2947.7360054\ttotal: 1.78s\tremaining: 11s\n",
      "42:\tlearn: 2944.1585873\ttotal: 1.83s\tremaining: 10.9s\n",
      "43:\tlearn: 2930.7649084\ttotal: 1.89s\tremaining: 11s\n",
      "44:\tlearn: 2930.5635406\ttotal: 1.91s\tremaining: 10.8s\n",
      "45:\tlearn: 2929.5094661\ttotal: 1.98s\tremaining: 10.9s\n",
      "46:\tlearn: 2917.7247664\ttotal: 2.07s\tremaining: 11.1s\n",
      "47:\tlearn: 2917.5461812\ttotal: 2.09s\tremaining: 11s\n",
      "48:\tlearn: 2915.5141958\ttotal: 2.12s\tremaining: 10.9s\n",
      "49:\tlearn: 2915.5076216\ttotal: 2.13s\tremaining: 10.7s\n",
      "50:\tlearn: 2914.4601762\ttotal: 2.17s\tremaining: 10.6s\n",
      "51:\tlearn: 2912.7756056\ttotal: 2.24s\tremaining: 10.7s\n",
      "52:\tlearn: 2912.3130929\ttotal: 2.29s\tremaining: 10.7s\n",
      "53:\tlearn: 2912.2055745\ttotal: 2.32s\tremaining: 10.6s\n",
      "54:\tlearn: 2911.4267481\ttotal: 2.38s\tremaining: 10.6s\n",
      "55:\tlearn: 2911.3613553\ttotal: 2.41s\tremaining: 10.5s\n",
      "56:\tlearn: 2905.3213629\ttotal: 2.47s\tremaining: 10.5s\n",
      "57:\tlearn: 2902.9432622\ttotal: 2.54s\tremaining: 10.6s\n",
      "58:\tlearn: 2901.5384123\ttotal: 2.61s\tremaining: 10.7s\n",
      "59:\tlearn: 2901.1178536\ttotal: 2.64s\tremaining: 10.6s\n",
      "60:\tlearn: 2896.0399979\ttotal: 2.69s\tremaining: 10.5s\n",
      "61:\tlearn: 2895.4458829\ttotal: 2.75s\tremaining: 10.6s\n",
      "62:\tlearn: 2891.2890509\ttotal: 2.87s\tremaining: 10.8s\n",
      "63:\tlearn: 2888.1602959\ttotal: 2.96s\tremaining: 10.9s\n",
      "64:\tlearn: 2885.7942004\ttotal: 3.06s\tremaining: 11.1s\n",
      "65:\tlearn: 2878.5887589\ttotal: 3.15s\tremaining: 11.2s\n",
      "66:\tlearn: 2876.4218408\ttotal: 3.21s\tremaining: 11.2s\n",
      "67:\tlearn: 2870.9687824\ttotal: 3.26s\tremaining: 11.1s\n",
      "68:\tlearn: 2869.5327127\ttotal: 3.38s\tremaining: 11.3s\n",
      "69:\tlearn: 2864.7838014\ttotal: 3.45s\tremaining: 11.3s\n",
      "70:\tlearn: 2863.0752668\ttotal: 3.5s\tremaining: 11.3s\n",
      "71:\tlearn: 2862.8301160\ttotal: 3.53s\tremaining: 11.2s\n",
      "72:\tlearn: 2860.8004173\ttotal: 3.63s\tremaining: 11.3s\n",
      "73:\tlearn: 2859.3460960\ttotal: 3.74s\tremaining: 11.4s\n",
      "74:\tlearn: 2858.2513699\ttotal: 3.8s\tremaining: 11.4s\n",
      "75:\tlearn: 2853.6936184\ttotal: 3.88s\tremaining: 11.4s\n",
      "76:\tlearn: 2852.7753909\ttotal: 3.95s\tremaining: 11.5s\n",
      "77:\tlearn: 2851.3917890\ttotal: 4.07s\tremaining: 11.6s\n",
      "78:\tlearn: 2851.3330843\ttotal: 4.12s\tremaining: 11.5s\n",
      "79:\tlearn: 2851.1468413\ttotal: 4.15s\tremaining: 11.4s\n",
      "80:\tlearn: 2850.9882099\ttotal: 4.18s\tremaining: 11.3s\n",
      "81:\tlearn: 2850.1507560\ttotal: 4.25s\tremaining: 11.3s\n",
      "82:\tlearn: 2849.5656776\ttotal: 4.34s\tremaining: 11.4s\n",
      "83:\tlearn: 2848.9640179\ttotal: 4.44s\tremaining: 11.4s\n",
      "84:\tlearn: 2848.8535346\ttotal: 4.49s\tremaining: 11.4s\n",
      "85:\tlearn: 2847.9270441\ttotal: 4.59s\tremaining: 11.4s\n",
      "86:\tlearn: 2847.0686979\ttotal: 4.71s\tremaining: 11.5s\n",
      "87:\tlearn: 2846.3388271\ttotal: 4.82s\tremaining: 11.6s\n",
      "88:\tlearn: 2845.6268851\ttotal: 4.88s\tremaining: 11.6s\n",
      "89:\tlearn: 2842.1664845\ttotal: 4.95s\tremaining: 11.5s\n",
      "90:\tlearn: 2842.1391818\ttotal: 4.98s\tremaining: 11.4s\n",
      "91:\tlearn: 2841.8030322\ttotal: 5.04s\tremaining: 11.4s\n",
      "92:\tlearn: 2841.7789038\ttotal: 5.05s\tremaining: 11.2s\n",
      "93:\tlearn: 2841.2982716\ttotal: 5.14s\tremaining: 11.3s\n",
      "94:\tlearn: 2840.8000849\ttotal: 5.25s\tremaining: 11.3s\n",
      "95:\tlearn: 2840.7438649\ttotal: 5.28s\tremaining: 11.2s\n",
      "96:\tlearn: 2840.2909647\ttotal: 5.34s\tremaining: 11.2s\n",
      "97:\tlearn: 2840.0733978\ttotal: 5.43s\tremaining: 11.2s\n",
      "98:\tlearn: 2839.8678259\ttotal: 5.55s\tremaining: 11.3s\n",
      "99:\tlearn: 2839.5238068\ttotal: 5.64s\tremaining: 11.3s\n",
      "100:\tlearn: 2839.3324069\ttotal: 5.71s\tremaining: 11.3s\n",
      "101:\tlearn: 2839.0212820\ttotal: 5.85s\tremaining: 11.3s\n",
      "102:\tlearn: 2838.7635810\ttotal: 6.01s\tremaining: 11.5s\n",
      "103:\tlearn: 2836.8366820\ttotal: 6.05s\tremaining: 11.4s\n",
      "104:\tlearn: 2836.6012676\ttotal: 6.12s\tremaining: 11.4s\n",
      "105:\tlearn: 2836.4355083\ttotal: 6.24s\tremaining: 11.4s\n",
      "106:\tlearn: 2836.4080450\ttotal: 6.33s\tremaining: 11.4s\n",
      "107:\tlearn: 2833.7341533\ttotal: 6.42s\tremaining: 11.4s\n",
      "108:\tlearn: 2831.3349622\ttotal: 6.54s\tremaining: 11.5s\n",
      "109:\tlearn: 2831.1542679\ttotal: 6.66s\tremaining: 11.5s\n",
      "110:\tlearn: 2830.9911709\ttotal: 6.77s\tremaining: 11.5s\n",
      "111:\tlearn: 2828.8381998\ttotal: 6.89s\tremaining: 11.6s\n",
      "112:\tlearn: 2828.8240096\ttotal: 6.92s\tremaining: 11.5s\n",
      "113:\tlearn: 2828.6903094\ttotal: 7.02s\tremaining: 11.5s\n",
      "114:\tlearn: 2828.6862687\ttotal: 7.06s\tremaining: 11.4s\n",
      "115:\tlearn: 2828.5595096\ttotal: 7.17s\tremaining: 11.4s\n",
      "116:\tlearn: 2828.4458119\ttotal: 7.31s\tremaining: 11.4s\n",
      "117:\tlearn: 2826.5457857\ttotal: 7.44s\tremaining: 11.5s\n",
      "118:\tlearn: 2824.8412027\ttotal: 7.53s\tremaining: 11.4s\n",
      "119:\tlearn: 2824.7873914\ttotal: 7.66s\tremaining: 11.5s\n",
      "120:\tlearn: 2824.7407686\ttotal: 7.76s\tremaining: 11.5s\n",
      "121:\tlearn: 2824.6983672\ttotal: 7.82s\tremaining: 11.4s\n",
      "122:\tlearn: 2824.6160952\ttotal: 7.89s\tremaining: 11.4s\n",
      "123:\tlearn: 2822.8745095\ttotal: 8s\tremaining: 11.4s\n",
      "124:\tlearn: 2822.8091362\ttotal: 8.16s\tremaining: 11.4s\n",
      "125:\tlearn: 2822.7407290\ttotal: 8.25s\tremaining: 11.4s\n",
      "126:\tlearn: 2822.6800734\ttotal: 8.38s\tremaining: 11.4s\n",
      "127:\tlearn: 2821.3171650\ttotal: 8.49s\tremaining: 11.4s\n",
      "128:\tlearn: 2821.2899871\ttotal: 8.57s\tremaining: 11.4s\n",
      "129:\tlearn: 2821.2849182\ttotal: 8.62s\tremaining: 11.3s\n",
      "130:\tlearn: 2820.0639198\ttotal: 8.75s\tremaining: 11.3s\n",
      "131:\tlearn: 2818.9738782\ttotal: 8.82s\tremaining: 11.2s\n",
      "132:\tlearn: 2817.7851833\ttotal: 8.93s\tremaining: 11.2s\n",
      "133:\tlearn: 2817.7382494\ttotal: 9.03s\tremaining: 11.2s\n",
      "134:\tlearn: 2817.6968211\ttotal: 9.12s\tremaining: 11.2s\n",
      "135:\tlearn: 2817.6590781\ttotal: 9.22s\tremaining: 11.1s\n",
      "136:\tlearn: 2816.7800936\ttotal: 9.28s\tremaining: 11s\n",
      "137:\tlearn: 2816.7739928\ttotal: 9.31s\tremaining: 10.9s\n",
      "138:\tlearn: 2815.9853822\ttotal: 9.42s\tremaining: 10.9s\n",
      "139:\tlearn: 2815.9771452\ttotal: 9.51s\tremaining: 10.9s\n",
      "140:\tlearn: 2815.9639675\ttotal: 9.63s\tremaining: 10.9s\n",
      "141:\tlearn: 2815.9319236\ttotal: 9.73s\tremaining: 10.8s\n",
      "142:\tlearn: 2815.9196545\ttotal: 9.8s\tremaining: 10.8s\n",
      "143:\tlearn: 2815.9090609\ttotal: 9.87s\tremaining: 10.7s\n",
      "144:\tlearn: 2815.2044026\ttotal: 9.93s\tremaining: 10.6s\n",
      "145:\tlearn: 2814.5715502\ttotal: 9.99s\tremaining: 10.5s\n",
      "146:\tlearn: 2814.5626426\ttotal: 10s\tremaining: 10.5s\n",
      "147:\tlearn: 2814.5553844\ttotal: 10.1s\tremaining: 10.4s\n",
      "148:\tlearn: 2814.5476846\ttotal: 10.2s\tremaining: 10.3s\n",
      "149:\tlearn: 2813.9821473\ttotal: 10.2s\tremaining: 10.2s\n",
      "150:\tlearn: 2813.9744493\ttotal: 10.3s\tremaining: 10.2s\n",
      "151:\tlearn: 2813.4672981\ttotal: 10.4s\tremaining: 10.1s\n",
      "152:\tlearn: 2813.0107246\ttotal: 10.5s\tremaining: 10.1s\n",
      "153:\tlearn: 2812.9902375\ttotal: 10.6s\tremaining: 10.1s\n",
      "154:\tlearn: 2812.9854221\ttotal: 10.7s\tremaining: 9.98s\n",
      "155:\tlearn: 2812.9660346\ttotal: 10.8s\tremaining: 9.97s\n",
      "156:\tlearn: 2812.9603446\ttotal: 10.9s\tremaining: 9.96s\n",
      "157:\tlearn: 2812.5517781\ttotal: 11s\tremaining: 9.92s\n",
      "158:\tlearn: 2812.1850479\ttotal: 11.1s\tremaining: 9.88s\n",
      "159:\tlearn: 2811.8566181\ttotal: 11.3s\tremaining: 9.85s\n",
      "160:\tlearn: 2811.5610869\ttotal: 11.4s\tremaining: 9.82s\n",
      "161:\tlearn: 2811.5591665\ttotal: 11.4s\tremaining: 9.75s\n",
      "162:\tlearn: 2811.5546215\ttotal: 11.5s\tremaining: 9.67s\n",
      "163:\tlearn: 2811.5504127\ttotal: 11.6s\tremaining: 9.58s\n",
      "164:\tlearn: 2811.2853831\ttotal: 11.6s\tremaining: 9.51s\n",
      "165:\tlearn: 2811.2828895\ttotal: 11.7s\tremaining: 9.42s\n",
      "166:\tlearn: 2811.0450376\ttotal: 11.8s\tremaining: 9.36s\n",
      "167:\tlearn: 2810.8305410\ttotal: 11.9s\tremaining: 9.32s\n",
      "168:\tlearn: 2810.6387918\ttotal: 12s\tremaining: 9.29s\n",
      "169:\tlearn: 2810.4666179\ttotal: 12.1s\tremaining: 9.24s\n",
      "170:\tlearn: 2810.1250727\ttotal: 12.1s\tremaining: 9.16s\n",
      "171:\tlearn: 2809.8151926\ttotal: 12.2s\tremaining: 9.1s\n",
      "172:\tlearn: 2809.8004310\ttotal: 12.4s\tremaining: 9.07s\n",
      "173:\tlearn: 2809.5196661\ttotal: 12.4s\tremaining: 8.99s\n",
      "174:\tlearn: 2809.4075932\ttotal: 12.5s\tremaining: 8.95s\n",
      "175:\tlearn: 2809.3955351\ttotal: 12.7s\tremaining: 8.95s\n",
      "176:\tlearn: 2809.2950259\ttotal: 12.8s\tremaining: 8.89s\n",
      "177:\tlearn: 2809.2041994\ttotal: 12.8s\tremaining: 8.79s\n",
      "178:\tlearn: 2809.1230461\ttotal: 12.9s\tremaining: 8.71s\n",
      "179:\tlearn: 2808.9235527\ttotal: 12.9s\tremaining: 8.63s\n",
      "180:\tlearn: 2808.8579863\ttotal: 13.1s\tremaining: 8.6s\n",
      "181:\tlearn: 2808.7988703\ttotal: 13.2s\tremaining: 8.53s\n",
      "182:\tlearn: 2808.6657692\ttotal: 13.2s\tremaining: 8.47s\n",
      "183:\tlearn: 2808.6636996\ttotal: 13.3s\tremaining: 8.4s\n",
      "184:\tlearn: 2808.6538630\ttotal: 13.5s\tremaining: 8.38s\n",
      "185:\tlearn: 2808.6442703\ttotal: 13.6s\tremaining: 8.31s\n",
      "186:\tlearn: 2808.6363350\ttotal: 13.6s\tremaining: 8.24s\n",
      "187:\tlearn: 2808.6280649\ttotal: 13.7s\tremaining: 8.16s\n",
      "188:\tlearn: 2808.6205382\ttotal: 13.8s\tremaining: 8.11s\n",
      "189:\tlearn: 2808.6192131\ttotal: 13.9s\tremaining: 8.05s\n",
      "190:\tlearn: 2808.6178260\ttotal: 14s\tremaining: 7.96s\n",
      "191:\tlearn: 2808.5654244\ttotal: 14.1s\tremaining: 7.91s\n",
      "192:\tlearn: 2808.5597951\ttotal: 14.1s\tremaining: 7.83s\n",
      "193:\tlearn: 2808.3923104\ttotal: 14.2s\tremaining: 7.78s\n",
      "194:\tlearn: 2808.3918034\ttotal: 14.3s\tremaining: 7.71s\n",
      "195:\tlearn: 2808.3495783\ttotal: 14.4s\tremaining: 7.65s\n",
      "196:\tlearn: 2808.2016328\ttotal: 14.5s\tremaining: 7.59s\n",
      "197:\tlearn: 2808.1960697\ttotal: 14.7s\tremaining: 7.59s\n",
      "198:\tlearn: 2808.1944680\ttotal: 14.8s\tremaining: 7.52s\n",
      "199:\tlearn: 2808.1600541\ttotal: 14.9s\tremaining: 7.44s\n",
      "200:\tlearn: 2808.1294609\ttotal: 15s\tremaining: 7.4s\n",
      "201:\tlearn: 2808.1019738\ttotal: 15.1s\tremaining: 7.33s\n",
      "202:\tlearn: 2808.0977709\ttotal: 15.2s\tremaining: 7.25s\n",
      "203:\tlearn: 2808.0934200\ttotal: 15.2s\tremaining: 7.17s\n",
      "204:\tlearn: 2808.0925907\ttotal: 15.3s\tremaining: 7.09s\n",
      "205:\tlearn: 2808.0679898\ttotal: 15.4s\tremaining: 7.04s\n",
      "206:\tlearn: 2808.0458778\ttotal: 15.5s\tremaining: 6.96s\n",
      "207:\tlearn: 2808.0448535\ttotal: 15.6s\tremaining: 6.91s\n",
      "208:\tlearn: 2808.0421875\ttotal: 15.7s\tremaining: 6.83s\n",
      "209:\tlearn: 2808.0384568\ttotal: 15.8s\tremaining: 6.77s\n",
      "210:\tlearn: 2808.0186533\ttotal: 15.9s\tremaining: 6.69s\n",
      "211:\tlearn: 2808.0182198\ttotal: 15.9s\tremaining: 6.6s\n",
      "212:\tlearn: 2808.0004315\ttotal: 15.9s\tremaining: 6.51s\n",
      "213:\tlearn: 2807.9843852\ttotal: 16s\tremaining: 6.42s\n",
      "214:\tlearn: 2807.9842805\ttotal: 16s\tremaining: 6.34s\n",
      "215:\tlearn: 2807.8693139\ttotal: 16.1s\tremaining: 6.26s\n",
      "216:\tlearn: 2807.8563882\ttotal: 16.1s\tremaining: 6.18s\n",
      "217:\tlearn: 2807.8554404\ttotal: 16.3s\tremaining: 6.11s\n",
      "218:\tlearn: 2807.7634702\ttotal: 16.3s\tremaining: 6.04s\n",
      "219:\tlearn: 2807.6794427\ttotal: 16.5s\tremaining: 5.99s\n",
      "220:\tlearn: 2807.6026921\ttotal: 16.6s\tremaining: 5.92s\n",
      "221:\tlearn: 2807.5325803\ttotal: 16.7s\tremaining: 5.88s\n",
      "222:\tlearn: 2807.5316885\ttotal: 16.8s\tremaining: 5.82s\n",
      "223:\tlearn: 2807.5200231\ttotal: 17s\tremaining: 5.75s\n",
      "224:\tlearn: 2807.5194065\ttotal: 17.1s\tremaining: 5.69s\n",
      "225:\tlearn: 2807.5174074\ttotal: 17.2s\tremaining: 5.63s\n",
      "226:\tlearn: 2807.5069224\ttotal: 17.2s\tremaining: 5.55s\n",
      "227:\tlearn: 2807.5064601\ttotal: 17.4s\tremaining: 5.48s\n",
      "228:\tlearn: 2807.4970673\ttotal: 17.5s\tremaining: 5.41s\n",
      "229:\tlearn: 2807.4965835\ttotal: 17.6s\tremaining: 5.34s\n",
      "230:\tlearn: 2807.4241589\ttotal: 17.6s\tremaining: 5.27s\n",
      "231:\tlearn: 2807.4237666\ttotal: 17.8s\tremaining: 5.21s\n",
      "232:\tlearn: 2807.4236660\ttotal: 17.9s\tremaining: 5.14s\n",
      "233:\tlearn: 2807.4160652\ttotal: 18s\tremaining: 5.08s\n",
      "234:\tlearn: 2807.4135018\ttotal: 18.1s\tremaining: 5s\n",
      "235:\tlearn: 2807.4131925\ttotal: 18.2s\tremaining: 4.92s\n",
      "236:\tlearn: 2807.3479061\ttotal: 18.2s\tremaining: 4.85s\n",
      "237:\tlearn: 2807.3456252\ttotal: 18.4s\tremaining: 4.79s\n",
      "238:\tlearn: 2807.2921500\ttotal: 18.5s\tremaining: 4.72s\n",
      "239:\tlearn: 2807.2860146\ttotal: 18.5s\tremaining: 4.63s\n",
      "240:\tlearn: 2807.2416850\ttotal: 18.6s\tremaining: 4.55s\n",
      "241:\tlearn: 2807.2414972\ttotal: 18.7s\tremaining: 4.49s\n",
      "242:\tlearn: 2807.2397640\ttotal: 18.8s\tremaining: 4.42s\n",
      "243:\tlearn: 2807.2396000\ttotal: 18.9s\tremaining: 4.34s\n",
      "244:\tlearn: 2807.2378672\ttotal: 19.1s\tremaining: 4.28s\n",
      "245:\tlearn: 2807.2363125\ttotal: 19.2s\tremaining: 4.21s\n",
      "246:\tlearn: 2807.2348315\ttotal: 19.2s\tremaining: 4.13s\n",
      "247:\tlearn: 2807.2295673\ttotal: 19.3s\tremaining: 4.05s\n",
      "248:\tlearn: 2807.2295174\ttotal: 19.4s\tremaining: 3.98s\n",
      "249:\tlearn: 2807.2279575\ttotal: 19.5s\tremaining: 3.9s\n",
      "250:\tlearn: 2807.2278996\ttotal: 19.6s\tremaining: 3.82s\n",
      "251:\tlearn: 2807.2268100\ttotal: 19.7s\tremaining: 3.75s\n",
      "252:\tlearn: 2807.2267672\ttotal: 19.8s\tremaining: 3.68s\n",
      "253:\tlearn: 2807.2264984\ttotal: 19.9s\tremaining: 3.6s\n",
      "254:\tlearn: 2807.2262961\ttotal: 20s\tremaining: 3.52s\n",
      "255:\tlearn: 2807.2262620\ttotal: 20s\tremaining: 3.44s\n",
      "256:\tlearn: 2807.2217096\ttotal: 20.1s\tremaining: 3.36s\n",
      "257:\tlearn: 2807.1763630\ttotal: 20.1s\tremaining: 3.27s\n",
      "258:\tlearn: 2807.1722654\ttotal: 20.2s\tremaining: 3.2s\n",
      "259:\tlearn: 2807.1722350\ttotal: 20.3s\tremaining: 3.12s\n",
      "260:\tlearn: 2807.1722202\ttotal: 20.3s\tremaining: 3.03s\n",
      "261:\tlearn: 2807.1685415\ttotal: 20.4s\tremaining: 2.95s\n",
      "262:\tlearn: 2807.1271087\ttotal: 20.4s\tremaining: 2.87s\n",
      "263:\tlearn: 2807.1237957\ttotal: 20.5s\tremaining: 2.79s\n",
      "264:\tlearn: 2807.1208170\ttotal: 20.5s\tremaining: 2.71s\n",
      "265:\tlearn: 2807.1205870\ttotal: 20.6s\tremaining: 2.64s\n",
      "266:\tlearn: 2807.1205646\ttotal: 20.7s\tremaining: 2.56s\n",
      "267:\tlearn: 2807.1203979\ttotal: 20.7s\tremaining: 2.47s\n",
      "268:\tlearn: 2807.1202425\ttotal: 20.8s\tremaining: 2.4s\n",
      "269:\tlearn: 2807.1201727\ttotal: 20.9s\tremaining: 2.33s\n",
      "270:\tlearn: 2807.0823101\ttotal: 21s\tremaining: 2.25s\n",
      "271:\tlearn: 2807.0822550\ttotal: 21s\tremaining: 2.17s\n",
      "272:\tlearn: 2807.0822353\ttotal: 21.1s\tremaining: 2.09s\n",
      "273:\tlearn: 2807.0821702\ttotal: 21.2s\tremaining: 2.02s\n",
      "274:\tlearn: 2807.0820367\ttotal: 21.3s\tremaining: 1.94s\n",
      "275:\tlearn: 2807.0809524\ttotal: 21.4s\tremaining: 1.86s\n",
      "276:\tlearn: 2807.0463572\ttotal: 21.5s\tremaining: 1.79s\n",
      "277:\tlearn: 2807.0147641\ttotal: 21.6s\tremaining: 1.71s\n",
      "278:\tlearn: 2806.9859094\ttotal: 21.7s\tremaining: 1.63s\n",
      "279:\tlearn: 2806.9858416\ttotal: 21.8s\tremaining: 1.55s\n",
      "280:\tlearn: 2806.9855786\ttotal: 21.8s\tremaining: 1.48s\n",
      "281:\tlearn: 2806.9855405\ttotal: 21.9s\tremaining: 1.4s\n",
      "282:\tlearn: 2806.9845701\ttotal: 22.1s\tremaining: 1.32s\n",
      "283:\tlearn: 2806.9845476\ttotal: 22.1s\tremaining: 1.25s\n",
      "284:\tlearn: 2806.9844999\ttotal: 22.2s\tremaining: 1.17s\n",
      "285:\tlearn: 2806.9581162\ttotal: 22.2s\tremaining: 1.09s\n",
      "286:\tlearn: 2806.9580922\ttotal: 22.3s\tremaining: 1.01s\n",
      "287:\tlearn: 2806.9580716\ttotal: 22.4s\tremaining: 934ms\n",
      "288:\tlearn: 2806.9580527\ttotal: 22.5s\tremaining: 857ms\n",
      "289:\tlearn: 2806.9579479\ttotal: 22.6s\tremaining: 781ms\n",
      "290:\tlearn: 2806.9552838\ttotal: 22.7s\tremaining: 703ms\n",
      "291:\tlearn: 2806.9528892\ttotal: 22.8s\tremaining: 624ms\n",
      "292:\tlearn: 2806.9527425\ttotal: 22.8s\tremaining: 546ms\n",
      "293:\tlearn: 2806.9526495\ttotal: 23s\tremaining: 469ms\n",
      "294:\tlearn: 2806.9518449\ttotal: 23.1s\tremaining: 391ms\n",
      "295:\tlearn: 2806.9518356\ttotal: 23.2s\tremaining: 313ms\n",
      "296:\tlearn: 2806.9517515\ttotal: 23.3s\tremaining: 235ms\n",
      "297:\tlearn: 2806.9517234\ttotal: 23.4s\tremaining: 157ms\n",
      "298:\tlearn: 2806.9517165\ttotal: 23.4s\tremaining: 78.4ms\n",
      "299:\tlearn: 2806.9517117\ttotal: 23.5s\tremaining: 0us\n"
     ]
    }
   ],
   "source": [
    "from catboost import CatBoostRegressor\n",
    "from sklearn.model_selection import train_test_split\n",
    "\n",
    "# STARTING HERE WILL BE CODE FOR THE RANDOM FOREST WITH THE FOOD GENERATOR\n",
    "foodData = pd.read_csv(\"FinalData/IndividualFoodData.csv\")\n",
    "\n",
    "print(foodData)\n",
    "\n",
    "# return to x the dataframe without the output column\n",
    "X = foodData.drop(\"Revenue\", axis=1)\n",
    "Y = foodData[\"Revenue\"]\n",
    "\n",
    "\n",
    "# want only a very small amount to be used for testing, because we don't have many points to begin with to train our model\n",
    "# what we do is split x into values that are used for training and ones used to evlaute model.\n",
    "X_train , X_test , Y_train, Y_test = train_test_split(X, Y, test_size=0.05, random_state=42)\n",
    "\n",
    "# defining elements for our forest. Ngl I don't know too much on what these do\n",
    "gradientBooster = CatBoostRegressor(\n",
    "    iterations=300,  # number of trees\n",
    "    depth=10,  # depth of each tree\n",
    "    learning_rate=0.1,  # how much to adjust each tree\n",
    "    random_state=42,\n",
    "    cat_features=[0]  # Indicate that 'food' column is categorical (index 0, or your actual column name)\n",
    ")\n",
    "\n",
    "# now fitting our forest to our train data\n",
    "gradientBooster.fit(X_train, Y_train)\n",
    "\n",
    "forest_preds_train = gradientBooster.predict(X_train)\n",
    "\n",
    "forest_preds_test = gradientBooster.predict(X_test)"
   ]
  }
 ],
 "metadata": {
  "colab": {
   "authorship_tag": "ABX9TyOZClLNJJ7nEDB8FB2dqKTt",
   "include_colab_link": true,
   "provenance": []
  },
  "kernelspec": {
   "display_name": "Python 3",
   "language": "python",
   "name": "python3"
  },
  "language_info": {
   "codemirror_mode": {
    "name": "ipython",
    "version": 3
   },
   "file_extension": ".py",
   "mimetype": "text/x-python",
   "name": "python",
   "nbconvert_exporter": "python",
   "pygments_lexer": "ipython3",
   "version": "3.12.10"
  }
 },
 "nbformat": 4,
 "nbformat_minor": 0
}
